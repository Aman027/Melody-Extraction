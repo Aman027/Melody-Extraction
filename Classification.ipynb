{
  "nbformat": 4,
  "nbformat_minor": 0,
  "metadata": {
    "kernelspec": {
      "display_name": "Python [conda env:tf2]",
      "language": "python",
      "name": "conda-env-tf2-py"
    },
    "language_info": {
      "codemirror_mode": {
        "name": "ipython",
        "version": 3
      },
      "file_extension": ".py",
      "mimetype": "text/x-python",
      "name": "python",
      "nbconvert_exporter": "python",
      "pygments_lexer": "ipython3",
      "version": "3.7.3"
    },
    "colab": {
      "name": "Copy of Bayesian_CNN_MNIST.ipynb",
      "provenance": [],
      "collapsed_sections": []
    },
    "accelerator": "GPU"
  },
  "cells": [
    {
      "cell_type": "markdown",
      "metadata": {
        "id": "EkKxUcrf4CzC"
      },
      "source": [
        "# Bayesian Convolutional Neural Networks"
      ]
    },
    {
      "cell_type": "code",
      "metadata": {
        "id": "OnDoD0LvtI5Q"
      },
      "source": [
        "import numpy as np\n",
        "import librosa\n",
        "import librosa.display\n",
        "from glob import glob\n",
        "import os,sys\n",
        "from scipy import signal\n",
        "import matplotlib.pyplot as plt\n",
        "from scipy.signal import correlate\n",
        "from sklearn.preprocessing import LabelEncoder\n",
        "from sklearn.preprocessing import OneHotEncoder\n",
        "import csv\n",
        "from keras.models import Sequential\n",
        "import tensorflow as tf\n",
        "from keras.layers.core import Dense, Activation, Dropout, Flatten\n",
        "from keras.layers.convolutional import Convolution2D, MaxPooling2D\n",
        "from keras.optimizers import SGD, RMSprop\n",
        "from keras.utils import np_utils\n",
        "from sklearn.tree import DecisionTreeClassifier # Import Decision Tree Classifier\n",
        "from sklearn import metrics\n",
        "from sklearn.utils import shuffle\n",
        "from sklearn.model_selection import train_test_split\n",
        "import matplotlib.pyplot as plt\n",
        "import numpy as np\n",
        "# from sklearn.metrics import accuracy_scoretumne #dekha hai koi\n",
        "import pandas as pd\n",
        "from pydrive.auth import GoogleAuth\n",
        "from tensorflow import keras\n",
        "from pydrive.drive import GoogleDrive\n",
        "from google.colab import auth\n",
        "from oauth2client.client import GoogleCredentials\n",
        "from google.colab import drive\n"
      ],
      "execution_count": null,
      "outputs": []
    },
    {
      "cell_type": "code",
      "metadata": {
        "id": "h2fWFTAMglwz",
        "colab": {
          "base_uri": "https://localhost:8080/"
        },
        "outputId": "496f9260-bc81-4b56-e29b-3bedd7800894"
      },
      "source": [
        "drive.mount('/content/gdrive')"
      ],
      "execution_count": null,
      "outputs": [
        {
          "output_type": "stream",
          "text": [
            "Mounted at /content/gdrive\n"
          ],
          "name": "stdout"
        }
      ]
    },
    {
      "cell_type": "code",
      "metadata": {
        "id": "nZjD-JVpiFdf",
        "colab": {
          "base_uri": "https://localhost:8080/"
        },
        "outputId": "005f93e6-7a7e-48e6-b5f3-7dfe3e415917"
      },
      "source": [
        "!ls '/content/gdrive/My Drive/ME'"
      ],
      "execution_count": null,
      "outputs": [
        {
          "output_type": "stream",
          "text": [
            "my_model_1.h5  my_model_2.h5  my_model.h5  PitchLabel_csv  test  Wavfile\n"
          ],
          "name": "stdout"
        }
      ]
    },
    {
      "cell_type": "code",
      "metadata": {
        "id": "zYxPAtuKtNMS"
      },
      "source": [
        "def load_audio(file):\n",
        "    x,sr = librosa.load(file,sr=10000,mono=True)  #merge the audio into a single channel and downsampled to 10KHz\n",
        "    S = calc_spec(x,sr)\n",
        "    # print(\"S.SIZE \",np.shape(S))\n",
        "    gtv,gtf = get_pitch(file)\n",
        "    gtf = np.append(gtf,np.zeros(np.shape(S)[1]-len(gtf)))\n",
        "    # print(\"gtf \",np.shape(gtf))\n",
        "    return gtf\n",
        "\n",
        "def calc_spec(x,sr):\n",
        "    D = np.abs(librosa.stft(x, n_fft = Nfft, hop_length = hop_size, win_length = win_size, window='hann', dtype = np.complex256))\n",
        "    D = librosa.power_to_db(D,ref=np.max)\n",
        "    return D\n",
        "\n",
        "\n",
        "def get_pitch(file):\n",
        "    gtf = []\n",
        "    gtv = []\n",
        "    pathname = os.path.splitext(file)[0]\n",
        "    filename = os.path.basename(pathname)\n",
        "    # ff = pitch_dir + '/' + filename + '.csv'\n",
        "    ff = pitch_dir + '/' + filename + '.csv'\n",
        "\n",
        "    with open(ff,'r') as fin:\n",
        "        reader = csv.reader(fin)\n",
        "        for row in reader:\n",
        "            gtv.append(float(row[0]))\n",
        "            gtf.append(float(row[1]))\n",
        "    return gtv,gtf    \n",
        "    \n",
        "    \n",
        "def closest(arr, K):  # arr is a vector\n",
        "    idx = (np.abs(arr - K)).argmin() \n",
        "    return idx,arr[idx]\n",
        "\n",
        "def onehotlabel(pitch_range):\n",
        "    values = np.asarray(pitch_range)\n",
        "    # integer encode\n",
        "    label_encoder = LabelEncoder()\n",
        "    integer_encoded = label_encoder.fit_transform(values)\n",
        "#     print(integer_encoded)\n",
        "\n",
        "    # binary encode\n",
        "    onehot_encoder = OneHotEncoder(sparse=False)\n",
        "    integer_encoded = integer_encoded.reshape(len(integer_encoded), 1)\n",
        "    onehot_encoded = onehot_encoder.fit_transform(integer_encoded)\n",
        "    return onehot_encoded\n",
        "\n",
        "def getonehot(y):    \n",
        "    yhot = np.zeros((len(y),len(pitch_range)))\n",
        "    for i in range(len(y)):\n",
        "        idx,val = closest(pitch_range,y[i]) \n",
        "#         print(idx,val,y[i])\n",
        "        yhot[i,:] = onehot_pitch_range[idx,:]\n",
        "    return yhot\n",
        "\n",
        "\n",
        "def RPA(v,pred_Melody,pitch_labels,Nt):\n",
        "    N=0\n",
        "    D=0\n",
        "    for i in range(Nt):\n",
        "        if v[i]==1:\n",
        "            if pred_Melody[i]!=0:\n",
        "                N+=v[i]*Thres(M(pred_Melody[i])-M(pitch_labels[i]))\n",
        "            D+=v[i]\n",
        "    Raw_pitch_acc=(N/D)*100\n",
        "    #print(\"RPA is {} %\".format(Raw_pitch_acc))\n",
        "    return Raw_pitch_acc\n",
        "\n",
        "def M(f):\n",
        "    f_ref=100\n",
        "    return 12*np.log2(f/f_ref)\n",
        "\n",
        "def Thres(a):\n",
        "    if -0.5<a and a<0.5:\n",
        "        t=1\n",
        "    else:\n",
        "        t=0\n",
        "    return t\n",
        "\n",
        "def Angular(a):\n",
        "    x=a-12*int(a/12+0.5)\n",
        "    return x"
      ],
      "execution_count": null,
      "outputs": []
    },
    {
      "cell_type": "code",
      "metadata": {
        "id": "kX1aqAnItTD0"
      },
      "source": [
        "model_srate = 16000\n",
        "from numpy.lib.stride_tricks import as_strided\n",
        "def get_activation(audio, sr, model_capacity='full', center=True, step_size=10,verbose=1):\n",
        "    if len(audio.shape) == 2:\n",
        "        audio = audio.mean(1)  # make mono\n",
        "    audio = audio.astype(np.float32)\n",
        "    if sr != model_srate:\n",
        "        # resample audio if necessary\n",
        "        from resampy import resample\n",
        "        audio = resample(audio, sr, model_srate)\n",
        "\n",
        "    # pad so that frames are centered around their timestamps (i.e. first frame\n",
        "    # is zero centered).\n",
        "    if center:\n",
        "        audio = np.pad(audio, 512, mode='constant', constant_values=0)\n",
        "\n",
        "    # make 1024-sample frames of the audio with hop length of 10 milliseconds\n",
        "    hop_length = int(model_srate * step_size / 1000)\n",
        "    n_frames = 1 + int((len(audio) - 1024) / hop_length)\n",
        "    frames = as_strided(audio, shape=(1024, n_frames),\n",
        "                        strides=(audio.itemsize, hop_length * audio.itemsize))\n",
        "    frames = frames.transpose().copy()\n",
        "\n",
        "    # normalize each frame -- this is expected by the model\n",
        "    frames -= np.mean(frames, axis=1)[:, np.newaxis]\n",
        "    frames /= np.std(frames, axis=1)[:, np.newaxis]\n",
        "\n",
        "    # run prediction and convert the frequency bin weights to Hz\n",
        "    return frames"
      ],
      "execution_count": null,
      "outputs": []
    },
    {
      "cell_type": "code",
      "metadata": {
        "id": "9LLBIHDrpskP",
        "colab": {
          "base_uri": "https://localhost:8080/"
        },
        "outputId": "5d11cfa6-9ad1-4c58-f858-f47385b00ce0"
      },
      "source": [
        "audio_dir = '/content/gdrive/My Drive/ME/Wavfile'\n",
        "audio_files = glob(audio_dir + '/*.wav')\n",
        "pitch_dir = '/content/gdrive/My Drive/ME/PitchLabel_csv'\n",
        "print(len(audio_files))"
      ],
      "execution_count": null,
      "outputs": [
        {
          "output_type": "stream",
          "text": [
            "1000\n"
          ],
          "name": "stdout"
        }
      ]
    },
    {
      "cell_type": "code",
      "metadata": {
        "id": "YOPoFjjXLNmt",
        "colab": {
          "base_uri": "https://localhost:8080/"
        },
        "outputId": "84c94908-46e4-4936-de77-0c7f718b7678"
      },
      "source": [
        "X = []\n",
        "y = []\n",
        "\n",
        "\n",
        "Nfft = 1024\n",
        "win_size = 1024\n",
        "hop_size = 100\n",
        "\n",
        "note_res = 1\n",
        "pitch_range = np.arange(30, 98 + 1.0/note_res, 1.0/note_res)\n",
        "pitch_range = np.concatenate([np.zeros(1), pitch_range])\n",
        "print(len(pitch_range))\n",
        "onehot_pitch_range = onehotlabel(pitch_range)  #one hot encoded values of MIDI numbers from 40 to 95\n",
        "\n",
        "\n",
        "\n",
        "for i in range((50)):  #\"Change 350 to 50 or 100\"\n",
        "    # print(i)\n",
        "    gtf = load_audio(audio_files[i])\n",
        "    # print(\"for gtf size \",np.shape(gtf))\n",
        "    gtf_midi = [librosa.hz_to_midi(x) if x!=float(0) else float(0) for x in gtf]\n",
        "    # X.append(S.T)\n",
        "    # print(\"getonehot(gtf_midi)  \",np.shape(getonehot(gtf_midi)))\n",
        "    y.append(getonehot(gtf_midi))\n",
        "#     print(len(X))\n",
        "# X = np.vstack(X)\n",
        "y = np.vstack(y)\n",
        "print(np.shape(X),np.shape(y))\n"
      ],
      "execution_count": null,
      "outputs": [
        {
          "output_type": "stream",
          "text": [
            "70\n",
            "(0,) (41368, 70)\n"
          ],
          "name": "stdout"
        }
      ]
    },
    {
      "cell_type": "code",
      "metadata": {
        "id": "l6c2YXtmQ53W",
        "colab": {
          "base_uri": "https://localhost:8080/"
        },
        "outputId": "5bf267d5-c9fb-446a-ffd4-8047b55e7fc0"
      },
      "source": [
        "p=[]\n",
        "for i in range (50):  #\"Change 350 to 50 or 100\"\n",
        "\n",
        "  # print(i)\n",
        "  b,c=librosa.load(audio_files[i])\n",
        "  f=get_activation(b,c)\n",
        "  # print(f.shape)\n",
        "  p.append(f)\n",
        "# z=np.zeros([1,1024])\n",
        "# np.shape(z)\n",
        "# p.append(z)\n",
        "p=np.vstack(p)\n",
        "np.shape(p)"
      ],
      "execution_count": null,
      "outputs": [
        {
          "output_type": "execute_result",
          "data": {
            "text/plain": [
              "(41368, 1024)"
            ]
          },
          "metadata": {
            "tags": []
          },
          "execution_count": 9
        }
      ]
    },
    {
      "cell_type": "code",
      "metadata": {
        "id": "KugyAc0W4CzI",
        "colab": {
          "base_uri": "https://localhost:8080/"
        },
        "outputId": "b73c55c5-6aa1-4d81-c4bc-aa14bdecad3a"
      },
      "source": [
        "import tensorflow as tf\n",
        "import tensorflow_probability as tfp\n",
        "tfd = tfp.distributions\n",
        "from tensorflow_probability.python.layers import DenseVariational, DenseReparameterization, DenseFlipout, Convolution2DFlipout, Convolution2DReparameterization\n",
        "from tensorflow_probability.python.layers import DistributionLambda\n",
        "from tensorflow.keras.models import Model, Sequential\n",
        "from tensorflow.keras.layers import Input, Dense, Flatten, BatchNormalization, Activation, LeakyReLU\n",
        "from tensorflow.keras.utils import plot_model\n",
        "from tensorflow.keras.optimizers import *\n",
        "\n",
        "import numpy as np\n",
        "from scipy.special import softmax\n",
        "import matplotlib.pyplot as plt\n",
        "\n",
        "%matplotlib inline\n",
        "\n",
        "print('TensorFlow version:', tf.__version__)\n",
        "print('TensorFlow Probability version:', tfp.__version__)"
      ],
      "execution_count": null,
      "outputs": [
        {
          "output_type": "stream",
          "text": [
            "TensorFlow version: 2.4.1\n",
            "TensorFlow Probability version: 0.12.1\n"
          ],
          "name": "stdout"
        }
      ]
    },
    {
      "cell_type": "markdown",
      "metadata": {
        "id": "8ApqorSi4CzJ"
      },
      "source": [
        "### Load MNIST dataset"
      ]
    },
    {
      "cell_type": "code",
      "metadata": {
        "id": "F2Mbgnol4CzK"
      },
      "source": [
        "# n_class = 10\n",
        "\n",
        "# batch_size = 128\n",
        "# n_epochs = 20\n",
        "# lr = 1e-3\n",
        "\n",
        "# print('Loading MNIST dataset')\n",
        "# (X_train, y_train), (X_test, y_test) = tf.keras.datasets.mnist.load_data()\n",
        "# X_train = np.expand_dims(X_train, -1)\n",
        "# n_train = X_train.shape[0]\n",
        "# X_test = np.expand_dims(X_test, -1)\n",
        "# y_train = tf.keras.utils.to_categorical(y_train, n_class)\n",
        "# y_test = tf.keras.utils.to_categorical(y_test, n_class)\n",
        "\n",
        "# # Normalize data\n",
        "# X_train = X_train.astype('float32') / 255\n",
        "# X_test = X_test.astype('float32') / 255\n",
        "\n",
        "# print(\"X_train.shape =\", X_train.shape)\n",
        "# print(\"y_train.shape =\", y_train.shape)\n",
        "# print(\"X_test.shape =\", X_test.shape)\n",
        "# print(\"y_test.shape =\", y_test.shape)\n",
        "\n",
        "# plt.imshow(X_train[0, :, :, 0], cmap='gist_gray')\n",
        "# plt.show()"
      ],
      "execution_count": null,
      "outputs": []
    },
    {
      "cell_type": "code",
      "metadata": {
        "id": "IODMO6JFLOiV"
      },
      "source": [
        "# # from tensorflow.keras.layers import Input, Reshape, Conv2D, BatchNormalization\n",
        "# # from tensorflow.keras.layers import MaxPool2D, Dropout, Permute, Flatten, Dense\n",
        "# # from tensorflow.keras.models import Model\n",
        "# # layers = [1, 2, 3, 4, 5, 6]\n",
        "# # # capacity_multiplier = {'tiny': 4, 'small': 8, 'medium': 16, 'large': 24, 'full': 32}[model_capacity]\n",
        "# # filters = [n * 32 for n in [32, 4, 4, 4, 8, 16]]\n",
        "# # widths = [512, 64, 64, 64, 64, 64]\n",
        "# # strides = [(4, 1), (1, 1), (1, 1), (1, 1), (1, 1), (1, 1)]\n",
        "# # a = Input(shape=(1024,), name='input', dtype='float32')\n",
        "# # b = Reshape(target_shape=(1024, 1, 1), name='input-reshape')(a)\n",
        "# # for l, f, w, s in zip(layers, filters, widths, strides):\n",
        "# #   b = Conv2D(f, (w, 1), strides=s, padding='same',\n",
        "# #               activation='relu', name=\"conv%d\" % l)(b)\n",
        "# #   b = BatchNormalization(name=\"conv%d-BN\" % l)(b)\n",
        "# #   b = MaxPool2D(pool_size=(2, 1), strides=None, padding='valid',\n",
        "# #                 name=\"conv%d-maxpool\" % l)(b)\n",
        "# #   b = Dropout(0.25, name=\"conv%d-dropout\" % l)(b)\n",
        "\n",
        "# # b = Permute((2, 1, 3), name=\"transpose\")(b)\n",
        "# # b = Flatten(name=\"flatten\")(b)\n",
        "# # b = Dropout(0.25, name=\"dropout\")(b)\n",
        "\n",
        "# # b = Dense(70, activation='softmax', name=\"classifier\")(b)\n",
        "\n",
        "# # model = Model(inputs=a, outputs=b)\n",
        "# # model.compile('adam', 'categorical_crossentropy','accuracy')\n",
        "# # model.summary()\n",
        "# # #model.fit()\n",
        "\n",
        "# from tensorflow.keras.layers import Input, Reshape, Conv2D, BatchNormalization\n",
        "# from tensorflow.keras.layers import MaxPool2D, Dropout, Permute, Flatten, Dense\n",
        "# from tensorflow.keras.models import Model\n",
        "# layers = [1, 2, 3]\n",
        "# # capacity_multiplier = {'tiny': 4, 'small': 8, 'medium': 16, 'large': 24, 'full': 32}[model_capacity]\n",
        "# filters = [n * 32 for n in [32, 4, 2, 4, 8, 16]]\n",
        "# widths = [512, 64, 64, 64, 64, 64]\n",
        "# strides = [(4, 1), (1, 1), (1, 1), (1, 1), (1, 1), (1, 1)]\n",
        "# a = Input(shape=(1024,), name='input', dtype='float32')\n",
        "# b = Reshape(target_shape=(1024, 1, 1), name='input-reshape')(a)\n",
        "# for l, f, w, s in zip(layers, filters, widths, strides):\n",
        "#   conv = Convolution2DFlipout(f, (w, 1), strides=s, padding='same',\n",
        "#               activation='relu', name=\"conv%d\" % l)\n",
        "#   conv = add_kl_weight(conv, X_train.shape[0])\n",
        "#   b = conv(b)\n",
        "#   b = BatchNormalization(name=\"conv%d-BN\" % l)(b)\n",
        "#   # b = MaxPool2D(pool_size=(2, 1), strides=None, padding='valid',\n",
        "#   #               name=\"conv%d-maxpool\" % l)(b)\n",
        "#   # b = Dropout(0.25, name=\"conv%d-dropout\" % l)(b)\n",
        "#   # b = Activation('relu')(b)\n",
        "\n",
        "# b = Permute((2, 1, 3), name=\"transpose\")(b)\n",
        "# b = Flatten(name=\"flatten\")(b)\n",
        "# b = Dropout(0.25, name=\"dropout\")(b)\n",
        "\n",
        "# dense = DenseFlipout(70, activation='softmax', name=\"classifier\")\n",
        "# dense = add_kl_weight(dense, X_train.shape[0])\n",
        "# b = dense(b)\n",
        "\n",
        "# model = Model(inputs=a, outputs=b)\n",
        "# # model.compile('adam', 'categorical_crossentropy','accuracy')\n",
        "# lr =1e-3\n",
        "# model.compile(loss=neg_log_likelihood_with_logits, optimizer=Adam(lr), metrics=['acc'],\n",
        "#                    experimental_run_tf_function=False)\n",
        "\n",
        "# model.summary()\n",
        "# # model.fit()           47% accuracy"
      ],
      "execution_count": null,
      "outputs": []
    },
    {
      "cell_type": "code",
      "metadata": {
        "id": "CHzYwqppTAZf",
        "colab": {
          "base_uri": "https://localhost:8080/"
        },
        "outputId": "38596557-efe7-4d9a-dca7-8dadaca9cb99"
      },
      "source": [
        "print(\"p size \",np.shape(p))\n",
        "X_train, X_test,y_train, y_test = train_test_split(p, y, test_size = 0.2, random_state = 4)\n",
        "print(\"X_TRAIN SHAPE \",np.shape(X_train))\n",
        "print(\"Y_train SHAPE \",np.shape(y_train))\n",
        "print(\"X_test SHAPE \",np.shape(X_test))\n",
        "print(\"Y_TEST SHAPE \",np.shape(y_test))\n"
      ],
      "execution_count": null,
      "outputs": [
        {
          "output_type": "stream",
          "text": [
            "p size  (41368, 1024)\n",
            "X_TRAIN SHAPE  (33094, 1024)\n",
            "Y_train SHAPE  (33094, 70)\n",
            "X_test SHAPE  (8274, 1024)\n",
            "Y_TEST SHAPE  (8274, 70)\n"
          ],
          "name": "stdout"
        }
      ]
    },
    {
      "cell_type": "markdown",
      "metadata": {
        "id": "2MstvWuQ4CzM"
      },
      "source": [
        "### Define the kernel divergence function that comes with a weight"
      ]
    },
    {
      "cell_type": "code",
      "metadata": {
        "id": "0iCftwQ34CzM"
      },
      "source": [
        "def get_kernel_divergence_fn(train_size, w=1.0):\n",
        "    \"\"\"\n",
        "    Get the kernel Kullback-Leibler divergence function\n",
        "\n",
        "    # Arguments\n",
        "        train_size (int): size of the training dataset for normalization\n",
        "        w (float): weight to the function\n",
        "\n",
        "    # Returns\n",
        "        kernel_divergence_fn: kernel Kullback-Leibler divergence function\n",
        "    \"\"\"\n",
        "    def kernel_divergence_fn(q, p, _):  # need the third ignorable argument\n",
        "        kernel_divergence = tfp.distributions.kl_divergence(q, p) / tf.cast(train_size, tf.float32)\n",
        "        return w * kernel_divergence\n",
        "    return kernel_divergence_fn"
      ],
      "execution_count": null,
      "outputs": []
    },
    {
      "cell_type": "code",
      "metadata": {
        "id": "p1_WsR2zBGLO",
        "colab": {
          "base_uri": "https://localhost:8080/"
        },
        "outputId": "11035cf2-f2bd-4837-98b5-023e7a559f73"
      },
      "source": [
        "y_train_scalar = np.array([np.where(r==1)[0][0] for r in y_train])\n",
        "y_test_scalar = np.array([np.where(r==1)[0][0] for r in y_test])\n",
        "\n",
        "np.shape(y_train_scalar),np.shape(y_test_scalar)"
      ],
      "execution_count": null,
      "outputs": [
        {
          "output_type": "execute_result",
          "data": {
            "text/plain": [
              "((33094,), (8274,))"
            ]
          },
          "metadata": {
            "tags": []
          },
          "execution_count": 15
        }
      ]
    },
    {
      "cell_type": "code",
      "metadata": {
        "id": "aTWhjaD24CzM"
      },
      "source": [
        "# Add a variable \"weight\" to the layer\n",
        "def add_kl_weight(layer, train_size, w_value=1.0):\n",
        "    w = layer.add_weight(name=layer.name+'/kl_loss_weight', shape=(),\n",
        "                         initializer=tf.initializers.constant(w_value), trainable=False)\n",
        "    layer.kernel_divergence_fn = get_kernel_divergence_fn(train_size, w)\n",
        "    return layer"
      ],
      "execution_count": null,
      "outputs": []
    },
    {
      "cell_type": "markdown",
      "metadata": {
        "id": "HaLdZnRC4CzN"
      },
      "source": [
        "### Define the loss function of negative log-likelihood (input as logits)"
      ]
    },
    {
      "cell_type": "code",
      "metadata": {
        "id": "vIYGjlBX4CzN"
      },
      "source": [
        "def neg_log_likelihood_with_logits(y_true, y_pred):\n",
        "    y_pred_dist = tfp.distributions.Categorical(logits=y_pred)\n",
        "    return -tf.reduce_mean(y_pred_dist.log_prob(tf.argmax(y_true, axis=-1)))"
      ],
      "execution_count": null,
      "outputs": []
    },
    {
      "cell_type": "code",
      "metadata": {
        "id": "ZJfMLVpxTZJC",
        "colab": {
          "base_uri": "https://localhost:8080/",
          "height": 285
        },
        "outputId": "c03db883-750e-48fb-e285-51c1d5f88298"
      },
      "source": [
        "a= []\n",
        "y_scalar = np.array([np.where(r==1)[0][0] for r in y])\n",
        "\n",
        "for i in range(0,70):\n",
        "  a.append((y_scalar.tolist().count(i)))\n",
        "\n",
        "import matplotlib.pyplot as plt\n",
        "import numpy as np\n",
        "%matplotlib inline\n",
        "import pandas\n",
        "# print(max(y_scalar))\n",
        "from collections import Counter\n",
        "a =Counter(y_scalar)\n",
        "df = pandas.DataFrame.from_dict(a, orient='index')\n",
        "df.plot(kind='bar')\n",
        "print(len(a))\n",
        "# plt.ylabel('Number of train_data')\n",
        "# plt.xlabel('Class');\n"
      ],
      "execution_count": null,
      "outputs": [
        {
          "output_type": "stream",
          "text": [
            "38\n"
          ],
          "name": "stdout"
        },
        {
          "output_type": "display_data",
          "data": {
            "image/png": "[encoded data removed]",
            "text/plain": [
              "<Figure size 432x288 with 1 Axes>"
            ]
          },
          "metadata": {
            "tags": [],
            "needs_background": "light"
          }
        }
      ]
    },
    {
      "cell_type": "markdown",
      "metadata": {
        "id": "RF5YOBYx4CzN"
      },
      "source": [
        "### Build and train the Bayesian CNN model"
      ]
    },
    {
      "cell_type": "code",
      "metadata": {
        "id": "Ws837-pt4CzN",
        "colab": {
          "base_uri": "https://localhost:8080/"
        },
        "outputId": "eab07243-3f33-46e6-deeb-cb5b8ecdd22a"
      },
      "source": [
        "# def build_bayesian_bcnn_model(input_shape, train_size):\n",
        "#     # print(train_size)\n",
        "#     model_in = Input(shape=(1024,), name='input', dtype='float32')\n",
        "#     a = Reshape(target_shape=(1024, 1, 1), name='input-reshape')(model_in)\n",
        "\n",
        "#     conv_1 = Convolution2DFlipout(512, kernel_size=(3, 3), padding=\"same\", strides=2,\n",
        "#                                   kernel_divergence_fn=None)\n",
        "#     conv_1 = add_kl_weight(conv_1, train_size)\n",
        "#     x = conv_1(a)\n",
        "#     x = BatchNormalization()(x)\n",
        "#     x = Activation('relu')(x)\n",
        "#     conv_2 = Convolution2DFlipout(128, kernel_size=(3, 3), padding=\"same\", strides=2,\n",
        "#                                   kernel_divergence_fn=None)\n",
        "#     conv_2 = add_kl_weight(conv_2, train_size)\n",
        "#     x = conv_2(x)\n",
        "#     x = BatchNormalization()(x)\n",
        "#     x = Activation('relu')(x)\n",
        "\n",
        "#     conv_2 = Convolution2DFlipout(64, kernel_size=(3, 3), padding=\"same\", strides=2,\n",
        "#                                   kernel_divergence_fn=None)\n",
        "#     conv_2 = add_kl_weight(conv_2, train_size)\n",
        "#     x = conv_2(x)\n",
        "#     x = BatchNormalization()(x)\n",
        "#     x = Activation('relu')(x)\n",
        "\n",
        "#     conv_2 = Convolution2DFlipout(32, kernel_size=(3, 3), padding=\"same\", strides=2,\n",
        "#                                   kernel_divergence_fn=None)\n",
        "#     conv_2 = add_kl_weight(conv_2, train_size)\n",
        "#     x = conv_2(x)\n",
        "#     x = BatchNormalization()(x)\n",
        "#     x = Activation('relu')(x)\n",
        "#     # x = conv_2(x)\n",
        "#     # x = BatchNormalization()(x)\n",
        "#     # x = Activation('relu')(x)\n",
        "\n",
        "#     x = Flatten()(x)\n",
        "#     dense_1 = DenseFlipout(512, activation='relu',\n",
        "#                            kernel_divergence_fn=None)\n",
        "#     dense_1 = add_kl_weight(dense_1, train_size)\n",
        "#     x = dense_1(x)\n",
        "#     # x =dense_1(x)\n",
        "#     dense_2 = DenseFlipout(70, activation=None,\n",
        "#                            kernel_divergence_fn=None)\n",
        "#     dense_2 = add_kl_weight(dense_2, train_size)\n",
        "#     model_out = dense_2(x)  # logits\n",
        "#     model = Model(model_in, model_out)\n",
        "#     return model\n",
        "    \n",
        "# bcnn_model = build_bayesian_bcnn_model(X_train.shape[1:], n_train)\n",
        "# bcnn_model.compile(loss=neg_log_likelihood_with_logits, optimizer=Adam(lr), metrics=['acc'],\n",
        "#                    experimental_run_tf_function=False)\n",
        "# bcnn_model.summary()       65 % accuracy\n",
        "lr = 1e-3\n",
        "from tensorflow.keras.layers import Input, Reshape, Conv2D, BatchNormalization\n",
        "from tensorflow.keras.layers import MaxPool2D, Dropout, Permute, Flatten, Dense\n",
        "from tensorflow.keras.models import Model\n",
        "\n",
        "\n",
        "def build_bayesian_bcnn_model(input_shape, train_size):\n",
        "    # print(train_size)\n",
        "    model_in = Input(shape=(1024,), name='input', dtype='float32')\n",
        "    a = Reshape(target_shape=(1024, 1, 1), name='input-reshape')(model_in)\n",
        "\n",
        "    conv_1 = Convolution2DFlipout(512, kernel_size=(3, 3), padding=\"same\", strides=2,\n",
        "                                  kernel_divergence_fn=None)\n",
        "    conv_1 = add_kl_weight(conv_1, train_size)\n",
        "    x = conv_1(a)\n",
        "    x = BatchNormalization()(x)\n",
        "    x = Activation('relu')(x)\n",
        "    conv_2 = Convolution2DFlipout(256, kernel_size=(3, 3), padding=\"same\", strides=2,\n",
        "                                  kernel_divergence_fn=None)\n",
        "    conv_2 = add_kl_weight(conv_2, train_size)\n",
        "    x = conv_2(x)\n",
        "    x = BatchNormalization()(x)\n",
        "    x = Activation('relu')(x)\n",
        "\n",
        "    conv_2 = Convolution2DFlipout(128, kernel_size=(3,3), padding=\"same\", strides=2,\n",
        "                                  kernel_divergence_fn=None)\n",
        "    conv_2 = add_kl_weight(conv_2, train_size)\n",
        "    x = conv_2(x)\n",
        "    x = BatchNormalization()(x)\n",
        "    x = Activation('relu')(x)\n",
        "\n",
        "    conv_2 = Convolution2DFlipout(64, kernel_size=(3,3), padding=\"same\", strides=2,\n",
        "                                  kernel_divergence_fn=None)\n",
        "    conv_2 = add_kl_weight(conv_2, train_size)\n",
        "    x = conv_2(x)\n",
        "    x = BatchNormalization()(x)\n",
        "    x = Activation('relu')(x)\n",
        "\n",
        "    # conv_2 = Convolution2DFlipout(128, kernel_size=(2, 2), padding=\"same\", strides=1,\n",
        "    #                               kernel_divergence_fn=None)\n",
        "    # conv_2 = add_kl_weight(conv_2, train_size)\n",
        "    # x = conv_2(x)\n",
        "    # x = BatchNormalization()(x)\n",
        "    # x = Activation('relu')(x)\n",
        "    # x = conv_2(x)\n",
        "    # x = BatchNormalization()(x)\n",
        "    # x = Activation('relu')(x)\n",
        "\n",
        "    x = Flatten()(x)\n",
        "    dense_1 = DenseFlipout(1024, activation='relu',\n",
        "                           kernel_divergence_fn=None)\n",
        "    dense_1 = add_kl_weight(dense_1, train_size)\n",
        "    x = dense_1(x)\n",
        "    # x =dense_1(x)\n",
        "    dense_2 = DenseFlipout(70, activation=None,\n",
        "                           kernel_divergence_fn=None)\n",
        "    dense_2 = add_kl_weight(dense_2, train_size)\n",
        "    model_out = dense_2(x)  # logits\n",
        "    model = Model(model_in, model_out)\n",
        "    return model\n",
        "    \n",
        "bcnn_model = build_bayesian_bcnn_model(X_train.shape[1:], X_train.shape[0])\n",
        "bcnn_model.compile(loss=neg_log_likelihood_with_logits, optimizer=Adam(lr), metrics=['acc'],\n",
        "                   experimental_run_tf_function=False)\n",
        "bcnn_model.summary()    "
      ],
      "execution_count": null,
      "outputs": [
        {
          "output_type": "stream",
          "text": [
            "/usr/local/lib/python3.7/dist-packages/tensorflow/python/keras/engine/base_layer.py:2281: UserWarning: `layer.add_variable` is deprecated and will be removed in a future version. Please use `layer.add_weight` method instead.\n",
            "  warnings.warn('`layer.add_variable` is deprecated and '\n"
          ],
          "name": "stderr"
        },
        {
          "output_type": "stream",
          "text": [
            "Model: \"model_2\"\n",
            "_________________________________________________________________\n",
            "Layer (type)                 Output Shape              Param #   \n",
            "=================================================================\n",
            "input (InputLayer)           [(None, 1024)]            0         \n",
            "_________________________________________________________________\n",
            "input-reshape (Reshape)      (None, 1024, 1, 1)        0         \n",
            "_________________________________________________________________\n",
            "conv2d_flipout_10 (Conv2DFli (None, 512, 1, 512)       9729      \n",
            "_________________________________________________________________\n",
            "batch_normalization_10 (Batc (None, 512, 1, 512)       2048      \n",
            "_________________________________________________________________\n",
            "activation_10 (Activation)   (None, 512, 1, 512)       0         \n",
            "_________________________________________________________________\n",
            "conv2d_flipout_11 (Conv2DFli (None, 256, 1, 256)       2359553   \n",
            "_________________________________________________________________\n",
            "batch_normalization_11 (Batc (None, 256, 1, 256)       1024      \n",
            "_________________________________________________________________\n",
            "activation_11 (Activation)   (None, 256, 1, 256)       0         \n",
            "_________________________________________________________________\n",
            "conv2d_flipout_12 (Conv2DFli (None, 128, 1, 128)       589953    \n",
            "_________________________________________________________________\n",
            "batch_normalization_12 (Batc (None, 128, 1, 128)       512       \n",
            "_________________________________________________________________\n",
            "activation_12 (Activation)   (None, 128, 1, 128)       0         \n",
            "_________________________________________________________________\n",
            "conv2d_flipout_13 (Conv2DFli (None, 64, 1, 64)         147521    \n",
            "_________________________________________________________________\n",
            "batch_normalization_13 (Batc (None, 64, 1, 64)         256       \n",
            "_________________________________________________________________\n",
            "activation_13 (Activation)   (None, 64, 1, 64)         0         \n",
            "_________________________________________________________________\n",
            "flatten_2 (Flatten)          (None, 4096)              0         \n",
            "_________________________________________________________________\n",
            "dense_flipout_4 (DenseFlipou (None, 1024)              8389633   \n",
            "_________________________________________________________________\n",
            "dense_flipout_5 (DenseFlipou (None, 70)                143431    \n",
            "=================================================================\n",
            "Total params: 11,643,660\n",
            "Trainable params: 11,641,734\n",
            "Non-trainable params: 1,926\n",
            "_________________________________________________________________\n"
          ],
          "name": "stdout"
        }
      ]
    },
    {
      "cell_type": "code",
      "metadata": {
        "id": "KsuSpduS4CzO",
        "colab": {
          "base_uri": "https://localhost:8080/"
        },
        "outputId": "39983a00-3866-46f4-df74-8c651dbbc184"
      },
      "source": [
        "batch_size = 64\n",
        "n_epochs = 10\n",
        "\n",
        "hist = bcnn_model.fit(X_train, y_train, batch_size = batch_size, epochs = n_epochs, verbose = 1, validation_data = (X_test, y_test))\n"
      ],
      "execution_count": 36,
      "outputs": [
        {
          "output_type": "stream",
          "text": [
            "Epoch 1/10\n",
            "518/518 [==============================] - 44s 84ms/step - loss: 15.7508 - acc: 0.6873 - val_loss: 14.5268 - val_acc: 0.6702\n",
            "Epoch 2/10\n",
            "518/518 [==============================] - 44s 84ms/step - loss: 13.2911 - acc: 0.6905 - val_loss: 12.3533 - val_acc: 0.6670\n",
            "Epoch 3/10\n",
            "518/518 [==============================] - 44s 84ms/step - loss: 11.3557 - acc: 0.6890 - val_loss: 10.6537 - val_acc: 0.6624\n",
            "Epoch 4/10\n",
            "518/518 [==============================] - 44s 84ms/step - loss: 9.8336 - acc: 0.6892 - val_loss: 9.2714 - val_acc: 0.6679\n",
            "Epoch 5/10\n",
            "518/518 [==============================] - 44s 84ms/step - loss: 8.6123 - acc: 0.6872 - val_loss: 8.1939 - val_acc: 0.6599\n",
            "Epoch 6/10\n",
            "518/518 [==============================] - 44s 84ms/step - loss: 7.6274 - acc: 0.6862 - val_loss: 7.3135 - val_acc: 0.6629\n",
            "Epoch 7/10\n",
            "518/518 [==============================] - 44s 84ms/step - loss: 6.8281 - acc: 0.6846 - val_loss: 6.5690 - val_acc: 0.6630\n",
            "Epoch 8/10\n",
            "518/518 [==============================] - 44s 84ms/step - loss: 6.1476 - acc: 0.6863 - val_loss: 5.9309 - val_acc: 0.6694\n",
            "Epoch 9/10\n",
            "518/518 [==============================] - 44s 85ms/step - loss: 5.5819 - acc: 0.6857 - val_loss: 5.4212 - val_acc: 0.6616\n",
            "Epoch 10/10\n",
            "518/518 [==============================] - 44s 85ms/step - loss: 5.1092 - acc: 0.6876 - val_loss: 4.9765 - val_acc: 0.6742\n"
          ],
          "name": "stdout"
        }
      ]
    },
    {
      "cell_type": "markdown",
      "metadata": {
        "id": "xaOF0hWH4CzP"
      },
      "source": [
        "### Plot training process"
      ]
    },
    {
      "cell_type": "code",
      "metadata": {
        "id": "ilE_qFcc4CzP",
        "colab": {
          "base_uri": "https://localhost:8080/",
          "height": 640
        },
        "outputId": "44f89191-08d9-453f-b4e8-2a77f6da7df7"
      },
      "source": [
        "fig, ax = plt.subplots(1, 2, figsize=(10, 4), dpi=200)\n",
        "\n",
        "ax[0].plot(range(n_epochs), hist.history['loss'], label='Training Loss')\n",
        "ax[0].plot(range(n_epochs), hist.history['val_loss'], label='Validation Loss')\n",
        "ax[0].legend()\n",
        "ax[0].set_xlabel('Epochs')\n",
        "ax[0].set_ylabel('Training loss')\n",
        "ax[0].set_ylim([0, None])\n",
        "\n",
        "ax[1].plot(range(n_epochs), hist.history['acc'], label='Training Accuracy')\n",
        "ax[1].plot(range(n_epochs), hist.history['val_acc'], label=\"Validation Accuracy\")\n",
        "ax[1].legend()\n",
        "ax[1].set_ylim([None, 1])\n",
        "ax[1].set_xlabel('Epochs')\n",
        "ax[1].set_ylabel('Training accuracy')\n",
        "\n",
        "plt.show()"
      ],
      "execution_count": 37,
      "outputs": [
        {
          "output_type": "display_data",
          "data": {
            "image/png": "[encoded data removed]",
            "text/plain": [
              "<Figure size 2000x800 with 2 Axes>"
            ]
          },
          "metadata": {
            "tags": [],
            "needs_background": "light"
          }
        }
      ]
    },
    {
      "cell_type": "markdown",
      "metadata": {
        "id": "ok32AH9A4CzP"
      },
      "source": [
        "### Quantify the uncertainty in predictions through sampling"
      ]
    },
    {
      "cell_type": "code",
      "metadata": {
        "id": "SXxqWQw_4CzP"
      },
      "source": [
        "n_mc_run = 100\n",
        "\n",
        "y_pred_logits_list = np.array([bcnn_model.predict(X_test) for _ in range(n_mc_run)])  # a list of predicted logits"
      ],
      "execution_count": 38,
      "outputs": []
    },
    {
      "cell_type": "code",
      "metadata": {
        "id": "VKLe3jTm4CzR",
        "colab": {
          "base_uri": "https://localhost:8080/"
        },
        "outputId": "6eaab6b3-a91a-4f1b-d550-48779400f92c"
      },
      "source": [
        "print(X_test.shape)\n",
        "print(y_pred_logits_list.shape)\n",
        "\n",
        "print('\\ntest sample 0, label = 0, samples:\\n', y_pred_logits_list[:10,0,0])\n",
        "print('\\ntest sample 0, label = 7, samples:\\n', y_pred_logits_list[:10,0,7])"
      ],
      "execution_count": 39,
      "outputs": [
        {
          "output_type": "stream",
          "text": [
            "(8274, 1024)\n",
            "(100, 8274, 70)\n",
            "\n",
            "test sample 0, label = 0, samples:\n",
            " [3.7803035 4.74652   5.550943  4.7897606 4.9361777 4.898989  4.878084\n",
            " 4.006336  4.5485754 4.3840256]\n",
            "\n",
            "test sample 0, label = 7, samples:\n",
            " [-26.91579  -22.571968 -26.887413 -12.683284 -24.740494 -21.075056\n",
            " -26.042587 -27.24635  -19.962889 -12.910203]\n"
          ],
          "name": "stdout"
        }
      ]
    },
    {
      "cell_type": "code",
      "metadata": {
        "id": "UroKke_g4CzR"
      },
      "source": [
        "med_prob_thres = 0.2 # probability threshold\n",
        "y_pred_prob_all = np.concatenate([softmax(y, axis=-1)[:, :, np.newaxis] for y in y_pred_logits_list], axis=-1)\n",
        "y_pred = np.array([np.array([int(np.median(y) >= med_prob_thres) for y in y_pred_prob]) for y_pred_prob in y_pred_prob_all])\n"
      ],
      "execution_count": 40,
      "outputs": []
    },
    {
      "cell_type": "code",
      "metadata": {
        "id": "U9R6Y0UC4CzR",
        "colab": {
          "base_uri": "https://localhost:8080/"
        },
        "outputId": "007e9034-325c-431c-ee0c-4fdd27591d41"
      },
      "source": [
        "idx_valid = [any(y) for y in y_pred]\n",
        "print('Number of recognizable samples:', sum(idx_valid))\n",
        "\n",
        "idx_invalid = [not any(y) for y in y_pred]\n",
        "print('Unrecognizable samples:', np.where(idx_invalid)[0])\n",
        "\n",
        "print('Test accuracy on MNIST (recognizable samples):',\n",
        "      sum(np.equal(np.argmax(y_test[idx_valid], axis=-1), np.argmax(y_pred[idx_valid], axis=-1))) / len(y_test[idx_valid]))\n",
        "\n",
        "print('Test accuracy on MNIST (unrecognizable samples):',\n",
        "      sum(np.equal(np.argmax(y_test[idx_invalid], axis=-1), np.argmax(y_pred[idx_invalid], axis=-1))) / len(y_test[idx_invalid]))"
      ],
      "execution_count": 41,
      "outputs": [
        {
          "output_type": "stream",
          "text": [
            "Number of recognizable samples: 8259\n",
            "Unrecognizable samples: [ 690 2690 2807 3002 3855 3934 4401 4551 4790 5262 5623 7343 7853 8000\n",
            " 8022]\n",
            "Test accuracy on MNIST (recognizable samples): 0.6914880736166606\n",
            "Test accuracy on MNIST (unrecognizable samples): 0.13333333333333333\n"
          ],
          "name": "stdout"
        }
      ]
    },
    {
      "cell_type": "markdown",
      "metadata": {
        "id": "pDH7JyUI4CzS"
      },
      "source": [
        "### Define the function that plots the histogram of predicted probabilities across all possible classes"
      ]
    },
    {
      "cell_type": "code",
      "metadata": {
        "id": "yTecy5LX4CzS"
      },
      "source": [
        "def plot_pred_hist(y_pred, n_class, n_mc_run, n_bins=30, med_prob_thres=0.2, n_subplot_rows=2, figsize=(20, 7)):\n",
        "    print('\\nmedian of predicted probs = \\n', np.median(y_pred, axis=1))\n",
        "    bins = np.logspace(-n_bins, 0, n_bins+1)\n",
        "    n_subplot_cols = (n_class + 1) // n_subplot_rows\n",
        "    fig, ax = plt.subplots(n_subplot_rows, n_subplot_cols, figsize=figsize, dpi=150)\n",
        "    for i in range(n_subplot_rows):\n",
        "        for j in range(n_subplot_cols):\n",
        "            idx = i * n_subplot_cols + j\n",
        "            if idx < n_class:\n",
        "                ax[i, j].hist(y_pred[idx], bins)\n",
        "                ax[i, j].set_xscale('log')\n",
        "                ax[i, j].set_ylim([0, n_mc_run])\n",
        "                ax[i, j].title.set_text(\"{} (median prob: {:.2f}) ({})\".format(str(idx),\n",
        "                                                                               np.median(y_pred[idx]),\n",
        "                                                                               str(np.median(y_pred[idx]) >= med_prob_thres)))\n",
        "            else:\n",
        "                ax[i, j].axis('off')\n",
        "    fig.subplots_adjust(hspace=0.4)\n",
        "    plt.show()"
      ],
      "execution_count": 42,
      "outputs": []
    },
    {
      "cell_type": "markdown",
      "metadata": {
        "id": "yYiMfYZa4CzS"
      },
      "source": [
        "### A recognizable example"
      ]
    },
    {
      "cell_type": "code",
      "metadata": {
        "id": "5PY2Eyjq4CzS",
        "colab": {
          "base_uri": "https://localhost:8080/",
          "height": 246
        },
        "outputId": "52f33955-fea1-4ffd-eb36-596b73352926"
      },
      "source": [
        "idx = 1\n",
        "# plt.imshow(X_test[idx, :, :, 0], cmap='gist_gray')\n",
        "# plt.show()\n",
        "print(\"True label of the test sample {}: {}\".format(idx, np.argmax(y_test[idx], axis=-1)))\n",
        "\n",
        "plot_pred_hist(y_pred_prob_all[idx], n_class, n_mc_run, med_prob_thres=med_prob_thres)\n",
        "\n",
        "if any(y_pred[idx]):\n",
        "    print(\"Predicted label of the test sample {}: {}\".format(idx, np.argmax(y_pred[idx], axis=-1)))\n",
        "else:\n",
        "    print(\"I don't know!\")"
      ],
      "execution_count": 43,
      "outputs": [
        {
          "output_type": "stream",
          "text": [
            "True label of the test sample 1: 0\n"
          ],
          "name": "stdout"
        },
        {
          "output_type": "error",
          "ename": "NameError",
          "evalue": "ignored",
          "traceback": [
            "\u001b[0;31m---------------------------------------------------------------------------\u001b[0m",
            "\u001b[0;31mNameError\u001b[0m                                 Traceback (most recent call last)",
            "\u001b[0;32m<ipython-input-43-c4766e14f484>\u001b[0m in \u001b[0;36m<module>\u001b[0;34m()\u001b[0m\n\u001b[1;32m      4\u001b[0m \u001b[0mprint\u001b[0m\u001b[0;34m(\u001b[0m\u001b[0;34m\"True label of the test sample {}: {}\"\u001b[0m\u001b[0;34m.\u001b[0m\u001b[0mformat\u001b[0m\u001b[0;34m(\u001b[0m\u001b[0midx\u001b[0m\u001b[0;34m,\u001b[0m \u001b[0mnp\u001b[0m\u001b[0;34m.\u001b[0m\u001b[0margmax\u001b[0m\u001b[0;34m(\u001b[0m\u001b[0my_test\u001b[0m\u001b[0;34m[\u001b[0m\u001b[0midx\u001b[0m\u001b[0;34m]\u001b[0m\u001b[0;34m,\u001b[0m \u001b[0maxis\u001b[0m\u001b[0;34m=\u001b[0m\u001b[0;34m-\u001b[0m\u001b[0;36m1\u001b[0m\u001b[0;34m)\u001b[0m\u001b[0;34m)\u001b[0m\u001b[0;34m)\u001b[0m\u001b[0;34m\u001b[0m\u001b[0;34m\u001b[0m\u001b[0m\n\u001b[1;32m      5\u001b[0m \u001b[0;34m\u001b[0m\u001b[0m\n\u001b[0;32m----> 6\u001b[0;31m \u001b[0mplot_pred_hist\u001b[0m\u001b[0;34m(\u001b[0m\u001b[0my_pred_prob_all\u001b[0m\u001b[0;34m[\u001b[0m\u001b[0midx\u001b[0m\u001b[0;34m]\u001b[0m\u001b[0;34m,\u001b[0m \u001b[0mn_class\u001b[0m\u001b[0;34m,\u001b[0m \u001b[0mn_mc_run\u001b[0m\u001b[0;34m,\u001b[0m \u001b[0mmed_prob_thres\u001b[0m\u001b[0;34m=\u001b[0m\u001b[0mmed_prob_thres\u001b[0m\u001b[0;34m)\u001b[0m\u001b[0;34m\u001b[0m\u001b[0;34m\u001b[0m\u001b[0m\n\u001b[0m\u001b[1;32m      7\u001b[0m \u001b[0;34m\u001b[0m\u001b[0m\n\u001b[1;32m      8\u001b[0m \u001b[0;32mif\u001b[0m \u001b[0many\u001b[0m\u001b[0;34m(\u001b[0m\u001b[0my_pred\u001b[0m\u001b[0;34m[\u001b[0m\u001b[0midx\u001b[0m\u001b[0;34m]\u001b[0m\u001b[0;34m)\u001b[0m\u001b[0;34m:\u001b[0m\u001b[0;34m\u001b[0m\u001b[0;34m\u001b[0m\u001b[0m\n",
            "\u001b[0;31mNameError\u001b[0m: name 'n_class' is not defined"
          ]
        }
      ]
    },
    {
      "cell_type": "markdown",
      "metadata": {
        "id": "yF5aFnCf4CzS"
      },
      "source": [
        "### An unrecognizable examples"
      ]
    },
    {
      "cell_type": "code",
      "metadata": {
        "id": "i_KV51kp4CzT"
      },
      "source": [
        "idx = 659\n",
        "plt.imshow(X_test[idx, :, :, 0], cmap='gist_gray')\n",
        "plt.show()\n",
        "print(\"True label of the test sample {}: {}\".format(idx, np.argmax(y_test[idx], axis=-1)))\n",
        "\n",
        "plot_pred_hist(y_pred_prob_all[idx], n_class, n_mc_run, med_prob_thres=med_prob_thres)\n",
        "\n",
        "if any(y_pred[idx]):\n",
        "    print(\"Predicted label of the test sample {}: {}\".format(idx, np.argmax(y_pred[idx], axis=-1)))\n",
        "else:\n",
        "    print(\"I don't know!\")"
      ],
      "execution_count": null,
      "outputs": []
    },
    {
      "cell_type": "markdown",
      "metadata": {
        "id": "ngvJP_FP4CzT"
      },
      "source": [
        "## Predict non-number images in Fashion-MNIST dataset"
      ]
    },
    {
      "cell_type": "markdown",
      "metadata": {
        "id": "2lZZZMnH4CzT"
      },
      "source": [
        "The model is trained to recongnize numbers with confidence. If asked to predict a non-number image, instead of randomly guessing, the model will not predict. Let's take images in Fashion-MNIST dataset as an example."
      ]
    },
    {
      "cell_type": "code",
      "metadata": {
        "id": "SFWsNJvz4CzT"
      },
      "source": [
        "print('Loading Fashion-MNIST dataset')\n",
        "_, (X_f_test, y_f_test) = tf.keras.datasets.fashion_mnist.load_data()\n",
        "\n",
        "X_f_test = np.expand_dims(X_f_test, -1)[:1000]\n",
        "y_f_test = tf.keras.utils.to_categorical(y_f_test, n_class)[:1000]\n",
        "\n",
        "print(\"X_f_test.shape =\", X_f_test.shape)\n",
        "print(\"y_f_test.shape =\", y_f_test.shape)"
      ],
      "execution_count": null,
      "outputs": []
    },
    {
      "cell_type": "markdown",
      "metadata": {
        "id": "qAgbLqWc4CzU"
      },
      "source": [
        "### Quantify uncertainty"
      ]
    },
    {
      "cell_type": "code",
      "metadata": {
        "id": "hOaU5Obo4CzU"
      },
      "source": [
        "n_mc_run = 100\n",
        "\n",
        "y_f_pred_logits_list = np.array([bcnn_model.predict(X_f_test) for _ in range(n_mc_run)])  # a list of predicted logits"
      ],
      "execution_count": null,
      "outputs": []
    },
    {
      "cell_type": "code",
      "metadata": {
        "id": "VXjj6GFA4CzU"
      },
      "source": [
        "print(X_f_test.shape)\n",
        "print(y_f_pred_logits_list.shape)\n",
        "\n",
        "print('\\ntest sample 0, label = 0, samples:\\n', y_f_pred_logits_list[:10,0,0])\n",
        "print('\\ntest sample 0, label = 7, samples:\\n', y_f_pred_logits_list[:10,0,7])"
      ],
      "execution_count": null,
      "outputs": []
    },
    {
      "cell_type": "code",
      "metadata": {
        "id": "edBXzdv04CzU"
      },
      "source": [
        "med_prob_thres = 0.2 # probability threshold\n",
        "y_f_pred_prob_all = np.concatenate([softmax(y, axis=-1)[:, :, np.newaxis] for y in y_f_pred_logits_list], axis=-1)\n",
        "y_f_pred = np.array([np.array([int(np.median(y) >= med_prob_thres) for y in y_f_pred_prob]) for y_f_pred_prob in y_f_pred_prob_all])\n"
      ],
      "execution_count": null,
      "outputs": []
    },
    {
      "cell_type": "code",
      "metadata": {
        "id": "shQk56Ia4CzV"
      },
      "source": [
        "idx_f_valid = [any(y) for y in y_f_pred]\n",
        "print('Number of recognizable samples:', sum(idx_f_valid))\n",
        "# print('Recognizable samples:', np.where(idx_f_valid)[0])\n",
        "\n",
        "idx_f_invalid = [not any(y) for y in y_f_pred]\n",
        "print('Number of unrecognizable samples:', sum(idx_f_invalid))\n",
        "print('\\n10 unrecognizable samples:', np.where(idx_f_invalid)[0][:10])\n",
        "\n",
        "print('\\nTest accuracy on MNIST (recognizable samples):',\n",
        "      sum(np.equal(np.argmax(y_f_test[idx_f_valid], axis=-1), np.argmax(y_f_pred[idx_f_valid], axis=-1))) / len(y_f_test[idx_f_valid]))\n",
        "\n",
        "print('Test accuracy on MNIST (unrecognizable samples):',\n",
        "      sum(np.equal(np.argmax(y_f_test[idx_f_invalid], axis=-1), np.argmax(y_f_pred[idx_f_invalid], axis=-1))) / len(y_f_test[idx_f_invalid]))\n",
        "\n"
      ],
      "execution_count": null,
      "outputs": []
    },
    {
      "cell_type": "markdown",
      "metadata": {
        "id": "eoxnEuZD4CzV"
      },
      "source": [
        "### An  unrecognizable example"
      ]
    },
    {
      "cell_type": "code",
      "metadata": {
        "id": "U8iBs8j14CzV"
      },
      "source": [
        "idx = 6\n",
        "plt.imshow(X_f_test[idx, :, :, 0], cmap='gist_gray')\n",
        "plt.show()\n",
        "print(\"True label of the test sample {}: {}\".format(idx, np.argmax(y_f_test[idx], axis=-1)))\n",
        "\n",
        "plot_pred_hist(y_f_pred_prob_all[idx], n_class, n_mc_run, med_prob_thres=med_prob_thres)\n",
        "\n",
        "if any(y_f_pred[idx]):\n",
        "    print(\"Predicted label of the test sample {}: {}\".format(idx, np.argmax(y_pred[idx], axis=-1)))\n",
        "else:\n",
        "    print(\"I don't know!\")"
      ],
      "execution_count": null,
      "outputs": []
    },
    {
      "cell_type": "code",
      "metadata": {
        "id": "jGHzeN-C4CzV"
      },
      "source": [
        ""
      ],
      "execution_count": null,
      "outputs": []
    }
  ]
}