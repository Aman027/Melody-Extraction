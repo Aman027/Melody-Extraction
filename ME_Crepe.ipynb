{
  "nbformat": 4,
  "nbformat_minor": 0,
  "metadata": {
    "colab": {
      "name": "ME",
      "provenance": []
    },
    "kernelspec": {
      "name": "python3",
      "display_name": "Python 3"
    },
    "language_info": {
      "name": "python"
    },
    "accelerator": "GPU"
  },
  "cells": [
    {
      "cell_type": "code",
      "metadata": {
        "id": "OnDoD0LvtI5Q"
      },
      "source": [
        "import numpy as np\n",
        "import librosa\n",
        "import librosa.display\n",
        "from glob import glob\n",
        "import os,sys\n",
        "from scipy import signal\n",
        "import matplotlib.pyplot as plt\n",
        "from scipy.signal import correlate\n",
        "from sklearn.preprocessing import LabelEncoder\n",
        "from sklearn.preprocessing import OneHotEncoder\n",
        "import csv\n",
        "from keras.models import Sequential\n",
        "import tensorflow as tf\n",
        "from keras.layers.core import Dense, Activation, Dropout, Flatten\n",
        "from keras.layers.convolutional import Convolution2D, MaxPooling2D\n",
        "from keras.optimizers import SGD, RMSprop\n",
        "from keras.utils import np_utils\n",
        "from sklearn.tree import DecisionTreeClassifier # Import Decision Tree Classifier\n",
        "from sklearn import metrics\n",
        "from sklearn.utils import shuffle\n",
        "from sklearn.model_selection import train_test_split\n",
        "import matplotlib.pyplot as plt\n",
        "import numpy as np\n",
        "# from sklearn.metrics import accuracy_scoretumne #dekha hai koi\n",
        "import pandas as pd\n",
        "from pydrive.auth import GoogleAuth\n",
        "from tensorflow import keras\n",
        "from pydrive.drive import GoogleDrive\n",
        "from google.colab import auth\n",
        "from oauth2client.client import GoogleCredentials\n",
        "from google.colab import drive\n"
      ],
      "execution_count": null,
      "outputs": []
    },
    {
      "cell_type": "code",
      "metadata": {
        "id": "h2fWFTAMglwz",
        "colab": {
          "base_uri": "https://localhost:8080/"
        },
        "outputId": "b2e5efc4-75da-4a59-f82c-d00cd1288e2b"
      },
      "source": [
        "drive.mount('/content/gdrive')"
      ],
      "execution_count": null,
      "outputs": [
        {
          "output_type": "stream",
          "text": [
            "Mounted at /content/gdrive\n"
          ],
          "name": "stdout"
        }
      ]
    },
    {
      "cell_type": "code",
      "metadata": {
        "colab": {
          "base_uri": "https://localhost:8080/"
        },
        "id": "nZjD-JVpiFdf",
        "outputId": "731abf45-7d07-4b01-9ebc-274aea9a05b0"
      },
      "source": [
        "!ls '/content/gdrive/My Drive/ME'"
      ],
      "execution_count": null,
      "outputs": [
        {
          "output_type": "stream",
          "text": [
            "PitchLabel_csv\ttest  Wavfile\n"
          ],
          "name": "stdout"
        }
      ]
    },
    {
      "cell_type": "code",
      "metadata": {
        "id": "zYxPAtuKtNMS"
      },
      "source": [
        "def load_audio(file):\n",
        "    x,sr = librosa.load(file,sr=10000,mono=True)  #merge the audio into a single channel and downsampled to 8KHz\n",
        "    S = calc_spec(x,sr)\n",
        "    gtv,gtf = get_pitch(file)\n",
        "    gtf = np.append(gtf,np.zeros(np.shape(S)[1]-len(gtf)))\n",
        "    return S,gtv,gtf\n",
        "\n",
        "def calc_spec(x,sr):\n",
        "    D = np.abs(librosa.stft(x, n_fft = Nfft, hop_length = hop_size, win_length = win_size, window='hann', dtype = np.complex256))\n",
        "    D = librosa.power_to_db(D,ref=np.max)\n",
        "    return D\n",
        "\n",
        "\n",
        "def get_pitch(file):\n",
        "    gtf = []\n",
        "    gtv = []\n",
        "    pathname = os.path.splitext(file)[0]\n",
        "    filename = os.path.basename(pathname)\n",
        "    # ff = pitch_dir + '/' + filename + '.csv'\n",
        "    ff = pitch_dir + '/' + filename + '.csv'\n",
        "\n",
        "    with open(ff,'r') as fin:\n",
        "        reader = csv.reader(fin)\n",
        "        for row in reader:\n",
        "            gtv.append(float(row[0]))\n",
        "            gtf.append(float(row[1]))\n",
        "    return gtv,gtf    \n",
        "    \n",
        "    \n",
        "def closest(arr, K):  # arr is a vector\n",
        "    idx = (np.abs(arr - K)).argmin() \n",
        "    return idx,arr[idx]\n",
        "\n",
        "def onehotlabel(pitch_range):\n",
        "    values = np.asarray(pitch_range)\n",
        "    # integer encode\n",
        "    label_encoder = LabelEncoder()\n",
        "    integer_encoded = label_encoder.fit_transform(values)\n",
        "#     print(integer_encoded)\n",
        "\n",
        "    # binary encode\n",
        "    onehot_encoder = OneHotEncoder(sparse=False)\n",
        "    integer_encoded = integer_encoded.reshape(len(integer_encoded), 1)\n",
        "    onehot_encoded = onehot_encoder.fit_transform(integer_encoded)\n",
        "    return onehot_encoded\n",
        "\n",
        "def getonehot(y):    \n",
        "    yhot = np.zeros((len(y),len(pitch_range)))\n",
        "    for i in range(len(y)):\n",
        "        idx,val = closest(pitch_range,y[i]) \n",
        "#         print(idx,val,y[i])\n",
        "        yhot[i,:] = onehot_pitch_range[idx,:]\n",
        "    return yhot\n",
        "\n",
        "\n",
        "def RPA(v,pred_Melody,pitch_labels,Nt):\n",
        "    N=0\n",
        "    D=0\n",
        "    for i in range(Nt):\n",
        "        if v[i]==1:\n",
        "            if pred_Melody[i]!=0:\n",
        "                N+=v[i]*Thres(M(pred_Melody[i])-M(pitch_labels[i]))\n",
        "            D+=v[i]\n",
        "    Raw_pitch_acc=(N/D)*100\n",
        "    #print(\"RPA is {} %\".format(Raw_pitch_acc))\n",
        "    return Raw_pitch_acc\n",
        "\n",
        "def M(f):\n",
        "    f_ref=100\n",
        "    return 12*np.log2(f/f_ref)\n",
        "\n",
        "def Thres(a):\n",
        "    if -0.5<a and a<0.5:\n",
        "        t=1\n",
        "    else:\n",
        "        t=0\n",
        "    return t\n",
        "\n",
        "def Angular(a):\n",
        "    x=a-12*int(a/12+0.5)\n",
        "    return x"
      ],
      "execution_count": null,
      "outputs": []
    },
    {
      "cell_type": "code",
      "metadata": {
        "id": "kX1aqAnItTD0"
      },
      "source": [
        "model_srate = 16000\n",
        "from numpy.lib.stride_tricks import as_strided\n",
        "def get_activation(audio, sr, model_capacity='full', center=True, step_size=10,verbose=1):\n",
        "    if len(audio.shape) == 2:\n",
        "        audio = audio.mean(1)  # make mono\n",
        "    audio = audio.astype(np.float32)\n",
        "    if sr != model_srate:\n",
        "        # resample audio if necessary\n",
        "        from resampy import resample\n",
        "        audio = resample(audio, sr, model_srate)\n",
        "\n",
        "    # pad so that frames are centered around their timestamps (i.e. first frame\n",
        "    # is zero centered).\n",
        "    if center:\n",
        "        audio = np.pad(audio, 512, mode='constant', constant_values=0)\n",
        "\n",
        "    # make 1024-sample frames of the audio with hop length of 10 milliseconds\n",
        "    hop_length = int(model_srate * step_size / 1000)\n",
        "    n_frames = 1 + int((len(audio) - 1024) / hop_length)\n",
        "    frames = as_strided(audio, shape=(1024, n_frames),\n",
        "                        strides=(audio.itemsize, hop_length * audio.itemsize))\n",
        "    frames = frames.transpose().copy()\n",
        "\n",
        "    # normalize each frame -- this is expected by the model\n",
        "    frames -= np.mean(frames, axis=1)[:, np.newaxis]\n",
        "    frames /= np.std(frames, axis=1)[:, np.newaxis]\n",
        "\n",
        "    # run prediction and convert the frequency bin weights to Hz\n",
        "    return frames"
      ],
      "execution_count": null,
      "outputs": []
    },
    {
      "cell_type": "code",
      "metadata": {
        "colab": {
          "base_uri": "https://localhost:8080/"
        },
        "id": "9LLBIHDrpskP",
        "outputId": "62f5276b-5ed7-4049-9fd8-9ee1bd06f7dc"
      },
      "source": [
        "audio_dir = '/content/gdrive/My Drive/ME/Wavfile'\n",
        "audio_files = glob(audio_dir + '/*.wav')\n",
        "pitch_dir = '/content/gdrive/My Drive/ME/PitchLabel_csv'\n",
        "print(len(audio_files))"
      ],
      "execution_count": null,
      "outputs": [
        {
          "output_type": "stream",
          "text": [
            "1000\n"
          ],
          "name": "stdout"
        }
      ]
    },
    {
      "cell_type": "code",
      "metadata": {
        "colab": {
          "base_uri": "https://localhost:8080/"
        },
        "id": "YOPoFjjXLNmt",
        "outputId": "34205923-338b-4381-bc5d-329412adc5da"
      },
      "source": [
        "X = []\n",
        "y = []\n",
        "\n",
        "\n",
        "Nfft = 1024\n",
        "win_size = 1024\n",
        "hop_size = 100\n",
        "\n",
        "note_res = 1\n",
        "pitch_range = np.arange(30, 98 + 1.0/note_res, 1.0/note_res)\n",
        "pitch_range = np.concatenate([np.zeros(1), pitch_range])\n",
        "print(len(pitch_range))\n",
        "onehot_pitch_range = onehotlabel(pitch_range)  #one hot encoded values of MIDI numbers from 40 to 95\n",
        "\n",
        "\n",
        "\n",
        "for i in range(50):#len(audio_files)):\n",
        "    # print(i)\n",
        "    S, gtv, gtf = load_audio(audio_files[i])\n",
        "    gtf_midi = [librosa.hz_to_midi(x) if x!=float(0) else float(0) for x in gtf]\n",
        "    # X.append(S.T)\n",
        "    y.append(getonehot(gtf_midi))\n",
        "#     print(len(X))\n",
        "# X = np.vstack(X)\n",
        "y = np.vstack(y)\n",
        "print(np.shape(X),np.shape(y))"
      ],
      "execution_count": null,
      "outputs": [
        {
          "output_type": "stream",
          "text": [
            "70\n",
            "(0,) (41368, 70)\n"
          ],
          "name": "stdout"
        }
      ]
    },
    {
      "cell_type": "code",
      "metadata": {
        "id": "rmbdg7rNgIHp",
        "colab": {
          "base_uri": "https://localhost:8080/"
        },
        "outputId": "8a4c0190-43f5-4817-b827-21a4d1c23bc9"
      },
      "source": [
        "p=[]\n",
        "for i in range (50):\n",
        "\n",
        "  # print(i)\n",
        "  b,c=librosa.load(audio_files[i])\n",
        "  f=get_activation(b,c)\n",
        "  # print(f.shape)\n",
        "  p.append(f)\n",
        "# z=np.zeros([1,1024])\n",
        "# np.shape(z)\n",
        "# p.append(z)\n",
        "p=np.vstack(p)\n",
        "np.shape(p)"
      ],
      "execution_count": null,
      "outputs": [
        {
          "output_type": "execute_result",
          "data": {
            "text/plain": [
              "(41368, 1024)"
            ]
          },
          "metadata": {
            "tags": []
          },
          "execution_count": 8
        }
      ]
    },
    {
      "cell_type": "code",
      "metadata": {
        "colab": {
          "base_uri": "https://localhost:8080/"
        },
        "id": "IODMO6JFLOiV",
        "outputId": "e1dba58e-3add-4e88-8b57-8d8049ae1dc1"
      },
      "source": [
        "from tensorflow.keras.layers import Input, Reshape, Conv2D, BatchNormalization\n",
        "from tensorflow.keras.layers import MaxPool2D, Dropout, Permute, Flatten, Dense\n",
        "from tensorflow.keras.models import Model\n",
        "layers = [1, 2, 3, 4, 5, 6]\n",
        "# capacity_multiplier = {'tiny': 4, 'small': 8, 'medium': 16, 'large': 24, 'full': 32}[model_capacity]\n",
        "filters = [n * 32for n in [32, 4, 4, 4, 8, 16]]\n",
        "widths = [512, 64, 64, 64, 64, 64]\n",
        "strides = [(4, 1), (1, 1), (1, 1), (1, 1), (1, 1), (1, 1)]\n",
        "a = Input(shape=(1024,), name='input', dtype='float32')\n",
        "b = Reshape(target_shape=(1024, 1, 1), name='input-reshape')(a)\n",
        "for l, f, w, s in zip(layers, filters, widths, strides):\n",
        "  b = Conv2D(f, (w, 1), strides=s, padding='same',\n",
        "              activation='relu', name=\"conv%d\" % l)(b)\n",
        "  b = BatchNormalization(name=\"conv%d-BN\" % l)(b)\n",
        "  b = MaxPool2D(pool_size=(2, 1), strides=None, padding='valid',\n",
        "                name=\"conv%d-maxpool\" % l)(b)\n",
        "  b = Dropout(0.25, name=\"conv%d-dropout\" % l)(b)\n",
        "\n",
        "b = Permute((2, 1, 3), name=\"transpose\")(b)\n",
        "b = Flatten(name=\"flatten\")(b)\n",
        "b = Dense(70, activation='softmax', name=\"classifier\")(b)\n",
        "\n",
        "model = Model(inputs=a, outputs=b)\n",
        "model.compile('adam', 'categorical_crossentropy','accuracy')\n",
        "model.summary()\n",
        "# model.fit()"
      ],
      "execution_count": null,
      "outputs": [
        {
          "output_type": "stream",
          "text": [
            "Model: \"model\"\n",
            "_________________________________________________________________\n",
            "Layer (type)                 Output Shape              Param #   \n",
            "=================================================================\n",
            "input (InputLayer)           [(None, 1024)]            0         \n",
            "_________________________________________________________________\n",
            "input-reshape (Reshape)      (None, 1024, 1, 1)        0         \n",
            "_________________________________________________________________\n",
            "conv1 (Conv2D)               (None, 256, 1, 1024)      525312    \n",
            "_________________________________________________________________\n",
            "conv1-BN (BatchNormalization (None, 256, 1, 1024)      4096      \n",
            "_________________________________________________________________\n",
            "conv1-maxpool (MaxPooling2D) (None, 128, 1, 1024)      0         \n",
            "_________________________________________________________________\n",
            "conv1-dropout (Dropout)      (None, 128, 1, 1024)      0         \n",
            "_________________________________________________________________\n",
            "conv2 (Conv2D)               (None, 128, 1, 128)       8388736   \n",
            "_________________________________________________________________\n",
            "conv2-BN (BatchNormalization (None, 128, 1, 128)       512       \n",
            "_________________________________________________________________\n",
            "conv2-maxpool (MaxPooling2D) (None, 64, 1, 128)        0         \n",
            "_________________________________________________________________\n",
            "conv2-dropout (Dropout)      (None, 64, 1, 128)        0         \n",
            "_________________________________________________________________\n",
            "conv3 (Conv2D)               (None, 64, 1, 128)        1048704   \n",
            "_________________________________________________________________\n",
            "conv3-BN (BatchNormalization (None, 64, 1, 128)        512       \n",
            "_________________________________________________________________\n",
            "conv3-maxpool (MaxPooling2D) (None, 32, 1, 128)        0         \n",
            "_________________________________________________________________\n",
            "conv3-dropout (Dropout)      (None, 32, 1, 128)        0         \n",
            "_________________________________________________________________\n",
            "conv4 (Conv2D)               (None, 32, 1, 128)        1048704   \n",
            "_________________________________________________________________\n",
            "conv4-BN (BatchNormalization (None, 32, 1, 128)        512       \n",
            "_________________________________________________________________\n",
            "conv4-maxpool (MaxPooling2D) (None, 16, 1, 128)        0         \n",
            "_________________________________________________________________\n",
            "conv4-dropout (Dropout)      (None, 16, 1, 128)        0         \n",
            "_________________________________________________________________\n",
            "conv5 (Conv2D)               (None, 16, 1, 256)        2097408   \n",
            "_________________________________________________________________\n",
            "conv5-BN (BatchNormalization (None, 16, 1, 256)        1024      \n",
            "_________________________________________________________________\n",
            "conv5-maxpool (MaxPooling2D) (None, 8, 1, 256)         0         \n",
            "_________________________________________________________________\n",
            "conv5-dropout (Dropout)      (None, 8, 1, 256)         0         \n",
            "_________________________________________________________________\n",
            "conv6 (Conv2D)               (None, 8, 1, 512)         8389120   \n",
            "_________________________________________________________________\n",
            "conv6-BN (BatchNormalization (None, 8, 1, 512)         2048      \n",
            "_________________________________________________________________\n",
            "conv6-maxpool (MaxPooling2D) (None, 4, 1, 512)         0         \n",
            "_________________________________________________________________\n",
            "conv6-dropout (Dropout)      (None, 4, 1, 512)         0         \n",
            "_________________________________________________________________\n",
            "transpose (Permute)          (None, 1, 4, 512)         0         \n",
            "_________________________________________________________________\n",
            "flatten (Flatten)            (None, 2048)              0         \n",
            "_________________________________________________________________\n",
            "classifier (Dense)           (None, 70)                143430    \n",
            "=================================================================\n",
            "Total params: 21,650,118\n",
            "Trainable params: 21,645,766\n",
            "Non-trainable params: 4,352\n",
            "_________________________________________________________________\n"
          ],
          "name": "stdout"
        }
      ]
    },
    {
      "cell_type": "code",
      "metadata": {
        "id": "CHzYwqppTAZf"
      },
      "source": [
        "X_train, X_test,y_train, y_test = train_test_split(p, y, test_size = 0.2, random_state = 4)"
      ],
      "execution_count": null,
      "outputs": []
    },
    {
      "cell_type": "code",
      "metadata": {
        "colab": {
          "base_uri": "https://localhost:8080/"
        },
        "id": "SjW-XpLmZxZI",
        "outputId": "8f18521c-7830-428e-b67d-3de1d04a27b4"
      },
      "source": [
        "batch_size = 16\n",
        "nb_epochs = 5\n",
        "model.fit(X_train, y_train, batch_size = batch_size, epochs = nb_epochs, verbose = 1, validation_data = (X_test, y_test))"
      ],
      "execution_count": null,
      "outputs": [
        {
          "output_type": "stream",
          "text": [
            "Epoch 1/5\n",
            "2069/2069 [==============================] - 155s 59ms/step - loss: 2.0759 - accuracy: 0.5192 - val_loss: 1.2415 - val_accuracy: 0.6333\n",
            "Epoch 2/5\n",
            "2069/2069 [==============================] - 124s 60ms/step - loss: 1.2184 - accuracy: 0.6765 - val_loss: 0.9552 - val_accuracy: 0.6933\n",
            "Epoch 3/5\n",
            "2069/2069 [==============================] - 125s 60ms/step - loss: 1.0458 - accuracy: 0.7097 - val_loss: 0.8254 - val_accuracy: 0.7360\n",
            "Epoch 4/5\n",
            "2069/2069 [==============================] - 126s 61ms/step - loss: 0.9153 - accuracy: 0.7379 - val_loss: 0.7040 - val_accuracy: 0.7713\n",
            "Epoch 5/5\n",
            "2069/2069 [==============================] - 127s 62ms/step - loss: 0.8379 - accuracy: 0.7542 - val_loss: 0.7062 - val_accuracy: 0.7733\n"
          ],
          "name": "stdout"
        },
        {
          "output_type": "execute_result",
          "data": {
            "text/plain": [
              "<tensorflow.python.keras.callbacks.History at 0x7ff4c0061750>"
            ]
          },
          "metadata": {
            "tags": []
          },
          "execution_count": 11
        }
      ]
    },
    {
      "cell_type": "code",
      "metadata": {
        "colab": {
          "base_uri": "https://localhost:8080/"
        },
        "id": "yt8MGxQlQK_X",
        "outputId": "96319d59-4e02-444d-a266-2efe41c4320c"
      },
      "source": [
        "test_audio_dir = '/content/gdrive/My Drive/ME/test/Wavfile'\n",
        "test_audio_files = glob(test_audio_dir + '/*.wav')\n",
        "test_pitch_dir = '/content/gdrive/My Drive/ME/test/PitchLabel'\n",
        "print(len(test_audio_files))"
      ],
      "execution_count": null,
      "outputs": [
        {
          "output_type": "stream",
          "text": [
            "10\n"
          ],
          "name": "stdout"
        }
      ]
    },
    {
      "cell_type": "code",
      "metadata": {
        "id": "iBBnKamPiSbP"
      },
      "source": [
        "def get_testpitch(file):\n",
        "    pathname = os.path.splitext(file)[0]\n",
        "    filename = os.path.basename(pathname)\n",
        "    file = test_pitch_dir + '/' + filename + '.csv'\n",
        "    df = pd.read_csv(file)\n",
        "\n",
        "    gtv,gtf = df['0.01'],df['0']\n",
        "    # gtv,gtf = np.loadtxt(file)[:,0],np.loadtxt(file)[:,1]\n",
        "    return gtv,gtf\n",
        "\n",
        "\n",
        "\n",
        "def predict_pitch(ypred):\n",
        "#     y_pred = np.zeros((np.shape(ypred)[0],np.shape(ypred)[1]))\n",
        "    pred_y = []\n",
        "    for i in range(np.shape(ypred)[0]):\n",
        "        indx = np.argmax(ypred[i])\n",
        "#         y_pred[i,indx]=1\n",
        "        pred_y.append(pitch_range[indx])    \n",
        "    return pred_y"
      ],
      "execution_count": null,
      "outputs": []
    },
    {
      "cell_type": "code",
      "metadata": {
        "colab": {
          "base_uri": "https://localhost:8080/"
        },
        "id": "iCyDqU-yQFYh",
        "outputId": "f14ffa97-98b7-442f-bcc5-c05a6c1b89e5"
      },
      "source": [
        "for i in range(len(test_audio_files)):  \n",
        "    print(test_audio_files[i])\n",
        "    y,sr = librosa.load(test_audio_files[i],sr=10000)\n",
        "    # S = calc_spec(y,sr)\n",
        "    # print(S.shape)\n",
        "    s1=get_activation(y,sr)\n",
        "    print(s1.shape)\n",
        "    \n",
        "    gtv,y_true = get_testpitch(test_audio_files[i])\n",
        "    s1 = s1[:,:len(y_true)]\n",
        "    # print(s1.shape)\n",
        "    Nf,Nt = np.shape(s1)\n",
        "    ypred = model.predict(s1)\n",
        "    y_pred = librosa.midi_to_hz(predict_pitch(ypred))\n",
        "   \n",
        "    v = [1 if i>0 else 0 for i in y_true]\n",
        "    rpa = RPA(v,y_true,y_pred,Nt)\n",
        "#     print(y_true,y_pred)\n",
        "    print('RPA : ',rpa)"
      ],
      "execution_count": null,
      "outputs": [
        {
          "output_type": "stream",
          "text": [
            "/content/gdrive/My Drive/ME/test/Wavfile/train02.wav\n",
            "(3252, 1024)\n",
            "RPA :  43.77622377622378\n",
            "/content/gdrive/My Drive/ME/test/Wavfile/train07.wav\n",
            "(2576, 1024)\n",
            "RPA :  51.780415430267055\n",
            "/content/gdrive/My Drive/ME/test/Wavfile/train05.wav\n",
            "(3485, 1024)\n",
            "RPA :  31.335830212234704\n",
            "/content/gdrive/My Drive/ME/test/Wavfile/train06.wav\n",
            "(2401, 1024)\n",
            "RPA :  15.028901734104046\n",
            "/content/gdrive/My Drive/ME/test/Wavfile/train03.wav\n",
            "(2733, 1024)\n",
            "RPA :  13.387978142076504\n",
            "/content/gdrive/My Drive/ME/test/Wavfile/train04.wav\n",
            "(3353, 1024)\n",
            "RPA :  20.930232558139537\n",
            "/content/gdrive/My Drive/ME/test/Wavfile/train09.wav\n",
            "(3201, 1024)\n",
            "RPA :  38.929440389294406\n",
            "/content/gdrive/My Drive/ME/test/Wavfile/train10.wav\n",
            "(3901, 1024)\n",
            "RPA :  50.0\n",
            "/content/gdrive/My Drive/ME/test/Wavfile/train08.wav\n",
            "(3143, 1024)\n",
            "RPA :  33.33333333333333\n",
            "/content/gdrive/My Drive/ME/test/Wavfile/train01.wav\n",
            "(2450, 1024)\n",
            "RPA :  34.04522613065327\n"
          ],
          "name": "stdout"
        }
      ]
    },
    {
      "cell_type": "code",
      "metadata": {
        "id": "hyNY-6GSQq1t"
      },
      "source": [
        "p=[]\n",
        "for i in range (50):"
      ],
      "execution_count": null,
      "outputs": []
    }
  ]
}