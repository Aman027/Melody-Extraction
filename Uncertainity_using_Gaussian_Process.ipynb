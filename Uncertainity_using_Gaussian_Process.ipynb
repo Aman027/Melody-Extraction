{
  "nbformat": 4,
  "nbformat_minor": 0,
  "metadata": {
    "accelerator": "GPU",
    "colab": {
      "name": "Uncertainity using Gaussian Process.ipynb",
      "provenance": [],
      "collapsed_sections": []
    },
    "kernelspec": {
      "display_name": "Python 3",
      "name": "python3"
    },
    "language_info": {
      "name": "python"
    }
  },
  "cells": [
    {
      "cell_type": "code",
      "metadata": {
        "id": "OnDoD0LvtI5Q"
      },
      "source": [
        "import numpy as np\n",
        "import librosa\n",
        "import librosa.display\n",
        "from glob import glob\n",
        "import os,sys\n",
        "from scipy import signal\n",
        "import matplotlib.pyplot as plt\n",
        "from scipy.signal import correlate\n",
        "from sklearn.preprocessing import LabelEncoder\n",
        "from sklearn.preprocessing import OneHotEncoder\n",
        "import csv\n",
        "from keras.models import Sequential\n",
        "import tensorflow as tf\n",
        "from keras.layers.core import Dense, Activation, Dropout, Flatten\n",
        "from keras.layers.convolutional import Convolution2D, MaxPooling2D\n",
        "from keras.optimizers import SGD, RMSprop\n",
        "from keras.utils import np_utils\n",
        "from sklearn.tree import DecisionTreeClassifier # Import Decision Tree Classifier\n",
        "from sklearn import metrics\n",
        "from sklearn.utils import shuffle\n",
        "from sklearn.model_selection import train_test_split\n",
        "import matplotlib.pyplot as plt\n",
        "import numpy as np\n",
        "# from sklearn.metrics import accuracy_scoretumne #dekha hai koi\n",
        "import pandas as pd\n",
        "from pydrive.auth import GoogleAuth\n",
        "from tensorflow import keras\n",
        "from pydrive.drive import GoogleDrive\n",
        "from google.colab import auth\n",
        "from oauth2client.client import GoogleCredentials\n",
        "from google.colab import drive\n"
      ],
      "execution_count": 3,
      "outputs": []
    },
    {
      "cell_type": "code",
      "metadata": {
        "colab": {
          "base_uri": "https://localhost:8080/"
        },
        "id": "h2fWFTAMglwz",
        "outputId": "602f8025-332b-484b-c859-ee04902646fa"
      },
      "source": [
        "drive.mount('/content/gdrive')"
      ],
      "execution_count": 2,
      "outputs": [
        {
          "output_type": "stream",
          "text": [
            "Mounted at /content/gdrive\n"
          ],
          "name": "stdout"
        }
      ]
    },
    {
      "cell_type": "code",
      "metadata": {
        "colab": {
          "base_uri": "https://localhost:8080/"
        },
        "id": "nZjD-JVpiFdf",
        "outputId": "8d3891aa-d561-4f9f-9df0-63fba4909767"
      },
      "source": [
        "!ls '/content/gdrive/My Drive/ME'"
      ],
      "execution_count": 4,
      "outputs": [
        {
          "output_type": "stream",
          "text": [
            "my_model_1.h5  my_model_2.h5  my_model.h5  PitchLabel_csv  test  Wavfile\n"
          ],
          "name": "stdout"
        }
      ]
    },
    {
      "cell_type": "code",
      "metadata": {
        "id": "zYxPAtuKtNMS"
      },
      "source": [
        "def load_audio(file):\n",
        "    x,sr = librosa.load(file,sr=10000,mono=True)  #merge the audio into a single channel and downsampled to 10KHz\n",
        "    S = calc_spec(x,sr)\n",
        "    # print(\"S.SIZE \",np.shape(S))\n",
        "    gtv,gtf = get_pitch(file)\n",
        "    gtf = np.append(gtf,np.zeros(np.shape(S)[1]-len(gtf)))\n",
        "    # print(\"gtf \",np.shape(gtf))\n",
        "    return gtf\n",
        "\n",
        "def calc_spec(x,sr):\n",
        "    D = np.abs(librosa.stft(x, n_fft = Nfft, hop_length = hop_size, win_length = win_size, window='hann', dtype = np.complex256))\n",
        "    D = librosa.power_to_db(D,ref=np.max)\n",
        "    return D\n",
        "\n",
        "\n",
        "def get_pitch(file):\n",
        "    gtf = []\n",
        "    gtv = []\n",
        "    pathname = os.path.splitext(file)[0]\n",
        "    filename = os.path.basename(pathname)\n",
        "    # ff = pitch_dir + '/' + filename + '.csv'\n",
        "    ff = pitch_dir + '/' + filename + '.csv'\n",
        "\n",
        "    with open(ff,'r') as fin:\n",
        "        reader = csv.reader(fin)\n",
        "        for row in reader:\n",
        "            gtv.append(float(row[0]))\n",
        "            gtf.append(float(row[1]))\n",
        "    return gtv,gtf    \n",
        "    \n",
        "    \n",
        "def closest(arr, K):  # arr is a vector\n",
        "    idx = (np.abs(arr - K)).argmin() \n",
        "    return idx,arr[idx]\n",
        "\n",
        "def onehotlabel(pitch_range):\n",
        "    values = np.asarray(pitch_range)\n",
        "    # integer encode\n",
        "    label_encoder = LabelEncoder()\n",
        "    integer_encoded = label_encoder.fit_transform(values)\n",
        "#     print(integer_encoded)\n",
        "\n",
        "    # binary encode\n",
        "    onehot_encoder = OneHotEncoder(sparse=False)\n",
        "    integer_encoded = integer_encoded.reshape(len(integer_encoded), 1)\n",
        "    onehot_encoded = onehot_encoder.fit_transform(integer_encoded)\n",
        "    return onehot_encoded\n",
        "\n",
        "def getonehot(y):    \n",
        "    yhot = np.zeros((len(y),len(pitch_range)))\n",
        "    for i in range(len(y)):\n",
        "        idx,val = closest(pitch_range,y[i]) \n",
        "#         print(idx,val,y[i])\n",
        "        yhot[i,:] = onehot_pitch_range[idx,:]\n",
        "    return yhot\n",
        "\n",
        "\n",
        "def RPA(v,pred_Melody,pitch_labels,Nt):\n",
        "    N=0\n",
        "    D=0\n",
        "    for i in range(Nt):\n",
        "        if v[i]==1:\n",
        "            if pred_Melody[i]!=0:\n",
        "                N+=v[i]*Thres(M(pred_Melody[i])-M(pitch_labels[i]))\n",
        "            D+=v[i]\n",
        "    Raw_pitch_acc=(N/D)*100\n",
        "    #print(\"RPA is {} %\".format(Raw_pitch_acc))\n",
        "    return Raw_pitch_acc\n",
        "\n",
        "def M(f):\n",
        "    f_ref=100\n",
        "    return 12*np.log2(f/f_ref)\n",
        "\n",
        "def Thres(a):\n",
        "    if -0.5<a and a<0.5:\n",
        "        t=1\n",
        "    else:\n",
        "        t=0\n",
        "    return t\n",
        "\n",
        "def Angular(a):\n",
        "    x=a-12*int(a/12+0.5)\n",
        "    return x"
      ],
      "execution_count": 5,
      "outputs": []
    },
    {
      "cell_type": "code",
      "metadata": {
        "id": "kX1aqAnItTD0"
      },
      "source": [
        "model_srate = 16000\n",
        "from numpy.lib.stride_tricks import as_strided\n",
        "def get_activation(audio, sr, model_capacity='full', center=True, step_size=10,verbose=1):\n",
        "    if len(audio.shape) == 2:\n",
        "        audio = audio.mean(1)  # make mono\n",
        "    audio = audio.astype(np.float32)\n",
        "    if sr != model_srate:\n",
        "        # resample audio if necessary\n",
        "        from resampy import resample\n",
        "        audio = resample(audio, sr, model_srate)\n",
        "\n",
        "    # pad so that frames are centered around their timestamps (i.e. first frame\n",
        "    # is zero centered).\n",
        "    if center:\n",
        "        audio = np.pad(audio, 512, mode='constant', constant_values=0)\n",
        "\n",
        "    # make 1024-sample frames of the audio with hop length of 10 milliseconds\n",
        "    hop_length = int(model_srate * step_size / 1000)\n",
        "    n_frames = 1 + int((len(audio) - 1024) / hop_length)\n",
        "    frames = as_strided(audio, shape=(1024, n_frames),\n",
        "                        strides=(audio.itemsize, hop_length * audio.itemsize))\n",
        "    frames = frames.transpose().copy()\n",
        "\n",
        "    # normalize each frame -- this is expected by the model\n",
        "    frames -= np.mean(frames, axis=1)[:, np.newaxis]\n",
        "    frames /= np.std(frames, axis=1)[:, np.newaxis]\n",
        "\n",
        "    # run prediction and convert the frequency bin weights to Hz\n",
        "    return frames"
      ],
      "execution_count": 6,
      "outputs": []
    },
    {
      "cell_type": "code",
      "metadata": {
        "colab": {
          "base_uri": "https://localhost:8080/"
        },
        "id": "9LLBIHDrpskP",
        "outputId": "58e391ad-98f5-4d07-e92e-ff58d682d46d"
      },
      "source": [
        "audio_dir = '/content/gdrive/My Drive/ME/Wavfile'\n",
        "audio_files = glob(audio_dir + '/*.wav')\n",
        "pitch_dir = '/content/gdrive/My Drive/ME/PitchLabel_csv'\n",
        "print(len(audio_files))"
      ],
      "execution_count": 7,
      "outputs": [
        {
          "output_type": "stream",
          "text": [
            "1000\n"
          ],
          "name": "stdout"
        }
      ]
    },
    {
      "cell_type": "code",
      "metadata": {
        "id": "YOPoFjjXLNmt",
        "colab": {
          "base_uri": "https://localhost:8080/"
        },
        "outputId": "04ad1cd7-bac6-4309-daca-5aead1725b30"
      },
      "source": [
        "X = []\n",
        "y = []\n",
        "\n",
        "\n",
        "Nfft = 1024\n",
        "win_size = 1024\n",
        "hop_size = 100\n",
        "\n",
        "note_res = 1\n",
        "pitch_range = np.arange(30, 98 + 1.0/note_res, 1.0/note_res)\n",
        "pitch_range = np.concatenate([np.zeros(1), pitch_range])\n",
        "print(len(pitch_range))\n",
        "onehot_pitch_range = onehotlabel(pitch_range)  #one hot encoded values of MIDI numbers from 40 to 95\n",
        "\n",
        "\n",
        "\n",
        "for i in range(50):#len(audio_files)):\n",
        "    # print(i)\n",
        "    gtf = load_audio(audio_files[i])\n",
        "    print(\"for gtf size \",np.shape(gtf))\n",
        "    gtf_midi = [librosa.hz_to_midi(x) if x!=float(0) else float(0) for x in gtf]\n",
        "    # X.append(S.T)\n",
        "    print(\"getonehot(gtf_midi)  \",np.shape(getonehot(gtf_midi)))\n",
        "    y.append(getonehot(gtf_midi))\n",
        "#     print(len(X))\n",
        "# X = np.vstack(X)\n",
        "y = np.vstack(y)\n",
        "print(np.shape(X),np.shape(y))\n",
        "\n",
        "\n",
        "p=[]\n",
        "for i in range (50):\n",
        "\n",
        "  # print(i)\n",
        "  b,c=librosa.load(audio_files[i])\n",
        "  f=get_activation(b,c)\n",
        "  # print(f.shape)\n",
        "  p.append(f)\n",
        "# z=np.zeros([1,1024])\n",
        "# np.shape(z)\n",
        "# p.append(z)\n",
        "p=np.vstack(p)\n",
        "np.shape(p)"
      ],
      "execution_count": 8,
      "outputs": [
        {
          "output_type": "stream",
          "text": [
            "70\n",
            "for gtf size  (615,)\n",
            "getonehot(gtf_midi)   (615, 70)\n",
            "for gtf size  (881,)\n",
            "getonehot(gtf_midi)   (881, 70)\n",
            "for gtf size  (989,)\n",
            "getonehot(gtf_midi)   (989, 70)\n",
            "for gtf size  (813,)\n",
            "getonehot(gtf_midi)   (813, 70)\n",
            "for gtf size  (708,)\n",
            "getonehot(gtf_midi)   (708, 70)\n",
            "for gtf size  (925,)\n",
            "getonehot(gtf_midi)   (925, 70)\n",
            "for gtf size  (946,)\n",
            "getonehot(gtf_midi)   (946, 70)\n",
            "for gtf size  (628,)\n",
            "getonehot(gtf_midi)   (628, 70)\n",
            "for gtf size  (647,)\n",
            "getonehot(gtf_midi)   (647, 70)\n",
            "for gtf size  (628,)\n",
            "getonehot(gtf_midi)   (628, 70)\n",
            "for gtf size  (637,)\n",
            "getonehot(gtf_midi)   (637, 70)\n",
            "for gtf size  (752,)\n",
            "getonehot(gtf_midi)   (752, 70)\n",
            "for gtf size  (1085,)\n",
            "getonehot(gtf_midi)   (1085, 70)\n",
            "for gtf size  (855,)\n",
            "getonehot(gtf_midi)   (855, 70)\n",
            "for gtf size  (1191,)\n",
            "getonehot(gtf_midi)   (1191, 70)\n",
            "for gtf size  (1137,)\n",
            "getonehot(gtf_midi)   (1137, 70)\n",
            "for gtf size  (1159,)\n",
            "getonehot(gtf_midi)   (1159, 70)\n",
            "for gtf size  (637,)\n",
            "getonehot(gtf_midi)   (637, 70)\n",
            "for gtf size  (781,)\n",
            "getonehot(gtf_midi)   (781, 70)\n",
            "for gtf size  (900,)\n",
            "getonehot(gtf_midi)   (900, 70)\n",
            "for gtf size  (897,)\n",
            "getonehot(gtf_midi)   (897, 70)\n",
            "for gtf size  (619,)\n",
            "getonehot(gtf_midi)   (619, 70)\n",
            "for gtf size  (1201,)\n",
            "getonehot(gtf_midi)   (1201, 70)\n",
            "for gtf size  (980,)\n",
            "getonehot(gtf_midi)   (980, 70)\n",
            "for gtf size  (644,)\n",
            "getonehot(gtf_midi)   (644, 70)\n",
            "for gtf size  (618,)\n",
            "getonehot(gtf_midi)   (618, 70)\n",
            "for gtf size  (810,)\n",
            "getonehot(gtf_midi)   (810, 70)\n",
            "for gtf size  (820,)\n",
            "getonehot(gtf_midi)   (820, 70)\n",
            "for gtf size  (634,)\n",
            "getonehot(gtf_midi)   (634, 70)\n",
            "for gtf size  (695,)\n",
            "getonehot(gtf_midi)   (695, 70)\n",
            "for gtf size  (728,)\n",
            "getonehot(gtf_midi)   (728, 70)\n",
            "for gtf size  (605,)\n",
            "getonehot(gtf_midi)   (605, 70)\n",
            "for gtf size  (721,)\n",
            "getonehot(gtf_midi)   (721, 70)\n",
            "for gtf size  (621,)\n",
            "getonehot(gtf_midi)   (621, 70)\n",
            "for gtf size  (609,)\n",
            "getonehot(gtf_midi)   (609, 70)\n",
            "for gtf size  (807,)\n",
            "getonehot(gtf_midi)   (807, 70)\n",
            "for gtf size  (665,)\n",
            "getonehot(gtf_midi)   (665, 70)\n",
            "for gtf size  (698,)\n",
            "getonehot(gtf_midi)   (698, 70)\n",
            "for gtf size  (845,)\n",
            "getonehot(gtf_midi)   (845, 70)\n",
            "for gtf size  (708,)\n",
            "getonehot(gtf_midi)   (708, 70)\n",
            "for gtf size  (1047,)\n",
            "getonehot(gtf_midi)   (1047, 70)\n",
            "for gtf size  (1127,)\n",
            "getonehot(gtf_midi)   (1127, 70)\n",
            "for gtf size  (743,)\n",
            "getonehot(gtf_midi)   (743, 70)\n",
            "for gtf size  (1069,)\n",
            "getonehot(gtf_midi)   (1069, 70)\n",
            "for gtf size  (820,)\n",
            "getonehot(gtf_midi)   (820, 70)\n",
            "for gtf size  (1133,)\n",
            "getonehot(gtf_midi)   (1133, 70)\n",
            "for gtf size  (637,)\n",
            "getonehot(gtf_midi)   (637, 70)\n",
            "for gtf size  (1114,)\n",
            "getonehot(gtf_midi)   (1114, 70)\n",
            "for gtf size  (1146,)\n",
            "getonehot(gtf_midi)   (1146, 70)\n",
            "for gtf size  (693,)\n",
            "getonehot(gtf_midi)   (693, 70)\n",
            "(0,) (41368, 70)\n"
          ],
          "name": "stdout"
        },
        {
          "output_type": "execute_result",
          "data": {
            "text/plain": [
              "(41368, 1024)"
            ]
          },
          "metadata": {
            "tags": []
          },
          "execution_count": 8
        }
      ]
    },
    {
      "cell_type": "code",
      "metadata": {
        "colab": {
          "base_uri": "https://localhost:8080/"
        },
        "id": "G6lMHp_Sisga",
        "outputId": "4d48c6d9-3538-4392-8bf8-81b8013825c8"
      },
      "source": [
        "from tensorflow.keras.layers import Input, Reshape, Conv2D, BatchNormalization\n",
        "from tensorflow.keras.layers import MaxPool2D, Dropout, Permute, Flatten, Dense\n",
        "from tensorflow.keras.models import Model\n",
        "layers = [1, 2, 3, 4, 5, 6]\n",
        "# capacity_multiplier = {'tiny': 4, 'small': 8, 'medium': 16, 'large': 24, 'full': 32}[model_capacity]\n",
        "filters = [n * 32 for n in [32, 4, 4, 4, 8, 16]]\n",
        "widths = [512, 64, 64, 64, 64, 64]\n",
        "strides = [(4, 1), (1, 1), (1, 1), (1, 1), (1, 1), (1, 1)]\n",
        "a = Input(shape=(1024,), name='input', dtype='float32')\n",
        "b = Reshape(target_shape=(1024, 1, 1), name='input-reshape')(a)\n",
        "for l, f, w, s in zip(layers, filters, widths, strides):\n",
        "  b = Conv2D(f, (w, 1), strides=s, padding='same',\n",
        "              activation='relu', name=\"conv%d\" % l)(b)\n",
        "  b = BatchNormalization(name=\"conv%d-BN\" % l)(b)\n",
        "  b = MaxPool2D(pool_size=(2, 1), strides=None, padding='valid',\n",
        "                name=\"conv%d-maxpool\" % l)(b)\n",
        "  b = Dropout(0.25, name=\"conv%d-dropout\" % l)(b)\n",
        "\n",
        "b = Permute((2, 1, 3), name=\"transpose\")(b)\n",
        "b = Flatten(name=\"flatten\")(b)\n",
        "b = Dropout(0.25, name=\"dropout\")(b)\n",
        "\n",
        "b = Dense(70, activation='softmax', name=\"classifier\")(b)\n",
        "\n",
        "model = Model(inputs=a, outputs=b)\n",
        "model.compile('adam', 'categorical_crossentropy','accuracy')\n",
        "model.summary()\n",
        "#model.fit()"
      ],
      "execution_count": 9,
      "outputs": [
        {
          "output_type": "stream",
          "text": [
            "Model: \"model\"\n",
            "_________________________________________________________________\n",
            "Layer (type)                 Output Shape              Param #   \n",
            "=================================================================\n",
            "input (InputLayer)           [(None, 1024)]            0         \n",
            "_________________________________________________________________\n",
            "input-reshape (Reshape)      (None, 1024, 1, 1)        0         \n",
            "_________________________________________________________________\n",
            "conv1 (Conv2D)               (None, 256, 1, 1024)      525312    \n",
            "_________________________________________________________________\n",
            "conv1-BN (BatchNormalization (None, 256, 1, 1024)      4096      \n",
            "_________________________________________________________________\n",
            "conv1-maxpool (MaxPooling2D) (None, 128, 1, 1024)      0         \n",
            "_________________________________________________________________\n",
            "conv1-dropout (Dropout)      (None, 128, 1, 1024)      0         \n",
            "_________________________________________________________________\n",
            "conv2 (Conv2D)               (None, 128, 1, 128)       8388736   \n",
            "_________________________________________________________________\n",
            "conv2-BN (BatchNormalization (None, 128, 1, 128)       512       \n",
            "_________________________________________________________________\n",
            "conv2-maxpool (MaxPooling2D) (None, 64, 1, 128)        0         \n",
            "_________________________________________________________________\n",
            "conv2-dropout (Dropout)      (None, 64, 1, 128)        0         \n",
            "_________________________________________________________________\n",
            "conv3 (Conv2D)               (None, 64, 1, 128)        1048704   \n",
            "_________________________________________________________________\n",
            "conv3-BN (BatchNormalization (None, 64, 1, 128)        512       \n",
            "_________________________________________________________________\n",
            "conv3-maxpool (MaxPooling2D) (None, 32, 1, 128)        0         \n",
            "_________________________________________________________________\n",
            "conv3-dropout (Dropout)      (None, 32, 1, 128)        0         \n",
            "_________________________________________________________________\n",
            "conv4 (Conv2D)               (None, 32, 1, 128)        1048704   \n",
            "_________________________________________________________________\n",
            "conv4-BN (BatchNormalization (None, 32, 1, 128)        512       \n",
            "_________________________________________________________________\n",
            "conv4-maxpool (MaxPooling2D) (None, 16, 1, 128)        0         \n",
            "_________________________________________________________________\n",
            "conv4-dropout (Dropout)      (None, 16, 1, 128)        0         \n",
            "_________________________________________________________________\n",
            "conv5 (Conv2D)               (None, 16, 1, 256)        2097408   \n",
            "_________________________________________________________________\n",
            "conv5-BN (BatchNormalization (None, 16, 1, 256)        1024      \n",
            "_________________________________________________________________\n",
            "conv5-maxpool (MaxPooling2D) (None, 8, 1, 256)         0         \n",
            "_________________________________________________________________\n",
            "conv5-dropout (Dropout)      (None, 8, 1, 256)         0         \n",
            "_________________________________________________________________\n",
            "conv6 (Conv2D)               (None, 8, 1, 512)         8389120   \n",
            "_________________________________________________________________\n",
            "conv6-BN (BatchNormalization (None, 8, 1, 512)         2048      \n",
            "_________________________________________________________________\n",
            "conv6-maxpool (MaxPooling2D) (None, 4, 1, 512)         0         \n",
            "_________________________________________________________________\n",
            "conv6-dropout (Dropout)      (None, 4, 1, 512)         0         \n",
            "_________________________________________________________________\n",
            "transpose (Permute)          (None, 1, 4, 512)         0         \n",
            "_________________________________________________________________\n",
            "flatten (Flatten)            (None, 2048)              0         \n",
            "_________________________________________________________________\n",
            "dropout (Dropout)            (None, 2048)              0         \n",
            "_________________________________________________________________\n",
            "classifier (Dense)           (None, 70)                143430    \n",
            "=================================================================\n",
            "Total params: 21,650,118\n",
            "Trainable params: 21,645,766\n",
            "Non-trainable params: 4,352\n",
            "_________________________________________________________________\n"
          ],
          "name": "stdout"
        }
      ]
    },
    {
      "cell_type": "code",
      "metadata": {
        "id": "IODMO6JFLOiV"
      },
      "source": [
        "# # from tensorflow.keras.layers import Input, Reshape, Conv2D, BatchNormalization\n",
        "# # from tensorflow.keras.layers import MaxPool2D, Dropout, Permute, Flatten, Dense\n",
        "# # from tensorflow.keras.models import Model\n",
        "# # layers = [1, 2, 3, 4, 5, 6]\n",
        "# # # capacity_multiplier = {'tiny': 4, 'small': 8, 'medium': 16, 'large': 24, 'full': 32}[model_capacity]\n",
        "# # filters = [n * 32 for n in [32, 4, 4, 4, 8, 16]]\n",
        "# # widths = [512, 64, 64, 64, 64, 64]\n",
        "# # strides = [(4, 1), (1, 1), (1, 1), (1, 1), (1, 1), (1, 1)]\n",
        "# # a = Input(shape=(1024,), name='input', dtype='float32')\n",
        "# # b = Reshape(target_shape=(1024, 1, 1), name='input-reshape')(a)\n",
        "# # for l, f, w, s in zip(layers, filters, widths, strides):\n",
        "# #   b = Conv2D(f, (w, 1), strides=s, padding='same',\n",
        "# #               activation='relu', name=\"conv%d\" % l)(b)\n",
        "# #   b = BatchNormalization(name=\"conv%d-BN\" % l)(b)\n",
        "# #   b = MaxPool2D(pool_size=(2, 1), strides=None, padding='valid',\n",
        "# #                 name=\"conv%d-maxpool\" % l)(b)\n",
        "# #   b = Dropout(0.25, name=\"conv%d-dropout\" % l)(b)\n",
        "\n",
        "# # b = Permute((2, 1, 3), name=\"transpose\")(b)\n",
        "# # b = Flatten(name=\"flatten\")(b)\n",
        "# # b = Dropout(0.25, name=\"dropout\")(b)\n",
        "\n",
        "# # b = Dense(70, activation='softmax', name=\"classifier\")(b)\n",
        "\n",
        "# # model = Model(inputs=a, outputs=b)\n",
        "# # model.compile('adam', 'categorical_crossentropy','accuracy')\n",
        "# # model.summary()\n",
        "# # #model.fit()\n",
        "\n",
        "# from tensorflow.keras.layers import Input, Reshape, Conv2D, BatchNormalization\n",
        "# from tensorflow.keras.layers import MaxPool2D, Dropout, Permute, Flatten, Dense\n",
        "# from tensorflow.keras.models import Model\n",
        "# layers = [1, 2, 3]\n",
        "# # capacity_multiplier = {'tiny': 4, 'small': 8, 'medium': 16, 'large': 24, 'full': 32}[model_capacity]\n",
        "# filters = [n * 32 for n in [32, 4, 2, 4, 8, 16]]\n",
        "# widths = [512, 64, 64, 64, 64, 64]\n",
        "# strides = [(4, 1), (1, 1), (1, 1), (1, 1), (1, 1), (1, 1)]\n",
        "# a = Input(shape=(1024,), name='input', dtype='float32')\n",
        "# b = Reshape(target_shape=(1024, 1, 1), name='input-reshape')(a)\n",
        "# for l, f, w, s in zip(layers, filters, widths, strides):\n",
        "#   conv = Convolution2DFlipout(f, (w, 1), strides=s, padding='same',\n",
        "#               activation='relu', name=\"conv%d\" % l)\n",
        "#   conv = add_kl_weight(conv, X_train.shape[0])\n",
        "#   b = conv(b)\n",
        "#   b = BatchNormalization(name=\"conv%d-BN\" % l)(b)\n",
        "#   # b = MaxPool2D(pool_size=(2, 1), strides=None, padding='valid',\n",
        "#   #               name=\"conv%d-maxpool\" % l)(b)\n",
        "#   # b = Dropout(0.25, name=\"conv%d-dropout\" % l)(b)\n",
        "#   # b = Activation('relu')(b)\n",
        "\n",
        "# b = Permute((2, 1, 3), name=\"transpose\")(b)\n",
        "# b = Flatten(name=\"flatten\")(b)\n",
        "# b = Dropout(0.25, name=\"dropout\")(b)\n",
        "\n",
        "# dense = DenseFlipout(70, activation='softmax', name=\"classifier\")\n",
        "# dense = add_kl_weight(dense, X_train.shape[0])\n",
        "# b = dense(b)\n",
        "\n",
        "# model = Model(inputs=a, outputs=b)\n",
        "# # model.compile('adam', 'categorical_crossentropy','accuracy')\n",
        "# lr =1e-3\n",
        "# model.compile(loss=neg_log_likelihood_with_logits, optimizer=Adam(lr), metrics=['acc'],\n",
        "#                    experimental_run_tf_function=False)\n",
        "\n",
        "# model.summary()\n",
        "# # model.fit()           47% accuracy"
      ],
      "execution_count": 10,
      "outputs": []
    },
    {
      "cell_type": "code",
      "metadata": {
        "colab": {
          "base_uri": "https://localhost:8080/"
        },
        "id": "CHzYwqppTAZf",
        "outputId": "77261604-b19d-4296-f3f4-1ce24ce0d87b"
      },
      "source": [
        "print(\"p size \",np.shape(p))\n",
        "X_train, X_test,y_train, y_test = train_test_split(p, y, test_size = 0.2, random_state = 4)\n",
        "print(\"X_TRAIN SHAPE \",np.shape(X_train))\n",
        "print(\"Y_train SHAPE \",np.shape(y_train))\n",
        "print(\"X_test SHAPE \",np.shape(X_test))\n",
        "print(\"Y_TEST SHAPE \",np.shape(y_test))\n"
      ],
      "execution_count": 11,
      "outputs": [
        {
          "output_type": "stream",
          "text": [
            "p size  (41368, 1024)\n",
            "X_TRAIN SHAPE  (33094, 1024)\n",
            "Y_train SHAPE  (33094, 70)\n",
            "X_test SHAPE  (8274, 1024)\n",
            "Y_TEST SHAPE  (8274, 70)\n"
          ],
          "name": "stdout"
        }
      ]
    },
    {
      "cell_type": "code",
      "metadata": {
        "colab": {
          "base_uri": "https://localhost:8080/"
        },
        "id": "p1_WsR2zBGLO",
        "outputId": "5bb36d02-cc81-4786-a6e3-05e6feba7b9c"
      },
      "source": [
        "y_train_scalar = np.array([np.where(r==1)[0][0] for r in y_train])\n",
        "y_test_scalar = np.array([np.where(r==1)[0][0] for r in y_test])\n",
        "\n",
        "np.shape(y_train_scalar),np.shape(y_test_scalar)"
      ],
      "execution_count": 12,
      "outputs": [
        {
          "output_type": "execute_result",
          "data": {
            "text/plain": [
              "((33094,), (8274,))"
            ]
          },
          "metadata": {
            "tags": []
          },
          "execution_count": 12
        }
      ]
    },
    {
      "cell_type": "code",
      "metadata": {
        "colab": {
          "base_uri": "https://localhost:8080/"
        },
        "id": "SjW-XpLmZxZI",
        "outputId": "0e049f97-5c69-40d1-8db0-cbd050763ed9"
      },
      "source": [
        "batch_size = 128\n",
        "n_epochs = 20\n",
        "hist = model.fit(X_train, y_train, batch_size = batch_size, epochs = n_epochs, verbose = 1, validation_data = (X_test, y_test))\n"
      ],
      "execution_count": 13,
      "outputs": [
        {
          "output_type": "stream",
          "text": [
            "Epoch 1/20\n",
            "259/259 [==============================] - 112s 305ms/step - loss: 2.4080 - accuracy: 0.5395 - val_loss: 1.4330 - val_accuracy: 0.5697\n",
            "Epoch 2/20\n",
            "259/259 [==============================] - 77s 299ms/step - loss: 0.9460 - accuracy: 0.7194 - val_loss: 0.8251 - val_accuracy: 0.7567\n",
            "Epoch 3/20\n",
            "259/259 [==============================] - 79s 305ms/step - loss: 0.7889 - accuracy: 0.7579 - val_loss: 0.7806 - val_accuracy: 0.7653\n",
            "Epoch 4/20\n",
            "259/259 [==============================] - 79s 305ms/step - loss: 0.7190 - accuracy: 0.7681 - val_loss: 3.5907 - val_accuracy: 0.6493\n",
            "Epoch 5/20\n",
            "259/259 [==============================] - 79s 305ms/step - loss: 0.7635 - accuracy: 0.7693 - val_loss: 0.6200 - val_accuracy: 0.7964\n",
            "Epoch 6/20\n",
            "259/259 [==============================] - 79s 303ms/step - loss: 0.5845 - accuracy: 0.8156 - val_loss: 0.5825 - val_accuracy: 0.8094\n",
            "Epoch 7/20\n",
            "259/259 [==============================] - 79s 303ms/step - loss: 0.6093 - accuracy: 0.8133 - val_loss: 0.5610 - val_accuracy: 0.8177\n",
            "Epoch 8/20\n",
            "259/259 [==============================] - 79s 303ms/step - loss: 0.5826 - accuracy: 0.8133 - val_loss: 0.5431 - val_accuracy: 0.8190\n",
            "Epoch 9/20\n",
            "259/259 [==============================] - 79s 303ms/step - loss: 0.4590 - accuracy: 0.8477 - val_loss: 0.5871 - val_accuracy: 0.8125\n",
            "Epoch 10/20\n",
            "259/259 [==============================] - 78s 303ms/step - loss: 0.4384 - accuracy: 0.8539 - val_loss: 0.5536 - val_accuracy: 0.8186\n",
            "Epoch 11/20\n",
            "259/259 [==============================] - 79s 303ms/step - loss: 0.4209 - accuracy: 0.8612 - val_loss: 0.5460 - val_accuracy: 0.8293\n",
            "Epoch 12/20\n",
            "259/259 [==============================] - 78s 303ms/step - loss: 0.4561 - accuracy: 0.8627 - val_loss: 0.6809 - val_accuracy: 0.8338\n",
            "Epoch 13/20\n",
            "259/259 [==============================] - 78s 302ms/step - loss: 0.3521 - accuracy: 0.8810 - val_loss: 0.5644 - val_accuracy: 0.8517\n",
            "Epoch 14/20\n",
            "259/259 [==============================] - 78s 302ms/step - loss: 0.3056 - accuracy: 0.8939 - val_loss: 0.4598 - val_accuracy: 0.8464\n",
            "Epoch 15/20\n",
            "259/259 [==============================] - 78s 302ms/step - loss: 0.3131 - accuracy: 0.8969 - val_loss: 0.4224 - val_accuracy: 0.8649\n",
            "Epoch 16/20\n",
            "259/259 [==============================] - 78s 302ms/step - loss: 0.2503 - accuracy: 0.9139 - val_loss: 0.4936 - val_accuracy: 0.8471\n",
            "Epoch 17/20\n",
            "259/259 [==============================] - 78s 302ms/step - loss: 0.3021 - accuracy: 0.9019 - val_loss: 0.8622 - val_accuracy: 0.7544\n",
            "Epoch 18/20\n",
            "259/259 [==============================] - 78s 302ms/step - loss: 0.3830 - accuracy: 0.8835 - val_loss: 0.5323 - val_accuracy: 0.8432\n",
            "Epoch 19/20\n",
            "259/259 [==============================] - 78s 301ms/step - loss: 0.3573 - accuracy: 0.8887 - val_loss: 0.4455 - val_accuracy: 0.8685\n",
            "Epoch 20/20\n",
            "259/259 [==============================] - 78s 301ms/step - loss: 0.2615 - accuracy: 0.9184 - val_loss: 0.5225 - val_accuracy: 0.8547\n"
          ],
          "name": "stdout"
        }
      ]
    },
    {
      "cell_type": "code",
      "metadata": {
        "id": "lWkwue-o2MkB",
        "colab": {
          "base_uri": "https://localhost:8080/"
        },
        "outputId": "43cd8091-495d-45ce-e8a4-452b3d75b432"
      },
      "source": [
        "score = model.evaluate(X_test, y_test, verbose=1)\n",
        "print(score)\n",
        "\n",
        "print(\"Test loss: {}\".format(score[0]))\n",
        "print(\"Test accuracy: {}\".format(score[1]))\n",
        "\n",
        "# print(\"Time: {}\".format(time.time()-start))"
      ],
      "execution_count": 14,
      "outputs": [
        {
          "output_type": "stream",
          "text": [
            "259/259 [==============================] - 8s 29ms/step - loss: 0.5225 - accuracy: 0.8547\n",
            "[0.5224563479423523, 0.8547256588935852]\n",
            "Test loss: 0.5224563479423523\n",
            "Test accuracy: 0.8547256588935852\n"
          ],
          "name": "stdout"
        }
      ]
    },
    {
      "cell_type": "code",
      "metadata": {
        "id": "zn_MkjOMsH2C",
        "colab": {
          "base_uri": "https://localhost:8080/",
          "height": 711
        },
        "outputId": "42280bd2-fcd6-432d-e8c5-a4fc4015f8bc"
      },
      "source": [
        "fig, ax = plt.subplots(1, 2, figsize=(10, 4), dpi=200)\n",
        "\n",
        "ax[0].plot(range(n_epochs), hist.history['loss'], label='Training Loss')\n",
        "ax[0].plot(range(n_epochs), hist.history['val_loss'], label='Validation Loss')\n",
        "ax[0].legend()\n",
        "ax[0].set_xlabel('Epochs')\n",
        "ax[0].set_ylabel('Training loss')\n",
        "ax[0].set_ylim([0, None])\n",
        "\n",
        "ax[1].plot(range(n_epochs), hist.history['accuracy'], label='Training Accuracy')\n",
        "ax[1].plot(range(n_epochs), hist.history['val_accuracy'], label=\"Validation Accuracy\")\n",
        "ax[1].legend()\n",
        "ax[1].set_ylim([None, 1])\n",
        "ax[1].set_xlabel('Epochs')\n",
        "ax[1].set_ylabel('Training accuracy')\n",
        "\n",
        "plt.show()"
      ],
      "execution_count": 15,
      "outputs": [
        {
          "output_type": "display_data",
          "data": {
            "image/png": "[encoded data removed]",
            "text/plain": [
              "<Figure size 2000x800 with 2 Axes>"
            ]
          },
          "metadata": {
            "tags": [],
            "needs_background": "light"
          }
        }
      ]
    },
    {
      "cell_type": "code",
      "metadata": {
        "id": "pkslyp5RV2cR"
      },
      "source": [
        "# model.save(\"/content/gdrive/My Drive/ME/my_model.h5\")\n",
        "# import os\n",
        "# checkpoint_path = \"/content/gdrive/My Drive/ME\"\n",
        "# checkpoint_dir = os.path.dirname(checkpoint_path)\n",
        "# import tensorflow\n",
        "# # Create a callback that saves the model's weights\n",
        "# cp_callback = tensorflow.keras.callbacks.ModelCheckpoint(filepath=checkpoint_path,\n",
        "#                                                  save_weights_only=True,\n",
        "#                                                  verbose=1)\n",
        "# # os.listdir(checkpoint_dir)"
      ],
      "execution_count": 16,
      "outputs": []
    },
    {
      "cell_type": "code",
      "metadata": {
        "id": "LH06irY6dsgo"
      },
      "source": [
        "import keras\n",
        "from keras.datasets import mnist\n",
        "from keras import backend as K\n",
        "import numpy as np\n",
        "from tensorflow.python.keras.backend import eager_learning_phase_scope\n",
        "# model = tf.keras.models.load_model(\"/content/gdrive/My Drive/ME/my_model.h5\")\n",
        "\n",
        "def get_gp_mnist_data(model, X):\n",
        "    \"\"\"\n",
        "        Computes the activations of the last layer of a CNN trained on MNIST for the training\n",
        "        and test data for the MNIST dataset\n",
        "    \"\"\"\n",
        "\n",
        "    # model = keras.models.load_model(model_file)\n",
        "    # partial_model = model(model.inputs, model.layers[1].output)\n",
        "\n",
        "    # return partial_model\n",
        "    # intermediate_layer_model = keras.Model(inputs=model.input,\n",
        "    #                                    outputs=model.layers[-2].output)\n",
        "    # intermediate_output = intermediate_layer_model(X)\n",
        "\n",
        "    # return intermediate_output\n",
        "    return _get_ith_layer_output(model, X, -2)\n",
        "\n",
        "# def get_ith_layer_output(model, X, i, mode='test'):\n",
        "#     ''' see https://keras.io/getting-started/faq/#keras-faq-frequently-asked-keras-questions'''\n",
        "#     get_ith_layer = keras.backend.function(\n",
        "#         [model.layers[0].input, keras.backend.learning_phase()], [model.layers[i].output])\n",
        "#     layer_output = get_ith_layer([X, 0 if mode=='test' else 1])[0]\n",
        "#     return layer_output\n",
        "\n",
        "def _get_ith_layer_output(model, X, i, mode='test', batch_size= 64):\n",
        "    ''' see https://keras.io/getting-started/faq/#keras-faq-frequently-asked-keras-questions'''\n",
        "#    get_ith_layer = keras.backend.function([model.layers[0].input, keras.backend.learning_phase()],[model.layers[i].output])\n",
        "#    layer_output = get_ith_layer([X, 0 if mode=='test' else 1])[0]\n",
        "#    return layer_output\n",
        "  \n",
        "    # get_ith_layer = keras.backend.function([model.layers[0].input, keras.backend.learning_phase()],[model.layers[i].output])\n",
        "    get_ith_layer = K.function([model.input], [model.layers[i].output])\n",
        "\n",
        "    layer_output = []\n",
        "    batch_start = 0\n",
        "    while batch_start < len(X):\n",
        "        outputs = get_ith_layer([X[batch_start:batch_start+batch_size]])[0]\n",
        "        layer_output.append(outputs)\n",
        "        batch_start += batch_size\n",
        "    layer_output = np.concatenate(layer_output)\n",
        "    return layer_output"
      ],
      "execution_count": 17,
      "outputs": []
    },
    {
      "cell_type": "code",
      "metadata": {
        "id": "XS_ek8b2dsjd"
      },
      "source": [
        "# x_train = get_gp_mnist_data(\"/content/gdrive/My Drive/ME/my_model.h5\", X_train)\n",
        "# x_test = get_gp_mnist_data(\"/content/gdrive/My Drive/ME/my_model.h5\", X_test)\n",
        "x_train = get_gp_mnist_data(model, X_train)\n",
        "x_test = get_gp_mnist_data(model, X_test)\n"
      ],
      "execution_count": 18,
      "outputs": []
    },
    {
      "cell_type": "code",
      "metadata": {
        "id": "20aWZbc8dslU",
        "colab": {
          "base_uri": "https://localhost:8080/"
        },
        "outputId": "362e8437-4029-495e-cd2a-49bd17b94eb6"
      },
      "source": [
        "print(np.shape(x_train),np.shape(x_test))\n",
        "print(np.shape(y_train_scalar),np.shape(y_test_scalar))\n",
        "print(np.shape(y_train),np.shape(y_test))"
      ],
      "execution_count": 19,
      "outputs": [
        {
          "output_type": "stream",
          "text": [
            "(33094, 2048) (8274, 2048)\n",
            "(33094,) (8274,)\n",
            "(33094, 70) (8274, 70)\n"
          ],
          "name": "stdout"
        }
      ]
    },
    {
      "cell_type": "code",
      "metadata": {
        "id": "bL5-5yyjdsns",
        "colab": {
          "base_uri": "https://localhost:8080/"
        },
        "outputId": "2842156a-a5b7-497c-9f34-d9a090af4b7c"
      },
      "source": [
        "!pip install gpflow\n",
        "import gpflow\n",
        "import tensorflow as tf\n",
        "\n",
        "from sklearn.metrics import classification_report\n",
        "\n",
        "from matplotlib import pyplot as plt\n"
      ],
      "execution_count": 20,
      "outputs": [
        {
          "output_type": "stream",
          "text": [
            "Collecting gpflow\n",
            "\u001b[?25l  Downloading https://files.pythonhosted.org/packages/55/25/f3d0b5a7bea6c371ddbce6f2fb17b668d2782379be9c70cc40d2f063b67c/gpflow-2.2.1-py3-none-any.whl (271kB)\n",
            "\u001b[K     |████████████████████████████████| 276kB 6.4MB/s \n",
            "\u001b[?25hRequirement already satisfied: numpy in /usr/local/lib/python3.7/dist-packages (from gpflow) (1.19.5)\n",
            "Requirement already satisfied: packaging in /usr/local/lib/python3.7/dist-packages (from gpflow) (20.9)\n",
            "Collecting deprecated\n",
            "  Downloading https://files.pythonhosted.org/packages/fb/73/994edfcba74443146c84b91921fcc269374354118d4f452fb0c54c1cbb12/Deprecated-1.2.12-py2.py3-none-any.whl\n",
            "Collecting dataclasses\n",
            "  Downloading https://files.pythonhosted.org/packages/26/2f/1095cdc2868052dd1e64520f7c0d5c8c550ad297e944e641dbf1ffbb9a5d/dataclasses-0.6-py3-none-any.whl\n",
            "Requirement already satisfied: setuptools>=41.0.0 in /usr/local/lib/python3.7/dist-packages (from gpflow) (56.1.0)\n",
            "Requirement already satisfied: scipy in /usr/local/lib/python3.7/dist-packages (from gpflow) (1.4.1)\n",
            "Requirement already satisfied: tensorflow-probability>0.10.0 in /usr/local/lib/python3.7/dist-packages (from gpflow) (0.12.1)\n",
            "Collecting multipledispatch>=0.6\n",
            "  Downloading https://files.pythonhosted.org/packages/89/79/429ecef45fd5e4504f7474d4c3c3c4668c267be3370e4c2fd33e61506833/multipledispatch-0.6.0-py3-none-any.whl\n",
            "Requirement already satisfied: typing-extensions in /usr/local/lib/python3.7/dist-packages (from gpflow) (3.7.4.3)\n",
            "Requirement already satisfied: tabulate in /usr/local/lib/python3.7/dist-packages (from gpflow) (0.8.9)\n",
            "Requirement already satisfied: tensorflow>=2.2.0 in /usr/local/lib/python3.7/dist-packages (from gpflow) (2.4.1)\n",
            "Requirement already satisfied: pyparsing>=2.0.2 in /usr/local/lib/python3.7/dist-packages (from packaging->gpflow) (2.4.7)\n",
            "Requirement already satisfied: wrapt<2,>=1.10 in /usr/local/lib/python3.7/dist-packages (from deprecated->gpflow) (1.12.1)\n",
            "Requirement already satisfied: cloudpickle>=1.3 in /usr/local/lib/python3.7/dist-packages (from tensorflow-probability>0.10.0->gpflow) (1.3.0)\n",
            "Requirement already satisfied: gast>=0.3.2 in /usr/local/lib/python3.7/dist-packages (from tensorflow-probability>0.10.0->gpflow) (0.3.3)\n",
            "Requirement already satisfied: six>=1.10.0 in /usr/local/lib/python3.7/dist-packages (from tensorflow-probability>0.10.0->gpflow) (1.15.0)\n",
            "Requirement already satisfied: decorator in /usr/local/lib/python3.7/dist-packages (from tensorflow-probability>0.10.0->gpflow) (4.4.2)\n",
            "Requirement already satisfied: dm-tree in /usr/local/lib/python3.7/dist-packages (from tensorflow-probability>0.10.0->gpflow) (0.1.6)\n",
            "Requirement already satisfied: opt-einsum~=3.3.0 in /usr/local/lib/python3.7/dist-packages (from tensorflow>=2.2.0->gpflow) (3.3.0)\n",
            "Requirement already satisfied: google-pasta~=0.2 in /usr/local/lib/python3.7/dist-packages (from tensorflow>=2.2.0->gpflow) (0.2.0)\n",
            "Requirement already satisfied: termcolor~=1.1.0 in /usr/local/lib/python3.7/dist-packages (from tensorflow>=2.2.0->gpflow) (1.1.0)\n",
            "Requirement already satisfied: keras-preprocessing~=1.1.2 in /usr/local/lib/python3.7/dist-packages (from tensorflow>=2.2.0->gpflow) (1.1.2)\n",
            "Requirement already satisfied: protobuf>=3.9.2 in /usr/local/lib/python3.7/dist-packages (from tensorflow>=2.2.0->gpflow) (3.12.4)\n",
            "Requirement already satisfied: absl-py~=0.10 in /usr/local/lib/python3.7/dist-packages (from tensorflow>=2.2.0->gpflow) (0.12.0)\n",
            "Requirement already satisfied: tensorflow-estimator<2.5.0,>=2.4.0 in /usr/local/lib/python3.7/dist-packages (from tensorflow>=2.2.0->gpflow) (2.4.0)\n",
            "Requirement already satisfied: grpcio~=1.32.0 in /usr/local/lib/python3.7/dist-packages (from tensorflow>=2.2.0->gpflow) (1.32.0)\n",
            "Requirement already satisfied: wheel~=0.35 in /usr/local/lib/python3.7/dist-packages (from tensorflow>=2.2.0->gpflow) (0.36.2)\n",
            "Requirement already satisfied: flatbuffers~=1.12.0 in /usr/local/lib/python3.7/dist-packages (from tensorflow>=2.2.0->gpflow) (1.12)\n",
            "Requirement already satisfied: h5py~=2.10.0 in /usr/local/lib/python3.7/dist-packages (from tensorflow>=2.2.0->gpflow) (2.10.0)\n",
            "Requirement already satisfied: astunparse~=1.6.3 in /usr/local/lib/python3.7/dist-packages (from tensorflow>=2.2.0->gpflow) (1.6.3)\n",
            "Requirement already satisfied: tensorboard~=2.4 in /usr/local/lib/python3.7/dist-packages (from tensorflow>=2.2.0->gpflow) (2.4.1)\n",
            "Requirement already satisfied: requests<3,>=2.21.0 in /usr/local/lib/python3.7/dist-packages (from tensorboard~=2.4->tensorflow>=2.2.0->gpflow) (2.23.0)\n",
            "Requirement already satisfied: markdown>=2.6.8 in /usr/local/lib/python3.7/dist-packages (from tensorboard~=2.4->tensorflow>=2.2.0->gpflow) (3.3.4)\n",
            "Requirement already satisfied: google-auth<2,>=1.6.3 in /usr/local/lib/python3.7/dist-packages (from tensorboard~=2.4->tensorflow>=2.2.0->gpflow) (1.30.0)\n",
            "Requirement already satisfied: google-auth-oauthlib<0.5,>=0.4.1 in /usr/local/lib/python3.7/dist-packages (from tensorboard~=2.4->tensorflow>=2.2.0->gpflow) (0.4.4)\n",
            "Requirement already satisfied: werkzeug>=0.11.15 in /usr/local/lib/python3.7/dist-packages (from tensorboard~=2.4->tensorflow>=2.2.0->gpflow) (2.0.0)\n",
            "Requirement already satisfied: tensorboard-plugin-wit>=1.6.0 in /usr/local/lib/python3.7/dist-packages (from tensorboard~=2.4->tensorflow>=2.2.0->gpflow) (1.8.0)\n",
            "Requirement already satisfied: chardet<4,>=3.0.2 in /usr/local/lib/python3.7/dist-packages (from requests<3,>=2.21.0->tensorboard~=2.4->tensorflow>=2.2.0->gpflow) (3.0.4)\n",
            "Requirement already satisfied: idna<3,>=2.5 in /usr/local/lib/python3.7/dist-packages (from requests<3,>=2.21.0->tensorboard~=2.4->tensorflow>=2.2.0->gpflow) (2.10)\n",
            "Requirement already satisfied: urllib3!=1.25.0,!=1.25.1,<1.26,>=1.21.1 in /usr/local/lib/python3.7/dist-packages (from requests<3,>=2.21.0->tensorboard~=2.4->tensorflow>=2.2.0->gpflow) (1.24.3)\n",
            "Requirement already satisfied: certifi>=2017.4.17 in /usr/local/lib/python3.7/dist-packages (from requests<3,>=2.21.0->tensorboard~=2.4->tensorflow>=2.2.0->gpflow) (2020.12.5)\n",
            "Requirement already satisfied: importlib-metadata; python_version < \"3.8\" in /usr/local/lib/python3.7/dist-packages (from markdown>=2.6.8->tensorboard~=2.4->tensorflow>=2.2.0->gpflow) (4.0.1)\n",
            "Requirement already satisfied: pyasn1-modules>=0.2.1 in /usr/local/lib/python3.7/dist-packages (from google-auth<2,>=1.6.3->tensorboard~=2.4->tensorflow>=2.2.0->gpflow) (0.2.8)\n",
            "Requirement already satisfied: cachetools<5.0,>=2.0.0 in /usr/local/lib/python3.7/dist-packages (from google-auth<2,>=1.6.3->tensorboard~=2.4->tensorflow>=2.2.0->gpflow) (4.2.2)\n",
            "Requirement already satisfied: rsa<5,>=3.1.4; python_version >= \"3.6\" in /usr/local/lib/python3.7/dist-packages (from google-auth<2,>=1.6.3->tensorboard~=2.4->tensorflow>=2.2.0->gpflow) (4.7.2)\n",
            "Requirement already satisfied: requests-oauthlib>=0.7.0 in /usr/local/lib/python3.7/dist-packages (from google-auth-oauthlib<0.5,>=0.4.1->tensorboard~=2.4->tensorflow>=2.2.0->gpflow) (1.3.0)\n",
            "Requirement already satisfied: zipp>=0.5 in /usr/local/lib/python3.7/dist-packages (from importlib-metadata; python_version < \"3.8\"->markdown>=2.6.8->tensorboard~=2.4->tensorflow>=2.2.0->gpflow) (3.4.1)\n",
            "Requirement already satisfied: pyasn1<0.5.0,>=0.4.6 in /usr/local/lib/python3.7/dist-packages (from pyasn1-modules>=0.2.1->google-auth<2,>=1.6.3->tensorboard~=2.4->tensorflow>=2.2.0->gpflow) (0.4.8)\n",
            "Requirement already satisfied: oauthlib>=3.0.0 in /usr/local/lib/python3.7/dist-packages (from requests-oauthlib>=0.7.0->google-auth-oauthlib<0.5,>=0.4.1->tensorboard~=2.4->tensorflow>=2.2.0->gpflow) (3.1.0)\n",
            "Installing collected packages: deprecated, dataclasses, multipledispatch, gpflow\n",
            "Successfully installed dataclasses-0.6 deprecated-1.2.12 gpflow-2.2.1 multipledispatch-0.6.0\n"
          ],
          "name": "stdout"
        }
      ]
    },
    {
      "cell_type": "code",
      "metadata": {
        "id": "jJ1N2C5Vdsq0"
      },
      "source": [
        "num_classes = 70\n",
        "num_features = 2048\n",
        "\n",
        "import numpy as np\n",
        "import scipy.io\n",
        "\n",
        "from keras.utils import to_categorical\n",
        "from keras import backend as K\n",
        "\n",
        "from matplotlib import pyplot as plt\n",
        "plt.style.use('ggplot')\n",
        "\n",
        "%matplotlib inline\n",
        "import numpy as np\n",
        "import tensorflow as tf\n",
        "\n",
        "import warnings\n",
        "\n",
        "warnings.filterwarnings(\"ignore\")  # ignore DeprecationWarnings from tensorflow\n",
        "\n",
        "import matplotlib.pyplot as plt\n",
        "\n",
        "%matplotlib inline\n",
        "\n",
        "import gpflow\n",
        "\n",
        "from gpflow.utilities import print_summary, set_trainable\n",
        "from gpflow.ci_utils import ci_niter\n",
        "\n",
        "\n",
        "# reproducibility:\n",
        "np.random.seed(0)\n",
        "tf.random.set_seed(123)\n"
      ],
      "execution_count": 21,
      "outputs": []
    },
    {
      "cell_type": "code",
      "metadata": {
        "id": "lVNJ9neWhS24",
        "colab": {
          "base_uri": "https://localhost:8080/"
        },
        "outputId": "804a502e-a9de-4384-9fb8-affc01fd74e2"
      },
      "source": [
        "  # %%timeit\n",
        "x_train_1 = x_train.astype('float64').reshape(-1,num_features)[:500]\n",
        "print(np.shape(x_train_1))\n",
        "y_train_1 = y_train_scalar.astype('float64').reshape(-1,1)[:500]\n",
        "print(np.shape(y_train_1))"
      ],
      "execution_count": 22,
      "outputs": [
        {
          "output_type": "stream",
          "text": [
            "(500, 2048)\n",
            "(500, 1)\n"
          ],
          "name": "stdout"
        }
      ]
    },
    {
      "cell_type": "code",
      "metadata": {
        "id": "V1wnRSOJdsss",
        "colab": {
          "base_uri": "https://localhost:8080/",
          "height": 200
        },
        "outputId": "cdf8c077-9eb8-49f3-960c-11632bdb37c9"
      },
      "source": [
        "\n",
        "# kernel = gpflow.kernels.Matern32(num_features) + gpflow.kernels.White(num_features, 0.01)\n",
        "kernel = gpflow.kernels.Matern52(num_features) + gpflow.kernels.White(variance=0.1)\n",
        "\n",
        "\n",
        "likelihood = gpflow.likelihoods.MultiClass(num_classes)\n",
        "Z=x_train_1[::5].copy()\n",
        "print(np.shape(Z))\n",
        "num_latent=num_classes\n",
        "whiten=True\n",
        "q_diag=True\n",
        "data = (x_train_1, y_train_1)\n",
        "m = gpflow.models.SVGP(kernel=kernel, \n",
        "                       likelihood=likelihood,\n",
        "                       inducing_variable=Z, \n",
        "                       num_latent_gps=num_latent,\n",
        "                       whiten=whiten, \n",
        "                       q_diag=q_diag)\n",
        "\n",
        "set_trainable(m.kernel.kernels[1].variance, False)\n",
        "set_trainable(m.inducing_variable, False)\n",
        "print_summary(m, fmt=\"notebook\")\n",
        "\n"
      ],
      "execution_count": 23,
      "outputs": [
        {
          "output_type": "stream",
          "text": [
            "(100, 2048)\n"
          ],
          "name": "stdout"
        },
        {
          "output_type": "display_data",
          "data": {
            "text/html": [
              "<table>\n",
              "<thead>\n",
              "<tr><th>name                               </th><th>class    </th><th>transform  </th><th>prior  </th><th>trainable  </th><th>shape      </th><th>dtype  </th><th>value                                    </th></tr>\n",
              "</thead>\n",
              "<tbody>\n",
              "<tr><td>SVGP.kernel.kernels[0].variance    </td><td>Parameter</td><td>Softplus   </td><td>       </td><td>True       </td><td>()         </td><td>float64</td><td>2048.0                                   </td></tr>\n",
              "<tr><td>SVGP.kernel.kernels[0].lengthscales</td><td>Parameter</td><td>Softplus   </td><td>       </td><td>True       </td><td>()         </td><td>float64</td><td>1.0                                      </td></tr>\n",
              "<tr><td>SVGP.kernel.kernels[1].variance    </td><td>Parameter</td><td>Softplus   </td><td>       </td><td>False      </td><td>()         </td><td>float64</td><td>0.10000000000000002                      </td></tr>\n",
              "<tr><td>SVGP.likelihood.invlink.epsilon    </td><td>Parameter</td><td>Sigmoid    </td><td>Beta   </td><td>False      </td><td>()         </td><td>float64</td><td>0.0010000000000000005                    </td></tr>\n",
              "<tr><td>SVGP.inducing_variable.Z           </td><td>Parameter</td><td>Identity   </td><td>       </td><td>False      </td><td>(100, 2048)</td><td>float64</td><td>[[-0.09897513, 0.85579443, -0.23080674...</td></tr>\n",
              "<tr><td>SVGP.q_mu                          </td><td>Parameter</td><td>Identity   </td><td>       </td><td>True       </td><td>(100, 70)  </td><td>float64</td><td>[[0., 0., 0....                          </td></tr>\n",
              "<tr><td>SVGP.q_sqrt                        </td><td>Parameter</td><td>Softplus   </td><td>       </td><td>True       </td><td>(100, 70)  </td><td>float64</td><td>[[1., 1., 1....                          </td></tr>\n",
              "</tbody>\n",
              "</table>"
            ],
            "text/plain": [
              "<IPython.core.display.HTML object>"
            ]
          },
          "metadata": {
            "tags": []
          }
        }
      ]
    },
    {
      "cell_type": "code",
      "metadata": {
        "id": "oAfw3ObieVVv",
        "colab": {
          "base_uri": "https://localhost:8080/",
          "height": 182
        },
        "outputId": "b7202872-03bd-477f-c3af-78c403ec428d"
      },
      "source": [
        "opt = gpflow.optimizers.Scipy()\n",
        "\n",
        "opt_logs = opt.minimize(\n",
        "    m.training_loss_closure(data), m.trainable_variables, options=dict(maxiter=ci_niter(300))\n",
        ")\n",
        "print_summary(m, fmt=\"notebook\")\n"
      ],
      "execution_count": 24,
      "outputs": [
        {
          "output_type": "display_data",
          "data": {
            "text/html": [
              "<table>\n",
              "<thead>\n",
              "<tr><th>name                               </th><th>class    </th><th>transform  </th><th>prior  </th><th>trainable  </th><th>shape      </th><th>dtype  </th><th>value                                                </th></tr>\n",
              "</thead>\n",
              "<tbody>\n",
              "<tr><td>SVGP.kernel.kernels[0].variance    </td><td>Parameter</td><td>Softplus   </td><td>       </td><td>True       </td><td>()         </td><td>float64</td><td>2048.019437127956                                    </td></tr>\n",
              "<tr><td>SVGP.kernel.kernels[0].lengthscales</td><td>Parameter</td><td>Softplus   </td><td>       </td><td>True       </td><td>()         </td><td>float64</td><td>86.20813402897203                                    </td></tr>\n",
              "<tr><td>SVGP.kernel.kernels[1].variance    </td><td>Parameter</td><td>Softplus   </td><td>       </td><td>False      </td><td>()         </td><td>float64</td><td>0.10000000000000002                                  </td></tr>\n",
              "<tr><td>SVGP.likelihood.invlink.epsilon    </td><td>Parameter</td><td>Sigmoid    </td><td>Beta   </td><td>False      </td><td>()         </td><td>float64</td><td>0.0010000000000000005                                </td></tr>\n",
              "<tr><td>SVGP.inducing_variable.Z           </td><td>Parameter</td><td>Identity   </td><td>       </td><td>False      </td><td>(100, 2048)</td><td>float64</td><td>[[-0.09897513, 0.85579443, -0.23080674...            </td></tr>\n",
              "<tr><td>SVGP.q_mu                          </td><td>Parameter</td><td>Identity   </td><td>       </td><td>True       </td><td>(100, 70)  </td><td>float64</td><td>[[1.69558061e+00, -4.45471074e-01, -4.45471074e-01...</td></tr>\n",
              "<tr><td>SVGP.q_sqrt                        </td><td>Parameter</td><td>Softplus   </td><td>       </td><td>True       </td><td>(100, 70)  </td><td>float64</td><td>[[0.01162098, 0.48264053, 0.48264053...              </td></tr>\n",
              "</tbody>\n",
              "</table>"
            ],
            "text/plain": [
              "<IPython.core.display.HTML object>"
            ]
          },
          "metadata": {
            "tags": []
          }
        }
      ]
    },
    {
      "cell_type": "code",
      "metadata": {
        "id": "ElAC35lGeVX3",
        "colab": {
          "base_uri": "https://localhost:8080/"
        },
        "outputId": "70f74ea1-5f6a-4d5a-fdef-63ecdd7cb879"
      },
      "source": [
        "x_test_1 = x_test.astype('float64').reshape(-1,num_features)\n",
        "print(x_test_1.shape)\n",
        "p, var = m.predict_y(x_test_1)\n",
        "print(p)\n",
        "print(\"p shape ===================================================== \",np.shape(p))\n",
        "\n",
        "print(var)"
      ],
      "execution_count": 32,
      "outputs": [
        {
          "output_type": "stream",
          "text": [
            "(8274, 2048)\n",
            "tf.Tensor(\n",
            "[[2.20747935e-01 6.31480395e-05 6.31480395e-05 ... 6.31480395e-05\n",
            "  6.31480395e-05 6.31480395e-05]\n",
            " [9.98903516e-01 1.49586949e-05 1.49586949e-05 ... 1.49586949e-05\n",
            "  1.49586949e-05 1.49586949e-05]\n",
            " [9.92527543e-01 1.62806892e-05 1.62806892e-05 ... 1.62806892e-05\n",
            "  1.62806892e-05 1.62806892e-05]\n",
            " ...\n",
            " [1.76978920e-01 3.85230091e-05 3.85230091e-05 ... 3.85230091e-05\n",
            "  3.85230091e-05 3.85230091e-05]\n",
            " [2.27345212e-01 8.27224816e-05 8.27224816e-05 ... 8.27224816e-05\n",
            "  8.27224816e-05 8.27224816e-05]\n",
            " [9.90847238e-01 1.88751930e-05 1.88751930e-05 ... 1.88751930e-05\n",
            "  1.88751930e-05 1.88751930e-05]], shape=(8274, 70), dtype=float64)\n",
            "p shape =====================================================  (8274, 70)\n",
            "tf.Tensor(\n",
            "[[1.72018284e-01 6.31440518e-05 6.31440518e-05 ... 6.31440518e-05\n",
            "  6.31440518e-05 6.31440518e-05]\n",
            " [1.09528210e-03 1.49584711e-05 1.49584711e-05 ... 1.49584711e-05\n",
            "  1.49584711e-05 1.49584711e-05]\n",
            " [7.41661901e-03 1.62804241e-05 1.62804241e-05 ... 1.62804241e-05\n",
            "  1.62804241e-05 1.62804241e-05]\n",
            " ...\n",
            " [1.45657382e-01 3.85215251e-05 3.85215251e-05 ... 3.85215251e-05\n",
            "  3.85215251e-05 3.85215251e-05]\n",
            " [1.75659366e-01 8.27156386e-05 8.27156386e-05 ... 8.27156386e-05\n",
            "  8.27156386e-05 8.27156386e-05]\n",
            " [9.06898924e-03 1.88748367e-05 1.88748367e-05 ... 1.88748367e-05\n",
            "  1.88748367e-05 1.88748367e-05]], shape=(8274, 70), dtype=float64)\n"
          ],
          "name": "stdout"
        }
      ]
    },
    {
      "cell_type": "code",
      "metadata": {
        "id": "azDpQZe1eVaj",
        "colab": {
          "base_uri": "https://localhost:8080/"
        },
        "outputId": "f7b5c4f2-ef73-40bd-d58b-a252e54fba4c"
      },
      "source": [
        "predictions = np.argmax(p, axis=-1)\n",
        "print(\"predictions \",predictions)\n",
        "\n",
        "print(\"y_test shape \",np.shape(y_test_scalar))\n",
        "print(\"predictions shape \",np.shape(predictions))\n",
        "accuracy = len(np.argwhere(predictions == y_test_scalar))/len(predictions)\n",
        "print(accuracy)\n",
        "print(np.shape(predictions))\n",
        "print(np.shape(y_test))\n",
        "print(classification_report(y_test_scalar, predictions))"
      ],
      "execution_count": 34,
      "outputs": [
        {
          "output_type": "stream",
          "text": [
            "predictions  [26  0  0 ... 32 23  0]\n",
            "y_test shape  (8274,)\n",
            "predictions shape  (8274,)\n",
            "0.827894609620498\n",
            "(8274,)\n",
            "(8274, 70)\n",
            "              precision    recall  f1-score   support\n",
            "\n",
            "           0       0.84      0.93      0.89      2479\n",
            "          12       0.00      0.00      0.00         2\n",
            "          15       0.00      0.00      0.00         1\n",
            "          17       0.00      0.00      0.00         1\n",
            "          19       0.00      0.00      0.00         9\n",
            "          20       0.00      0.00      0.00        19\n",
            "          21       0.00      0.00      0.00        64\n",
            "          22       0.00      0.00      0.00        58\n",
            "          23       0.34      0.90      0.50        94\n",
            "          24       0.95      0.50      0.65       115\n",
            "          25       0.81      0.69      0.75       241\n",
            "          26       0.85      0.79      0.82       309\n",
            "          27       0.77      0.80      0.79       292\n",
            "          28       0.84      0.81      0.82       304\n",
            "          29       0.86      0.74      0.80       376\n",
            "          30       0.86      0.94      0.90       804\n",
            "          31       0.77      0.52      0.62       170\n",
            "          32       0.76      0.63      0.69       487\n",
            "          33       0.89      0.85      0.87       560\n",
            "          34       0.84      0.86      0.85       449\n",
            "          35       0.82      0.89      0.85       371\n",
            "          36       0.89      0.83      0.86       249\n",
            "          37       0.92      0.89      0.90       386\n",
            "          38       0.84      0.83      0.83       185\n",
            "          39       0.87      0.90      0.89        94\n",
            "          40       0.91      0.95      0.93        74\n",
            "          41       0.00      0.00      0.00         9\n",
            "          42       0.00      0.00      0.00         6\n",
            "          43       0.00      0.00      0.00        18\n",
            "          44       0.47      0.84      0.60        25\n",
            "          45       0.00      0.00      0.00        20\n",
            "          46       0.00      0.00      0.00         2\n",
            "          47       0.00      0.00      0.00         1\n",
            "\n",
            "    accuracy                           0.83      8274\n",
            "   macro avg       0.49      0.49      0.48      8274\n",
            "weighted avg       0.82      0.83      0.82      8274\n",
            "\n"
          ],
          "name": "stdout"
        }
      ]
    },
    {
      "cell_type": "code",
      "metadata": {
        "id": "SqOYRGnWGGgU",
        "colab": {
          "base_uri": "https://localhost:8080/"
        },
        "outputId": "ef89c7c5-af81-48a8-abcb-713bad61b4b3"
      },
      "source": [
        "incorrect_indices = np.argwhere(predictions != y_test_scalar)\n",
        "correct_indices = np.argwhere(predictions == y_test_scalar)\n",
        "print(len(incorrect_indices))"
      ],
      "execution_count": 35,
      "outputs": [
        {
          "output_type": "stream",
          "text": [
            "1424\n"
          ],
          "name": "stdout"
        }
      ]
    },
    {
      "cell_type": "code",
      "metadata": {
        "id": "MZcsQw2yedXr",
        "colab": {
          "base_uri": "https://localhost:8080/",
          "height": 996
        },
        "outputId": "4e8148ca-0790-44b6-f269-cae0fd3a1f17"
      },
      "source": [
        "%matplotlib inline\n",
        "index = incorrect_indices[5]\n",
        "# print(var, index)\n",
        "print(\"p62 \" ,p[62].numpy().squeeze())\n",
        "print(\"var62 \" ,var[62].numpy().squeeze())\n",
        "plt.bar(np.arange(70), p[62].numpy().squeeze(), yerr=var[62].numpy().squeeze())\n",
        "print(\"Correct class: {}\".format(y_test[index]))\n",
        "plt.figure()\n",
        "# plt.imshow(mnist_test[index].reshape(28,28),cmap =plt.cm.gray_r, interpolation = \"nearest\")\n"
      ],
      "execution_count": 38,
      "outputs": [
        {
          "output_type": "stream",
          "text": [
            "p62  [5.91871058e-04 9.62037454e-05 9.62037454e-05 9.62037454e-05\n",
            " 9.62037454e-05 9.62037454e-05 9.62037454e-05 9.62037454e-05\n",
            " 9.62037454e-05 9.62037454e-05 9.62037454e-05 9.62037454e-05\n",
            " 9.62037454e-05 9.62037454e-05 9.62037454e-05 9.62037454e-05\n",
            " 9.62037454e-05 9.62037454e-05 9.62037454e-05 9.62037454e-05\n",
            " 9.62818976e-05 9.85081504e-05 9.83014686e-05 5.52204346e-04\n",
            " 2.18257548e-03 3.26002072e-04 4.89991441e-05 9.22411816e-03\n",
            " 3.57497877e-03 2.95742023e-02 8.05460952e-01 1.20066860e-01\n",
            " 7.65314229e-03 2.67685919e-05 4.28882828e-05 1.53022118e-04\n",
            " 3.78524418e-03 1.02059968e-04 1.96699239e-04 5.89345545e-03\n",
            " 1.24254718e-03 9.62037454e-05 9.65718264e-05 9.67169634e-05\n",
            " 5.59731323e-03 9.62037454e-05 9.62037454e-05 9.62037454e-05\n",
            " 9.62037454e-05 9.62037454e-05 9.62037454e-05 9.62037454e-05\n",
            " 9.62037454e-05 9.62037454e-05 9.62037454e-05 9.62037454e-05\n",
            " 9.62037454e-05 9.62037454e-05 9.62037454e-05 9.62037454e-05\n",
            " 9.62037454e-05 9.62037454e-05 9.62037454e-05 9.62037454e-05\n",
            " 9.62037454e-05 9.62037454e-05 9.62037454e-05 9.62037454e-05\n",
            " 9.62037454e-05 9.62037454e-05]\n",
            "var62  [5.91520746e-04 9.61944902e-05 9.61944902e-05 9.61944902e-05\n",
            " 9.61944902e-05 9.61944902e-05 9.61944902e-05 9.61944902e-05\n",
            " 9.61944902e-05 9.61944902e-05 9.61944902e-05 9.61944902e-05\n",
            " 9.61944902e-05 9.61944902e-05 9.61944902e-05 9.61944902e-05\n",
            " 9.61944902e-05 9.61944902e-05 9.61944902e-05 9.61944902e-05\n",
            " 9.62726274e-05 9.84984466e-05 9.82918054e-05 5.51899416e-04\n",
            " 2.17781185e-03 3.25895795e-04 4.89967432e-05 9.13903380e-03\n",
            " 3.56219830e-03 2.86995689e-02 1.56693607e-01 1.05650809e-01\n",
            " 7.59457170e-03 2.67678753e-05 4.28864434e-05 1.52998702e-04\n",
            " 3.77091610e-03 1.02049551e-04 1.96660549e-04 5.85872263e-03\n",
            " 1.24100326e-03 9.61944902e-05 9.65625003e-05 9.67076092e-05\n",
            " 5.56598331e-03 9.61944902e-05 9.61944902e-05 9.61944902e-05\n",
            " 9.61944902e-05 9.61944902e-05 9.61944902e-05 9.61944902e-05\n",
            " 9.61944902e-05 9.61944902e-05 9.61944902e-05 9.61944902e-05\n",
            " 9.61944902e-05 9.61944902e-05 9.61944902e-05 9.61944902e-05\n",
            " 9.61944902e-05 9.61944902e-05 9.61944902e-05 9.61944902e-05\n",
            " 9.61944902e-05 9.61944902e-05 9.61944902e-05 9.61944902e-05\n",
            " 9.61944902e-05 9.61944902e-05]\n",
            "Correct class: [[0. 0. 0. 0. 0. 0. 0. 0. 0. 0. 0. 0. 0. 0. 0. 0. 0. 0. 0. 0. 0. 0. 0. 0.\n",
            "  0. 0. 0. 0. 1. 0. 0. 0. 0. 0. 0. 0. 0. 0. 0. 0. 0. 0. 0. 0. 0. 0. 0. 0.\n",
            "  0. 0. 0. 0. 0. 0. 0. 0. 0. 0. 0. 0. 0. 0. 0. 0. 0. 0. 0. 0. 0. 0.]]\n"
          ],
          "name": "stdout"
        },
        {
          "output_type": "execute_result",
          "data": {
            "text/plain": [
              "<Figure size 432x288 with 0 Axes>"
            ]
          },
          "metadata": {
            "tags": []
          },
          "execution_count": 38
        },
        {
          "output_type": "display_data",
          "data": {
            "image/png": "[encoded data removed]",
            "text/plain": [
              "<Figure size 432x288 with 1 Axes>"
            ]
          },
          "metadata": {
            "tags": [],
            "needs_background": "light"
          }
        },
        {
          "output_type": "display_data",
          "data": {
            "text/plain": [
              "<Figure size 432x288 with 0 Axes>"
            ]
          },
          "metadata": {
            "tags": []
          }
        }
      ]
    },
    {
      "cell_type": "code",
      "metadata": {
        "id": "pcK9zv1eedaV",
        "colab": {
          "base_uri": "https://localhost:8080/",
          "height": 1000
        },
        "outputId": "6c414f5b-9e5c-428a-e996-61dc3d0e5877"
      },
      "source": [
        "# %matplotlib inline\n",
        "index = correct_indices[2].squeeze()\n",
        "print(index)\n",
        "print(p[index].numpy().squeeze())\n",
        "print(var[index].numpy().squeeze())\n",
        "plt.bar(np.arange(70), p[index].numpy().squeeze(), yerr=var[index].numpy().squeeze())\n",
        "print(\"Correct class: {}\".format(y_test[index]))\n",
        "plt.figure()\n",
        "# plt.imshow(mnist_test[index].reshape(28,28),cmap =plt.cm.gray_r, interpolation = \"nearest\")\n"
      ],
      "execution_count": 40,
      "outputs": [
        {
          "output_type": "stream",
          "text": [
            "2\n",
            "[9.92527543e-01 1.62806892e-05 1.62806892e-05 1.62806892e-05\n",
            " 1.62806892e-05 1.62806892e-05 1.62806892e-05 1.62806892e-05\n",
            " 1.62806892e-05 1.62806892e-05 1.62806892e-05 1.62806892e-05\n",
            " 1.62806892e-05 1.62806892e-05 1.62806892e-05 1.62806892e-05\n",
            " 1.62806892e-05 1.62806892e-05 1.62806892e-05 1.62806892e-05\n",
            " 1.62807608e-05 1.63545393e-05 1.63362584e-05 1.44979105e-05\n",
            " 1.45604520e-05 1.45847758e-05 1.44930372e-05 4.49441762e-05\n",
            " 1.44927883e-05 5.53372311e-05 5.58741840e-03 1.93665188e-05\n",
            " 1.88417120e-05 1.45051222e-05 1.44929890e-05 1.45018347e-05\n",
            " 1.45595847e-05 1.49858630e-05 1.44933512e-05 3.72017058e-05\n",
            " 1.45208558e-05 1.62806892e-05 1.62899246e-05 1.62982675e-05\n",
            " 6.69591688e-04 1.62806892e-05 1.62806892e-05 1.62806892e-05\n",
            " 1.62806892e-05 1.62806892e-05 1.62806892e-05 1.62806892e-05\n",
            " 1.62806892e-05 1.62806892e-05 1.62806892e-05 1.62806892e-05\n",
            " 1.62806892e-05 1.62806892e-05 1.62806892e-05 1.62806892e-05\n",
            " 1.62806892e-05 1.62806892e-05 1.62806892e-05 1.62806892e-05\n",
            " 1.62806892e-05 1.62806892e-05 1.62806892e-05 1.62806892e-05\n",
            " 1.62806892e-05 1.62806892e-05]\n",
            "[7.41661901e-03 1.62804241e-05 1.62804241e-05 1.62804241e-05\n",
            " 1.62804241e-05 1.62804241e-05 1.62804241e-05 1.62804241e-05\n",
            " 1.62804241e-05 1.62804241e-05 1.62804241e-05 1.62804241e-05\n",
            " 1.62804241e-05 1.62804241e-05 1.62804241e-05 1.62804241e-05\n",
            " 1.62804241e-05 1.62804241e-05 1.62804241e-05 1.62804241e-05\n",
            " 1.62804957e-05 1.63542718e-05 1.63359915e-05 1.44977003e-05\n",
            " 1.45602400e-05 1.45845631e-05 1.44928271e-05 4.49421562e-05\n",
            " 1.44925782e-05 5.53341689e-05 5.55619916e-03 1.93661437e-05\n",
            " 1.88413570e-05 1.45049118e-05 1.44927790e-05 1.45016244e-05\n",
            " 1.45593727e-05 1.49856385e-05 1.44931411e-05 3.72003219e-05\n",
            " 1.45206449e-05 1.62804241e-05 1.62896592e-05 1.62980019e-05\n",
            " 6.69143335e-04 1.62804241e-05 1.62804241e-05 1.62804241e-05\n",
            " 1.62804241e-05 1.62804241e-05 1.62804241e-05 1.62804241e-05\n",
            " 1.62804241e-05 1.62804241e-05 1.62804241e-05 1.62804241e-05\n",
            " 1.62804241e-05 1.62804241e-05 1.62804241e-05 1.62804241e-05\n",
            " 1.62804241e-05 1.62804241e-05 1.62804241e-05 1.62804241e-05\n",
            " 1.62804241e-05 1.62804241e-05 1.62804241e-05 1.62804241e-05\n",
            " 1.62804241e-05 1.62804241e-05]\n",
            "Correct class: [1. 0. 0. 0. 0. 0. 0. 0. 0. 0. 0. 0. 0. 0. 0. 0. 0. 0. 0. 0. 0. 0. 0. 0.\n",
            " 0. 0. 0. 0. 0. 0. 0. 0. 0. 0. 0. 0. 0. 0. 0. 0. 0. 0. 0. 0. 0. 0. 0. 0.\n",
            " 0. 0. 0. 0. 0. 0. 0. 0. 0. 0. 0. 0. 0. 0. 0. 0. 0. 0. 0. 0. 0. 0.]\n"
          ],
          "name": "stdout"
        },
        {
          "output_type": "execute_result",
          "data": {
            "text/plain": [
              "<Figure size 432x288 with 0 Axes>"
            ]
          },
          "metadata": {
            "tags": []
          },
          "execution_count": 40
        },
        {
          "output_type": "display_data",
          "data": {
            "image/png": "[encoded data removed]",
            "text/plain": [
              "<Figure size 432x288 with 1 Axes>"
            ]
          },
          "metadata": {
            "tags": [],
            "needs_background": "light"
          }
        },
        {
          "output_type": "display_data",
          "data": {
            "text/plain": [
              "<Figure size 432x288 with 0 Axes>"
            ]
          },
          "metadata": {
            "tags": []
          }
        }
      ]
    },
    {
      "cell_type": "code",
      "metadata": {
        "id": "yt8MGxQlQK_X",
        "colab": {
          "base_uri": "https://localhost:8080/"
        },
        "outputId": "32e25524-f645-45a9-c9f6-55021ad4e095"
      },
      "source": [
        "test_audio_dir = '/content/gdrive/My Drive/ME/test/Wavfile'\n",
        "test_audio_files = glob(test_audio_dir + '/*.wav')\n",
        "test_pitch_dir = '/content/gdrive/My Drive/ME/test/PitchLabel'\n",
        "print(len(test_audio_files))"
      ],
      "execution_count": 28,
      "outputs": [
        {
          "output_type": "stream",
          "text": [
            "10\n"
          ],
          "name": "stdout"
        }
      ]
    },
    {
      "cell_type": "code",
      "metadata": {
        "id": "iBBnKamPiSbP"
      },
      "source": [
        "def get_testpitch(file):\n",
        "    pathname = os.path.splitext(file)[0]\n",
        "    filename = os.path.basename(pathname)\n",
        "    file = test_pitch_dir + '/' + filename + '.csv'\n",
        "    df = pd.read_csv(file)\n",
        "\n",
        "    gtv,gtf = df['0.01'],df['0']\n",
        "    # gtv,gtf = np.loadtxt(file)[:,0],np.loadtxt(file)[:,1]\n",
        "    return gtv,gtf\n",
        "\n",
        "\n",
        "\n",
        "def predict_pitch(ypred):\n",
        "#     y_pred = np.zeros((np.shape(ypred)[0],np.shape(ypred)[1]))\n",
        "    pred_y = []\n",
        "    for i in range(np.shape(ypred)[0]):\n",
        "        indx = np.argmax(ypred[i])\n",
        "#         y_pred[i,indx]=1\n",
        "        pred_y.append(pitch_range[indx])    \n",
        "    return pred_y"
      ],
      "execution_count": 29,
      "outputs": []
    },
    {
      "cell_type": "code",
      "metadata": {
        "id": "iCyDqU-yQFYh",
        "colab": {
          "base_uri": "https://localhost:8080/"
        },
        "outputId": "31332ea8-381e-4ec3-8df3-36a0532791ea"
      },
      "source": [
        "for i in range(len(test_audio_files)):  \n",
        "    print(test_audio_files[i])\n",
        "    y,sr = librosa.load(test_audio_files[i],sr=10000)\n",
        "    # S = calc_spec(y,sr)\n",
        "    # print(S.shape)\n",
        "    s1=get_activation(y,sr)\n",
        "    print(s1.shape)\n",
        "    \n",
        "    gtv,y_true = get_testpitch(test_audio_files[i])\n",
        "    s1 = s1[:,:len(y_true)]\n",
        "    # print(s1.shape)\n",
        "    Nf,Nt = np.shape(s1)\n",
        "    ypred = model.predict(s1)\n",
        "    y_pred = librosa.midi_to_hz(predict_pitch(ypred))\n",
        "   \n",
        "    v = [1 if i>0 else 0 for i in y_true]\n",
        "    rpa = RPA(v,y_true,y_pred,Nt)\n",
        "#     print(y_true,y_pred)\n",
        "    print('RPA : ',rpa)"
      ],
      "execution_count": 30,
      "outputs": [
        {
          "output_type": "stream",
          "text": [
            "/content/gdrive/My Drive/ME/test/Wavfile/train10.wav\n",
            "(3901, 1024)\n",
            "RPA :  74.0\n",
            "/content/gdrive/My Drive/ME/test/Wavfile/train01.wav\n",
            "(2450, 1024)\n",
            "RPA :  44.84924623115578\n",
            "/content/gdrive/My Drive/ME/test/Wavfile/train09.wav\n",
            "(3201, 1024)\n",
            "RPA :  34.67153284671533\n",
            "/content/gdrive/My Drive/ME/test/Wavfile/train07.wav\n",
            "(2576, 1024)\n",
            "RPA :  57.12166172106825\n",
            "/content/gdrive/My Drive/ME/test/Wavfile/train03.wav\n",
            "(2733, 1024)\n",
            "RPA :  14.071038251366119\n",
            "/content/gdrive/My Drive/ME/test/Wavfile/train08.wav\n",
            "(3143, 1024)\n",
            "RPA :  44.39252336448598\n",
            "/content/gdrive/My Drive/ME/test/Wavfile/train05.wav\n",
            "(3485, 1024)\n",
            "RPA :  39.325842696629216\n",
            "/content/gdrive/My Drive/ME/test/Wavfile/train02.wav\n",
            "(3252, 1024)\n",
            "RPA :  49.93006993006993\n",
            "/content/gdrive/My Drive/ME/test/Wavfile/train04.wav\n",
            "(3353, 1024)\n",
            "RPA :  15.988372093023257\n",
            "/content/gdrive/My Drive/ME/test/Wavfile/train06.wav\n",
            "(2401, 1024)\n",
            "RPA :  20.423892100192678\n"
          ],
          "name": "stdout"
        }
      ]
    },
    {
      "cell_type": "code",
      "metadata": {
        "id": "hyNY-6GSQq1t",
        "colab": {
          "base_uri": "https://localhost:8080/",
          "height": 132
        },
        "outputId": "d93505c9-8003-42c4-abe1-13505451007d"
      },
      "source": [
        "p=[]\n",
        "for i in range (50):"
      ],
      "execution_count": 31,
      "outputs": [
        {
          "output_type": "error",
          "ename": "SyntaxError",
          "evalue": "ignored",
          "traceback": [
            "\u001b[0;36m  File \u001b[0;32m\"<ipython-input-31-e687eb91a09b>\"\u001b[0;36m, line \u001b[0;32m2\u001b[0m\n\u001b[0;31m    for i in range (50):\u001b[0m\n\u001b[0m                        ^\u001b[0m\n\u001b[0;31mSyntaxError\u001b[0m\u001b[0;31m:\u001b[0m unexpected EOF while parsing\n"
          ]
        }
      ]
    }
  ]
}