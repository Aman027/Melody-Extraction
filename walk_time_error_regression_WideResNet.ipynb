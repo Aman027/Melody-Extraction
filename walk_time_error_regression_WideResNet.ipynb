{
  "nbformat": 4,
  "nbformat_minor": 0,
  "metadata": {
    "colab": {
      "name": "walk_time_error_regression_WideResNet.ipynb",
      "provenance": [],
      "collapsed_sections": [],
      "toc_visible": true
    },
    "kernelspec": {
      "display_name": "Python 3",
      "language": "python",
      "name": "python3"
    },
    "language_info": {
      "codemirror_mode": {
        "name": "ipython",
        "version": 3
      },
      "file_extension": ".py",
      "mimetype": "text/x-python",
      "name": "python",
      "nbconvert_exporter": "python",
      "pygments_lexer": "ipython3",
      "version": "3.8.5"
    }
  },
  "cells": [
    {
      "cell_type": "code",
      "metadata": {
        "colab": {
          "base_uri": "https://localhost:8080/"
        },
        "id": "crcYc3os30ZL",
        "outputId": "6df6cb54-2b33-484b-a163-54530fdccc18"
      },
      "source": [
        "!pip install icecream\n",
        "from icecream import ic"
      ],
      "execution_count": null,
      "outputs": [
        {
          "output_type": "stream",
          "text": [
            "Collecting icecream\n",
            "  Downloading https://files.pythonhosted.org/packages/31/cc/5454531fe9ae123720b496fdea806e282843d6e75e5718a5e8b1d8e5c47f/icecream-2.1.0-py2.py3-none-any.whl\n",
            "Collecting asttokens>=2.0.1\n",
            "  Downloading https://files.pythonhosted.org/packages/16/d5/b0ad240c22bba2f4591693b0ca43aae94fbd77fb1e2b107d54fff1462b6f/asttokens-2.0.5-py2.py3-none-any.whl\n",
            "Requirement already satisfied: pygments>=2.2.0 in /usr/local/lib/python3.7/dist-packages (from icecream) (2.6.1)\n",
            "Collecting colorama>=0.3.9\n",
            "  Downloading https://files.pythonhosted.org/packages/44/98/5b86278fbbf250d239ae0ecb724f8572af1c91f4a11edf4d36a206189440/colorama-0.4.4-py2.py3-none-any.whl\n",
            "Collecting executing>=0.3.1\n",
            "  Downloading https://files.pythonhosted.org/packages/e1/a6/07d28b53b1fab42985cba6b704d685a60a2e3a5efce4cfaaad42a4494bd8/executing-0.6.0-py2.py3-none-any.whl\n",
            "Requirement already satisfied: six in /usr/local/lib/python3.7/dist-packages (from asttokens>=2.0.1->icecream) (1.15.0)\n",
            "Installing collected packages: asttokens, colorama, executing, icecream\n",
            "Successfully installed asttokens-2.0.5 colorama-0.4.4 executing-0.6.0 icecream-2.1.0\n"
          ],
          "name": "stdout"
        }
      ]
    },
    {
      "cell_type": "code",
      "metadata": {
        "colab": {
          "base_uri": "https://localhost:8080/"
        },
        "id": "S-Kn8des34XY",
        "outputId": "0fc58c1e-68d7-4864-de6e-031bc0e817fc"
      },
      "source": [
        "pip install --upgrade git+https://github.com/y0ast/DUE.git\n"
      ],
      "execution_count": null,
      "outputs": [
        {
          "output_type": "stream",
          "text": [
            "Collecting git+https://github.com/y0ast/DUE.git\n",
            "  Cloning https://github.com/y0ast/DUE.git to /tmp/pip-req-build-_2os2fff\n",
            "  Running command git clone -q https://github.com/y0ast/DUE.git /tmp/pip-req-build-_2os2fff\n",
            "Collecting gpytorch>=1.2.1\n",
            "\u001b[?25l  Downloading https://files.pythonhosted.org/packages/38/0d/b2a8a87a2297ee8144d60229323671b3cf9359c1b012e9300b284e4ea3d2/gpytorch-1.4.1-py2.py3-none-any.whl (491kB)\n",
            "\u001b[K     |████████████████████████████████| 491kB 6.4MB/s \n",
            "\u001b[?25hRequirement already satisfied, skipping upgrade: torch in /usr/local/lib/python3.7/dist-packages (from due==1.0) (1.8.1+cu101)\n",
            "Requirement already satisfied, skipping upgrade: scikit-learn in /usr/local/lib/python3.7/dist-packages (from due==1.0) (0.22.2.post1)\n",
            "Requirement already satisfied, skipping upgrade: scipy in /usr/local/lib/python3.7/dist-packages (from gpytorch>=1.2.1->due==1.0) (1.4.1)\n",
            "Requirement already satisfied, skipping upgrade: typing-extensions in /usr/local/lib/python3.7/dist-packages (from torch->due==1.0) (3.7.4.3)\n",
            "Requirement already satisfied, skipping upgrade: numpy in /usr/local/lib/python3.7/dist-packages (from torch->due==1.0) (1.19.5)\n",
            "Requirement already satisfied, skipping upgrade: joblib>=0.11 in /usr/local/lib/python3.7/dist-packages (from scikit-learn->due==1.0) (1.0.1)\n",
            "Building wheels for collected packages: due\n",
            "  Building wheel for due (setup.py) ... \u001b[?25l\u001b[?25hdone\n",
            "  Created wheel for due: filename=due-1.0-cp37-none-any.whl size=12212 sha256=5ee6a93ba395cfe5bae27fef167e3448127c7bde4058dae87b0bc9bfc8f125a1\n",
            "  Stored in directory: /tmp/pip-ephem-wheel-cache-4neadtor/wheels/bf/ce/8e/02483104d87e41ed580cf36729ba1cc1e81eacc13ea6c685d5\n",
            "Successfully built due\n",
            "Installing collected packages: gpytorch, due\n",
            "Successfully installed due-1.0 gpytorch-1.4.1\n"
          ],
          "name": "stdout"
        }
      ]
    },
    {
      "cell_type": "code",
      "metadata": {
        "colab": {
          "base_uri": "https://localhost:8080/"
        },
        "id": "vyZ2WqAj3_bt",
        "outputId": "f0234b2d-6254-4b31-e47a-69d16b16c4e8"
      },
      "source": [
        "pip install git+https://github.com/pytorch/ignite\n"
      ],
      "execution_count": null,
      "outputs": [
        {
          "output_type": "stream",
          "text": [
            "Collecting git+https://github.com/pytorch/ignite\n",
            "  Cloning https://github.com/pytorch/ignite to /tmp/pip-req-build-oybqxxbv\n",
            "  Running command git clone -q https://github.com/pytorch/ignite /tmp/pip-req-build-oybqxxbv\n",
            "  Installing build dependencies ... \u001b[?25l\u001b[?25hdone\n",
            "  Getting requirements to build wheel ... \u001b[?25l\u001b[?25hdone\n",
            "    Preparing wheel metadata ... \u001b[?25l\u001b[?25hdone\n",
            "Requirement already satisfied: torch<2,>=1.3 in /usr/local/lib/python3.7/dist-packages (from pytorch-ignite==0.5.0) (1.8.1+cu101)\n",
            "Requirement already satisfied: typing-extensions in /usr/local/lib/python3.7/dist-packages (from torch<2,>=1.3->pytorch-ignite==0.5.0) (3.7.4.3)\n",
            "Requirement already satisfied: numpy in /usr/local/lib/python3.7/dist-packages (from torch<2,>=1.3->pytorch-ignite==0.5.0) (1.19.5)\n",
            "Building wheels for collected packages: pytorch-ignite\n",
            "  Building wheel for pytorch-ignite (PEP 517) ... \u001b[?25l\u001b[?25hdone\n",
            "  Created wheel for pytorch-ignite: filename=pytorch_ignite-0.5.0-cp37-none-any.whl size=217687 sha256=386daa3e226ecc7e02f027c39d284dfe71ce8b3a8c53c926a6a07c57a70c9138\n",
            "  Stored in directory: /tmp/pip-ephem-wheel-cache-7ch9v_vg/wheels/92/9a/cd/39c0bc302c48329ecbe3a0d8b56678725a25332c7e9100d3b5\n",
            "Successfully built pytorch-ignite\n",
            "Installing collected packages: pytorch-ignite\n",
            "Successfully installed pytorch-ignite-0.5.0\n"
          ],
          "name": "stdout"
        }
      ]
    },
    {
      "cell_type": "code",
      "metadata": {
        "id": "dWPz2_fcF6PY"
      },
      "source": [
        "import numpy as np\n",
        "import torch\n",
        "\n",
        "from ignite.engine import Events, Engine\n",
        "from ignite.metrics import Average, Loss\n",
        "from ignite.contrib.handlers import ProgressBar\n",
        "\n",
        "import gpytorch\n",
        "from gpytorch.mlls import VariationalELBO\n",
        "from gpytorch.likelihoods import GaussianLikelihood\n",
        "\n",
        "from due.dkl import DKL_GP, GP, initial_values_for_GP\n",
        "from due.fc_resnet import FCResNet\n",
        "\n",
        "import matplotlib.pyplot as plt\n",
        "import seaborn as sns\n",
        "\n",
        "sns.set()\n",
        "sns.set_palette(\"colorblind\")"
      ],
      "execution_count": null,
      "outputs": []
    },
    {
      "cell_type": "code",
      "metadata": {
        "id": "nzAimUWS38NO"
      },
      "source": [
        "import numpy as np\n",
        "import librosa\n",
        "import librosa.display\n",
        "from glob import glob\n",
        "import os,sys\n",
        "from scipy import signal\n",
        "import matplotlib.pyplot as plt\n",
        "from scipy.signal import correlate\n",
        "from sklearn.preprocessing import LabelEncoder\n",
        "from sklearn.preprocessing import OneHotEncoder\n",
        "import csv\n",
        "from sklearn.tree import DecisionTreeClassifier # Import Decision Tree Classifier\n",
        "from sklearn import metrics\n",
        "from sklearn.utils import shuffle\n",
        "from sklearn.model_selection import train_test_split\n",
        "import matplotlib.pyplot as plt\n",
        "import numpy as np"
      ],
      "execution_count": null,
      "outputs": []
    },
    {
      "cell_type": "code",
      "metadata": {
        "id": "hD3xL9KE4huE"
      },
      "source": [
        "import numpy as np\n",
        "import librosa\n",
        "import librosa.display\n",
        "from glob import glob\n",
        "import os,sys\n",
        "from scipy import signal\n",
        "import matplotlib.pyplot as plt\n",
        "from scipy.signal import correlate\n",
        "from sklearn.preprocessing import LabelEncoder\n",
        "from sklearn.preprocessing import OneHotEncoder\n",
        "import csv\n",
        "from keras.models import Sequential\n",
        "import tensorflow as tf\n",
        "from keras.layers.core import Dense, Activation, Dropout, Flatten\n",
        "from keras.layers.convolutional import Convolution2D, MaxPooling2D\n",
        "from keras.optimizers import SGD, RMSprop\n",
        "from keras.utils import np_utils\n",
        "from sklearn.tree import DecisionTreeClassifier # Import Decision Tree Classifier\n",
        "from sklearn import metrics\n",
        "from sklearn.utils import shuffle\n",
        "from sklearn.model_selection import train_test_split\n",
        "import matplotlib.pyplot as plt\n",
        "import numpy as np\n",
        "# from sklearn.metrics import accuracy_scoretumne #dekha hai koi\n",
        "import pandas as pd\n",
        "from pydrive.auth import GoogleAuth\n",
        "from tensorflow import keras\n",
        "from pydrive.drive import GoogleDrive\n",
        "from google.colab import auth\n",
        "from oauth2client.client import GoogleCredentials\n",
        "from google.colab import drive\n"
      ],
      "execution_count": null,
      "outputs": []
    },
    {
      "cell_type": "code",
      "metadata": {
        "colab": {
          "base_uri": "https://localhost:8080/"
        },
        "id": "q5OZNUFH4n-S",
        "outputId": "9202842b-18fe-435c-b84c-7acbe6838055"
      },
      "source": [
        "drive.mount('/content/gdrive')"
      ],
      "execution_count": null,
      "outputs": [
        {
          "output_type": "stream",
          "text": [
            "Mounted at /content/gdrive\n"
          ],
          "name": "stdout"
        }
      ]
    },
    {
      "cell_type": "markdown",
      "metadata": {
        "id": "UH2euZcAs6CU"
      },
      "source": [
        "#Original toy example"
      ]
    },
    {
      "cell_type": "code",
      "metadata": {
        "colab": {
          "base_uri": "https://localhost:8080/"
        },
        "id": "RpycnAQJ41Ki",
        "outputId": "c754caf8-3370-4549-dbba-cd77e23aff1d"
      },
      "source": [
        "!ls '/content/gdrive/My Drive/ME'"
      ],
      "execution_count": null,
      "outputs": [
        {
          "output_type": "stream",
          "text": [
            "my_model_1.h5  my_model_2.h5  my_model.h5  PitchLabel_csv  test  Wavfile\n"
          ],
          "name": "stdout"
        }
      ]
    },
    {
      "cell_type": "code",
      "metadata": {
        "id": "M2bH8jukkYG9"
      },
      "source": [
        "# Follows:\n",
        "# https://github.com/szagoruyko/wide-residual-networks/tree/master/pytorch\n",
        "\n",
        "import numpy as np\n",
        "\n",
        "import torch.nn as nn\n",
        "import torch.nn.functional as F\n",
        "\n",
        "from due.layers import spectral_norm_conv, spectral_norm_fc, SpectralBatchNorm2d\n",
        "\n",
        "\n",
        "class WideBasic(nn.Module):\n",
        "    def __init__(\n",
        "        self,\n",
        "        wrapped_conv,\n",
        "        wrapped_batchnorm,\n",
        "        input_size,\n",
        "        in_c,\n",
        "        out_c,\n",
        "        stride,\n",
        "        dropout_rate,\n",
        "    ):\n",
        "        super().__init__()\n",
        "        self.bn1 = wrapped_batchnorm(in_c)\n",
        "        self.conv1 = wrapped_conv(input_size, in_c, out_c, 3, stride)\n",
        "\n",
        "        self.bn2 = wrapped_batchnorm(out_c)\n",
        "        self.conv2 = wrapped_conv(input_size // stride, out_c, out_c, 3, 1)\n",
        "\n",
        "        self.dropout_rate = dropout_rate\n",
        "        if dropout_rate > 0:\n",
        "            self.dropout = nn.Dropout(dropout_rate)\n",
        "\n",
        "        if stride != 1 or in_c != out_c:\n",
        "            self.shortcut = wrapped_conv(input_size, in_c, out_c, 1, stride)\n",
        "        else:\n",
        "            self.shortcut = nn.Identity()\n",
        "\n",
        "    def forward(self, x):\n",
        "        out = F.relu(self.bn1(x))\n",
        "\n",
        "        out = self.conv1(out)\n",
        "\n",
        "        out = F.relu(self.bn2(out))\n",
        "\n",
        "        if self.dropout_rate > 0:\n",
        "            out = self.dropout(out)\n",
        "\n",
        "        out = self.conv2(out)\n",
        "        out += self.shortcut(x)\n",
        "\n",
        "        return out\n",
        "\n",
        "\n",
        "class WideResNet(nn.Module):\n",
        "    def __init__(\n",
        "        self,\n",
        "        spectral_normalization,\n",
        "        depth=28,\n",
        "        widen_factor=10,\n",
        "        num_classes=None,\n",
        "        dropout_rate=0.3,\n",
        "        coeff=3,\n",
        "        n_power_iterations=1,\n",
        "        batchnorm_momentum=0.1,\n",
        "    ):\n",
        "        super().__init__()\n",
        "\n",
        "        assert (depth - 4) % 6 == 0, \"Wide-resnet depth should be 6n+4\"\n",
        "\n",
        "        self.dropout_rate = dropout_rate\n",
        "\n",
        "        def wrapped_bn(num_features):\n",
        "            if spectral_normalization:\n",
        "                bn = SpectralBatchNorm2d(\n",
        "                    num_features, coeff, momentum=batchnorm_momentum\n",
        "                )\n",
        "            else:\n",
        "                bn = nn.BatchNorm2d(num_features, momentum=batchnorm_momentum)\n",
        "\n",
        "            return bn\n",
        "\n",
        "        self.wrapped_bn = wrapped_bn\n",
        "\n",
        "        def wrapped_conv(input_size, in_c, out_c, kernel_size, stride):\n",
        "            padding = 1 if kernel_size == 3 else 0\n",
        "\n",
        "            conv = nn.Conv2d(in_c, out_c, kernel_size, stride, padding, bias=False)\n",
        "\n",
        "            if not spectral_normalization:\n",
        "                return conv\n",
        "\n",
        "            if kernel_size == 1:\n",
        "                # use spectral norm fc, because bound are tight for 1x1 convolutions\n",
        "                wrapped_conv = spectral_norm_fc(conv, coeff, n_power_iterations)\n",
        "            else:\n",
        "                # Otherwise use spectral norm conv, with loose bound\n",
        "                input_dim = (in_c, input_size, input_size)\n",
        "                wrapped_conv = spectral_norm_conv(\n",
        "                    conv, coeff, input_dim, n_power_iterations\n",
        "                )\n",
        "\n",
        "            return wrapped_conv\n",
        "\n",
        "        self.wrapped_conv = wrapped_conv\n",
        "\n",
        "        n = (depth - 4) // 6\n",
        "        k = widen_factor\n",
        "\n",
        "        nStages = [16, 16 * k, 32 * k, 64 * k]\n",
        "        strides = [1, 1, 2, 2]\n",
        "        input_sizes = 32 // np.cumprod(strides)\n",
        "\n",
        "        self.conv1 = wrapped_conv(input_sizes[0], 3, nStages[0], 3, strides[0])\n",
        "        ic(self.conv1)\n",
        "        self.layer1 = self._wide_layer(nStages[0:2], n, strides[1], input_sizes[1])\n",
        "        ic(self.layer1)\n",
        "        self.layer2 = self._wide_layer(nStages[1:3], n, strides[2], input_sizes[2])\n",
        "        ic(self.layer2)\n",
        "        self.layer3 = self._wide_layer(nStages[2:4], n, strides[3], input_sizes[3])\n",
        "        ic(self.layer3)\n",
        "        self.bn1 = self.wrapped_bn(nStages[3])\n",
        "        ic(self.bn1)\n",
        "\n",
        "        self.num_classes = num_classes\n",
        "        if num_classes is not None:\n",
        "            self.linear = nn.Linear(nStages[3], num_classes)\n",
        "\n",
        "        for m in self.modules():\n",
        "            if isinstance(m, nn.Conv2d):\n",
        "                nn.init.kaiming_normal_(m.weight, mode=\"fan_out\", nonlinearity=\"relu\")\n",
        "            elif isinstance(m, nn.Linear):\n",
        "                nn.init.kaiming_normal_(m.weight, mode=\"fan_out\", nonlinearity=\"relu\")\n",
        "                nn.init.constant_(m.bias, 0)\n",
        "\n",
        "    def _wide_layer(self, channels, num_blocks, stride, input_size):\n",
        "        strides = [stride] + [1] * (num_blocks - 1)\n",
        "        layers = []\n",
        "\n",
        "        in_c, out_c = channels\n",
        "\n",
        "        for stride in strides:\n",
        "            layers.append(\n",
        "                WideBasic(\n",
        "                    self.wrapped_conv,\n",
        "                    self.wrapped_bn,\n",
        "                    input_size,\n",
        "                    in_c,\n",
        "                    out_c,\n",
        "                    stride,\n",
        "                    self.dropout_rate,\n",
        "                )\n",
        "            )\n",
        "            in_c = out_c\n",
        "            input_size = input_size // stride\n",
        "\n",
        "        return nn.Sequential(*layers)\n",
        "\n",
        "    def forward(self, x):\n",
        "        out = self.conv1(x)\n",
        "        out = self.layer1(out)\n",
        "        out = self.layer2(out)\n",
        "        out = self.layer3(out)\n",
        "        out = F.relu(self.bn1(out))\n",
        "        out = F.avg_pool2d(out, 8)\n",
        "        out = out.flatten(1)\n",
        "\n",
        "        if self.num_classes is not None:\n",
        "            out = self.linear(out)\n",
        "            out = F.log_softmax(out, dim=1)\n",
        "\n",
        "        return out"
      ],
      "execution_count": null,
      "outputs": []
    },
    {
      "cell_type": "markdown",
      "metadata": {
        "id": "KRZf8lrkwTZr"
      },
      "source": [
        "#import part 2"
      ]
    },
    {
      "cell_type": "code",
      "metadata": {
        "id": "oslyt-1njbUQ"
      },
      "source": [
        "def load_audio(file):\n",
        "    x,sr = librosa.load(file,sr=10000,mono=True)  #merge the audio into a single channel and downsampled to 8KHz\n",
        "    S = calc_spec(x,sr)\n",
        "    gtv,gtf = get_pitch(file)\n",
        "    gtf = np.append(gtf,np.zeros(np.shape(S)[1]-len(gtf)))\n",
        "    return S,gtv,gtf\n",
        "\n",
        "def calc_spec(x,sr):\n",
        "    D = np.abs(librosa.stft(x, n_fft = Nfft, hop_length = hop_size, win_length = win_size, window='hann', dtype = np.complex256))\n",
        "    D = librosa.power_to_db(D,ref=np.max)\n",
        "    return D\n",
        "\n",
        "\n",
        "def get_pitch(file):\n",
        "    gtf = []\n",
        "    gtv = []\n",
        "    pathname = os.path.splitext(file)[0]\n",
        "    filename = os.path.basename(pathname)\n",
        "    # ff = pitch_dir + '/' + filename + '.csv'\n",
        "    ff = pitch_dir + '/' + filename + '.csv'\n",
        "\n",
        "    with open(ff,'r') as fin:\n",
        "        reader = csv.reader(fin)\n",
        "        for row in reader:\n",
        "            gtv.append(float(row[0]))\n",
        "            gtf.append(float(row[1]))\n",
        "    return gtv,gtf    \n",
        "    \n",
        "    \n",
        "def closest(arr, K):  # arr is a vector\n",
        "    idx = (np.abs(arr - K)).argmin() \n",
        "    return idx,arr[idx]\n",
        "\n",
        "def onehotlabel(pitch_range):\n",
        "    values = np.asarray(pitch_range)\n",
        "    # integer encode\n",
        "    label_encoder = LabelEncoder()\n",
        "    integer_encoded = label_encoder.fit_transform(values)\n",
        "#     print(integer_encoded)\n",
        "\n",
        "    # binary encode\n",
        "    onehot_encoder = OneHotEncoder(sparse=False)\n",
        "    integer_encoded = integer_encoded.reshape(len(integer_encoded), 1)\n",
        "    onehot_encoded = onehot_encoder.fit_transform(integer_encoded)\n",
        "    return onehot_encoded\n",
        "\n",
        "def getonehot(y):    \n",
        "    yhot = np.zeros((len(y),len(pitch_range)))\n",
        "    for i in range(len(y)):\n",
        "        idx,val = closest(pitch_range,y[i]) \n",
        "#         print(idx,val,y[i])\n",
        "        yhot[i,:] = onehot_pitch_range[idx,:]\n",
        "    return yhot\n",
        "\n",
        "\n",
        "def RPA(v,pred_Melody,pitch_labels,Nt):\n",
        "    N=0\n",
        "    D=0\n",
        "    for i in range(Nt):\n",
        "        if v[i]==1:\n",
        "            if pred_Melody[i]!=0:\n",
        "                N+=v[i]*Thres(M(pred_Melody[i])-M(pitch_labels[i]))\n",
        "            D+=v[i]\n",
        "    Raw_pitch_acc=(N/D)*100\n",
        "    #print(\"RPA is {} %\".format(Raw_pitch_acc))\n",
        "    return Raw_pitch_acc\n",
        "\n",
        "def M(f):\n",
        "    f_ref=100\n",
        "    return 12*np.log2(f/f_ref)\n",
        "\n",
        "def Thres(a):\n",
        "    if -0.5<a and a<0.5:\n",
        "        t=1\n",
        "    else:\n",
        "        t=0\n",
        "    return t\n",
        "\n",
        "def Angular(a):\n",
        "    x=a-12*int(a/12+0.5)\n",
        "    return x"
      ],
      "execution_count": null,
      "outputs": []
    },
    {
      "cell_type": "code",
      "metadata": {
        "id": "jhiqYwqgj4mW"
      },
      "source": [
        "model_srate = 16000\n",
        "from numpy.lib.stride_tricks import as_strided\n",
        "def get_activation(audio, sr, model_capacity='full', center=True, step_size=10,verbose=1):\n",
        "    if len(audio.shape) == 2:\n",
        "        audio = audio.mean(1)  # make mono\n",
        "    audio = audio.astype(np.float32)\n",
        "    if sr != model_srate:\n",
        "        # resample audio if necessary\n",
        "        from resampy import resample\n",
        "        audio = resample(audio, sr, model_srate)\n",
        "\n",
        "    # pad so that frames are centered around their timestamps (i.e. first frame\n",
        "    # is zero centered).\n",
        "    if center:\n",
        "        audio = np.pad(audio, 512, mode='constant', constant_values=0)\n",
        "\n",
        "    # make 1024-sample frames of the audio with hop length of 10 milliseconds\n",
        "    hop_length = int(model_srate * step_size / 1000)\n",
        "    n_frames = 1 + int((len(audio) - 1024) / hop_length)\n",
        "    frames = as_strided(audio, shape=(1024, n_frames),\n",
        "                        strides=(audio.itemsize, hop_length * audio.itemsize))\n",
        "    frames = frames.transpose().copy()\n",
        "\n",
        "    # normalize each frame -- this is expected by the model\n",
        "    frames -= np.mean(frames, axis=1)[:, np.newaxis]\n",
        "    frames /= np.std(frames, axis=1)[:, np.newaxis]\n",
        "\n",
        "    # run prediction and convert the frequency bin weights to Hz\n",
        "    return frames"
      ],
      "execution_count": null,
      "outputs": []
    },
    {
      "cell_type": "code",
      "metadata": {
        "id": "ZB-VTe0dXZ2I"
      },
      "source": [
        "# audio_dir = '/home/prasad/gpytorch/DUE/MIR-1K/Wavfile'\n",
        "# audio_files = glob(audio_dir + '/*.wav')\n",
        "# pitch_dir = '/home/prasad/gpytorch/DUE/MIR-1K/PitchLabel_csv'\n",
        "# print(len(audio_files))"
      ],
      "execution_count": null,
      "outputs": []
    },
    {
      "cell_type": "code",
      "metadata": {
        "colab": {
          "base_uri": "https://localhost:8080/"
        },
        "id": "047zc6Ar4YnE",
        "outputId": "e029e3a5-318b-4356-d5bf-4f5b13be5f04"
      },
      "source": [
        "audio_dir = '/content/gdrive/My Drive/ME/Wavfile'\n",
        "audio_files = glob(audio_dir + '/*.wav')\n",
        "pitch_dir = '/content/gdrive/My Drive/ME/PitchLabel_csv'\n",
        "print(len(audio_files))"
      ],
      "execution_count": null,
      "outputs": [
        {
          "output_type": "stream",
          "text": [
            "1000\n"
          ],
          "name": "stdout"
        }
      ]
    },
    {
      "cell_type": "markdown",
      "metadata": {
        "id": "-hU0CEX2nj2s"
      },
      "source": [
        "#Single song example"
      ]
    },
    {
      "cell_type": "code",
      "metadata": {
        "id": "bYyDYqagiawD"
      },
      "source": [
        "# audio_dir = '/content/gdrive/My Drive/ME/Wavfile'\n",
        "# audio_files = glob('*.wav')\n",
        "# pitch_dir = '/content'\n",
        "# print(len(audio_files))"
      ],
      "execution_count": null,
      "outputs": []
    },
    {
      "cell_type": "code",
      "metadata": {
        "colab": {
          "base_uri": "https://localhost:8080/"
        },
        "id": "jcxIRiWTiLJH",
        "outputId": "aa6caeb3-f780-4dbb-e98b-005e4d30a10c"
      },
      "source": [
        "audio_files"
      ],
      "execution_count": null,
      "outputs": [
        {
          "output_type": "execute_result",
          "data": {
            "text/plain": [
              "['/content/gdrive/My Drive/ME/Wavfile/Ani_1_03.wav',\n",
              " '/content/gdrive/My Drive/ME/Wavfile/Ani_1_01.wav',\n",
              " '/content/gdrive/My Drive/ME/Wavfile/Ani_1_02.wav',\n",
              " '/content/gdrive/My Drive/ME/Wavfile/Ani_1_05.wav',\n",
              " '/content/gdrive/My Drive/ME/Wavfile/Ani_2_03.wav',\n",
              " '/content/gdrive/My Drive/ME/Wavfile/Ani_2_02.wav',\n",
              " '/content/gdrive/My Drive/ME/Wavfile/Ani_1_07.wav',\n",
              " '/content/gdrive/My Drive/ME/Wavfile/Ani_1_04.wav',\n",
              " '/content/gdrive/My Drive/ME/Wavfile/Ani_1_06.wav',\n",
              " '/content/gdrive/My Drive/ME/Wavfile/Ani_2_01.wav',\n",
              " '/content/gdrive/My Drive/ME/Wavfile/Ani_2_04.wav',\n",
              " '/content/gdrive/My Drive/ME/Wavfile/Ani_2_07.wav',\n",
              " '/content/gdrive/My Drive/ME/Wavfile/Ani_2_06.wav',\n",
              " '/content/gdrive/My Drive/ME/Wavfile/Ani_3_02.wav',\n",
              " '/content/gdrive/My Drive/ME/Wavfile/Ani_3_01.wav',\n",
              " '/content/gdrive/My Drive/ME/Wavfile/Ani_2_05.wav',\n",
              " '/content/gdrive/My Drive/ME/Wavfile/Ani_3_05.wav',\n",
              " '/content/gdrive/My Drive/ME/Wavfile/Ani_3_04.wav',\n",
              " '/content/gdrive/My Drive/ME/Wavfile/Ani_4_02.wav',\n",
              " '/content/gdrive/My Drive/ME/Wavfile/Ani_4_03.wav',\n",
              " '/content/gdrive/My Drive/ME/Wavfile/Ani_4_01.wav',\n",
              " '/content/gdrive/My Drive/ME/Wavfile/Ani_3_06.wav',\n",
              " '/content/gdrive/My Drive/ME/Wavfile/Ani_3_03.wav',\n",
              " '/content/gdrive/My Drive/ME/Wavfile/Ani_4_05.wav',\n",
              " '/content/gdrive/My Drive/ME/Wavfile/Ani_4_08.wav',\n",
              " '/content/gdrive/My Drive/ME/Wavfile/Ani_4_04.wav',\n",
              " '/content/gdrive/My Drive/ME/Wavfile/Ani_4_06.wav',\n",
              " '/content/gdrive/My Drive/ME/Wavfile/Ani_4_07.wav',\n",
              " '/content/gdrive/My Drive/ME/Wavfile/Ani_4_09.wav',\n",
              " '/content/gdrive/My Drive/ME/Wavfile/Ani_5_01.wav',\n",
              " '/content/gdrive/My Drive/ME/Wavfile/Ani_4_10.wav',\n",
              " '/content/gdrive/My Drive/ME/Wavfile/Ani_5_06.wav',\n",
              " '/content/gdrive/My Drive/ME/Wavfile/Kenshin_1_01.wav',\n",
              " '/content/gdrive/My Drive/ME/Wavfile/Ani_5_03.wav',\n",
              " '/content/gdrive/My Drive/ME/Wavfile/Ani_5_05.wav',\n",
              " '/content/gdrive/My Drive/ME/Wavfile/Ani_5_04.wav',\n",
              " '/content/gdrive/My Drive/ME/Wavfile/Ani_5_08.wav',\n",
              " '/content/gdrive/My Drive/ME/Wavfile/Ani_5_07.wav',\n",
              " '/content/gdrive/My Drive/ME/Wavfile/Ani_5_02.wav',\n",
              " '/content/gdrive/My Drive/ME/Wavfile/Kenshin_1_03.wav',\n",
              " '/content/gdrive/My Drive/ME/Wavfile/Kenshin_1_02.wav',\n",
              " '/content/gdrive/My Drive/ME/Wavfile/Kenshin_1_05.wav',\n",
              " '/content/gdrive/My Drive/ME/Wavfile/Kenshin_1_06.wav',\n",
              " '/content/gdrive/My Drive/ME/Wavfile/Kenshin_1_04.wav',\n",
              " '/content/gdrive/My Drive/ME/Wavfile/Kenshin_2_01.wav',\n",
              " '/content/gdrive/My Drive/ME/Wavfile/Kenshin_1_07.wav',\n",
              " '/content/gdrive/My Drive/ME/Wavfile/Kenshin_1_09.wav',\n",
              " '/content/gdrive/My Drive/ME/Wavfile/Kenshin_1_10.wav',\n",
              " '/content/gdrive/My Drive/ME/Wavfile/Kenshin_1_08.wav',\n",
              " '/content/gdrive/My Drive/ME/Wavfile/Kenshin_1_11.wav',\n",
              " '/content/gdrive/My Drive/ME/Wavfile/Kenshin_2_07.wav',\n",
              " '/content/gdrive/My Drive/ME/Wavfile/Kenshin_2_03.wav',\n",
              " '/content/gdrive/My Drive/ME/Wavfile/Kenshin_2_10.wav',\n",
              " '/content/gdrive/My Drive/ME/Wavfile/Kenshin_2_06.wav',\n",
              " '/content/gdrive/My Drive/ME/Wavfile/Kenshin_2_02.wav',\n",
              " '/content/gdrive/My Drive/ME/Wavfile/Kenshin_2_04.wav',\n",
              " '/content/gdrive/My Drive/ME/Wavfile/Kenshin_2_05.wav',\n",
              " '/content/gdrive/My Drive/ME/Wavfile/Kenshin_3_05.wav',\n",
              " '/content/gdrive/My Drive/ME/Wavfile/Kenshin_2_11.wav',\n",
              " '/content/gdrive/My Drive/ME/Wavfile/Kenshin_3_02.wav',\n",
              " '/content/gdrive/My Drive/ME/Wavfile/Kenshin_3_07.wav',\n",
              " '/content/gdrive/My Drive/ME/Wavfile/Kenshin_3_04.wav',\n",
              " '/content/gdrive/My Drive/ME/Wavfile/Kenshin_3_01.wav',\n",
              " '/content/gdrive/My Drive/ME/Wavfile/Kenshin_3_06.wav',\n",
              " '/content/gdrive/My Drive/ME/Wavfile/Kenshin_3_03.wav',\n",
              " '/content/gdrive/My Drive/ME/Wavfile/Kenshin_4_03.wav',\n",
              " '/content/gdrive/My Drive/ME/Wavfile/Kenshin_4_02.wav',\n",
              " '/content/gdrive/My Drive/ME/Wavfile/Kenshin_3_08.wav',\n",
              " '/content/gdrive/My Drive/ME/Wavfile/Kenshin_4_04.wav',\n",
              " '/content/gdrive/My Drive/ME/Wavfile/Kenshin_4_01.wav',\n",
              " '/content/gdrive/My Drive/ME/Wavfile/Kenshin_4_07.wav',\n",
              " '/content/gdrive/My Drive/ME/Wavfile/Kenshin_4_08.wav',\n",
              " '/content/gdrive/My Drive/ME/Wavfile/Kenshin_4_09.wav',\n",
              " '/content/gdrive/My Drive/ME/Wavfile/Kenshin_4_11.wav',\n",
              " '/content/gdrive/My Drive/ME/Wavfile/Kenshin_4_05.wav',\n",
              " '/content/gdrive/My Drive/ME/Wavfile/Kenshin_4_10.wav',\n",
              " '/content/gdrive/My Drive/ME/Wavfile/Kenshin_4_06.wav',\n",
              " '/content/gdrive/My Drive/ME/Wavfile/Kenshin_5_07.wav',\n",
              " '/content/gdrive/My Drive/ME/Wavfile/Kenshin_5_05.wav',\n",
              " '/content/gdrive/My Drive/ME/Wavfile/Kenshin_5_03.wav',\n",
              " '/content/gdrive/My Drive/ME/Wavfile/Kenshin_5_02.wav',\n",
              " '/content/gdrive/My Drive/ME/Wavfile/Kenshin_5_04.wav',\n",
              " '/content/gdrive/My Drive/ME/Wavfile/Kenshin_5_01.wav',\n",
              " '/content/gdrive/My Drive/ME/Wavfile/Kenshin_5_06.wav',\n",
              " '/content/gdrive/My Drive/ME/Wavfile/Kenshin_5_11.wav',\n",
              " '/content/gdrive/My Drive/ME/Wavfile/Kenshin_5_10.wav',\n",
              " '/content/gdrive/My Drive/ME/Wavfile/Kenshin_5_08.wav',\n",
              " '/content/gdrive/My Drive/ME/Wavfile/Kenshin_5_09.wav',\n",
              " '/content/gdrive/My Drive/ME/Wavfile/Kenshin_5_12.wav',\n",
              " '/content/gdrive/My Drive/ME/Wavfile/Kenshin_5_13.wav',\n",
              " '/content/gdrive/My Drive/ME/Wavfile/abjones_2_01.wav',\n",
              " '/content/gdrive/My Drive/ME/Wavfile/abjones_1_03.wav',\n",
              " '/content/gdrive/My Drive/ME/Wavfile/abjones_1_04.wav',\n",
              " '/content/gdrive/My Drive/ME/Wavfile/abjones_1_01.wav',\n",
              " '/content/gdrive/My Drive/ME/Wavfile/abjones_1_02.wav',\n",
              " '/content/gdrive/My Drive/ME/Wavfile/abjones_2_06.wav',\n",
              " '/content/gdrive/My Drive/ME/Wavfile/abjones_2_03.wav',\n",
              " '/content/gdrive/My Drive/ME/Wavfile/abjones_2_07.wav',\n",
              " '/content/gdrive/My Drive/ME/Wavfile/abjones_2_08.wav',\n",
              " '/content/gdrive/My Drive/ME/Wavfile/abjones_2_05.wav',\n",
              " '/content/gdrive/My Drive/ME/Wavfile/abjones_2_04.wav',\n",
              " '/content/gdrive/My Drive/ME/Wavfile/abjones_2_02.wav',\n",
              " '/content/gdrive/My Drive/ME/Wavfile/abjones_2_09.wav',\n",
              " '/content/gdrive/My Drive/ME/Wavfile/abjones_2_12.wav',\n",
              " '/content/gdrive/My Drive/ME/Wavfile/abjones_3_01.wav',\n",
              " '/content/gdrive/My Drive/ME/Wavfile/abjones_3_04.wav',\n",
              " '/content/gdrive/My Drive/ME/Wavfile/abjones_3_03.wav',\n",
              " '/content/gdrive/My Drive/ME/Wavfile/abjones_2_11.wav',\n",
              " '/content/gdrive/My Drive/ME/Wavfile/abjones_3_02.wav',\n",
              " '/content/gdrive/My Drive/ME/Wavfile/abjones_2_10.wav',\n",
              " '/content/gdrive/My Drive/ME/Wavfile/abjones_3_11.wav',\n",
              " '/content/gdrive/My Drive/ME/Wavfile/abjones_3_06.wav',\n",
              " '/content/gdrive/My Drive/ME/Wavfile/abjones_4_01.wav',\n",
              " '/content/gdrive/My Drive/ME/Wavfile/abjones_3_09.wav',\n",
              " '/content/gdrive/My Drive/ME/Wavfile/abjones_3_10.wav',\n",
              " '/content/gdrive/My Drive/ME/Wavfile/abjones_3_14.wav',\n",
              " '/content/gdrive/My Drive/ME/Wavfile/abjones_3_12.wav',\n",
              " '/content/gdrive/My Drive/ME/Wavfile/abjones_4_06.wav',\n",
              " '/content/gdrive/My Drive/ME/Wavfile/abjones_4_02.wav',\n",
              " '/content/gdrive/My Drive/ME/Wavfile/abjones_4_03.wav',\n",
              " '/content/gdrive/My Drive/ME/Wavfile/abjones_4_07.wav',\n",
              " '/content/gdrive/My Drive/ME/Wavfile/abjones_4_05.wav',\n",
              " '/content/gdrive/My Drive/ME/Wavfile/abjones_4_04.wav',\n",
              " '/content/gdrive/My Drive/ME/Wavfile/abjones_5_03.wav',\n",
              " '/content/gdrive/My Drive/ME/Wavfile/abjones_5_04.wav',\n",
              " '/content/gdrive/My Drive/ME/Wavfile/abjones_5_02.wav',\n",
              " '/content/gdrive/My Drive/ME/Wavfile/abjones_4_08.wav',\n",
              " '/content/gdrive/My Drive/ME/Wavfile/abjones_5_06.wav',\n",
              " '/content/gdrive/My Drive/ME/Wavfile/abjones_5_05.wav',\n",
              " '/content/gdrive/My Drive/ME/Wavfile/abjones_5_01.wav',\n",
              " '/content/gdrive/My Drive/ME/Wavfile/amy_10_03.wav',\n",
              " '/content/gdrive/My Drive/ME/Wavfile/abjones_5_08.wav',\n",
              " '/content/gdrive/My Drive/ME/Wavfile/abjones_5_09.wav',\n",
              " '/content/gdrive/My Drive/ME/Wavfile/amy_10_02.wav',\n",
              " '/content/gdrive/My Drive/ME/Wavfile/amy_10_01.wav',\n",
              " '/content/gdrive/My Drive/ME/Wavfile/abjones_5_07.wav',\n",
              " '/content/gdrive/My Drive/ME/Wavfile/amy_10_07.wav',\n",
              " '/content/gdrive/My Drive/ME/Wavfile/amy_10_08.wav',\n",
              " '/content/gdrive/My Drive/ME/Wavfile/amy_10_04.wav',\n",
              " '/content/gdrive/My Drive/ME/Wavfile/amy_11_01.wav',\n",
              " '/content/gdrive/My Drive/ME/Wavfile/amy_10_05.wav',\n",
              " '/content/gdrive/My Drive/ME/Wavfile/amy_10_06.wav',\n",
              " '/content/gdrive/My Drive/ME/Wavfile/amy_11_06.wav',\n",
              " '/content/gdrive/My Drive/ME/Wavfile/amy_11_07.wav',\n",
              " '/content/gdrive/My Drive/ME/Wavfile/amy_11_02.wav',\n",
              " '/content/gdrive/My Drive/ME/Wavfile/amy_11_05.wav',\n",
              " '/content/gdrive/My Drive/ME/Wavfile/amy_11_03.wav',\n",
              " '/content/gdrive/My Drive/ME/Wavfile/amy_11_04.wav',\n",
              " '/content/gdrive/My Drive/ME/Wavfile/amy_12_04.wav',\n",
              " '/content/gdrive/My Drive/ME/Wavfile/amy_12_02.wav',\n",
              " '/content/gdrive/My Drive/ME/Wavfile/amy_12_01.wav',\n",
              " '/content/gdrive/My Drive/ME/Wavfile/amy_12_03.wav',\n",
              " '/content/gdrive/My Drive/ME/Wavfile/amy_12_05.wav',\n",
              " '/content/gdrive/My Drive/ME/Wavfile/amy_12_06.wav',\n",
              " '/content/gdrive/My Drive/ME/Wavfile/amy_12_07.wav',\n",
              " '/content/gdrive/My Drive/ME/Wavfile/amy_13_01.wav',\n",
              " '/content/gdrive/My Drive/ME/Wavfile/amy_13_02.wav',\n",
              " '/content/gdrive/My Drive/ME/Wavfile/amy_13_05.wav',\n",
              " '/content/gdrive/My Drive/ME/Wavfile/amy_13_03.wav',\n",
              " '/content/gdrive/My Drive/ME/Wavfile/amy_13_07.wav',\n",
              " '/content/gdrive/My Drive/ME/Wavfile/amy_14_01.wav',\n",
              " '/content/gdrive/My Drive/ME/Wavfile/amy_13_04.wav',\n",
              " '/content/gdrive/My Drive/ME/Wavfile/amy_13_06.wav',\n",
              " '/content/gdrive/My Drive/ME/Wavfile/amy_14_06.wav',\n",
              " '/content/gdrive/My Drive/ME/Wavfile/amy_15_01.wav',\n",
              " '/content/gdrive/My Drive/ME/Wavfile/amy_14_04.wav',\n",
              " '/content/gdrive/My Drive/ME/Wavfile/amy_14_02.wav',\n",
              " '/content/gdrive/My Drive/ME/Wavfile/amy_14_03.wav',\n",
              " '/content/gdrive/My Drive/ME/Wavfile/amy_14_05.wav',\n",
              " '/content/gdrive/My Drive/ME/Wavfile/amy_15_02.wav',\n",
              " '/content/gdrive/My Drive/ME/Wavfile/amy_15_04.wav',\n",
              " '/content/gdrive/My Drive/ME/Wavfile/amy_15_06.wav',\n",
              " '/content/gdrive/My Drive/ME/Wavfile/amy_15_03.wav',\n",
              " '/content/gdrive/My Drive/ME/Wavfile/amy_15_07.wav',\n",
              " '/content/gdrive/My Drive/ME/Wavfile/amy_15_08.wav',\n",
              " '/content/gdrive/My Drive/ME/Wavfile/amy_15_05.wav',\n",
              " '/content/gdrive/My Drive/ME/Wavfile/amy_16_02.wav',\n",
              " '/content/gdrive/My Drive/ME/Wavfile/amy_15_12.wav',\n",
              " '/content/gdrive/My Drive/ME/Wavfile/amy_16_01.wav',\n",
              " '/content/gdrive/My Drive/ME/Wavfile/amy_15_13.wav',\n",
              " '/content/gdrive/My Drive/ME/Wavfile/amy_15_11.wav',\n",
              " '/content/gdrive/My Drive/ME/Wavfile/amy_15_09.wav',\n",
              " '/content/gdrive/My Drive/ME/Wavfile/amy_16_08.wav',\n",
              " '/content/gdrive/My Drive/ME/Wavfile/amy_16_07.wav',\n",
              " '/content/gdrive/My Drive/ME/Wavfile/amy_16_05.wav',\n",
              " '/content/gdrive/My Drive/ME/Wavfile/amy_16_06.wav',\n",
              " '/content/gdrive/My Drive/ME/Wavfile/amy_16_03.wav',\n",
              " '/content/gdrive/My Drive/ME/Wavfile/amy_16_04.wav',\n",
              " '/content/gdrive/My Drive/ME/Wavfile/amy_1_01.wav',\n",
              " '/content/gdrive/My Drive/ME/Wavfile/amy_1_04.wav',\n",
              " '/content/gdrive/My Drive/ME/Wavfile/amy_1_02.wav',\n",
              " '/content/gdrive/My Drive/ME/Wavfile/amy_1_06.wav',\n",
              " '/content/gdrive/My Drive/ME/Wavfile/amy_1_05.wav',\n",
              " '/content/gdrive/My Drive/ME/Wavfile/amy_1_03.wav',\n",
              " '/content/gdrive/My Drive/ME/Wavfile/amy_2_04.wav',\n",
              " '/content/gdrive/My Drive/ME/Wavfile/amy_2_03.wav',\n",
              " '/content/gdrive/My Drive/ME/Wavfile/amy_2_06.wav',\n",
              " '/content/gdrive/My Drive/ME/Wavfile/amy_2_01.wav',\n",
              " '/content/gdrive/My Drive/ME/Wavfile/amy_1_07.wav',\n",
              " '/content/gdrive/My Drive/ME/Wavfile/amy_2_05.wav',\n",
              " '/content/gdrive/My Drive/ME/Wavfile/amy_2_02.wav',\n",
              " '/content/gdrive/My Drive/ME/Wavfile/amy_3_05.wav',\n",
              " '/content/gdrive/My Drive/ME/Wavfile/amy_3_04.wav',\n",
              " '/content/gdrive/My Drive/ME/Wavfile/amy_3_02.wav',\n",
              " '/content/gdrive/My Drive/ME/Wavfile/amy_3_03.wav',\n",
              " '/content/gdrive/My Drive/ME/Wavfile/amy_2_07.wav',\n",
              " '/content/gdrive/My Drive/ME/Wavfile/amy_3_01.wav',\n",
              " '/content/gdrive/My Drive/ME/Wavfile/amy_3_07.wav',\n",
              " '/content/gdrive/My Drive/ME/Wavfile/amy_4_03.wav',\n",
              " '/content/gdrive/My Drive/ME/Wavfile/amy_4_04.wav',\n",
              " '/content/gdrive/My Drive/ME/Wavfile/amy_4_01.wav',\n",
              " '/content/gdrive/My Drive/ME/Wavfile/amy_4_02.wav',\n",
              " '/content/gdrive/My Drive/ME/Wavfile/amy_3_08.wav',\n",
              " '/content/gdrive/My Drive/ME/Wavfile/amy_3_06.wav',\n",
              " '/content/gdrive/My Drive/ME/Wavfile/amy_4_06.wav',\n",
              " '/content/gdrive/My Drive/ME/Wavfile/amy_4_05.wav',\n",
              " '/content/gdrive/My Drive/ME/Wavfile/amy_4_10.wav',\n",
              " '/content/gdrive/My Drive/ME/Wavfile/amy_4_08.wav',\n",
              " '/content/gdrive/My Drive/ME/Wavfile/amy_4_07.wav',\n",
              " '/content/gdrive/My Drive/ME/Wavfile/amy_4_09.wav',\n",
              " '/content/gdrive/My Drive/ME/Wavfile/amy_4_11.wav',\n",
              " '/content/gdrive/My Drive/ME/Wavfile/amy_5_04.wav',\n",
              " '/content/gdrive/My Drive/ME/Wavfile/amy_5_02.wav',\n",
              " '/content/gdrive/My Drive/ME/Wavfile/amy_5_05.wav',\n",
              " '/content/gdrive/My Drive/ME/Wavfile/amy_5_01.wav',\n",
              " '/content/gdrive/My Drive/ME/Wavfile/amy_5_03.wav',\n",
              " '/content/gdrive/My Drive/ME/Wavfile/amy_5_06.wav',\n",
              " '/content/gdrive/My Drive/ME/Wavfile/amy_6_03.wav',\n",
              " '/content/gdrive/My Drive/ME/Wavfile/amy_6_05.wav',\n",
              " '/content/gdrive/My Drive/ME/Wavfile/amy_5_07.wav',\n",
              " '/content/gdrive/My Drive/ME/Wavfile/amy_6_01.wav',\n",
              " '/content/gdrive/My Drive/ME/Wavfile/amy_6_02.wav',\n",
              " '/content/gdrive/My Drive/ME/Wavfile/amy_5_08.wav',\n",
              " '/content/gdrive/My Drive/ME/Wavfile/amy_6_04.wav',\n",
              " '/content/gdrive/My Drive/ME/Wavfile/amy_6_10.wav',\n",
              " '/content/gdrive/My Drive/ME/Wavfile/amy_6_08.wav',\n",
              " '/content/gdrive/My Drive/ME/Wavfile/amy_6_09.wav',\n",
              " '/content/gdrive/My Drive/ME/Wavfile/amy_6_07.wav',\n",
              " '/content/gdrive/My Drive/ME/Wavfile/amy_6_06.wav',\n",
              " '/content/gdrive/My Drive/ME/Wavfile/amy_6_11.wav',\n",
              " '/content/gdrive/My Drive/ME/Wavfile/amy_7_01.wav',\n",
              " '/content/gdrive/My Drive/ME/Wavfile/amy_7_05.wav',\n",
              " '/content/gdrive/My Drive/ME/Wavfile/amy_7_04.wav',\n",
              " '/content/gdrive/My Drive/ME/Wavfile/amy_7_03.wav',\n",
              " '/content/gdrive/My Drive/ME/Wavfile/amy_7_02.wav',\n",
              " '/content/gdrive/My Drive/ME/Wavfile/amy_7_06.wav',\n",
              " '/content/gdrive/My Drive/ME/Wavfile/amy_8_02.wav',\n",
              " '/content/gdrive/My Drive/ME/Wavfile/amy_8_01.wav',\n",
              " '/content/gdrive/My Drive/ME/Wavfile/amy_7_08.wav',\n",
              " '/content/gdrive/My Drive/ME/Wavfile/amy_7_07.wav',\n",
              " '/content/gdrive/My Drive/ME/Wavfile/amy_8_04.wav',\n",
              " '/content/gdrive/My Drive/ME/Wavfile/amy_8_03.wav',\n",
              " '/content/gdrive/My Drive/ME/Wavfile/amy_9_03.wav',\n",
              " '/content/gdrive/My Drive/ME/Wavfile/amy_8_08.wav',\n",
              " '/content/gdrive/My Drive/ME/Wavfile/amy_8_06.wav',\n",
              " '/content/gdrive/My Drive/ME/Wavfile/amy_8_07.wav',\n",
              " '/content/gdrive/My Drive/ME/Wavfile/amy_8_05.wav',\n",
              " '/content/gdrive/My Drive/ME/Wavfile/amy_9_01.wav',\n",
              " '/content/gdrive/My Drive/ME/Wavfile/amy_9_02.wav',\n",
              " '/content/gdrive/My Drive/ME/Wavfile/amy_9_06.wav',\n",
              " '/content/gdrive/My Drive/ME/Wavfile/amy_9_08.wav',\n",
              " '/content/gdrive/My Drive/ME/Wavfile/annar_1_01.wav',\n",
              " '/content/gdrive/My Drive/ME/Wavfile/amy_9_09.wav',\n",
              " '/content/gdrive/My Drive/ME/Wavfile/amy_9_05.wav',\n",
              " '/content/gdrive/My Drive/ME/Wavfile/amy_9_07.wav',\n",
              " '/content/gdrive/My Drive/ME/Wavfile/amy_9_04.wav',\n",
              " '/content/gdrive/My Drive/ME/Wavfile/annar_1_07.wav',\n",
              " '/content/gdrive/My Drive/ME/Wavfile/annar_1_05.wav',\n",
              " '/content/gdrive/My Drive/ME/Wavfile/annar_1_02.wav',\n",
              " '/content/gdrive/My Drive/ME/Wavfile/annar_1_06.wav',\n",
              " '/content/gdrive/My Drive/ME/Wavfile/annar_1_04.wav',\n",
              " '/content/gdrive/My Drive/ME/Wavfile/annar_1_03.wav',\n",
              " '/content/gdrive/My Drive/ME/Wavfile/annar_2_06.wav',\n",
              " '/content/gdrive/My Drive/ME/Wavfile/annar_2_01.wav',\n",
              " '/content/gdrive/My Drive/ME/Wavfile/annar_2_03.wav',\n",
              " '/content/gdrive/My Drive/ME/Wavfile/annar_1_08.wav',\n",
              " '/content/gdrive/My Drive/ME/Wavfile/annar_2_04.wav',\n",
              " '/content/gdrive/My Drive/ME/Wavfile/annar_2_02.wav',\n",
              " '/content/gdrive/My Drive/ME/Wavfile/annar_2_05.wav',\n",
              " '/content/gdrive/My Drive/ME/Wavfile/annar_3_02.wav',\n",
              " '/content/gdrive/My Drive/ME/Wavfile/annar_3_03.wav',\n",
              " '/content/gdrive/My Drive/ME/Wavfile/annar_3_01.wav',\n",
              " '/content/gdrive/My Drive/ME/Wavfile/annar_2_08.wav',\n",
              " '/content/gdrive/My Drive/ME/Wavfile/annar_2_07.wav',\n",
              " '/content/gdrive/My Drive/ME/Wavfile/annar_3_04.wav',\n",
              " '/content/gdrive/My Drive/ME/Wavfile/annar_3_08.wav',\n",
              " '/content/gdrive/My Drive/ME/Wavfile/annar_4_02.wav',\n",
              " '/content/gdrive/My Drive/ME/Wavfile/annar_3_05.wav',\n",
              " '/content/gdrive/My Drive/ME/Wavfile/annar_4_05.wav',\n",
              " '/content/gdrive/My Drive/ME/Wavfile/annar_4_04.wav',\n",
              " '/content/gdrive/My Drive/ME/Wavfile/annar_3_06.wav',\n",
              " '/content/gdrive/My Drive/ME/Wavfile/annar_3_07.wav',\n",
              " '/content/gdrive/My Drive/ME/Wavfile/annar_4_01.wav',\n",
              " '/content/gdrive/My Drive/ME/Wavfile/annar_4_03.wav',\n",
              " '/content/gdrive/My Drive/ME/Wavfile/annar_4_09.wav',\n",
              " '/content/gdrive/My Drive/ME/Wavfile/annar_4_07.wav',\n",
              " '/content/gdrive/My Drive/ME/Wavfile/annar_5_01.wav',\n",
              " '/content/gdrive/My Drive/ME/Wavfile/annar_4_08.wav',\n",
              " '/content/gdrive/My Drive/ME/Wavfile/annar_4_06.wav',\n",
              " '/content/gdrive/My Drive/ME/Wavfile/annar_5_05.wav',\n",
              " '/content/gdrive/My Drive/ME/Wavfile/annar_5_03.wav',\n",
              " '/content/gdrive/My Drive/ME/Wavfile/annar_5_02.wav',\n",
              " '/content/gdrive/My Drive/ME/Wavfile/annar_5_08.wav',\n",
              " '/content/gdrive/My Drive/ME/Wavfile/annar_5_04.wav',\n",
              " '/content/gdrive/My Drive/ME/Wavfile/annar_5_06.wav',\n",
              " '/content/gdrive/My Drive/ME/Wavfile/annar_5_07.wav',\n",
              " '/content/gdrive/My Drive/ME/Wavfile/ariel_1_01.wav',\n",
              " '/content/gdrive/My Drive/ME/Wavfile/ariel_1_03.wav',\n",
              " '/content/gdrive/My Drive/ME/Wavfile/annar_5_09.wav',\n",
              " '/content/gdrive/My Drive/ME/Wavfile/ariel_1_04.wav',\n",
              " '/content/gdrive/My Drive/ME/Wavfile/ariel_1_02.wav',\n",
              " '/content/gdrive/My Drive/ME/Wavfile/ariel_1_06.wav',\n",
              " '/content/gdrive/My Drive/ME/Wavfile/ariel_1_07.wav',\n",
              " '/content/gdrive/My Drive/ME/Wavfile/ariel_2_03.wav',\n",
              " '/content/gdrive/My Drive/ME/Wavfile/ariel_2_04.wav',\n",
              " '/content/gdrive/My Drive/ME/Wavfile/ariel_2_02.wav',\n",
              " '/content/gdrive/My Drive/ME/Wavfile/ariel_2_01.wav',\n",
              " '/content/gdrive/My Drive/ME/Wavfile/ariel_1_05.wav',\n",
              " '/content/gdrive/My Drive/ME/Wavfile/ariel_2_06.wav',\n",
              " '/content/gdrive/My Drive/ME/Wavfile/ariel_2_08.wav',\n",
              " '/content/gdrive/My Drive/ME/Wavfile/ariel_3_01.wav',\n",
              " '/content/gdrive/My Drive/ME/Wavfile/ariel_2_05.wav',\n",
              " '/content/gdrive/My Drive/ME/Wavfile/ariel_2_09.wav',\n",
              " '/content/gdrive/My Drive/ME/Wavfile/ariel_2_07.wav',\n",
              " '/content/gdrive/My Drive/ME/Wavfile/ariel_3_05.wav',\n",
              " '/content/gdrive/My Drive/ME/Wavfile/ariel_3_02.wav',\n",
              " '/content/gdrive/My Drive/ME/Wavfile/ariel_3_07.wav',\n",
              " '/content/gdrive/My Drive/ME/Wavfile/ariel_3_03.wav',\n",
              " '/content/gdrive/My Drive/ME/Wavfile/ariel_3_08.wav',\n",
              " '/content/gdrive/My Drive/ME/Wavfile/ariel_3_04.wav',\n",
              " '/content/gdrive/My Drive/ME/Wavfile/ariel_3_06.wav',\n",
              " '/content/gdrive/My Drive/ME/Wavfile/ariel_4_02.wav',\n",
              " '/content/gdrive/My Drive/ME/Wavfile/ariel_4_04.wav',\n",
              " '/content/gdrive/My Drive/ME/Wavfile/ariel_4_03.wav',\n",
              " '/content/gdrive/My Drive/ME/Wavfile/ariel_4_07.wav',\n",
              " '/content/gdrive/My Drive/ME/Wavfile/ariel_4_05.wav',\n",
              " '/content/gdrive/My Drive/ME/Wavfile/ariel_4_06.wav',\n",
              " '/content/gdrive/My Drive/ME/Wavfile/ariel_4_01.wav',\n",
              " '/content/gdrive/My Drive/ME/Wavfile/ariel_5_01.wav',\n",
              " '/content/gdrive/My Drive/ME/Wavfile/ariel_5_02.wav',\n",
              " '/content/gdrive/My Drive/ME/Wavfile/ariel_5_03.wav',\n",
              " '/content/gdrive/My Drive/ME/Wavfile/ariel_5_04.wav',\n",
              " '/content/gdrive/My Drive/ME/Wavfile/ariel_5_05.wav',\n",
              " '/content/gdrive/My Drive/ME/Wavfile/ariel_4_08.wav',\n",
              " '/content/gdrive/My Drive/ME/Wavfile/ariel_5_06.wav',\n",
              " '/content/gdrive/My Drive/ME/Wavfile/bobon_1_01.wav',\n",
              " '/content/gdrive/My Drive/ME/Wavfile/bobon_1_03.wav',\n",
              " '/content/gdrive/My Drive/ME/Wavfile/ariel_5_08.wav',\n",
              " '/content/gdrive/My Drive/ME/Wavfile/ariel_5_07.wav',\n",
              " '/content/gdrive/My Drive/ME/Wavfile/bobon_1_02.wav',\n",
              " '/content/gdrive/My Drive/ME/Wavfile/bobon_1_04.wav',\n",
              " '/content/gdrive/My Drive/ME/Wavfile/bobon_1_07.wav',\n",
              " '/content/gdrive/My Drive/ME/Wavfile/bobon_1_06.wav',\n",
              " '/content/gdrive/My Drive/ME/Wavfile/bobon_1_09.wav',\n",
              " '/content/gdrive/My Drive/ME/Wavfile/bobon_1_10.wav',\n",
              " '/content/gdrive/My Drive/ME/Wavfile/bobon_1_05.wav',\n",
              " '/content/gdrive/My Drive/ME/Wavfile/bobon_1_08.wav',\n",
              " '/content/gdrive/My Drive/ME/Wavfile/bobon_2_02.wav',\n",
              " '/content/gdrive/My Drive/ME/Wavfile/bobon_2_05.wav',\n",
              " '/content/gdrive/My Drive/ME/Wavfile/bobon_2_01.wav',\n",
              " '/content/gdrive/My Drive/ME/Wavfile/bobon_2_06.wav',\n",
              " '/content/gdrive/My Drive/ME/Wavfile/bobon_2_04.wav',\n",
              " '/content/gdrive/My Drive/ME/Wavfile/bobon_2_03.wav',\n",
              " '/content/gdrive/My Drive/ME/Wavfile/bobon_2_08.wav',\n",
              " '/content/gdrive/My Drive/ME/Wavfile/bobon_2_07.wav',\n",
              " '/content/gdrive/My Drive/ME/Wavfile/bobon_3_03.wav',\n",
              " '/content/gdrive/My Drive/ME/Wavfile/bobon_3_01.wav',\n",
              " '/content/gdrive/My Drive/ME/Wavfile/bobon_3_04.wav',\n",
              " '/content/gdrive/My Drive/ME/Wavfile/bobon_3_05.wav',\n",
              " '/content/gdrive/My Drive/ME/Wavfile/bobon_3_02.wav',\n",
              " '/content/gdrive/My Drive/ME/Wavfile/bobon_4_01.wav',\n",
              " '/content/gdrive/My Drive/ME/Wavfile/bobon_3_06.wav',\n",
              " '/content/gdrive/My Drive/ME/Wavfile/bobon_3_08.wav',\n",
              " '/content/gdrive/My Drive/ME/Wavfile/bobon_3_07.wav',\n",
              " '/content/gdrive/My Drive/ME/Wavfile/bobon_3_10.wav',\n",
              " '/content/gdrive/My Drive/ME/Wavfile/bobon_4_02.wav',\n",
              " '/content/gdrive/My Drive/ME/Wavfile/bobon_3_09.wav',\n",
              " '/content/gdrive/My Drive/ME/Wavfile/bobon_4_07.wav',\n",
              " '/content/gdrive/My Drive/ME/Wavfile/bobon_4_03.wav',\n",
              " '/content/gdrive/My Drive/ME/Wavfile/bobon_4_08.wav',\n",
              " '/content/gdrive/My Drive/ME/Wavfile/bobon_4_05.wav',\n",
              " '/content/gdrive/My Drive/ME/Wavfile/bobon_4_04.wav',\n",
              " '/content/gdrive/My Drive/ME/Wavfile/bobon_4_06.wav',\n",
              " '/content/gdrive/My Drive/ME/Wavfile/bobon_5_02.wav',\n",
              " '/content/gdrive/My Drive/ME/Wavfile/bobon_5_04.wav',\n",
              " '/content/gdrive/My Drive/ME/Wavfile/bobon_5_01.wav',\n",
              " '/content/gdrive/My Drive/ME/Wavfile/bobon_4_09.wav',\n",
              " '/content/gdrive/My Drive/ME/Wavfile/bobon_4_10.wav',\n",
              " '/content/gdrive/My Drive/ME/Wavfile/bobon_5_03.wav',\n",
              " '/content/gdrive/My Drive/ME/Wavfile/bobon_5_05.wav',\n",
              " '/content/gdrive/My Drive/ME/Wavfile/bobon_5_06.wav',\n",
              " '/content/gdrive/My Drive/ME/Wavfile/bobon_5_08.wav',\n",
              " '/content/gdrive/My Drive/ME/Wavfile/bobon_5_10.wav',\n",
              " '/content/gdrive/My Drive/ME/Wavfile/bobon_5_12.wav',\n",
              " '/content/gdrive/My Drive/ME/Wavfile/bobon_5_11.wav',\n",
              " '/content/gdrive/My Drive/ME/Wavfile/bobon_5_07.wav',\n",
              " '/content/gdrive/My Drive/ME/Wavfile/bobon_5_09.wav',\n",
              " '/content/gdrive/My Drive/ME/Wavfile/bug_2_02.wav',\n",
              " '/content/gdrive/My Drive/ME/Wavfile/bug_1_10.wav',\n",
              " '/content/gdrive/My Drive/ME/Wavfile/bug_1_09.wav',\n",
              " '/content/gdrive/My Drive/ME/Wavfile/bug_2_01.wav',\n",
              " '/content/gdrive/My Drive/ME/Wavfile/bug_1_08.wav',\n",
              " '/content/gdrive/My Drive/ME/Wavfile/bug_1_07.wav',\n",
              " '/content/gdrive/My Drive/ME/Wavfile/bug_2_03.wav',\n",
              " '/content/gdrive/My Drive/ME/Wavfile/bug_3_02.wav',\n",
              " '/content/gdrive/My Drive/ME/Wavfile/bug_2_06.wav',\n",
              " '/content/gdrive/My Drive/ME/Wavfile/bug_2_08.wav',\n",
              " '/content/gdrive/My Drive/ME/Wavfile/bug_2_07.wav',\n",
              " '/content/gdrive/My Drive/ME/Wavfile/bug_2_04.wav',\n",
              " '/content/gdrive/My Drive/ME/Wavfile/bug_2_05.wav',\n",
              " '/content/gdrive/My Drive/ME/Wavfile/bug_3_01.wav',\n",
              " '/content/gdrive/My Drive/ME/Wavfile/bug_3_04.wav',\n",
              " '/content/gdrive/My Drive/ME/Wavfile/bug_3_06.wav',\n",
              " '/content/gdrive/My Drive/ME/Wavfile/bug_3_05.wav',\n",
              " '/content/gdrive/My Drive/ME/Wavfile/bug_3_03.wav',\n",
              " '/content/gdrive/My Drive/ME/Wavfile/bug_3_09.wav',\n",
              " '/content/gdrive/My Drive/ME/Wavfile/bug_4_03.wav',\n",
              " '/content/gdrive/My Drive/ME/Wavfile/bug_3_08.wav',\n",
              " '/content/gdrive/My Drive/ME/Wavfile/bug_5_01.wav',\n",
              " '/content/gdrive/My Drive/ME/Wavfile/bug_3_07.wav',\n",
              " '/content/gdrive/My Drive/ME/Wavfile/bug_4_02.wav',\n",
              " '/content/gdrive/My Drive/ME/Wavfile/bug_4_01.wav',\n",
              " '/content/gdrive/My Drive/ME/Wavfile/bug_5_04.wav',\n",
              " '/content/gdrive/My Drive/ME/Wavfile/bug_5_08.wav',\n",
              " '/content/gdrive/My Drive/ME/Wavfile/bug_5_05.wav',\n",
              " '/content/gdrive/My Drive/ME/Wavfile/bug_5_07.wav',\n",
              " '/content/gdrive/My Drive/ME/Wavfile/bug_5_03.wav',\n",
              " '/content/gdrive/My Drive/ME/Wavfile/bug_5_06.wav',\n",
              " '/content/gdrive/My Drive/ME/Wavfile/bug_5_02.wav',\n",
              " '/content/gdrive/My Drive/ME/Wavfile/bug_5_09.wav',\n",
              " '/content/gdrive/My Drive/ME/Wavfile/bug_5_11.wav',\n",
              " '/content/gdrive/My Drive/ME/Wavfile/bug_5_10.wav',\n",
              " '/content/gdrive/My Drive/ME/Wavfile/bug_5_14.wav',\n",
              " '/content/gdrive/My Drive/ME/Wavfile/bug_5_12.wav',\n",
              " '/content/gdrive/My Drive/ME/Wavfile/bug_5_13.wav',\n",
              " '/content/gdrive/My Drive/ME/Wavfile/davidson_1_04.wav',\n",
              " '/content/gdrive/My Drive/ME/Wavfile/davidson_1_07.wav',\n",
              " '/content/gdrive/My Drive/ME/Wavfile/davidson_1_03.wav',\n",
              " '/content/gdrive/My Drive/ME/Wavfile/davidson_1_05.wav',\n",
              " '/content/gdrive/My Drive/ME/Wavfile/davidson_1_01.wav',\n",
              " '/content/gdrive/My Drive/ME/Wavfile/davidson_1_02.wav',\n",
              " '/content/gdrive/My Drive/ME/Wavfile/davidson_1_06.wav',\n",
              " '/content/gdrive/My Drive/ME/Wavfile/davidson_1_10.wav',\n",
              " '/content/gdrive/My Drive/ME/Wavfile/davidson_2_02.wav',\n",
              " '/content/gdrive/My Drive/ME/Wavfile/davidson_1_09.wav',\n",
              " '/content/gdrive/My Drive/ME/Wavfile/davidson_1_08.wav',\n",
              " '/content/gdrive/My Drive/ME/Wavfile/davidson_2_01.wav',\n",
              " '/content/gdrive/My Drive/ME/Wavfile/davidson_2_03.wav',\n",
              " '/content/gdrive/My Drive/ME/Wavfile/davidson_2_04.wav',\n",
              " '/content/gdrive/My Drive/ME/Wavfile/davidson_2_05.wav',\n",
              " '/content/gdrive/My Drive/ME/Wavfile/davidson_2_08.wav',\n",
              " '/content/gdrive/My Drive/ME/Wavfile/davidson_2_06.wav',\n",
              " '/content/gdrive/My Drive/ME/Wavfile/davidson_2_10.wav',\n",
              " '/content/gdrive/My Drive/ME/Wavfile/davidson_2_09.wav',\n",
              " '/content/gdrive/My Drive/ME/Wavfile/davidson_2_07.wav',\n",
              " '/content/gdrive/My Drive/ME/Wavfile/davidson_3_02.wav',\n",
              " '/content/gdrive/My Drive/ME/Wavfile/davidson_3_01.wav',\n",
              " '/content/gdrive/My Drive/ME/Wavfile/davidson_3_04.wav',\n",
              " '/content/gdrive/My Drive/ME/Wavfile/davidson_3_05.wav',\n",
              " '/content/gdrive/My Drive/ME/Wavfile/davidson_3_03.wav',\n",
              " '/content/gdrive/My Drive/ME/Wavfile/davidson_3_06.wav',\n",
              " '/content/gdrive/My Drive/ME/Wavfile/davidson_3_13.wav',\n",
              " '/content/gdrive/My Drive/ME/Wavfile/davidson_3_09.wav',\n",
              " '/content/gdrive/My Drive/ME/Wavfile/davidson_3_10.wav',\n",
              " '/content/gdrive/My Drive/ME/Wavfile/davidson_3_07.wav',\n",
              " '/content/gdrive/My Drive/ME/Wavfile/davidson_3_12.wav',\n",
              " '/content/gdrive/My Drive/ME/Wavfile/davidson_3_08.wav',\n",
              " '/content/gdrive/My Drive/ME/Wavfile/davidson_3_11.wav',\n",
              " '/content/gdrive/My Drive/ME/Wavfile/davidson_3_14.wav',\n",
              " '/content/gdrive/My Drive/ME/Wavfile/davidson_4_01.wav',\n",
              " '/content/gdrive/My Drive/ME/Wavfile/davidson_4_02.wav',\n",
              " '/content/gdrive/My Drive/ME/Wavfile/davidson_4_06.wav',\n",
              " '/content/gdrive/My Drive/ME/Wavfile/davidson_4_05.wav',\n",
              " '/content/gdrive/My Drive/ME/Wavfile/davidson_4_03.wav',\n",
              " '/content/gdrive/My Drive/ME/Wavfile/davidson_5_01.wav',\n",
              " '/content/gdrive/My Drive/ME/Wavfile/davidson_4_04.wav',\n",
              " '/content/gdrive/My Drive/ME/Wavfile/davidson_4_07.wav',\n",
              " '/content/gdrive/My Drive/ME/Wavfile/davidson_5_02.wav',\n",
              " '/content/gdrive/My Drive/ME/Wavfile/davidson_5_03.wav',\n",
              " '/content/gdrive/My Drive/ME/Wavfile/davidson_5_04.wav',\n",
              " '/content/gdrive/My Drive/ME/Wavfile/davidson_5_05.wav',\n",
              " '/content/gdrive/My Drive/ME/Wavfile/davidson_5_07.wav',\n",
              " '/content/gdrive/My Drive/ME/Wavfile/davidson_5_06.wav',\n",
              " '/content/gdrive/My Drive/ME/Wavfile/davidson_5_09.wav',\n",
              " '/content/gdrive/My Drive/ME/Wavfile/davidson_5_08.wav',\n",
              " '/content/gdrive/My Drive/ME/Wavfile/davidson_5_10.wav',\n",
              " '/content/gdrive/My Drive/ME/Wavfile/fdps_1_01.wav',\n",
              " '/content/gdrive/My Drive/ME/Wavfile/fdps_1_02.wav',\n",
              " '/content/gdrive/My Drive/ME/Wavfile/davidson_5_11.wav',\n",
              " '/content/gdrive/My Drive/ME/Wavfile/fdps_1_06.wav',\n",
              " '/content/gdrive/My Drive/ME/Wavfile/fdps_1_04.wav',\n",
              " '/content/gdrive/My Drive/ME/Wavfile/fdps_1_09.wav',\n",
              " '/content/gdrive/My Drive/ME/Wavfile/fdps_1_03.wav',\n",
              " '/content/gdrive/My Drive/ME/Wavfile/fdps_1_05.wav',\n",
              " '/content/gdrive/My Drive/ME/Wavfile/fdps_1_08.wav',\n",
              " '/content/gdrive/My Drive/ME/Wavfile/fdps_1_07.wav',\n",
              " '/content/gdrive/My Drive/ME/Wavfile/fdps_1_11.wav',\n",
              " '/content/gdrive/My Drive/ME/Wavfile/fdps_1_13.wav',\n",
              " '/content/gdrive/My Drive/ME/Wavfile/fdps_1_10.wav',\n",
              " '/content/gdrive/My Drive/ME/Wavfile/fdps_2_01.wav',\n",
              " '/content/gdrive/My Drive/ME/Wavfile/fdps_1_14.wav',\n",
              " '/content/gdrive/My Drive/ME/Wavfile/fdps_1_12.wav',\n",
              " '/content/gdrive/My Drive/ME/Wavfile/fdps_2_04.wav',\n",
              " '/content/gdrive/My Drive/ME/Wavfile/fdps_2_08.wav',\n",
              " '/content/gdrive/My Drive/ME/Wavfile/fdps_2_09.wav',\n",
              " '/content/gdrive/My Drive/ME/Wavfile/fdps_2_06.wav',\n",
              " '/content/gdrive/My Drive/ME/Wavfile/fdps_2_05.wav',\n",
              " '/content/gdrive/My Drive/ME/Wavfile/fdps_2_07.wav',\n",
              " '/content/gdrive/My Drive/ME/Wavfile/fdps_2_03.wav',\n",
              " '/content/gdrive/My Drive/ME/Wavfile/fdps_2_02.wav',\n",
              " '/content/gdrive/My Drive/ME/Wavfile/fdps_2_11.wav',\n",
              " '/content/gdrive/My Drive/ME/Wavfile/fdps_2_10.wav',\n",
              " '/content/gdrive/My Drive/ME/Wavfile/fdps_3_02.wav',\n",
              " '/content/gdrive/My Drive/ME/Wavfile/fdps_3_03.wav',\n",
              " '/content/gdrive/My Drive/ME/Wavfile/fdps_3_01.wav',\n",
              " '/content/gdrive/My Drive/ME/Wavfile/fdps_2_12.wav',\n",
              " '/content/gdrive/My Drive/ME/Wavfile/fdps_3_07.wav',\n",
              " '/content/gdrive/My Drive/ME/Wavfile/fdps_3_04.wav',\n",
              " '/content/gdrive/My Drive/ME/Wavfile/fdps_3_06.wav',\n",
              " '/content/gdrive/My Drive/ME/Wavfile/fdps_4_02.wav',\n",
              " '/content/gdrive/My Drive/ME/Wavfile/fdps_3_05.wav',\n",
              " '/content/gdrive/My Drive/ME/Wavfile/fdps_4_01.wav',\n",
              " '/content/gdrive/My Drive/ME/Wavfile/fdps_4_03.wav',\n",
              " '/content/gdrive/My Drive/ME/Wavfile/fdps_4_05.wav',\n",
              " '/content/gdrive/My Drive/ME/Wavfile/fdps_4_04.wav',\n",
              " '/content/gdrive/My Drive/ME/Wavfile/fdps_5_01.wav',\n",
              " '/content/gdrive/My Drive/ME/Wavfile/fdps_4_06.wav',\n",
              " '/content/gdrive/My Drive/ME/Wavfile/fdps_5_06.wav',\n",
              " '/content/gdrive/My Drive/ME/Wavfile/fdps_5_04.wav',\n",
              " '/content/gdrive/My Drive/ME/Wavfile/fdps_5_02.wav',\n",
              " '/content/gdrive/My Drive/ME/Wavfile/fdps_5_05.wav',\n",
              " '/content/gdrive/My Drive/ME/Wavfile/fdps_5_03.wav',\n",
              " '/content/gdrive/My Drive/ME/Wavfile/fdps_5_08.wav',\n",
              " '/content/gdrive/My Drive/ME/Wavfile/geniusturtle_1_02.wav',\n",
              " '/content/gdrive/My Drive/ME/Wavfile/geniusturtle_1_01.wav',\n",
              " '/content/gdrive/My Drive/ME/Wavfile/fdps_5_09.wav',\n",
              " '/content/gdrive/My Drive/ME/Wavfile/fdps_5_07.wav',\n",
              " '/content/gdrive/My Drive/ME/Wavfile/geniusturtle_1_03.wav',\n",
              " '/content/gdrive/My Drive/ME/Wavfile/geniusturtle_1_07.wav',\n",
              " '/content/gdrive/My Drive/ME/Wavfile/geniusturtle_1_08.wav',\n",
              " '/content/gdrive/My Drive/ME/Wavfile/geniusturtle_1_06.wav',\n",
              " '/content/gdrive/My Drive/ME/Wavfile/geniusturtle_1_04.wav',\n",
              " '/content/gdrive/My Drive/ME/Wavfile/geniusturtle_1_05.wav',\n",
              " '/content/gdrive/My Drive/ME/Wavfile/geniusturtle_2_06.wav',\n",
              " '/content/gdrive/My Drive/ME/Wavfile/geniusturtle_2_07.wav',\n",
              " '/content/gdrive/My Drive/ME/Wavfile/geniusturtle_2_01.wav',\n",
              " '/content/gdrive/My Drive/ME/Wavfile/geniusturtle_2_02.wav',\n",
              " '/content/gdrive/My Drive/ME/Wavfile/geniusturtle_2_05.wav',\n",
              " '/content/gdrive/My Drive/ME/Wavfile/geniusturtle_1_09.wav',\n",
              " '/content/gdrive/My Drive/ME/Wavfile/geniusturtle_3_03.wav',\n",
              " '/content/gdrive/My Drive/ME/Wavfile/geniusturtle_3_01.wav',\n",
              " '/content/gdrive/My Drive/ME/Wavfile/geniusturtle_3_02.wav',\n",
              " '/content/gdrive/My Drive/ME/Wavfile/geniusturtle_2_08.wav',\n",
              " '/content/gdrive/My Drive/ME/Wavfile/geniusturtle_3_06.wav',\n",
              " '/content/gdrive/My Drive/ME/Wavfile/geniusturtle_3_04.wav',\n",
              " '/content/gdrive/My Drive/ME/Wavfile/geniusturtle_3_05.wav',\n",
              " '/content/gdrive/My Drive/ME/Wavfile/geniusturtle_4_01.wav',\n",
              " '/content/gdrive/My Drive/ME/Wavfile/geniusturtle_3_08.wav',\n",
              " '/content/gdrive/My Drive/ME/Wavfile/geniusturtle_4_04.wav',\n",
              " '/content/gdrive/My Drive/ME/Wavfile/geniusturtle_3_07.wav',\n",
              " '/content/gdrive/My Drive/ME/Wavfile/geniusturtle_4_02.wav',\n",
              " '/content/gdrive/My Drive/ME/Wavfile/geniusturtle_4_03.wav',\n",
              " '/content/gdrive/My Drive/ME/Wavfile/geniusturtle_4_05.wav',\n",
              " '/content/gdrive/My Drive/ME/Wavfile/geniusturtle_4_11.wav',\n",
              " '/content/gdrive/My Drive/ME/Wavfile/geniusturtle_4_07.wav',\n",
              " '/content/gdrive/My Drive/ME/Wavfile/geniusturtle_4_08.wav',\n",
              " '/content/gdrive/My Drive/ME/Wavfile/geniusturtle_4_12.wav',\n",
              " '/content/gdrive/My Drive/ME/Wavfile/geniusturtle_4_10.wav',\n",
              " '/content/gdrive/My Drive/ME/Wavfile/geniusturtle_4_06.wav',\n",
              " '/content/gdrive/My Drive/ME/Wavfile/geniusturtle_4_09.wav',\n",
              " '/content/gdrive/My Drive/ME/Wavfile/geniusturtle_5_02.wav',\n",
              " '/content/gdrive/My Drive/ME/Wavfile/geniusturtle_5_01.wav',\n",
              " '/content/gdrive/My Drive/ME/Wavfile/geniusturtle_5_04.wav',\n",
              " '/content/gdrive/My Drive/ME/Wavfile/geniusturtle_5_03.wav',\n",
              " '/content/gdrive/My Drive/ME/Wavfile/geniusturtle_6_02.wav',\n",
              " '/content/gdrive/My Drive/ME/Wavfile/geniusturtle_6_01.wav',\n",
              " '/content/gdrive/My Drive/ME/Wavfile/geniusturtle_7_01.wav',\n",
              " '/content/gdrive/My Drive/ME/Wavfile/geniusturtle_6_06.wav',\n",
              " '/content/gdrive/My Drive/ME/Wavfile/geniusturtle_6_05.wav',\n",
              " '/content/gdrive/My Drive/ME/Wavfile/geniusturtle_6_04.wav',\n",
              " '/content/gdrive/My Drive/ME/Wavfile/geniusturtle_6_03.wav',\n",
              " '/content/gdrive/My Drive/ME/Wavfile/geniusturtle_6_07.wav',\n",
              " '/content/gdrive/My Drive/ME/Wavfile/geniusturtle_7_02.wav',\n",
              " '/content/gdrive/My Drive/ME/Wavfile/geniusturtle_7_03.wav',\n",
              " '/content/gdrive/My Drive/ME/Wavfile/geniusturtle_7_04.wav',\n",
              " '/content/gdrive/My Drive/ME/Wavfile/geniusturtle_7_06.wav',\n",
              " '/content/gdrive/My Drive/ME/Wavfile/geniusturtle_7_05.wav',\n",
              " '/content/gdrive/My Drive/ME/Wavfile/geniusturtle_7_11.wav',\n",
              " '/content/gdrive/My Drive/ME/Wavfile/geniusturtle_7_12.wav',\n",
              " '/content/gdrive/My Drive/ME/Wavfile/geniusturtle_7_09.wav',\n",
              " '/content/gdrive/My Drive/ME/Wavfile/geniusturtle_7_07.wav',\n",
              " '/content/gdrive/My Drive/ME/Wavfile/geniusturtle_7_10.wav',\n",
              " '/content/gdrive/My Drive/ME/Wavfile/geniusturtle_7_13.wav',\n",
              " '/content/gdrive/My Drive/ME/Wavfile/geniusturtle_7_08.wav',\n",
              " '/content/gdrive/My Drive/ME/Wavfile/geniusturtle_8_03.wav',\n",
              " '/content/gdrive/My Drive/ME/Wavfile/geniusturtle_8_01.wav',\n",
              " '/content/gdrive/My Drive/ME/Wavfile/geniusturtle_7_15.wav',\n",
              " '/content/gdrive/My Drive/ME/Wavfile/geniusturtle_8_04.wav',\n",
              " '/content/gdrive/My Drive/ME/Wavfile/geniusturtle_8_02.wav',\n",
              " '/content/gdrive/My Drive/ME/Wavfile/geniusturtle_7_14.wav',\n",
              " '/content/gdrive/My Drive/ME/Wavfile/heycat_1_02.wav',\n",
              " '/content/gdrive/My Drive/ME/Wavfile/heycat_1_03.wav',\n",
              " '/content/gdrive/My Drive/ME/Wavfile/geniusturtle_8_06.wav',\n",
              " '/content/gdrive/My Drive/ME/Wavfile/geniusturtle_8_08.wav',\n",
              " '/content/gdrive/My Drive/ME/Wavfile/geniusturtle_8_07.wav',\n",
              " '/content/gdrive/My Drive/ME/Wavfile/heycat_1_01.wav',\n",
              " '/content/gdrive/My Drive/ME/Wavfile/geniusturtle_8_05.wav',\n",
              " '/content/gdrive/My Drive/ME/Wavfile/heycat_1_06.wav',\n",
              " '/content/gdrive/My Drive/ME/Wavfile/heycat_2_02.wav',\n",
              " '/content/gdrive/My Drive/ME/Wavfile/heycat_1_04.wav',\n",
              " '/content/gdrive/My Drive/ME/Wavfile/heycat_1_05.wav',\n",
              " '/content/gdrive/My Drive/ME/Wavfile/heycat_1_08.wav',\n",
              " '/content/gdrive/My Drive/ME/Wavfile/heycat_1_07.wav',\n",
              " '/content/gdrive/My Drive/ME/Wavfile/heycat_2_01.wav',\n",
              " '/content/gdrive/My Drive/ME/Wavfile/heycat_2_06.wav',\n",
              " '/content/gdrive/My Drive/ME/Wavfile/heycat_3_01.wav',\n",
              " '/content/gdrive/My Drive/ME/Wavfile/heycat_2_07.wav',\n",
              " '/content/gdrive/My Drive/ME/Wavfile/heycat_2_04.wav',\n",
              " '/content/gdrive/My Drive/ME/Wavfile/heycat_2_05.wav',\n",
              " '/content/gdrive/My Drive/ME/Wavfile/heycat_3_02.wav',\n",
              " '/content/gdrive/My Drive/ME/Wavfile/heycat_2_03.wav',\n",
              " '/content/gdrive/My Drive/ME/Wavfile/heycat_4_01.wav',\n",
              " '/content/gdrive/My Drive/ME/Wavfile/heycat_3_03.wav',\n",
              " '/content/gdrive/My Drive/ME/Wavfile/heycat_3_06.wav',\n",
              " '/content/gdrive/My Drive/ME/Wavfile/heycat_3_05.wav',\n",
              " '/content/gdrive/My Drive/ME/Wavfile/heycat_3_07.wav',\n",
              " '/content/gdrive/My Drive/ME/Wavfile/heycat_3_04.wav',\n",
              " '/content/gdrive/My Drive/ME/Wavfile/heycat_3_08.wav',\n",
              " '/content/gdrive/My Drive/ME/Wavfile/heycat_4_08.wav',\n",
              " '/content/gdrive/My Drive/ME/Wavfile/heycat_4_04.wav',\n",
              " '/content/gdrive/My Drive/ME/Wavfile/heycat_4_07.wav',\n",
              " '/content/gdrive/My Drive/ME/Wavfile/heycat_4_05.wav',\n",
              " '/content/gdrive/My Drive/ME/Wavfile/heycat_4_02.wav',\n",
              " '/content/gdrive/My Drive/ME/Wavfile/heycat_4_06.wav',\n",
              " '/content/gdrive/My Drive/ME/Wavfile/heycat_4_03.wav',\n",
              " '/content/gdrive/My Drive/ME/Wavfile/heycat_5_01.wav',\n",
              " '/content/gdrive/My Drive/ME/Wavfile/heycat_5_03.wav',\n",
              " '/content/gdrive/My Drive/ME/Wavfile/heycat_5_05.wav',\n",
              " '/content/gdrive/My Drive/ME/Wavfile/heycat_5_06.wav',\n",
              " '/content/gdrive/My Drive/ME/Wavfile/heycat_4_09.wav',\n",
              " '/content/gdrive/My Drive/ME/Wavfile/heycat_5_02.wav',\n",
              " '/content/gdrive/My Drive/ME/Wavfile/heycat_5_04.wav',\n",
              " '/content/gdrive/My Drive/ME/Wavfile/jmzen_1_05.wav',\n",
              " '/content/gdrive/My Drive/ME/Wavfile/jmzen_1_04.wav',\n",
              " '/content/gdrive/My Drive/ME/Wavfile/heycat_5_08.wav',\n",
              " '/content/gdrive/My Drive/ME/Wavfile/jmzen_1_02.wav',\n",
              " '/content/gdrive/My Drive/ME/Wavfile/jmzen_1_01.wav',\n",
              " '/content/gdrive/My Drive/ME/Wavfile/heycat_5_07.wav',\n",
              " '/content/gdrive/My Drive/ME/Wavfile/jmzen_1_03.wav',\n",
              " '/content/gdrive/My Drive/ME/Wavfile/jmzen_1_08.wav',\n",
              " '/content/gdrive/My Drive/ME/Wavfile/jmzen_1_09.wav',\n",
              " '/content/gdrive/My Drive/ME/Wavfile/jmzen_1_07.wav',\n",
              " '/content/gdrive/My Drive/ME/Wavfile/jmzen_1_10.wav',\n",
              " '/content/gdrive/My Drive/ME/Wavfile/jmzen_1_11.wav',\n",
              " '/content/gdrive/My Drive/ME/Wavfile/jmzen_1_12.wav',\n",
              " '/content/gdrive/My Drive/ME/Wavfile/jmzen_2_03.wav',\n",
              " '/content/gdrive/My Drive/ME/Wavfile/jmzen_2_02.wav',\n",
              " '/content/gdrive/My Drive/ME/Wavfile/jmzen_2_04.wav',\n",
              " '/content/gdrive/My Drive/ME/Wavfile/jmzen_2_01.wav',\n",
              " '/content/gdrive/My Drive/ME/Wavfile/jmzen_2_08.wav',\n",
              " '/content/gdrive/My Drive/ME/Wavfile/jmzen_2_11.wav',\n",
              " '/content/gdrive/My Drive/ME/Wavfile/jmzen_2_07.wav',\n",
              " '/content/gdrive/My Drive/ME/Wavfile/jmzen_2_10.wav',\n",
              " '/content/gdrive/My Drive/ME/Wavfile/jmzen_2_06.wav',\n",
              " '/content/gdrive/My Drive/ME/Wavfile/jmzen_2_09.wav',\n",
              " '/content/gdrive/My Drive/ME/Wavfile/jmzen_3_05.wav',\n",
              " '/content/gdrive/My Drive/ME/Wavfile/jmzen_3_01.wav',\n",
              " '/content/gdrive/My Drive/ME/Wavfile/jmzen_3_06.wav',\n",
              " '/content/gdrive/My Drive/ME/Wavfile/jmzen_3_04.wav',\n",
              " '/content/gdrive/My Drive/ME/Wavfile/jmzen_3_02.wav',\n",
              " '/content/gdrive/My Drive/ME/Wavfile/jmzen_2_12.wav',\n",
              " '/content/gdrive/My Drive/ME/Wavfile/jmzen_3_03.wav',\n",
              " '/content/gdrive/My Drive/ME/Wavfile/jmzen_3_10.wav',\n",
              " '/content/gdrive/My Drive/ME/Wavfile/jmzen_3_08.wav',\n",
              " '/content/gdrive/My Drive/ME/Wavfile/jmzen_3_09.wav',\n",
              " '/content/gdrive/My Drive/ME/Wavfile/jmzen_3_07.wav',\n",
              " '/content/gdrive/My Drive/ME/Wavfile/jmzen_4_01.wav',\n",
              " '/content/gdrive/My Drive/ME/Wavfile/jmzen_3_11.wav',\n",
              " '/content/gdrive/My Drive/ME/Wavfile/jmzen_4_03.wav',\n",
              " '/content/gdrive/My Drive/ME/Wavfile/jmzen_4_04.wav',\n",
              " '/content/gdrive/My Drive/ME/Wavfile/jmzen_4_02.wav',\n",
              " '/content/gdrive/My Drive/ME/Wavfile/jmzen_4_07.wav',\n",
              " '/content/gdrive/My Drive/ME/Wavfile/jmzen_4_08.wav',\n",
              " '/content/gdrive/My Drive/ME/Wavfile/jmzen_4_09.wav',\n",
              " '/content/gdrive/My Drive/ME/Wavfile/jmzen_4_05.wav',\n",
              " '/content/gdrive/My Drive/ME/Wavfile/jmzen_4_06.wav',\n",
              " '/content/gdrive/My Drive/ME/Wavfile/jmzen_4_10.wav',\n",
              " '/content/gdrive/My Drive/ME/Wavfile/jmzen_5_04.wav',\n",
              " '/content/gdrive/My Drive/ME/Wavfile/jmzen_5_03.wav',\n",
              " '/content/gdrive/My Drive/ME/Wavfile/jmzen_5_02.wav',\n",
              " '/content/gdrive/My Drive/ME/Wavfile/jmzen_5_07.wav',\n",
              " '/content/gdrive/My Drive/ME/Wavfile/jmzen_5_01.wav',\n",
              " '/content/gdrive/My Drive/ME/Wavfile/jmzen_5_06.wav',\n",
              " '/content/gdrive/My Drive/ME/Wavfile/jmzen_5_05.wav',\n",
              " '/content/gdrive/My Drive/ME/Wavfile/jmzen_5_08.wav',\n",
              " '/content/gdrive/My Drive/ME/Wavfile/khair_1_05.wav',\n",
              " '/content/gdrive/My Drive/ME/Wavfile/khair_1_02.wav',\n",
              " '/content/gdrive/My Drive/ME/Wavfile/khair_1_01.wav',\n",
              " '/content/gdrive/My Drive/ME/Wavfile/khair_1_03.wav',\n",
              " '/content/gdrive/My Drive/ME/Wavfile/khair_1_04.wav',\n",
              " '/content/gdrive/My Drive/ME/Wavfile/jmzen_5_09.wav',\n",
              " '/content/gdrive/My Drive/ME/Wavfile/khair_1_07.wav',\n",
              " '/content/gdrive/My Drive/ME/Wavfile/khair_2_02.wav',\n",
              " '/content/gdrive/My Drive/ME/Wavfile/khair_2_03.wav',\n",
              " '/content/gdrive/My Drive/ME/Wavfile/khair_1_08.wav',\n",
              " '/content/gdrive/My Drive/ME/Wavfile/khair_2_01.wav',\n",
              " '/content/gdrive/My Drive/ME/Wavfile/khair_1_06.wav',\n",
              " '/content/gdrive/My Drive/ME/Wavfile/khair_2_07.wav',\n",
              " '/content/gdrive/My Drive/ME/Wavfile/khair_3_02.wav',\n",
              " '/content/gdrive/My Drive/ME/Wavfile/khair_2_04.wav',\n",
              " '/content/gdrive/My Drive/ME/Wavfile/khair_3_01.wav',\n",
              " '/content/gdrive/My Drive/ME/Wavfile/khair_2_05.wav',\n",
              " '/content/gdrive/My Drive/ME/Wavfile/khair_2_06.wav',\n",
              " '/content/gdrive/My Drive/ME/Wavfile/khair_3_05.wav',\n",
              " '/content/gdrive/My Drive/ME/Wavfile/khair_4_01.wav',\n",
              " '/content/gdrive/My Drive/ME/Wavfile/khair_3_07.wav',\n",
              " '/content/gdrive/My Drive/ME/Wavfile/khair_3_03.wav',\n",
              " '/content/gdrive/My Drive/ME/Wavfile/khair_3_04.wav',\n",
              " '/content/gdrive/My Drive/ME/Wavfile/khair_3_06.wav',\n",
              " '/content/gdrive/My Drive/ME/Wavfile/khair_4_02.wav',\n",
              " '/content/gdrive/My Drive/ME/Wavfile/khair_4_04.wav',\n",
              " '/content/gdrive/My Drive/ME/Wavfile/khair_4_06.wav',\n",
              " '/content/gdrive/My Drive/ME/Wavfile/khair_4_05.wav',\n",
              " '/content/gdrive/My Drive/ME/Wavfile/khair_4_07.wav',\n",
              " '/content/gdrive/My Drive/ME/Wavfile/khair_4_03.wav',\n",
              " '/content/gdrive/My Drive/ME/Wavfile/khair_4_08.wav',\n",
              " '/content/gdrive/My Drive/ME/Wavfile/khair_5_01.wav',\n",
              " '/content/gdrive/My Drive/ME/Wavfile/khair_5_04.wav',\n",
              " '/content/gdrive/My Drive/ME/Wavfile/khair_5_03.wav',\n",
              " '/content/gdrive/My Drive/ME/Wavfile/khair_5_02.wav',\n",
              " '/content/gdrive/My Drive/ME/Wavfile/khair_5_05.wav',\n",
              " '/content/gdrive/My Drive/ME/Wavfile/khair_6_02.wav',\n",
              " '/content/gdrive/My Drive/ME/Wavfile/khair_5_07.wav',\n",
              " '/content/gdrive/My Drive/ME/Wavfile/khair_6_03.wav',\n",
              " '/content/gdrive/My Drive/ME/Wavfile/khair_6_04.wav',\n",
              " '/content/gdrive/My Drive/ME/Wavfile/khair_6_01.wav',\n",
              " '/content/gdrive/My Drive/ME/Wavfile/khair_5_06.wav',\n",
              " '/content/gdrive/My Drive/ME/Wavfile/leon_1_04.wav',\n",
              " '/content/gdrive/My Drive/ME/Wavfile/leon_1_02.wav',\n",
              " '/content/gdrive/My Drive/ME/Wavfile/leon_1_03.wav',\n",
              " '/content/gdrive/My Drive/ME/Wavfile/khair_6_07.wav',\n",
              " '/content/gdrive/My Drive/ME/Wavfile/khair_6_06.wav',\n",
              " '/content/gdrive/My Drive/ME/Wavfile/khair_6_05.wav',\n",
              " '/content/gdrive/My Drive/ME/Wavfile/leon_1_01.wav',\n",
              " '/content/gdrive/My Drive/ME/Wavfile/leon_1_08.wav',\n",
              " '/content/gdrive/My Drive/ME/Wavfile/leon_1_05.wav',\n",
              " '/content/gdrive/My Drive/ME/Wavfile/leon_1_09.wav',\n",
              " '/content/gdrive/My Drive/ME/Wavfile/leon_1_10.wav',\n",
              " '/content/gdrive/My Drive/ME/Wavfile/leon_1_11.wav',\n",
              " '/content/gdrive/My Drive/ME/Wavfile/leon_1_06.wav',\n",
              " '/content/gdrive/My Drive/ME/Wavfile/leon_1_07.wav',\n",
              " '/content/gdrive/My Drive/ME/Wavfile/leon_2_02.wav',\n",
              " '/content/gdrive/My Drive/ME/Wavfile/leon_1_12.wav',\n",
              " '/content/gdrive/My Drive/ME/Wavfile/leon_2_04.wav',\n",
              " '/content/gdrive/My Drive/ME/Wavfile/leon_2_05.wav',\n",
              " '/content/gdrive/My Drive/ME/Wavfile/leon_2_06.wav',\n",
              " '/content/gdrive/My Drive/ME/Wavfile/leon_2_01.wav',\n",
              " '/content/gdrive/My Drive/ME/Wavfile/leon_2_03.wav',\n",
              " '/content/gdrive/My Drive/ME/Wavfile/leon_2_11.wav',\n",
              " '/content/gdrive/My Drive/ME/Wavfile/leon_2_10.wav',\n",
              " '/content/gdrive/My Drive/ME/Wavfile/leon_3_02.wav',\n",
              " '/content/gdrive/My Drive/ME/Wavfile/leon_2_07.wav',\n",
              " '/content/gdrive/My Drive/ME/Wavfile/leon_2_08.wav',\n",
              " '/content/gdrive/My Drive/ME/Wavfile/leon_2_09.wav',\n",
              " '/content/gdrive/My Drive/ME/Wavfile/leon_3_01.wav',\n",
              " '/content/gdrive/My Drive/ME/Wavfile/leon_3_08.wav',\n",
              " '/content/gdrive/My Drive/ME/Wavfile/leon_3_06.wav',\n",
              " '/content/gdrive/My Drive/ME/Wavfile/leon_3_03.wav',\n",
              " '/content/gdrive/My Drive/ME/Wavfile/leon_3_04.wav',\n",
              " '/content/gdrive/My Drive/ME/Wavfile/leon_3_07.wav',\n",
              " '/content/gdrive/My Drive/ME/Wavfile/leon_3_05.wav',\n",
              " '/content/gdrive/My Drive/ME/Wavfile/leon_3_09.wav',\n",
              " '/content/gdrive/My Drive/ME/Wavfile/leon_3_11.wav',\n",
              " '/content/gdrive/My Drive/ME/Wavfile/leon_3_12.wav',\n",
              " '/content/gdrive/My Drive/ME/Wavfile/leon_3_13.wav',\n",
              " '/content/gdrive/My Drive/ME/Wavfile/leon_4_01.wav',\n",
              " '/content/gdrive/My Drive/ME/Wavfile/leon_3_10.wav',\n",
              " '/content/gdrive/My Drive/ME/Wavfile/leon_4_02.wav',\n",
              " '/content/gdrive/My Drive/ME/Wavfile/leon_4_08.wav',\n",
              " '/content/gdrive/My Drive/ME/Wavfile/leon_4_04.wav',\n",
              " '/content/gdrive/My Drive/ME/Wavfile/leon_4_06.wav',\n",
              " '/content/gdrive/My Drive/ME/Wavfile/leon_4_07.wav',\n",
              " '/content/gdrive/My Drive/ME/Wavfile/leon_4_03.wav',\n",
              " '/content/gdrive/My Drive/ME/Wavfile/leon_4_05.wav',\n",
              " '/content/gdrive/My Drive/ME/Wavfile/leon_5_07.wav',\n",
              " '/content/gdrive/My Drive/ME/Wavfile/leon_5_03.wav',\n",
              " '/content/gdrive/My Drive/ME/Wavfile/leon_5_06.wav',\n",
              " '/content/gdrive/My Drive/ME/Wavfile/leon_5_01.wav',\n",
              " '/content/gdrive/My Drive/ME/Wavfile/leon_5_08.wav',\n",
              " '/content/gdrive/My Drive/ME/Wavfile/leon_5_02.wav',\n",
              " '/content/gdrive/My Drive/ME/Wavfile/leon_5_05.wav',\n",
              " '/content/gdrive/My Drive/ME/Wavfile/leon_5_04.wav',\n",
              " '/content/gdrive/My Drive/ME/Wavfile/leon_5_10.wav',\n",
              " '/content/gdrive/My Drive/ME/Wavfile/leon_6_02.wav',\n",
              " '/content/gdrive/My Drive/ME/Wavfile/leon_6_01.wav',\n",
              " '/content/gdrive/My Drive/ME/Wavfile/leon_5_09.wav',\n",
              " '/content/gdrive/My Drive/ME/Wavfile/leon_6_03.wav',\n",
              " '/content/gdrive/My Drive/ME/Wavfile/leon_5_11.wav',\n",
              " '/content/gdrive/My Drive/ME/Wavfile/leon_5_12.wav',\n",
              " '/content/gdrive/My Drive/ME/Wavfile/leon_6_09.wav',\n",
              " '/content/gdrive/My Drive/ME/Wavfile/leon_6_07.wav',\n",
              " '/content/gdrive/My Drive/ME/Wavfile/leon_6_04.wav',\n",
              " '/content/gdrive/My Drive/ME/Wavfile/leon_6_06.wav',\n",
              " '/content/gdrive/My Drive/ME/Wavfile/leon_6_08.wav',\n",
              " '/content/gdrive/My Drive/ME/Wavfile/leon_7_01.wav',\n",
              " '/content/gdrive/My Drive/ME/Wavfile/leon_6_05.wav',\n",
              " '/content/gdrive/My Drive/ME/Wavfile/leon_7_02.wav',\n",
              " '/content/gdrive/My Drive/ME/Wavfile/leon_7_08.wav',\n",
              " '/content/gdrive/My Drive/ME/Wavfile/leon_7_03.wav',\n",
              " '/content/gdrive/My Drive/ME/Wavfile/leon_7_07.wav',\n",
              " '/content/gdrive/My Drive/ME/Wavfile/leon_7_05.wav',\n",
              " '/content/gdrive/My Drive/ME/Wavfile/leon_7_04.wav',\n",
              " '/content/gdrive/My Drive/ME/Wavfile/leon_7_06.wav',\n",
              " '/content/gdrive/My Drive/ME/Wavfile/leon_7_11.wav',\n",
              " '/content/gdrive/My Drive/ME/Wavfile/leon_7_09.wav',\n",
              " '/content/gdrive/My Drive/ME/Wavfile/leon_7_10.wav',\n",
              " '/content/gdrive/My Drive/ME/Wavfile/leon_7_12.wav',\n",
              " '/content/gdrive/My Drive/ME/Wavfile/leon_8_01.wav',\n",
              " '/content/gdrive/My Drive/ME/Wavfile/leon_7_13.wav',\n",
              " '/content/gdrive/My Drive/ME/Wavfile/leon_8_05.wav',\n",
              " '/content/gdrive/My Drive/ME/Wavfile/leon_8_04.wav',\n",
              " '/content/gdrive/My Drive/ME/Wavfile/leon_8_07.wav',\n",
              " '/content/gdrive/My Drive/ME/Wavfile/leon_8_02.wav',\n",
              " '/content/gdrive/My Drive/ME/Wavfile/leon_8_03.wav',\n",
              " '/content/gdrive/My Drive/ME/Wavfile/leon_8_06.wav',\n",
              " '/content/gdrive/My Drive/ME/Wavfile/leon_8_08.wav',\n",
              " '/content/gdrive/My Drive/ME/Wavfile/leon_8_09.wav',\n",
              " '/content/gdrive/My Drive/ME/Wavfile/leon_8_12.wav',\n",
              " '/content/gdrive/My Drive/ME/Wavfile/leon_9_01.wav',\n",
              " '/content/gdrive/My Drive/ME/Wavfile/leon_8_11.wav',\n",
              " '/content/gdrive/My Drive/ME/Wavfile/leon_8_13.wav',\n",
              " '/content/gdrive/My Drive/ME/Wavfile/leon_8_10.wav',\n",
              " '/content/gdrive/My Drive/ME/Wavfile/leon_9_03.wav',\n",
              " '/content/gdrive/My Drive/ME/Wavfile/leon_9_04.wav',\n",
              " '/content/gdrive/My Drive/ME/Wavfile/leon_9_06.wav',\n",
              " '/content/gdrive/My Drive/ME/Wavfile/leon_9_02.wav',\n",
              " '/content/gdrive/My Drive/ME/Wavfile/leon_9_05.wav',\n",
              " '/content/gdrive/My Drive/ME/Wavfile/stool_1_04.wav',\n",
              " '/content/gdrive/My Drive/ME/Wavfile/stool_1_05.wav',\n",
              " '/content/gdrive/My Drive/ME/Wavfile/stool_1_03.wav',\n",
              " '/content/gdrive/My Drive/ME/Wavfile/stool_1_02.wav',\n",
              " '/content/gdrive/My Drive/ME/Wavfile/stool_1_01.wav',\n",
              " '/content/gdrive/My Drive/ME/Wavfile/stool_1_06.wav',\n",
              " '/content/gdrive/My Drive/ME/Wavfile/stool_2_04.wav',\n",
              " '/content/gdrive/My Drive/ME/Wavfile/stool_2_02.wav',\n",
              " '/content/gdrive/My Drive/ME/Wavfile/stool_1_08.wav',\n",
              " '/content/gdrive/My Drive/ME/Wavfile/stool_1_09.wav',\n",
              " '/content/gdrive/My Drive/ME/Wavfile/stool_2_03.wav',\n",
              " '/content/gdrive/My Drive/ME/Wavfile/stool_1_07.wav',\n",
              " '/content/gdrive/My Drive/ME/Wavfile/stool_2_01.wav',\n",
              " '/content/gdrive/My Drive/ME/Wavfile/stool_2_07.wav',\n",
              " '/content/gdrive/My Drive/ME/Wavfile/stool_3_02.wav',\n",
              " '/content/gdrive/My Drive/ME/Wavfile/stool_3_01.wav',\n",
              " '/content/gdrive/My Drive/ME/Wavfile/stool_2_06.wav',\n",
              " '/content/gdrive/My Drive/ME/Wavfile/stool_2_05.wav',\n",
              " '/content/gdrive/My Drive/ME/Wavfile/stool_2_08.wav',\n",
              " '/content/gdrive/My Drive/ME/Wavfile/stool_3_08.wav',\n",
              " '/content/gdrive/My Drive/ME/Wavfile/stool_3_06.wav',\n",
              " '/content/gdrive/My Drive/ME/Wavfile/stool_3_03.wav',\n",
              " '/content/gdrive/My Drive/ME/Wavfile/stool_3_04.wav',\n",
              " '/content/gdrive/My Drive/ME/Wavfile/stool_3_09.wav',\n",
              " '/content/gdrive/My Drive/ME/Wavfile/stool_3_05.wav',\n",
              " '/content/gdrive/My Drive/ME/Wavfile/stool_3_07.wav',\n",
              " '/content/gdrive/My Drive/ME/Wavfile/stool_4_03.wav',\n",
              " '/content/gdrive/My Drive/ME/Wavfile/stool_4_01.wav',\n",
              " '/content/gdrive/My Drive/ME/Wavfile/stool_3_10.wav',\n",
              " '/content/gdrive/My Drive/ME/Wavfile/stool_4_05.wav',\n",
              " '/content/gdrive/My Drive/ME/Wavfile/stool_4_02.wav',\n",
              " '/content/gdrive/My Drive/ME/Wavfile/stool_4_06.wav',\n",
              " '/content/gdrive/My Drive/ME/Wavfile/stool_4_04.wav',\n",
              " '/content/gdrive/My Drive/ME/Wavfile/stool_5_01.wav',\n",
              " '/content/gdrive/My Drive/ME/Wavfile/stool_4_07.wav',\n",
              " '/content/gdrive/My Drive/ME/Wavfile/stool_5_02.wav',\n",
              " '/content/gdrive/My Drive/ME/Wavfile/stool_4_08.wav',\n",
              " '/content/gdrive/My Drive/ME/Wavfile/stool_4_10.wav',\n",
              " '/content/gdrive/My Drive/ME/Wavfile/stool_4_09.wav',\n",
              " '/content/gdrive/My Drive/ME/Wavfile/stool_5_07.wav',\n",
              " '/content/gdrive/My Drive/ME/Wavfile/stool_5_06.wav',\n",
              " '/content/gdrive/My Drive/ME/Wavfile/stool_5_03.wav',\n",
              " '/content/gdrive/My Drive/ME/Wavfile/stool_5_04.wav',\n",
              " '/content/gdrive/My Drive/ME/Wavfile/stool_5_08.wav',\n",
              " '/content/gdrive/My Drive/ME/Wavfile/stool_5_05.wav',\n",
              " '/content/gdrive/My Drive/ME/Wavfile/tammy_1_04.wav',\n",
              " '/content/gdrive/My Drive/ME/Wavfile/tammy_1_06.wav',\n",
              " '/content/gdrive/My Drive/ME/Wavfile/tammy_1_03.wav',\n",
              " '/content/gdrive/My Drive/ME/Wavfile/tammy_1_02.wav',\n",
              " '/content/gdrive/My Drive/ME/Wavfile/tammy_1_05.wav',\n",
              " '/content/gdrive/My Drive/ME/Wavfile/tammy_1_01.wav',\n",
              " '/content/gdrive/My Drive/ME/Wavfile/titon_1_05.wav',\n",
              " '/content/gdrive/My Drive/ME/Wavfile/tammy_1_08.wav',\n",
              " '/content/gdrive/My Drive/ME/Wavfile/titon_1_03.wav',\n",
              " '/content/gdrive/My Drive/ME/Wavfile/titon_1_01.wav',\n",
              " '/content/gdrive/My Drive/ME/Wavfile/titon_1_04.wav',\n",
              " '/content/gdrive/My Drive/ME/Wavfile/tammy_1_07.wav',\n",
              " '/content/gdrive/My Drive/ME/Wavfile/titon_1_02.wav',\n",
              " '/content/gdrive/My Drive/ME/Wavfile/titon_2_01.wav',\n",
              " '/content/gdrive/My Drive/ME/Wavfile/titon_1_08.wav',\n",
              " '/content/gdrive/My Drive/ME/Wavfile/titon_2_02.wav',\n",
              " '/content/gdrive/My Drive/ME/Wavfile/titon_1_07.wav',\n",
              " '/content/gdrive/My Drive/ME/Wavfile/titon_1_06.wav',\n",
              " '/content/gdrive/My Drive/ME/Wavfile/titon_2_07.wav',\n",
              " '/content/gdrive/My Drive/ME/Wavfile/titon_2_08.wav',\n",
              " '/content/gdrive/My Drive/ME/Wavfile/titon_2_04.wav',\n",
              " '/content/gdrive/My Drive/ME/Wavfile/titon_2_03.wav',\n",
              " '/content/gdrive/My Drive/ME/Wavfile/titon_2_06.wav',\n",
              " '/content/gdrive/My Drive/ME/Wavfile/titon_2_05.wav',\n",
              " '/content/gdrive/My Drive/ME/Wavfile/titon_3_01.wav',\n",
              " '/content/gdrive/My Drive/ME/Wavfile/titon_3_03.wav',\n",
              " '/content/gdrive/My Drive/ME/Wavfile/titon_2_09.wav',\n",
              " '/content/gdrive/My Drive/ME/Wavfile/titon_3_04.wav',\n",
              " '/content/gdrive/My Drive/ME/Wavfile/titon_3_02.wav',\n",
              " '/content/gdrive/My Drive/ME/Wavfile/titon_4_02.wav',\n",
              " '/content/gdrive/My Drive/ME/Wavfile/titon_3_07.wav',\n",
              " '/content/gdrive/My Drive/ME/Wavfile/titon_3_05.wav',\n",
              " '/content/gdrive/My Drive/ME/Wavfile/titon_3_06.wav',\n",
              " '/content/gdrive/My Drive/ME/Wavfile/titon_4_01.wav',\n",
              " '/content/gdrive/My Drive/ME/Wavfile/titon_3_08.wav',\n",
              " '/content/gdrive/My Drive/ME/Wavfile/titon_4_04.wav',\n",
              " '/content/gdrive/My Drive/ME/Wavfile/titon_4_05.wav',\n",
              " '/content/gdrive/My Drive/ME/Wavfile/titon_4_06.wav',\n",
              " '/content/gdrive/My Drive/ME/Wavfile/titon_4_03.wav',\n",
              " '/content/gdrive/My Drive/ME/Wavfile/titon_4_08.wav',\n",
              " '/content/gdrive/My Drive/ME/Wavfile/titon_4_07.wav',\n",
              " '/content/gdrive/My Drive/ME/Wavfile/titon_4_09.wav',\n",
              " '/content/gdrive/My Drive/ME/Wavfile/titon_5_04.wav',\n",
              " '/content/gdrive/My Drive/ME/Wavfile/titon_4_11.wav',\n",
              " '/content/gdrive/My Drive/ME/Wavfile/titon_4_10.wav',\n",
              " '/content/gdrive/My Drive/ME/Wavfile/titon_5_03.wav',\n",
              " '/content/gdrive/My Drive/ME/Wavfile/titon_5_01.wav',\n",
              " '/content/gdrive/My Drive/ME/Wavfile/titon_5_02.wav',\n",
              " '/content/gdrive/My Drive/ME/Wavfile/titon_5_07.wav',\n",
              " '/content/gdrive/My Drive/ME/Wavfile/titon_5_09.wav',\n",
              " '/content/gdrive/My Drive/ME/Wavfile/titon_5_06.wav',\n",
              " '/content/gdrive/My Drive/ME/Wavfile/titon_5_08.wav',\n",
              " '/content/gdrive/My Drive/ME/Wavfile/yifen_1_03.wav',\n",
              " '/content/gdrive/My Drive/ME/Wavfile/yifen_1_02.wav',\n",
              " '/content/gdrive/My Drive/ME/Wavfile/yifen_1_01.wav',\n",
              " '/content/gdrive/My Drive/ME/Wavfile/titon_5_05.wav',\n",
              " '/content/gdrive/My Drive/ME/Wavfile/yifen_1_10.wav',\n",
              " '/content/gdrive/My Drive/ME/Wavfile/yifen_1_09.wav',\n",
              " '/content/gdrive/My Drive/ME/Wavfile/yifen_1_08.wav',\n",
              " '/content/gdrive/My Drive/ME/Wavfile/yifen_1_06.wav',\n",
              " '/content/gdrive/My Drive/ME/Wavfile/yifen_1_12.wav',\n",
              " '/content/gdrive/My Drive/ME/Wavfile/yifen_1_11.wav',\n",
              " '/content/gdrive/My Drive/ME/Wavfile/yifen_1_07.wav',\n",
              " '/content/gdrive/My Drive/ME/Wavfile/yifen_1_05.wav',\n",
              " '/content/gdrive/My Drive/ME/Wavfile/yifen_1_04.wav',\n",
              " '/content/gdrive/My Drive/ME/Wavfile/yifen_1_13.wav',\n",
              " '/content/gdrive/My Drive/ME/Wavfile/yifen_1_14.wav',\n",
              " '/content/gdrive/My Drive/ME/Wavfile/yifen_1_15.wav',\n",
              " '/content/gdrive/My Drive/ME/Wavfile/yifen_2_01.wav',\n",
              " '/content/gdrive/My Drive/ME/Wavfile/yifen_1_16.wav',\n",
              " '/content/gdrive/My Drive/ME/Wavfile/yifen_2_02.wav',\n",
              " '/content/gdrive/My Drive/ME/Wavfile/yifen_2_03.wav',\n",
              " '/content/gdrive/My Drive/ME/Wavfile/yifen_2_04.wav',\n",
              " '/content/gdrive/My Drive/ME/Wavfile/yifen_2_07.wav',\n",
              " '/content/gdrive/My Drive/ME/Wavfile/yifen_2_12.wav',\n",
              " '/content/gdrive/My Drive/ME/Wavfile/yifen_2_08.wav',\n",
              " '/content/gdrive/My Drive/ME/Wavfile/yifen_2_10.wav',\n",
              " '/content/gdrive/My Drive/ME/Wavfile/yifen_2_09.wav',\n",
              " '/content/gdrive/My Drive/ME/Wavfile/yifen_2_06.wav',\n",
              " '/content/gdrive/My Drive/ME/Wavfile/yifen_2_11.wav',\n",
              " '/content/gdrive/My Drive/ME/Wavfile/yifen_2_05.wav',\n",
              " '/content/gdrive/My Drive/ME/Wavfile/yifen_3_01.wav',\n",
              " '/content/gdrive/My Drive/ME/Wavfile/yifen_2_15.wav',\n",
              " '/content/gdrive/My Drive/ME/Wavfile/yifen_3_04.wav',\n",
              " '/content/gdrive/My Drive/ME/Wavfile/yifen_3_03.wav',\n",
              " '/content/gdrive/My Drive/ME/Wavfile/yifen_2_14.wav',\n",
              " '/content/gdrive/My Drive/ME/Wavfile/yifen_2_13.wav',\n",
              " '/content/gdrive/My Drive/ME/Wavfile/yifen_3_02.wav',\n",
              " '/content/gdrive/My Drive/ME/Wavfile/yifen_3_09.wav',\n",
              " '/content/gdrive/My Drive/ME/Wavfile/yifen_3_07.wav',\n",
              " '/content/gdrive/My Drive/ME/Wavfile/yifen_3_08.wav',\n",
              " '/content/gdrive/My Drive/ME/Wavfile/yifen_3_11.wav',\n",
              " '/content/gdrive/My Drive/ME/Wavfile/yifen_3_06.wav',\n",
              " '/content/gdrive/My Drive/ME/Wavfile/yifen_3_05.wav',\n",
              " '/content/gdrive/My Drive/ME/Wavfile/yifen_3_10.wav',\n",
              " '/content/gdrive/My Drive/ME/Wavfile/yifen_3_12.wav',\n",
              " '/content/gdrive/My Drive/ME/Wavfile/yifen_4_03.wav',\n",
              " '/content/gdrive/My Drive/ME/Wavfile/yifen_4_06.wav',\n",
              " '/content/gdrive/My Drive/ME/Wavfile/yifen_4_04.wav',\n",
              " '/content/gdrive/My Drive/ME/Wavfile/yifen_4_05.wav',\n",
              " '/content/gdrive/My Drive/ME/Wavfile/yifen_4_01.wav',\n",
              " '/content/gdrive/My Drive/ME/Wavfile/yifen_4_02.wav',\n",
              " '/content/gdrive/My Drive/ME/Wavfile/yifen_5_01.wav',\n",
              " '/content/gdrive/My Drive/ME/Wavfile/yifen_4_10.wav',\n",
              " '/content/gdrive/My Drive/ME/Wavfile/yifen_4_08.wav',\n",
              " '/content/gdrive/My Drive/ME/Wavfile/yifen_5_03.wav',\n",
              " '/content/gdrive/My Drive/ME/Wavfile/yifen_4_07.wav',\n",
              " '/content/gdrive/My Drive/ME/Wavfile/yifen_4_09.wav',\n",
              " '/content/gdrive/My Drive/ME/Wavfile/yifen_5_02.wav',\n",
              " '/content/gdrive/My Drive/ME/Wavfile/yifen_4_11.wav',\n",
              " '/content/gdrive/My Drive/ME/Wavfile/yifen_5_11.wav',\n",
              " '/content/gdrive/My Drive/ME/Wavfile/yifen_5_06.wav',\n",
              " '/content/gdrive/My Drive/ME/Wavfile/yifen_5_08.wav',\n",
              " '/content/gdrive/My Drive/ME/Wavfile/yifen_5_07.wav',\n",
              " '/content/gdrive/My Drive/ME/Wavfile/yifen_5_04.wav',\n",
              " '/content/gdrive/My Drive/ME/Wavfile/yifen_5_05.wav',\n",
              " '/content/gdrive/My Drive/ME/Wavfile/yifen_5_09.wav',\n",
              " '/content/gdrive/My Drive/ME/Wavfile/yifen_5_10.wav']"
            ]
          },
          "metadata": {
            "tags": []
          },
          "execution_count": 18
        }
      ]
    },
    {
      "cell_type": "code",
      "metadata": {
        "colab": {
          "base_uri": "https://localhost:8080/"
        },
        "id": "8mf80LRlUI2g",
        "outputId": "20c3e1dc-ac10-4b2d-9d7e-9b5ad7ad67e3"
      },
      "source": [
        "\n",
        "Nfft = 1024\n",
        "win_size = 1024\n",
        "hop_size = 100\n",
        "y,sr = librosa.load(audio_files[0],sr=16000,mono=True)\n",
        "ic(y.shape)\n",
        "ic(type(y))\n",
        "D = np.abs(librosa.stft(y, n_fft = Nfft, hop_length = hop_size, win_length = win_size, window='hann', dtype = np.complex256))\n",
        "\n",
        "D1 = calc_spec(y,sr)\n",
        "ic(D1.shape)\n",
        "\n",
        "ic(D.shape)\n",
        "ic(type(D))\n",
        "\n",
        "S, gtv, gtf = load_audio(audio_files[0])\n",
        "ic(gtf.shape)\n",
        "ic(type(gtf))\n",
        "\n",
        "\n",
        "D = D[:,:len(gtf)]\n",
        "ic(D.shape)\n",
        "ic(type(D))\n",
        "# for i in range(len(audio_files)):"
      ],
      "execution_count": null,
      "outputs": [
        {
          "output_type": "stream",
          "text": [
            "ic| y.shape: (98305,)\n",
            "ic| type(y): <class 'numpy.ndarray'>\n",
            "ic| D1.shape: (513, 984)\n",
            "ic| D.shape: (513, 984)\n",
            "ic| type(D): <class 'numpy.ndarray'>\n",
            "ic| gtf.shape: (615,)\n",
            "ic| type(gtf): <class 'numpy.ndarray'>\n",
            "ic| D.shape: (513, 615)\n",
            "ic| type(D): <class 'numpy.ndarray'>\n"
          ],
          "name": "stderr"
        },
        {
          "output_type": "execute_result",
          "data": {
            "text/plain": [
              "numpy.ndarray"
            ]
          },
          "metadata": {
            "tags": []
          },
          "execution_count": 19
        }
      ]
    },
    {
      "cell_type": "code",
      "metadata": {
        "colab": {
          "base_uri": "https://localhost:8080/"
        },
        "id": "rXCVeetjaEb_",
        "outputId": "25040fc8-3753-448f-b3c8-5c10bf5a92e9"
      },
      "source": [
        "X = []\n",
        "y = []\n",
        "gtf_combined = []\n",
        "D_combined = []\n",
        "\n",
        "Nfft = 1024\n",
        "win_size = 1024\n",
        "hop_size = 100\n",
        "\n",
        "\n",
        "# y,sr = librosa.load(audio_files[0],sr=16000,mono=True)\n",
        "# ic(y.shape)\n",
        "# ic(type(y))\n",
        "# D = np.abs(librosa.stft(y, n_fft = Nfft, hop_length = hop_size, win_length = win_size, window='hann', dtype = np.complex256))\n",
        "# ic(D.shape)\n",
        "# ic(type(D))\n",
        "\n",
        "# S, gtv, gtf = load_audio(audio_files[0])\n",
        "# ic(gtf.shape)\n",
        "# ic(type(gtf))\n",
        "\n",
        "\n",
        "# D = D[:,:len(gtf)]\n",
        "# ic(D.shape)\n",
        "# ic(type(D))\n",
        "# # for i in range(len(audio_files)):\n",
        "\n",
        "for i in range(50):#len(audio_files)):\n",
        "    if i%2==0:\n",
        "      continue\n",
        "    print(i)\n",
        "    # print(audio_files[i])\n",
        "    S, gtv, gtf = load_audio(audio_files[i])\n",
        "    gtf_midi = [librosa.hz_to_midi(x) if x!=float(0) else float(0) for x in gtf]\n",
        "    y,sr = librosa.load(audio_files[i],sr=16000,mono=True)\n",
        "    D = np.abs(librosa.stft(y, n_fft = Nfft, hop_length = hop_size, win_length = win_size, window='hann', dtype = np.complex256))\n",
        "    D = calc_spec(y,sr)\n",
        "    D = D[:,:len(gtf)]\n",
        "    D1 = np.matrix(D).T\n",
        "    D1 = np.array(D1).astype('float64')\n",
        "    # D_combined = np.hstack((D_combined,D1))\n",
        "    D_combined.append(D1)\n",
        "    gtf_combined = np.hstack((gtf_combined,gtf))\n",
        "    # y.append(getonehot(gtf_midi))\n",
        "#     print(len(X))\n",
        "\n",
        "D_combined = np.vstack(D_combined)\n",
        "# y = np.vstack(y)\n",
        "# print(np.shape(X),np.shape(y))\n",
        "ic(np.shape(gtf_combined))\n",
        "ic(D_combined.shape)\n",
        "# D_combined = np.matrix(D_combined).T\n",
        "# D_combined= np.array(D_combined).astype('float64')\n",
        "# ic(D_combined.shape)\n"
      ],
      "execution_count": null,
      "outputs": [
        {
          "output_type": "stream",
          "text": [
            "1\n",
            "3\n",
            "5\n",
            "7\n",
            "9\n",
            "11\n",
            "13\n",
            "15\n",
            "17\n",
            "19\n",
            "21\n",
            "23\n",
            "25\n",
            "27\n",
            "29\n",
            "31\n",
            "33\n",
            "35\n",
            "37\n",
            "39\n",
            "41\n",
            "43\n",
            "45\n",
            "47\n",
            "49\n"
          ],
          "name": "stdout"
        },
        {
          "output_type": "stream",
          "text": [
            "ic| np.shape(gtf_combined): (20463,)\n",
            "ic| D_combined.shape: (20463, 513)\n"
          ],
          "name": "stderr"
        },
        {
          "output_type": "execute_result",
          "data": {
            "text/plain": [
              "(20463, 513)"
            ]
          },
          "metadata": {
            "tags": []
          },
          "execution_count": 20
        }
      ]
    },
    {
      "cell_type": "code",
      "metadata": {
        "colab": {
          "base_uri": "https://localhost:8080/"
        },
        "id": "ypWKqBuSa0NT",
        "outputId": "55b698de-e476-4d12-abd5-b42de783de95"
      },
      "source": [
        "D_combined"
      ],
      "execution_count": null,
      "outputs": [
        {
          "output_type": "execute_result",
          "data": {
            "text/plain": [
              "array([[-19.72765982, -22.68534655, -22.49572645, ..., -39.62480081,\n",
              "        -41.70493345, -31.77176367],\n",
              "       [-19.7974948 , -22.71120633, -22.93410921, ..., -34.94295576,\n",
              "        -34.53658957, -31.95053328],\n",
              "       [-19.35191601, -23.5936999 , -22.95568149, ..., -32.53575695,\n",
              "        -32.75912778, -31.97224829],\n",
              "       ...,\n",
              "       [-22.01174572, -22.32364649, -23.10060898, ..., -32.85896874,\n",
              "        -31.95666969, -30.47582054],\n",
              "       [-22.29652823, -22.90895409, -22.19786527, ..., -33.09526754,\n",
              "        -31.88824322, -31.14797384],\n",
              "       [-23.48173442, -24.07052743, -22.89579182, ..., -35.17957179,\n",
              "        -32.34053564, -32.75728066]])"
            ]
          },
          "metadata": {
            "tags": []
          },
          "execution_count": 21
        }
      ]
    },
    {
      "cell_type": "code",
      "metadata": {
        "colab": {
          "base_uri": "https://localhost:8080/"
        },
        "id": "3NIYfH_NbvFc",
        "outputId": "51610853-835d-42c3-f325-d967b3e05129"
      },
      "source": [
        "D_combined.shape"
      ],
      "execution_count": null,
      "outputs": [
        {
          "output_type": "execute_result",
          "data": {
            "text/plain": [
              "(20463, 513)"
            ]
          },
          "metadata": {
            "tags": []
          },
          "execution_count": 22
        }
      ]
    },
    {
      "cell_type": "code",
      "metadata": {
        "id": "-8YTEl1mbK0j"
      },
      "source": [
        "from sklearn.preprocessing import StandardScaler\n",
        "scaler = StandardScaler()\n",
        "D_combined1 = (scaler.fit(D_combined))\n",
        "D_combined1 = scaler.transform(D_combined)"
      ],
      "execution_count": null,
      "outputs": []
    },
    {
      "cell_type": "code",
      "metadata": {
        "id": "EbOnxSMvb2lk"
      },
      "source": [
        ""
      ],
      "execution_count": null,
      "outputs": []
    },
    {
      "cell_type": "code",
      "metadata": {
        "id": "JbVMw7-scR4E"
      },
      "source": [
        "D_combined = D_combined1"
      ],
      "execution_count": null,
      "outputs": []
    },
    {
      "cell_type": "code",
      "metadata": {
        "colab": {
          "base_uri": "https://localhost:8080/"
        },
        "id": "eg4C-yLObGM5",
        "outputId": "ca569658-9561-4a68-efd3-440eff123251"
      },
      "source": [
        "D1 = np.matrix(D).T\n",
        "D1 = np.array(D1)\n",
        "D1 = D1.astype('float64')\n",
        "D1.shape\n"
      ],
      "execution_count": null,
      "outputs": [
        {
          "output_type": "execute_result",
          "data": {
            "text/plain": [
              "(693, 513)"
            ]
          },
          "metadata": {
            "tags": []
          },
          "execution_count": 25
        }
      ]
    },
    {
      "cell_type": "code",
      "metadata": {
        "colab": {
          "base_uri": "https://localhost:8080/"
        },
        "id": "mGeNVSonXcza",
        "outputId": "0011c5f8-bb57-4185-c391-5cf5a6293104"
      },
      "source": [
        "X = []\n",
        "y = []\n",
        "gtf_combined = []\n",
        "\n",
        "Nfft = 1024\n",
        "win_size = 1024\n",
        "hop_size = 100\n",
        "\n",
        "note_res = 1\n",
        "pitch_range = np.arange(30, 98 + 1.0/note_res, 1.0/note_res)\n",
        "pitch_range = np.concatenate([np.zeros(1), pitch_range])\n",
        "print(len(pitch_range))\n",
        "onehot_pitch_range = onehotlabel(pitch_range)  #one hot encoded values of MIDI numbers from 40 to 95\n",
        "\n",
        "\n",
        "# for i in range(len(audio_files)):\n",
        "\n",
        "for i in range(50):#len(audio_files)):\n",
        "    if i%2==0:\n",
        "      continue\n",
        "    print(i)\n",
        "    print(audio_files[i])\n",
        "    S, gtv, gtf = load_audio(audio_files[i])\n",
        "    gtf_midi = [librosa.hz_to_midi(x) if x!=float(0) else float(0) for x in gtf]\n",
        "    # X.append(S.T)\n",
        "    gtf_combined = np.hstack((gtf_combined,gtf))\n",
        "    y.append(getonehot(gtf_midi))\n",
        "#     print(len(X))\n",
        "# X = np.vstack(X)\n",
        "y = np.vstack(y)\n",
        "print(np.shape(X),np.shape(y))\n",
        "ic(np.shape(gtf_combined))"
      ],
      "execution_count": null,
      "outputs": [
        {
          "output_type": "stream",
          "text": [
            "70\n",
            "1\n",
            "/content/gdrive/My Drive/ME/Wavfile/Ani_1_01.wav\n",
            "3\n",
            "/content/gdrive/My Drive/ME/Wavfile/Ani_1_05.wav\n",
            "5\n",
            "/content/gdrive/My Drive/ME/Wavfile/Ani_2_02.wav\n",
            "7\n",
            "/content/gdrive/My Drive/ME/Wavfile/Ani_1_04.wav\n",
            "9\n",
            "/content/gdrive/My Drive/ME/Wavfile/Ani_2_01.wav\n",
            "11\n",
            "/content/gdrive/My Drive/ME/Wavfile/Ani_2_07.wav\n",
            "13\n",
            "/content/gdrive/My Drive/ME/Wavfile/Ani_3_02.wav\n",
            "15\n",
            "/content/gdrive/My Drive/ME/Wavfile/Ani_2_05.wav\n",
            "17\n",
            "/content/gdrive/My Drive/ME/Wavfile/Ani_3_04.wav\n",
            "19\n",
            "/content/gdrive/My Drive/ME/Wavfile/Ani_4_03.wav\n",
            "21\n",
            "/content/gdrive/My Drive/ME/Wavfile/Ani_3_06.wav\n",
            "23\n",
            "/content/gdrive/My Drive/ME/Wavfile/Ani_4_05.wav\n",
            "25\n",
            "/content/gdrive/My Drive/ME/Wavfile/Ani_4_04.wav\n",
            "27\n",
            "/content/gdrive/My Drive/ME/Wavfile/Ani_4_07.wav\n",
            "29\n",
            "/content/gdrive/My Drive/ME/Wavfile/Ani_5_01.wav\n",
            "31\n",
            "/content/gdrive/My Drive/ME/Wavfile/Ani_5_06.wav\n",
            "33\n",
            "/content/gdrive/My Drive/ME/Wavfile/Ani_5_03.wav\n",
            "35\n",
            "/content/gdrive/My Drive/ME/Wavfile/Ani_5_04.wav\n",
            "37\n",
            "/content/gdrive/My Drive/ME/Wavfile/Ani_5_07.wav\n",
            "39\n",
            "/content/gdrive/My Drive/ME/Wavfile/Kenshin_1_03.wav\n",
            "41\n",
            "/content/gdrive/My Drive/ME/Wavfile/Kenshin_1_05.wav\n",
            "43\n",
            "/content/gdrive/My Drive/ME/Wavfile/Kenshin_1_04.wav\n",
            "45\n",
            "/content/gdrive/My Drive/ME/Wavfile/Kenshin_1_07.wav\n",
            "47\n",
            "/content/gdrive/My Drive/ME/Wavfile/Kenshin_1_10.wav\n"
          ],
          "name": "stdout"
        },
        {
          "output_type": "stream",
          "text": [
            "ic| np.shape(gtf_combined): (20463"
          ],
          "name": "stderr"
        },
        {
          "output_type": "stream",
          "text": [
            "49\n",
            "/content/gdrive/My Drive/ME/Wavfile/Kenshin_1_11.wav\n",
            "(0,) (20463, 70)\n"
          ],
          "name": "stdout"
        },
        {
          "output_type": "stream",
          "text": [
            ",)\n"
          ],
          "name": "stderr"
        },
        {
          "output_type": "execute_result",
          "data": {
            "text/plain": [
              "(20463,)"
            ]
          },
          "metadata": {
            "tags": []
          },
          "execution_count": 26
        }
      ]
    },
    {
      "cell_type": "code",
      "metadata": {
        "colab": {
          "base_uri": "https://localhost:8080/"
        },
        "id": "Rtll0RFU1ECl",
        "outputId": "99f3fa79-25f2-45b7-b0e9-6c72c75cb15b"
      },
      "source": [
        "#For test data\n",
        "X = []\n",
        "y = []\n",
        "gtf_combined_test = []\n",
        "D_combined_test = []\n",
        "\n",
        "Nfft = 1024\n",
        "win_size = 1024\n",
        "hop_size = 100\n",
        "\n",
        "\n",
        "# y,sr = librosa.load(audio_files[0],sr=16000,mono=True)\n",
        "# ic(y.shape)\n",
        "# ic(type(y))\n",
        "# D = np.abs(librosa.stft(y, n_fft = Nfft, hop_length = hop_size, win_length = win_size, window='hann', dtype = np.complex256))\n",
        "# ic(D.shape)\n",
        "# ic(type(D))\n",
        "\n",
        "# S, gtv, gtf = load_audio(audio_files[0])\n",
        "# ic(gtf.shape)\n",
        "# ic(type(gtf))\n",
        "\n",
        "\n",
        "# D = D[:,:len(gtf)]\n",
        "# ic(D.shape)\n",
        "# ic(type(D))\n",
        "# # for i in range(len(audio_files)):\n",
        "\n",
        "for i in range(50):#len(audio_files)):\n",
        "    if i%2==1:\n",
        "      continue\n",
        "    print(i)\n",
        "    print(audio_files[i])\n",
        "    S, gtv, gtf = load_audio(audio_files[i])\n",
        "    gtf_midi = [librosa.hz_to_midi(x) if x!=float(0) else float(0) for x in gtf]\n",
        "    y,sr = librosa.load(audio_files[i],sr=16000,mono=True)\n",
        "    D = np.abs(librosa.stft(y, n_fft = Nfft, hop_length = hop_size, win_length = win_size, window='hann', dtype = np.complex256))\n",
        "    D = calc_spec(y,sr)\n",
        "    D = D[:,:len(gtf)]\n",
        "    D1 = np.matrix(D).T\n",
        "    D1 = np.array(D1).astype('float64')\n",
        "    # D_combined = np.hstack((D_combined,D1))\n",
        "    D_combined_test.append(D1)\n",
        "    gtf_combined_test = np.hstack((gtf_combined_test,gtf))\n",
        "    # y.append(getonehot(gtf_midi))\n",
        "#     print(len(X))\n",
        "\n",
        "D_combined_test = np.vstack(D_combined_test)\n",
        "# y = np.vstack(y)\n",
        "print(np.shape(X),np.shape(y))\n",
        "ic(np.shape(gtf_combined_test))\n",
        "ic(D_combined_test.shape)"
      ],
      "execution_count": null,
      "outputs": [
        {
          "output_type": "stream",
          "text": [
            "0\n",
            "/content/gdrive/My Drive/ME/Wavfile/Ani_1_03.wav\n",
            "2\n",
            "/content/gdrive/My Drive/ME/Wavfile/Ani_1_02.wav\n",
            "4\n",
            "/content/gdrive/My Drive/ME/Wavfile/Ani_2_03.wav\n",
            "6\n",
            "/content/gdrive/My Drive/ME/Wavfile/Ani_1_07.wav\n",
            "8\n",
            "/content/gdrive/My Drive/ME/Wavfile/Ani_1_06.wav\n",
            "10\n",
            "/content/gdrive/My Drive/ME/Wavfile/Ani_2_04.wav\n",
            "12\n",
            "/content/gdrive/My Drive/ME/Wavfile/Ani_2_06.wav\n",
            "14\n",
            "/content/gdrive/My Drive/ME/Wavfile/Ani_3_01.wav\n",
            "16\n",
            "/content/gdrive/My Drive/ME/Wavfile/Ani_3_05.wav\n",
            "18\n",
            "/content/gdrive/My Drive/ME/Wavfile/Ani_4_02.wav\n",
            "20\n",
            "/content/gdrive/My Drive/ME/Wavfile/Ani_4_01.wav\n",
            "22\n",
            "/content/gdrive/My Drive/ME/Wavfile/Ani_3_03.wav\n",
            "24\n",
            "/content/gdrive/My Drive/ME/Wavfile/Ani_4_08.wav\n",
            "26\n",
            "/content/gdrive/My Drive/ME/Wavfile/Ani_4_06.wav\n",
            "28\n",
            "/content/gdrive/My Drive/ME/Wavfile/Ani_4_09.wav\n",
            "30\n",
            "/content/gdrive/My Drive/ME/Wavfile/Ani_4_10.wav\n",
            "32\n",
            "/content/gdrive/My Drive/ME/Wavfile/Kenshin_1_01.wav\n",
            "34\n",
            "/content/gdrive/My Drive/ME/Wavfile/Ani_5_05.wav\n",
            "36\n",
            "/content/gdrive/My Drive/ME/Wavfile/Ani_5_08.wav\n",
            "38\n",
            "/content/gdrive/My Drive/ME/Wavfile/Ani_5_02.wav\n",
            "40\n",
            "/content/gdrive/My Drive/ME/Wavfile/Kenshin_1_02.wav\n",
            "42\n",
            "/content/gdrive/My Drive/ME/Wavfile/Kenshin_1_06.wav\n",
            "44\n",
            "/content/gdrive/My Drive/ME/Wavfile/Kenshin_2_01.wav\n",
            "46\n",
            "/content/gdrive/My Drive/ME/Wavfile/Kenshin_1_09.wav\n",
            "48\n",
            "/content/gdrive/My Drive/ME/Wavfile/Kenshin_1_08.wav\n"
          ],
          "name": "stdout"
        },
        {
          "output_type": "stream",
          "text": [
            "ic| np.shape(gtf_combined_test): (20905,)\n",
            "ic| D_combined_test.shape: (20905, 513)\n"
          ],
          "name": "stderr"
        },
        {
          "output_type": "stream",
          "text": [
            "(0,) (183297,)\n"
          ],
          "name": "stdout"
        },
        {
          "output_type": "execute_result",
          "data": {
            "text/plain": [
              "(20905, 513)"
            ]
          },
          "metadata": {
            "tags": []
          },
          "execution_count": 27
        }
      ]
    },
    {
      "cell_type": "code",
      "metadata": {
        "id": "am2y4zajaG9C"
      },
      "source": [
        "from sklearn.preprocessing import StandardScaler\n",
        "scaler = StandardScaler()\n",
        "D_combined1_test = (scaler.fit(D_combined_test))\n",
        "D_combined1_test = scaler.transform(D_combined_test)"
      ],
      "execution_count": null,
      "outputs": []
    },
    {
      "cell_type": "code",
      "metadata": {
        "id": "HsLOGnrvcxVA"
      },
      "source": [
        "D_combined_test = D_combined1_test"
      ],
      "execution_count": null,
      "outputs": []
    },
    {
      "cell_type": "code",
      "metadata": {
        "colab": {
          "base_uri": "https://localhost:8080/"
        },
        "id": "EfI39USW2f3d",
        "outputId": "4f3ea9cf-4446-4484-ef26-0f6627c6879f"
      },
      "source": [
        "D_combined_test = np.matrix(D_combined_test).T\n",
        "D_combined_test= np.array(D_combined_test)\n",
        "D_combined_test = D_combined_test.astype('float64')\n",
        "ic(D_combined_test.shape)"
      ],
      "execution_count": null,
      "outputs": [
        {
          "output_type": "stream",
          "text": [
            "ic| D_combined_test.shape: (513, 20905)\n"
          ],
          "name": "stderr"
        },
        {
          "output_type": "execute_result",
          "data": {
            "text/plain": [
              "(513, 20905)"
            ]
          },
          "metadata": {
            "tags": []
          },
          "execution_count": 30
        }
      ]
    },
    {
      "cell_type": "code",
      "metadata": {
        "id": "P7O8H4z_4lgT"
      },
      "source": [
        "D_combined_test = D_combined_test.T"
      ],
      "execution_count": null,
      "outputs": []
    },
    {
      "cell_type": "code",
      "metadata": {
        "colab": {
          "base_uri": "https://localhost:8080/"
        },
        "id": "Sch_ovSt4hXQ",
        "outputId": "d2722ce3-ec5c-4a5e-c4ca-99b0e773dd75"
      },
      "source": [
        "ic(D_combined_test.shape)"
      ],
      "execution_count": null,
      "outputs": [
        {
          "output_type": "stream",
          "text": [
            "ic| D_combined_test.shape: (20905, 513)\n"
          ],
          "name": "stderr"
        },
        {
          "output_type": "execute_result",
          "data": {
            "text/plain": [
              "(20905, 513)"
            ]
          },
          "metadata": {
            "tags": []
          },
          "execution_count": 32
        }
      ]
    },
    {
      "cell_type": "code",
      "metadata": {
        "colab": {
          "base_uri": "https://localhost:8080/",
          "height": 285
        },
        "id": "wQ5za8gtnXyA",
        "outputId": "d3135a4b-d2b6-4b25-dbdf-1d0a5e88120a"
      },
      "source": [
        "plt.plot(gtf_combined)"
      ],
      "execution_count": null,
      "outputs": [
        {
          "output_type": "execute_result",
          "data": {
            "text/plain": [
              "[<matplotlib.lines.Line2D at 0x7f525e9be110>]"
            ]
          },
          "metadata": {
            "tags": []
          },
          "execution_count": 161
        },
        {
          "output_type": "display_data",
          "data": {
            "image/png": "[encoded data removed]",
            "text/plain": [
              "<Figure size 432x288 with 1 Axes>"
            ]
          },
          "metadata": {
            "tags": []
          }
        }
      ]
    },
    {
      "cell_type": "code",
      "metadata": {
        "colab": {
          "base_uri": "https://localhost:8080/",
          "height": 285
        },
        "id": "t1zbktcDjOG_",
        "outputId": "7ebc2bf3-eb4c-4a99-d24c-e5a3c385e923"
      },
      "source": [
        "plt.plot(gtf_combined_test)"
      ],
      "execution_count": null,
      "outputs": [
        {
          "output_type": "execute_result",
          "data": {
            "text/plain": [
              "[<matplotlib.lines.Line2D at 0x7f525eca1bd0>]"
            ]
          },
          "metadata": {
            "tags": []
          },
          "execution_count": 162
        },
        {
          "output_type": "display_data",
          "data": {
            "image/png": "[encoded data removed]",
            "text/plain": [
              "<Figure size 432x288 with 1 Axes>"
            ]
          },
          "metadata": {
            "tags": []
          }
        }
      ]
    },
    {
      "cell_type": "code",
      "metadata": {
        "colab": {
          "base_uri": "https://localhost:8080/"
        },
        "id": "IQvjcGeXXfkb",
        "outputId": "ddcd11e7-45d8-470f-bf1f-66868dd9fc0f"
      },
      "source": [
        "p=[]\n",
        "for i in range (50):\n",
        "\n",
        "  if i%2==0:\n",
        "    continue\n",
        "# for i in range(len(audio_files)):\n",
        "\n",
        "  # print(i)\n",
        "  b,c=librosa.load(audio_files[i])\n",
        "  f=get_activation(b,c)\n",
        "  # print(f.shape)\n",
        "  p.append(f)\n",
        "# z=np.zeros([1,1024])\n",
        "# np.shape(z)\n",
        "# p.append(z)\n",
        "p=np.vstack(p)\n",
        "np.shape(p)"
      ],
      "execution_count": null,
      "outputs": [
        {
          "output_type": "execute_result",
          "data": {
            "text/plain": [
              "(20463, 1024)"
            ]
          },
          "metadata": {
            "tags": []
          },
          "execution_count": 34
        }
      ]
    },
    {
      "cell_type": "code",
      "metadata": {
        "colab": {
          "base_uri": "https://localhost:8080/"
        },
        "id": "_iUJHi7j4ANe",
        "outputId": "7f20d01a-2cb3-42b0-f4a4-b1830a150b90"
      },
      "source": [
        "ic(p.shape)\n",
        "# ic(p_test.shape)\n",
        "ic(gtf_combined.shape)"
      ],
      "execution_count": null,
      "outputs": [
        {
          "output_type": "stream",
          "text": [
            "ic| p.shape: (20463, 1024)\n",
            "ic| gtf_combined.shape: (20463,)\n"
          ],
          "name": "stderr"
        },
        {
          "output_type": "execute_result",
          "data": {
            "text/plain": [
              "(20463,)"
            ]
          },
          "metadata": {
            "tags": []
          },
          "execution_count": 35
        }
      ]
    },
    {
      "cell_type": "code",
      "metadata": {
        "id": "zMeOapquZr7m"
      },
      "source": [
        "# p1 = p[:20290,:]\n",
        "# gtf1 = gtf_combined[:20290]\n",
        "# ic(p1.shape)\n",
        "# ic(gtf1.shape)\n"
      ],
      "execution_count": null,
      "outputs": []
    },
    {
      "cell_type": "code",
      "metadata": {
        "colab": {
          "base_uri": "https://localhost:8080/"
        },
        "id": "qEr0_tMnaAKt",
        "outputId": "a3e3b680-68f2-49ac-a763-a93f0a40ca76"
      },
      "source": [
        "D_combined"
      ],
      "execution_count": null,
      "outputs": [
        {
          "output_type": "execute_result",
          "data": {
            "text/plain": [
              "array([[ 4.45147378e-01, -3.21188335e-01, -5.16057832e-01, ...,\n",
              "        -1.30670263e+00, -1.67188981e+00,  3.66101366e-01],\n",
              "       [ 4.35174727e-01, -3.25863234e-01, -5.84806175e-01, ...,\n",
              "        -4.23854504e-01, -3.31455714e-01,  3.38474200e-01],\n",
              "       [ 4.98804758e-01, -4.85399321e-01, -5.88189198e-01, ...,\n",
              "         3.00671699e-02,  9.18182089e-04,  3.35118349e-01],\n",
              "       ...,\n",
              "       [ 1.18972837e-01, -2.55800648e-01, -6.10917111e-01, ...,\n",
              "        -3.08803661e-02,  1.50972672e-01,  5.66377217e-01],\n",
              "       [ 7.83050120e-02, -3.61611828e-01, -4.69346454e-01, ...,\n",
              "        -7.54388564e-02,  1.63767982e-01,  4.62502231e-01],\n",
              "       [-9.09461031e-02, -5.71599610e-01, -5.78797141e-01, ...,\n",
              "        -4.68472815e-01,  7.91922141e-02,  2.13798961e-01]])"
            ]
          },
          "metadata": {
            "tags": []
          },
          "execution_count": 37
        }
      ]
    },
    {
      "cell_type": "code",
      "metadata": {
        "id": "es-_P19Cmbz3"
      },
      "source": [
        "# import torch\n",
        "# import torchvision\n",
        "# import torchvision.transforms as transforms\n",
        "\n",
        "\n",
        "# transform = transforms.Compose(\n",
        "#     [transforms.ToTensor(),\n",
        "#      transforms.Normalize((0.5, 0.5, 0.5), (0.5, 0.5, 0.5))])\n",
        "# batch_size = 4\n",
        "\n",
        "# trainset = torchvision.datasets.CIFAR10(root='./data', train=True,\n",
        "#                                         download=True, transform=transform)\n",
        "# trainloader = torch.utils.data.DataLoader(trainset, batch_size=batch_size,\n",
        "#                                           shuffle=True, num_workers=2)\n",
        "\n",
        "# testset = torchvision.datasets.CIFAR10(root='./data', train=False,\n",
        "#                                        download=True, transform=transform)\n",
        "# testloader = torch.utils.data.DataLoader(testset, batch_size=batch_size,\n",
        "#                                          shuffle=False, num_workers=2)\n",
        "# dl_train = trainloader\n",
        "# dl_test = testloader"
      ],
      "execution_count": null,
      "outputs": []
    },
    {
      "cell_type": "markdown",
      "metadata": {
        "id": "HD1KjlYduteW"
      },
      "source": [
        "#Model"
      ]
    },
    {
      "cell_type": "code",
      "metadata": {
        "id": "Rh3op6cjZ0tp"
      },
      "source": [
        "np.random.seed(0)\n",
        "torch.manual_seed(0)\n",
        "\n",
        "# input_dim = 2\n",
        "batch_size = 64\n",
        "\n",
        "# X_train, y_train = make_data()\n",
        "X_train, y_train =D_combined_32,gtf_combined #combined,gtf_combined#\n",
        "X_test, y_test = D_combined_32,gtf_combined #D_combined_test,gtf_combined_test #p,gtf_combined #gtf_test, p_test\n",
        "domain = 15\n",
        "\n",
        "input_dim = X_train.shape[1] #Prasad\n",
        "\n",
        "ds_train = torch.utils.data.TensorDataset(torch.from_numpy(X_train).float(), torch.from_numpy(y_train).float())\n",
        "dl_train = torch.utils.data.DataLoader(ds_train, batch_size=batch_size, shuffle=True, drop_last=True)\n",
        "\n",
        "ds_test = torch.utils.data.TensorDataset(torch.from_numpy(X_test).float(), torch.from_numpy(y_test).float())\n",
        "dl_test = torch.utils.data.DataLoader(ds_test, batch_size=64, shuffle=False) #org 200\n",
        "\n",
        "\n",
        "n_inducing_points = 20\n",
        "\n",
        "features = 128\n",
        "depth =  4\n",
        "kernel = \"Matern12\"\n",
        "kernel = \"RBF\"\n",
        "\n",
        "spectral_normalization = False\n",
        "num_outputs = 1 # regression with 1D output\n",
        "\n",
        "coeff = 0.95\n",
        "n_power_iterations = 1\n",
        "dropout_rate = 0.0\n",
        "\n",
        "feature_extractor = FCResNet(\n",
        "    input_dim=input_dim, \n",
        "    features=features, \n",
        "    depth=depth, \n",
        "    spectral_normalization=spectral_normalization, \n",
        "    coeff=coeff, \n",
        "    n_power_iterations=n_power_iterations,\n",
        "    dropout_rate=dropout_rate\n",
        ")\n",
        "\n",
        "feature_extractor = WideResNet(\n",
        "\n",
        "    spectral_normalization=spectral_normalization, \n",
        "\n",
        ")\n",
        "\n",
        "# WideResNet\n",
        "#     def __init__(\n",
        "#         self,\n",
        "#         spectral_normalization,\n",
        "#         depth=28,\n",
        "#         widen_factor=10,\n",
        "#         num_classes=None,\n",
        "#         dropout_rate=0.3,\n",
        "#         coeff=3,\n",
        "#         n_power_iterations=1,\n",
        "#         batchnorm_momentum=0.1,\n",
        "#     ):\n",
        "\n",
        "initial_inducing_points, initial_lengthscale = initial_values_for_GP(\n",
        "        ds_train, feature_extractor, n_inducing_points\n",
        ")\n",
        "\n",
        "gp = GP(\n",
        "    num_outputs=num_outputs,\n",
        "    initial_lengthscale=initial_lengthscale,\n",
        "    initial_inducing_points=initial_inducing_points,\n",
        "    kernel=kernel,\n",
        ")\n",
        "\n",
        "model = DKL_GP(feature_extractor, gp)\n",
        "\n",
        "likelihood = GaussianLikelihood()\n",
        "loss_fn = VariationalELBO(likelihood, model.gp, num_data=len(ds_train))\n",
        "\n",
        "if torch.cuda.is_available():\n",
        "    model = model.cuda()\n",
        "    likelihood = likelihood.cuda()\n",
        "    \n",
        "lr=1e-3\n",
        "\n",
        "parameters = [\n",
        "    {\"params\": model.feature_extractor.parameters(), \"lr\": lr},\n",
        "    {\"params\": model.gp.parameters(), \"lr\": lr},\n",
        "    {\"params\": likelihood.parameters(), \"lr\": lr},\n",
        "]\n",
        "\n",
        "optimizer = torch.optim.Adam(parameters, weight_decay=5e-4)\n",
        "# pbar = ProgressBar()\n",
        "\n",
        "def step(engine, batch):\n",
        "    model.train()\n",
        "    likelihood.train()\n",
        "    \n",
        "    optimizer.zero_grad()\n",
        "    \n",
        "    x, y = batch\n",
        "    if torch.cuda.is_available():\n",
        "        x = x.cuda()\n",
        "        y = y.cuda()\n",
        "\n",
        "    y_pred = model(x)\n",
        "    loss = - loss_fn(y_pred, y)\n",
        "    \n",
        "    loss.backward()\n",
        "    optimizer.step()\n",
        "    \n",
        "    return loss.item()\n",
        "\n",
        "\n",
        "def eval_step(engine, batch):\n",
        "    model.eval()\n",
        "    likelihood.eval()\n",
        "    \n",
        "    x, y = batch\n",
        "    if torch.cuda.is_available():\n",
        "        x = x.cuda()\n",
        "        y = y.cuda()\n",
        "\n",
        "    y_pred = model(x)\n",
        "            \n",
        "    return y_pred, y\n",
        "\n",
        "    \n",
        "trainer = Engine(step)\n",
        "evaluator = Engine(eval_step)\n",
        "\n",
        "metric = Average()\n",
        "metric.attach(trainer, \"loss\")\n",
        "# pbar.attach(trainer)\n",
        "\n",
        "\n",
        "metric = Loss(lambda y_pred, y: - loss_fn(y_pred, y))\n",
        "metric.attach(evaluator, \"loss\")\n",
        "\n",
        "@trainer.on(Events.EPOCH_COMPLETED)\n",
        "def log_results(trainer):\n",
        "    evaluator.run(dl_test)\n",
        "    metrics = evaluator.state.metrics\n",
        "    train_likelihood = trainer.state.metrics[\"loss\"]\n",
        "    if trainer.state.epoch % 20 == 0:\n",
        "        print(f\"Test Results - Epoch: {trainer.state.epoch} \"\n",
        "              f\"Test Likelihood: {metrics['loss']:.2f} \"\n",
        "              f\"Train Likelihood: {train_likelihood:.2f}\")"
      ],
      "execution_count": null,
      "outputs": []
    },
    {
      "cell_type": "code",
      "metadata": {
        "id": "59J1gNAY0d1V",
        "colab": {
          "base_uri": "https://localhost:8080/"
        },
        "outputId": "cf44cea2-52c8-4c0f-e762-3e01b7fbadfc"
      },
      "source": [
        "trainer.run(dl_train, max_epochs=100)"
      ],
      "execution_count": null,
      "outputs": [
        {
          "output_type": "stream",
          "text": [
            "Test Results - Epoch: 20 Test Likelihood: 4677.76 Train Likelihood: 4856.66\n",
            "Test Results - Epoch: 40 Test Likelihood: 1434.66 Train Likelihood: 1463.95\n",
            "Test Results - Epoch: 60 Test Likelihood: 207.71 Train Likelihood: 250.81\n",
            "Test Results - Epoch: 80 Test Likelihood: 42.85 Train Likelihood: 66.05\n",
            "Test Results - Epoch: 100 Test Likelihood: 18.07 Train Likelihood: 28.33\n"
          ],
          "name": "stdout"
        },
        {
          "output_type": "execute_result",
          "data": {
            "text/plain": [
              "State:\n",
              "\titeration: 31900\n",
              "\tepoch: 100\n",
              "\tepoch_length: 319\n",
              "\tmax_epochs: 100\n",
              "\tmax_iters: <class 'NoneType'>\n",
              "\toutput: 30.452558517456055\n",
              "\tbatch: <class 'list'>\n",
              "\tmetrics: <class 'dict'>\n",
              "\tdataloader: <class 'torch.utils.data.dataloader.DataLoader'>\n",
              "\tseed: <class 'NoneType'>\n",
              "\ttimes: <class 'dict'>"
            ]
          },
          "metadata": {
            "tags": []
          },
          "execution_count": 50
        }
      ]
    },
    {
      "cell_type": "code",
      "metadata": {
        "id": "9qmYZcOZGhOL",
        "colab": {
          "base_uri": "https://localhost:8080/"
        },
        "outputId": "2009048a-01b9-417c-93ea-bdb3c81f4d9d"
      },
      "source": [
        "print(model)"
      ],
      "execution_count": null,
      "outputs": [
        {
          "output_type": "stream",
          "text": [
            "DKL_GP(\n",
            "  (feature_extractor): WideResNet(\n",
            "    (conv1): Conv2d(3, 16, kernel_size=(3, 3), stride=(1, 1), padding=(1, 1), bias=False)\n",
            "    (layer1): Sequential(\n",
            "      (0): WideBasic(\n",
            "        (bn1): BatchNorm2d(16, eps=1e-05, momentum=0.1, affine=True, track_running_stats=True)\n",
            "        (conv1): Conv2d(16, 160, kernel_size=(3, 3), stride=(1, 1), padding=(1, 1), bias=False)\n",
            "        (bn2): BatchNorm2d(160, eps=1e-05, momentum=0.1, affine=True, track_running_stats=True)\n",
            "        (conv2): Conv2d(160, 160, kernel_size=(3, 3), stride=(1, 1), padding=(1, 1), bias=False)\n",
            "        (dropout): Dropout(p=0.3, inplace=False)\n",
            "        (shortcut): Conv2d(16, 160, kernel_size=(1, 1), stride=(1, 1), bias=False)\n",
            "      )\n",
            "      (1): WideBasic(\n",
            "        (bn1): BatchNorm2d(160, eps=1e-05, momentum=0.1, affine=True, track_running_stats=True)\n",
            "        (conv1): Conv2d(160, 160, kernel_size=(3, 3), stride=(1, 1), padding=(1, 1), bias=False)\n",
            "        (bn2): BatchNorm2d(160, eps=1e-05, momentum=0.1, affine=True, track_running_stats=True)\n",
            "        (conv2): Conv2d(160, 160, kernel_size=(3, 3), stride=(1, 1), padding=(1, 1), bias=False)\n",
            "        (dropout): Dropout(p=0.3, inplace=False)\n",
            "        (shortcut): Identity()\n",
            "      )\n",
            "      (2): WideBasic(\n",
            "        (bn1): BatchNorm2d(160, eps=1e-05, momentum=0.1, affine=True, track_running_stats=True)\n",
            "        (conv1): Conv2d(160, 160, kernel_size=(3, 3), stride=(1, 1), padding=(1, 1), bias=False)\n",
            "        (bn2): BatchNorm2d(160, eps=1e-05, momentum=0.1, affine=True, track_running_stats=True)\n",
            "        (conv2): Conv2d(160, 160, kernel_size=(3, 3), stride=(1, 1), padding=(1, 1), bias=False)\n",
            "        (dropout): Dropout(p=0.3, inplace=False)\n",
            "        (shortcut): Identity()\n",
            "      )\n",
            "      (3): WideBasic(\n",
            "        (bn1): BatchNorm2d(160, eps=1e-05, momentum=0.1, affine=True, track_running_stats=True)\n",
            "        (conv1): Conv2d(160, 160, kernel_size=(3, 3), stride=(1, 1), padding=(1, 1), bias=False)\n",
            "        (bn2): BatchNorm2d(160, eps=1e-05, momentum=0.1, affine=True, track_running_stats=True)\n",
            "        (conv2): Conv2d(160, 160, kernel_size=(3, 3), stride=(1, 1), padding=(1, 1), bias=False)\n",
            "        (dropout): Dropout(p=0.3, inplace=False)\n",
            "        (shortcut): Identity()\n",
            "      )\n",
            "    )\n",
            "    (layer2): Sequential(\n",
            "      (0): WideBasic(\n",
            "        (bn1): BatchNorm2d(160, eps=1e-05, momentum=0.1, affine=True, track_running_stats=True)\n",
            "        (conv1): Conv2d(160, 320, kernel_size=(3, 3), stride=(2, 2), padding=(1, 1), bias=False)\n",
            "        (bn2): BatchNorm2d(320, eps=1e-05, momentum=0.1, affine=True, track_running_stats=True)\n",
            "        (conv2): Conv2d(320, 320, kernel_size=(3, 3), stride=(1, 1), padding=(1, 1), bias=False)\n",
            "        (dropout): Dropout(p=0.3, inplace=False)\n",
            "        (shortcut): Conv2d(160, 320, kernel_size=(1, 1), stride=(2, 2), bias=False)\n",
            "      )\n",
            "      (1): WideBasic(\n",
            "        (bn1): BatchNorm2d(320, eps=1e-05, momentum=0.1, affine=True, track_running_stats=True)\n",
            "        (conv1): Conv2d(320, 320, kernel_size=(3, 3), stride=(1, 1), padding=(1, 1), bias=False)\n",
            "        (bn2): BatchNorm2d(320, eps=1e-05, momentum=0.1, affine=True, track_running_stats=True)\n",
            "        (conv2): Conv2d(320, 320, kernel_size=(3, 3), stride=(1, 1), padding=(1, 1), bias=False)\n",
            "        (dropout): Dropout(p=0.3, inplace=False)\n",
            "        (shortcut): Identity()\n",
            "      )\n",
            "      (2): WideBasic(\n",
            "        (bn1): BatchNorm2d(320, eps=1e-05, momentum=0.1, affine=True, track_running_stats=True)\n",
            "        (conv1): Conv2d(320, 320, kernel_size=(3, 3), stride=(1, 1), padding=(1, 1), bias=False)\n",
            "        (bn2): BatchNorm2d(320, eps=1e-05, momentum=0.1, affine=True, track_running_stats=True)\n",
            "        (conv2): Conv2d(320, 320, kernel_size=(3, 3), stride=(1, 1), padding=(1, 1), bias=False)\n",
            "        (dropout): Dropout(p=0.3, inplace=False)\n",
            "        (shortcut): Identity()\n",
            "      )\n",
            "      (3): WideBasic(\n",
            "        (bn1): BatchNorm2d(320, eps=1e-05, momentum=0.1, affine=True, track_running_stats=True)\n",
            "        (conv1): Conv2d(320, 320, kernel_size=(3, 3), stride=(1, 1), padding=(1, 1), bias=False)\n",
            "        (bn2): BatchNorm2d(320, eps=1e-05, momentum=0.1, affine=True, track_running_stats=True)\n",
            "        (conv2): Conv2d(320, 320, kernel_size=(3, 3), stride=(1, 1), padding=(1, 1), bias=False)\n",
            "        (dropout): Dropout(p=0.3, inplace=False)\n",
            "        (shortcut): Identity()\n",
            "      )\n",
            "    )\n",
            "    (layer3): Sequential(\n",
            "      (0): WideBasic(\n",
            "        (bn1): BatchNorm2d(320, eps=1e-05, momentum=0.1, affine=True, track_running_stats=True)\n",
            "        (conv1): Conv2d(320, 640, kernel_size=(3, 3), stride=(2, 2), padding=(1, 1), bias=False)\n",
            "        (bn2): BatchNorm2d(640, eps=1e-05, momentum=0.1, affine=True, track_running_stats=True)\n",
            "        (conv2): Conv2d(640, 640, kernel_size=(3, 3), stride=(1, 1), padding=(1, 1), bias=False)\n",
            "        (dropout): Dropout(p=0.3, inplace=False)\n",
            "        (shortcut): Conv2d(320, 640, kernel_size=(1, 1), stride=(2, 2), bias=False)\n",
            "      )\n",
            "      (1): WideBasic(\n",
            "        (bn1): BatchNorm2d(640, eps=1e-05, momentum=0.1, affine=True, track_running_stats=True)\n",
            "        (conv1): Conv2d(640, 640, kernel_size=(3, 3), stride=(1, 1), padding=(1, 1), bias=False)\n",
            "        (bn2): BatchNorm2d(640, eps=1e-05, momentum=0.1, affine=True, track_running_stats=True)\n",
            "        (conv2): Conv2d(640, 640, kernel_size=(3, 3), stride=(1, 1), padding=(1, 1), bias=False)\n",
            "        (dropout): Dropout(p=0.3, inplace=False)\n",
            "        (shortcut): Identity()\n",
            "      )\n",
            "      (2): WideBasic(\n",
            "        (bn1): BatchNorm2d(640, eps=1e-05, momentum=0.1, affine=True, track_running_stats=True)\n",
            "        (conv1): Conv2d(640, 640, kernel_size=(3, 3), stride=(1, 1), padding=(1, 1), bias=False)\n",
            "        (bn2): BatchNorm2d(640, eps=1e-05, momentum=0.1, affine=True, track_running_stats=True)\n",
            "        (conv2): Conv2d(640, 640, kernel_size=(3, 3), stride=(1, 1), padding=(1, 1), bias=False)\n",
            "        (dropout): Dropout(p=0.3, inplace=False)\n",
            "        (shortcut): Identity()\n",
            "      )\n",
            "      (3): WideBasic(\n",
            "        (bn1): BatchNorm2d(640, eps=1e-05, momentum=0.1, affine=True, track_running_stats=True)\n",
            "        (conv1): Conv2d(640, 640, kernel_size=(3, 3), stride=(1, 1), padding=(1, 1), bias=False)\n",
            "        (bn2): BatchNorm2d(640, eps=1e-05, momentum=0.1, affine=True, track_running_stats=True)\n",
            "        (conv2): Conv2d(640, 640, kernel_size=(3, 3), stride=(1, 1), padding=(1, 1), bias=False)\n",
            "        (dropout): Dropout(p=0.3, inplace=False)\n",
            "        (shortcut): Identity()\n",
            "      )\n",
            "    )\n",
            "    (bn1): BatchNorm2d(640, eps=1e-05, momentum=0.1, affine=True, track_running_stats=True)\n",
            "    (fc): Linear(in_features=640, out_features=128, bias=True)\n",
            "  )\n",
            "  (gp): GP(\n",
            "    (variational_strategy): VariationalStrategy(\n",
            "      (_variational_distribution): CholeskyVariationalDistribution()\n",
            "    )\n",
            "    (mean_module): ConstantMean()\n",
            "    (covar_module): ScaleKernel(\n",
            "      (base_kernel): RBFKernel(\n",
            "        (raw_lengthscale_constraint): Positive()\n",
            "      )\n",
            "      (raw_outputscale_constraint): Positive()\n",
            "    )\n",
            "  )\n",
            ")\n"
          ],
          "name": "stdout"
        }
      ]
    },
    {
      "cell_type": "code",
      "metadata": {
        "id": "cGs_eBdhTElI"
      },
      "source": [
        "# domain = 1000\n",
        "# grid = 20463\n"
      ],
      "execution_count": null,
      "outputs": []
    },
    {
      "cell_type": "code",
      "metadata": {
        "id": "O3V8MX4sMs_8"
      },
      "source": [
        "# x_lin = np.linspace(-domain, domain, grid)\n",
        "# r_a = np.repeat(x_lin, repeats=1024, axis=0)\n",
        "# r_a = r_a.reshape(grid, X_train.shape[1])\n",
        "# r_a.shape"
      ],
      "execution_count": null,
      "outputs": []
    },
    {
      "cell_type": "code",
      "metadata": {
        "id": "tKb4zdKyQvof",
        "colab": {
          "base_uri": "https://localhost:8080/",
          "height": 212
        },
        "outputId": "956a6c77-d132-485a-c85c-8e30cbe62503"
      },
      "source": [
        "# xx = torch.tensor(r_a[..., None]).float()\n",
        "xx = torch.tensor(p[..., None]).float()\n",
        "\n",
        "xx = xx.reshape(X_train.shape[0],X_train.shape[1])\n",
        "xx.shape"
      ],
      "execution_count": null,
      "outputs": [
        {
          "output_type": "error",
          "ename": "RuntimeError",
          "evalue": "ignored",
          "traceback": [
            "\u001b[0;31m---------------------------------------------------------------------------\u001b[0m",
            "\u001b[0;31mRuntimeError\u001b[0m                              Traceback (most recent call last)",
            "\u001b[0;32m<ipython-input-51-25c43ea71570>\u001b[0m in \u001b[0;36m<module>\u001b[0;34m()\u001b[0m\n\u001b[1;32m      2\u001b[0m \u001b[0mxx\u001b[0m \u001b[0;34m=\u001b[0m \u001b[0mtorch\u001b[0m\u001b[0;34m.\u001b[0m\u001b[0mtensor\u001b[0m\u001b[0;34m(\u001b[0m\u001b[0mp\u001b[0m\u001b[0;34m[\u001b[0m\u001b[0;34m...\u001b[0m\u001b[0;34m,\u001b[0m \u001b[0;32mNone\u001b[0m\u001b[0;34m]\u001b[0m\u001b[0;34m)\u001b[0m\u001b[0;34m.\u001b[0m\u001b[0mfloat\u001b[0m\u001b[0;34m(\u001b[0m\u001b[0;34m)\u001b[0m\u001b[0;34m\u001b[0m\u001b[0;34m\u001b[0m\u001b[0m\n\u001b[1;32m      3\u001b[0m \u001b[0;34m\u001b[0m\u001b[0m\n\u001b[0;32m----> 4\u001b[0;31m \u001b[0mxx\u001b[0m \u001b[0;34m=\u001b[0m \u001b[0mxx\u001b[0m\u001b[0;34m.\u001b[0m\u001b[0mreshape\u001b[0m\u001b[0;34m(\u001b[0m\u001b[0mX_train\u001b[0m\u001b[0;34m.\u001b[0m\u001b[0mshape\u001b[0m\u001b[0;34m[\u001b[0m\u001b[0;36m0\u001b[0m\u001b[0;34m]\u001b[0m\u001b[0;34m,\u001b[0m\u001b[0mX_train\u001b[0m\u001b[0;34m.\u001b[0m\u001b[0mshape\u001b[0m\u001b[0;34m[\u001b[0m\u001b[0;36m1\u001b[0m\u001b[0;34m]\u001b[0m\u001b[0;34m)\u001b[0m\u001b[0;34m\u001b[0m\u001b[0;34m\u001b[0m\u001b[0m\n\u001b[0m\u001b[1;32m      5\u001b[0m \u001b[0mxx\u001b[0m\u001b[0;34m.\u001b[0m\u001b[0mshape\u001b[0m\u001b[0;34m\u001b[0m\u001b[0;34m\u001b[0m\u001b[0m\n",
            "\u001b[0;31mRuntimeError\u001b[0m: shape '[20463, 3]' is invalid for input of size 20954112"
          ]
        }
      ]
    },
    {
      "cell_type": "code",
      "metadata": {
        "id": "OtXpDTEITzUb",
        "colab": {
          "base_uri": "https://localhost:8080/"
        },
        "outputId": "994edb5a-5dc4-4e19-98b0-b89d569209f5"
      },
      "source": [
        "xx = torch.tensor(D_combined_32[..., None]).float()\n",
        "\n",
        "xx = xx.reshape(X_train.shape[0],X_train.shape[1],X_train.shape[2],X_train.shape[3])\n",
        "xx.shape"
      ],
      "execution_count": null,
      "outputs": [
        {
          "output_type": "execute_result",
          "data": {
            "text/plain": [
              "torch.Size([20463, 3, 16, 16])"
            ]
          },
          "metadata": {
            "tags": []
          },
          "execution_count": 58
        }
      ]
    },
    {
      "cell_type": "code",
      "metadata": {
        "id": "7qN34zcwePCx"
      },
      "source": [
        "# xx = 20*xx"
      ],
      "execution_count": null,
      "outputs": []
    },
    {
      "cell_type": "code",
      "metadata": {
        "id": "9mO_gry-eSiK",
        "colab": {
          "base_uri": "https://localhost:8080/"
        },
        "outputId": "2232aa12-73cf-4194-d27b-4ba427707433"
      },
      "source": [
        "xx = xx[:1000,]\n",
        "xx.shape"
      ],
      "execution_count": null,
      "outputs": [
        {
          "output_type": "execute_result",
          "data": {
            "text/plain": [
              "torch.Size([1000, 3, 16, 16])"
            ]
          },
          "metadata": {
            "tags": []
          },
          "execution_count": 62
        }
      ]
    },
    {
      "cell_type": "code",
      "metadata": {
        "id": "7zPQPczWnv07",
        "colab": {
          "base_uri": "https://localhost:8080/"
        },
        "outputId": "aecb2570-80eb-403e-dd9e-bb342dc06faf"
      },
      "source": [
        "model.eval()\n",
        "likelihood.eval()\n",
        "\n",
        "domain = 1\n",
        "grid = 1000\n",
        "x_lin = np.linspace(-domain, domain, grid)\n",
        "            \n",
        "with torch.no_grad(), gpytorch.settings.num_likelihood_samples(64):\n",
        "    # xx = torch.tensor(x_lin[..., None]).float()\n",
        "    # xx = torch.tensor([x_lin[..., None],x_lin[..., None]]).float()\n",
        "    # xx.reshape(100,2)\n",
        "    # xx = torch.reshape(xx, (100, 2))\n",
        "    # xx = torch.reshape(xx, (100, X_train.shape[1] )) #Prasad\n",
        "    \n",
        "    ic(xx.shape)\n",
        "    if torch.cuda.is_available():\n",
        "        print('Cuda')\n",
        "        xx = xx.cuda()\n",
        "    \n",
        "    ol = likelihood(model(xx))\n",
        "    output = ol.mean.cpu()\n",
        "    output_std = ol.stddev.cpu()"
      ],
      "execution_count": null,
      "outputs": [
        {
          "output_type": "stream",
          "text": [
            "ic| xx.shape: torch.Size([1000, 3, 16, 16])\n"
          ],
          "name": "stderr"
        },
        {
          "output_type": "stream",
          "text": [
            "Cuda\n"
          ],
          "name": "stdout"
        }
      ]
    },
    {
      "cell_type": "code",
      "metadata": {
        "colab": {
          "base_uri": "https://localhost:8080/"
        },
        "id": "TPU0nAyoQ4Y-",
        "outputId": "78249934-1c65-4e17-edf3-3a509c34294c"
      },
      "source": [
        "output.shape"
      ],
      "execution_count": null,
      "outputs": [
        {
          "output_type": "execute_result",
          "data": {
            "text/plain": [
              "torch.Size([1000])"
            ]
          },
          "metadata": {
            "tags": []
          },
          "execution_count": 69
        }
      ]
    },
    {
      "cell_type": "code",
      "metadata": {
        "id": "-9lcrRhe3wvH",
        "colab": {
          "base_uri": "https://localhost:8080/"
        },
        "outputId": "5c94afbf-16e4-48d6-82ba-19181f1b1b1c"
      },
      "source": [
        "output"
      ],
      "execution_count": null,
      "outputs": [
        {
          "output_type": "execute_result",
          "data": {
            "text/plain": [
              "tensor([ 11.4258,  11.4258,  11.4258,  11.4258,  11.4258,  11.4258,  11.4258,\n",
              "         11.4258,  11.4258,  11.4258,  11.4258,  11.4258,  11.4258,  11.4258,\n",
              "         11.4258,  11.4213,  11.4205,  11.4199,  11.4361,  11.4202,  11.4175,\n",
              "         11.4170,  11.4171,  11.4169,  11.4168,  11.4169,  11.4169,  11.4169,\n",
              "         11.4169,  11.4169,  11.4172,  11.4171,  11.4169,  11.4169,  11.4170,\n",
              "         11.4170,  11.4169,  11.4169,  11.4168,  11.4169,  11.4169,  11.4170,\n",
              "         11.4177,  11.4193,  11.4186,  11.4183,  11.4176,  11.4173,  11.4175,\n",
              "         11.4177,  11.4178,  11.4174,  11.4172,  11.4169,  11.4170,  11.4169,\n",
              "         11.4171,  11.4177,  11.4199,  11.4176,  11.4175,  11.4176,  11.4238,\n",
              "         11.4212,  11.4191,  11.4288,  11.6124,  11.8910,  12.2065,  20.5699,\n",
              "        109.1783, 174.6412, 204.9777, 207.1642, 204.2336, 190.4345, 167.9614,\n",
              "        182.5677, 191.1567, 200.3735, 207.4149, 231.9095, 241.2094, 245.5835,\n",
              "        253.6116, 260.4028, 259.6135, 254.5225, 270.7752, 276.9837, 274.7004,\n",
              "        268.3946, 263.2484, 272.8107, 269.8130, 266.8271, 260.8904, 255.1582,\n",
              "        252.7267, 258.4815, 242.3282, 222.4156, 210.0698, 132.8394,  11.5813,\n",
              "         11.4211,  11.4213,  11.4352,  11.4264,  11.4262,  11.4244,  11.4464,\n",
              "         11.7558,  12.4442,  12.7714, 183.2752, 233.5605, 236.8230, 236.9121,\n",
              "        230.9010, 227.4536, 233.8570, 240.7207, 235.2200, 226.9765, 230.5165,\n",
              "        229.5183, 236.8770, 238.8398, 240.9725, 247.4789, 252.5771, 248.3115,\n",
              "        243.0312, 229.6262, 214.1913, 218.2084, 220.4318, 232.3547, 233.2349,\n",
              "        243.6082, 240.2693, 234.5001, 226.8915, 229.4652, 225.6951, 227.2120,\n",
              "        218.8325, 217.0395, 216.8787, 218.4596, 211.9569, 205.2215, 208.1001,\n",
              "        208.5800, 211.1504, 209.4967, 211.5775, 214.8547, 216.2750, 207.6371,\n",
              "        198.5048, 203.6142, 217.7669, 220.3630, 206.2784, 205.8296, 204.4622,\n",
              "        207.5743, 207.4610, 211.0034, 206.3736, 216.2298, 219.0231, 215.1702,\n",
              "        216.5327, 221.8277, 221.3076, 209.8708, 209.4155, 213.2075, 215.2692,\n",
              "        219.0243, 220.6711, 211.8605, 206.2437, 200.5271, 199.1929, 199.8744,\n",
              "        201.2782, 211.0227, 208.3074, 193.3302, 182.0385, 179.9221, 197.0808,\n",
              "        197.7355, 197.8037, 198.9963, 191.4034, 181.4490, 176.5877, 172.0492,\n",
              "        156.9013,  37.9725,  12.5388,  11.7343,  11.4451,  11.4276,  11.4200,\n",
              "         11.4170,  11.4169,  11.4170,  11.4170,  11.4169,  11.4169,  11.4169,\n",
              "         11.4169,  11.4169,  11.4169,  11.4169,  11.4169,  11.4169,  11.4170,\n",
              "         11.4170,  11.4176,  11.4200,  11.4214,  11.4202,  11.4192,  11.4211,\n",
              "         11.4200,  11.4195,  11.4170,  11.4171,  11.4178,  11.4189,  11.4175,\n",
              "         11.4176,  11.4171,  11.4221,  11.5012,  11.4979,  11.5128,  11.5387,\n",
              "         12.5603,  12.1524,  11.8471,  11.7145,  11.5173,  11.4819,  11.5735,\n",
              "         11.5287,  11.4364,  11.4211,  11.4219,  11.4221,  11.4180,  11.4170,\n",
              "         11.4169,  11.4169,  11.4168,  11.4168,  11.4168,  11.4168,  11.4168,\n",
              "         11.4168,  11.4169,  11.4168,  11.4169,  11.4170,  11.4173,  11.4181,\n",
              "         11.4211,  11.4214,  11.4175,  11.4183,  11.4262,  11.4967,  11.4501,\n",
              "         11.7359,  16.1349, 103.1765, 142.2138, 145.0816, 145.2781, 145.3899,\n",
              "        147.4567, 147.8506, 149.8308, 150.7341, 151.0302, 152.8870, 150.7200,\n",
              "        146.6915, 147.6375, 147.8359, 144.5492, 141.3018, 139.8673, 139.7252,\n",
              "        136.8576, 137.0544, 134.3447, 133.2865, 130.6982, 135.5605, 128.1610,\n",
              "        122.6185, 123.4621, 144.3900, 161.6869, 159.6932, 164.6513, 172.8155,\n",
              "        176.5773, 174.3398, 169.9726, 169.3304, 168.1214, 170.4921, 172.5685,\n",
              "        173.2138, 175.9886, 179.9506, 181.2128, 178.0103, 174.7904, 168.9803,\n",
              "        170.5161, 172.0678, 177.2331, 177.9995, 181.3496, 184.6241, 182.3649,\n",
              "        178.5314, 175.4091, 175.1310, 175.1144, 177.6347, 179.2624, 180.9045,\n",
              "        183.5782, 188.6613, 193.7411, 196.0980, 186.0131,  15.1480,  11.8094,\n",
              "         12.1619,  11.8518,  11.5487,  11.8335,  11.9322,  11.7875, 169.3486,\n",
              "        194.0677, 197.1436, 195.0910, 200.0938, 207.1769, 203.9675, 190.8696,\n",
              "        199.3663, 211.7058, 232.7771, 238.4602, 227.9977, 239.8131, 261.7776,\n",
              "        264.2248, 248.8690, 250.9889, 272.3947, 259.1529, 246.0258, 249.7954,\n",
              "        254.7963, 256.2708, 249.4986, 257.5515, 257.8293, 256.1122, 247.3680,\n",
              "        244.3393, 242.3767, 236.3767, 236.3749, 235.9743, 235.8903, 235.5765,\n",
              "        236.5772, 236.6584, 228.1039, 221.8396, 211.9199, 204.6809, 217.2643,\n",
              "        170.8936,  12.3633,  11.4485,  11.4248,  11.4195,  11.4204,  11.4216,\n",
              "         11.4173,  11.4172,  11.4180,  11.4183,  11.4171,  11.4175,  11.4701,\n",
              "         11.8576,  11.6418,  13.4147, 200.9193, 231.5520, 228.3288, 234.5231,\n",
              "        242.9609, 240.3563, 235.8768, 234.3328, 223.3895, 224.2695, 222.9624,\n",
              "        226.4096, 225.0254, 222.0521, 221.2526, 224.3791, 225.0625, 223.2748,\n",
              "        217.7534, 221.6416, 221.3263, 216.7085, 209.5826, 212.9586, 213.7169,\n",
              "        206.6517, 205.2133, 202.8477, 200.4435, 200.6732, 202.7541, 202.4366,\n",
              "        204.6002, 209.2910, 206.4249, 204.3706, 209.5260, 215.0010, 217.7573,\n",
              "        230.3167, 234.4246, 233.2812, 230.9763, 230.5660, 227.6174, 222.6390,\n",
              "        220.5902, 224.0706, 221.6349, 222.1612, 220.3312, 214.8123, 214.4330,\n",
              "        212.5894, 215.1209, 218.2699, 220.7642, 207.9337,  89.3001,  30.3957,\n",
              "         20.2471,  21.0506,  41.5648, 135.9398, 206.2467, 217.1909, 219.9493,\n",
              "        217.3150, 213.0828, 213.3832, 214.5282, 208.6827, 204.5058, 202.7142,\n",
              "        206.4223, 208.6556, 210.8275, 212.3996, 217.0007, 222.3622, 223.6662,\n",
              "        223.9068, 228.9312, 227.9096, 232.1145, 245.8044, 266.6996, 247.0478,\n",
              "        225.7319, 230.7198, 243.9265, 236.3959, 223.4597, 225.8256, 232.4596,\n",
              "        226.9606, 214.6559, 202.4139, 208.7538, 218.2396, 222.7981, 216.3698,\n",
              "        212.7853, 217.5557, 214.1962, 215.0847, 206.5065, 205.9492, 208.0639,\n",
              "        217.7615, 221.4621, 226.8835, 226.0388, 222.5087, 215.0803, 214.9357,\n",
              "        217.9364, 213.9700, 208.1717, 214.0317, 213.8268, 215.2289, 202.0739,\n",
              "        197.4886, 196.1959, 195.0560, 194.4242, 197.8377, 205.0663, 206.9257,\n",
              "        205.0789, 205.1241, 209.7470, 206.7924, 201.4038, 199.1248, 203.1884,\n",
              "        208.5334, 204.0686, 195.1071, 197.8298, 199.6131, 193.1393, 180.3489,\n",
              "         12.3136,  11.4228,  11.4173,  11.4173,  11.4169,  11.4169,  11.4170,\n",
              "         11.4170,  11.4170,  11.4172,  11.4176,  11.4176,  11.4174,  11.4191,\n",
              "         11.4226,  11.4221,  11.4215,  11.4220,  11.4249,  11.4189,  11.4184,\n",
              "         11.4176,  11.4178,  11.4179,  11.4217,  11.4191,  11.4226,  11.4417,\n",
              "         11.4214,  11.4178,  11.4238,  11.5160,  11.4182,  11.4169,  11.4169,\n",
              "         11.4168,  11.4168,  11.4168,  11.4168,  11.4169,  11.4169,  11.4168,\n",
              "         11.4168,  11.4169,  11.4191,  11.4360,  11.4577,  11.8246,  13.5621,\n",
              "         12.2284,  11.9106,  11.5230,  11.5294,  11.4542,  11.4408,  11.4179,\n",
              "         11.4169,  11.4170,  11.4190,  11.4171,  11.4172,  11.4195,  11.4211,\n",
              "         11.4185,  11.4200,  11.4171,  11.4169,  11.4169,  11.4171,  11.4179,\n",
              "         11.4193,  11.4177,  11.4174,  11.4173,  11.4205,  11.4236,  11.4196,\n",
              "         11.4191,  11.4225,  11.4511,  11.4583,  11.4263,  11.4235,  11.4231,\n",
              "         11.5300,  11.6500,  11.5815,  11.5092,  11.8059,  11.9796,  11.6410,\n",
              "         11.4758,  11.4435,  11.4539,  11.4539,  11.4383,  11.4214,  11.4184,\n",
              "         11.4178,  11.4186,  11.4259,  11.4329,  11.4716,  12.5136,  92.0412,\n",
              "        171.5545, 206.8957, 217.9901, 228.2638, 228.3061, 234.2560, 242.3521,\n",
              "        246.8190, 254.8729, 249.6369, 250.9337, 246.2774, 240.7129, 244.8379,\n",
              "        253.1369, 253.4286, 244.3170, 242.7886, 243.9356, 246.3479, 245.0748,\n",
              "        244.4928, 251.2137, 252.2394, 254.1750, 257.4815, 260.4245, 253.6881,\n",
              "        245.4946, 228.2410, 212.6738, 159.0368,  32.8305,  11.6803,  11.4834,\n",
              "         11.4680,  11.4649,  11.4634,  11.5280,  12.2514,  49.2374, 166.5064,\n",
              "        192.2207, 198.0510, 198.5442, 203.7506, 205.9514, 204.1444, 201.8252,\n",
              "        204.5186, 206.9154, 205.6980, 205.5387, 207.5440, 206.4339, 208.4128,\n",
              "        210.0816, 207.5068, 207.2132, 206.8718, 199.4601,  47.7331,  12.7105,\n",
              "         11.5588,  11.4782,  11.6180,  11.5488,  11.5823,  14.2175, 174.0161,\n",
              "        215.7069, 214.1271, 212.2256, 210.2715, 203.0181, 203.0615, 206.1569,\n",
              "        210.5056, 202.5512, 200.6186, 202.7939, 194.3621, 187.8632, 182.3915,\n",
              "        182.8129, 180.5434, 182.6060, 180.3712, 189.6379, 202.9698, 204.8462,\n",
              "        195.0605, 193.7721, 193.8496, 196.5775, 195.2541, 191.9164, 186.5525,\n",
              "        169.2382,  14.7175,  12.3278,  11.9089,  12.4766,  12.7450,  12.7468,\n",
              "         11.7157,  11.5468,  11.4831,  11.5177,  11.4721,  11.5107,  11.6022,\n",
              "         13.0976, 116.2150, 168.0472, 168.0995, 172.3440, 179.0447, 175.3682,\n",
              "        172.4276, 169.2585, 166.0984, 159.3883, 172.7372, 183.3560, 179.2299,\n",
              "        183.4154, 188.9069, 185.6801, 180.0742, 168.7131, 103.6748,  21.7740,\n",
              "         15.5529,  14.1782,  12.0641,  11.6431,  11.4811,  11.5224,  11.4810,\n",
              "         11.5336,  11.4538,  11.4413,  11.4259,  11.4745,  11.4309,  11.4572,\n",
              "         11.4727,  11.5241,  11.5286,  11.6556,  11.7689,  11.9130,  11.6897,\n",
              "         11.9675,  12.0387,  12.0616,  12.0042,  11.9629,  11.7121,  11.5771,\n",
              "         11.5338,  11.4595,  11.4530,  11.4415,  11.4510,  11.4233,  11.4189,\n",
              "         11.4255,  11.4345,  11.4253,  11.4188,  11.4211,  11.4291,  11.4185,\n",
              "         11.4173,  11.4186,  11.4396,  11.4240,  11.4253,  11.4430,  11.5485,\n",
              "         11.5661,  11.6171,  11.6919,  11.8151,  11.8384,  11.6740,  11.5686,\n",
              "         11.6885,  11.6652,  11.6559,  11.7059,  11.6034,  11.5457,  11.5674,\n",
              "         11.5094,  11.4290,  11.4284,  11.4429,  11.4407,  11.4369,  11.4274,\n",
              "         11.4547,  11.4969,  11.5258,  11.5016,  11.5354,  11.6053,  11.4681,\n",
              "         11.4302,  11.4580,  11.4625,  11.6481,  15.9005,  12.1661,  11.9879,\n",
              "         22.9832, 231.0524, 234.5824, 241.1426, 244.8116, 252.0867, 247.0151,\n",
              "        249.9951, 243.1348, 254.0542, 266.3717, 258.2527, 269.6987, 265.9633,\n",
              "        267.3246, 270.5930, 273.3942, 267.9592, 254.3545, 243.2980, 233.3899,\n",
              "        231.9087, 227.9283, 229.3102, 228.7636, 233.1755, 230.5507, 226.8154,\n",
              "        219.2589, 223.5466, 232.3410, 217.7437, 206.7628, 206.5300, 209.5414,\n",
              "        202.2399, 181.5617, 168.1976, 175.5389, 175.4828, 158.5754, 153.8606,\n",
              "        165.0207, 185.8605, 187.1708, 188.8182, 197.5647, 207.5298, 213.3585,\n",
              "        207.9621, 201.0068, 194.6161, 203.8905, 196.9248, 168.0459, 180.9926,\n",
              "        212.2831, 220.3138, 220.7841, 219.2676, 223.0883, 220.6863, 214.1734,\n",
              "        192.9657, 161.9574,  48.2119,  16.2418,  25.8274, 108.7068, 222.2639,\n",
              "        223.1893, 213.2825, 220.4577, 222.7498, 222.1671, 210.5552, 206.3472,\n",
              "        207.1555, 212.6721, 207.4762, 205.1895, 209.3355, 212.3646, 213.6469,\n",
              "        214.6228, 215.4782, 218.9901, 224.7423, 222.4604, 219.1366, 218.4579,\n",
              "        219.8677, 220.3540, 218.3760, 221.4942, 223.3269, 225.1691, 224.6936,\n",
              "        223.9454, 227.4175, 228.9417, 232.2008, 232.6173, 232.9270, 236.0798,\n",
              "        235.5766, 230.5095, 225.5131, 230.2148, 230.9789, 231.0002, 236.2612,\n",
              "        244.8454, 254.3073, 251.6048, 263.2303, 276.6410, 269.8657])"
            ]
          },
          "metadata": {
            "tags": []
          },
          "execution_count": 64
        }
      ]
    },
    {
      "cell_type": "code",
      "metadata": {
        "colab": {
          "base_uri": "https://localhost:8080/",
          "height": 284
        },
        "id": "bud3XJ5GRVtS",
        "outputId": "939bcc49-8c54-48d4-bb49-6a69ce05c245"
      },
      "source": [
        "import pandas as pd\n",
        "df = pd.DataFrame(output_std)\n",
        "df.describe()"
      ],
      "execution_count": null,
      "outputs": [
        {
          "output_type": "execute_result",
          "data": {
            "text/html": [
              "<div>\n",
              "<style scoped>\n",
              "    .dataframe tbody tr th:only-of-type {\n",
              "        vertical-align: middle;\n",
              "    }\n",
              "\n",
              "    .dataframe tbody tr th {\n",
              "        vertical-align: top;\n",
              "    }\n",
              "\n",
              "    .dataframe thead th {\n",
              "        text-align: right;\n",
              "    }\n",
              "</style>\n",
              "<table border=\"1\" class=\"dataframe\">\n",
              "  <thead>\n",
              "    <tr style=\"text-align: right;\">\n",
              "      <th></th>\n",
              "      <th>0</th>\n",
              "    </tr>\n",
              "  </thead>\n",
              "  <tbody>\n",
              "    <tr>\n",
              "      <th>count</th>\n",
              "      <td>1000.000000</td>\n",
              "    </tr>\n",
              "    <tr>\n",
              "      <th>mean</th>\n",
              "      <td>5.612563</td>\n",
              "    </tr>\n",
              "    <tr>\n",
              "      <th>std</th>\n",
              "      <td>0.655453</td>\n",
              "    </tr>\n",
              "    <tr>\n",
              "      <th>min</th>\n",
              "      <td>4.788022</td>\n",
              "    </tr>\n",
              "    <tr>\n",
              "      <th>25%</th>\n",
              "      <td>5.008750</td>\n",
              "    </tr>\n",
              "    <tr>\n",
              "      <th>50%</th>\n",
              "      <td>5.237503</td>\n",
              "    </tr>\n",
              "    <tr>\n",
              "      <th>75%</th>\n",
              "      <td>6.379984</td>\n",
              "    </tr>\n",
              "    <tr>\n",
              "      <th>max</th>\n",
              "      <td>6.379984</td>\n",
              "    </tr>\n",
              "  </tbody>\n",
              "</table>\n",
              "</div>"
            ],
            "text/plain": [
              "                 0\n",
              "count  1000.000000\n",
              "mean      5.612563\n",
              "std       0.655453\n",
              "min       4.788022\n",
              "25%       5.008750\n",
              "50%       5.237503\n",
              "75%       6.379984\n",
              "max       6.379984"
            ]
          },
          "metadata": {
            "tags": []
          },
          "execution_count": 76
        }
      ]
    },
    {
      "cell_type": "code",
      "metadata": {
        "id": "tygHappRnyhE",
        "colab": {
          "base_uri": "https://localhost:8080/"
        },
        "outputId": "2205c89c-4e4e-4fe0-c458-1a1abc326114"
      },
      "source": [
        "output_std"
      ],
      "execution_count": null,
      "outputs": [
        {
          "output_type": "execute_result",
          "data": {
            "text/plain": [
              "tensor([6.3800, 6.3800, 6.3800, 6.3800, 6.3800, 6.3800, 6.3800, 6.3800, 6.3800,\n",
              "        6.3800, 6.3800, 6.3800, 6.3800, 6.3800, 6.3800, 6.3800, 6.3800, 6.3800,\n",
              "        6.3800, 6.3800, 6.3800, 6.3800, 6.3800, 6.3800, 6.3800, 6.3800, 6.3800,\n",
              "        6.3800, 6.3800, 6.3800, 6.3800, 6.3800, 6.3800, 6.3800, 6.3800, 6.3800,\n",
              "        6.3800, 6.3800, 6.3800, 6.3800, 6.3800, 6.3800, 6.3800, 6.3800, 6.3800,\n",
              "        6.3800, 6.3800, 6.3800, 6.3800, 6.3800, 6.3800, 6.3800, 6.3800, 6.3800,\n",
              "        6.3800, 6.3800, 6.3800, 6.3800, 6.3800, 6.3800, 6.3800, 6.3800, 6.3800,\n",
              "        6.3800, 6.3800, 6.3800, 6.3800, 6.3800, 6.3799, 6.3725, 5.8571, 5.2556,\n",
              "        5.1081, 5.0972, 4.9918, 5.0395, 5.2464, 5.0640, 5.0533, 5.0863, 5.1431,\n",
              "        5.1526, 5.1927, 5.2070, 5.2081, 5.2187, 5.2722, 5.2990, 5.2762, 5.2734,\n",
              "        5.2888, 5.2617, 5.1795, 5.2229, 5.2316, 5.2539, 5.2443, 5.2136, 5.1708,\n",
              "        5.1489, 5.0862, 5.0540, 5.0217, 5.7125, 6.3800, 6.3800, 6.3800, 6.3800,\n",
              "        6.3800, 6.3800, 6.3800, 6.3800, 6.3800, 6.3798, 6.3797, 5.2768, 4.9814,\n",
              "        4.9828, 4.9312, 4.9309, 4.9759, 4.9644, 4.9257, 4.9299, 5.0021, 4.9538,\n",
              "        4.9588, 4.9142, 4.9066, 4.9384, 4.9804, 4.9985, 5.0172, 5.0387, 4.9868,\n",
              "        5.0520, 5.0276, 5.0733, 5.0266, 4.9609, 4.9946, 5.0317, 4.9932, 4.9961,\n",
              "        4.9779, 4.9922, 5.0187, 5.0362, 5.0615, 5.0795, 5.0729, 5.0849, 5.1161,\n",
              "        5.1125, 5.1463, 5.1555, 5.1369, 5.1093, 5.0824, 5.0811, 5.1235, 5.1687,\n",
              "        5.1245, 5.0503, 5.0328, 5.1074, 5.0962, 5.1365, 5.1406, 5.1286, 5.1059,\n",
              "        5.1072, 5.0993, 5.1074, 5.1183, 5.0999, 5.0504, 5.0316, 5.0277, 5.0032,\n",
              "        5.0109, 4.9979, 4.9779, 4.9676, 4.9726, 4.9595, 5.0159, 5.0482, 5.0097,\n",
              "        5.0222, 5.0353, 5.0173, 5.0328, 5.1259, 5.1835, 5.1367, 5.1654, 5.1688,\n",
              "        5.1137, 5.1594, 5.2212, 5.2095, 5.1909, 5.3763, 6.3224, 6.3798, 6.3800,\n",
              "        6.3800, 6.3800, 6.3800, 6.3800, 6.3800, 6.3800, 6.3800, 6.3800, 6.3800,\n",
              "        6.3800, 6.3800, 6.3800, 6.3800, 6.3800, 6.3800, 6.3800, 6.3800, 6.3800,\n",
              "        6.3800, 6.3800, 6.3800, 6.3800, 6.3800, 6.3800, 6.3800, 6.3800, 6.3800,\n",
              "        6.3800, 6.3800, 6.3800, 6.3800, 6.3800, 6.3800, 6.3800, 6.3800, 6.3800,\n",
              "        6.3800, 6.3800, 6.3799, 6.3800, 6.3800, 6.3800, 6.3800, 6.3800, 6.3800,\n",
              "        6.3800, 6.3800, 6.3800, 6.3800, 6.3800, 6.3800, 6.3800, 6.3800, 6.3800,\n",
              "        6.3800, 6.3800, 6.3800, 6.3800, 6.3800, 6.3800, 6.3800, 6.3800, 6.3800,\n",
              "        6.3800, 6.3800, 6.3800, 6.3800, 6.3800, 6.3800, 6.3800, 6.3800, 6.3800,\n",
              "        6.3800, 6.3800, 6.3779, 5.9119, 5.3914, 5.3482, 5.3975, 5.3969, 5.3773,\n",
              "        5.4237, 5.3551, 5.2864, 5.2978, 5.3183, 5.3053, 5.3281, 5.3414, 5.3413,\n",
              "        5.3733, 5.4407, 5.4584, 5.4501, 5.4867, 5.4868, 5.5092, 5.5350, 5.5956,\n",
              "        5.5560, 5.6327, 5.6808, 5.6483, 5.3248, 5.1383, 5.1736, 5.1966, 5.1904,\n",
              "        5.2802, 5.2460, 5.1555, 5.1671, 5.1617, 5.1302, 5.1345, 5.1736, 5.1337,\n",
              "        5.0836, 5.0724, 5.0209, 4.9644, 4.9816, 5.0307, 5.0740, 5.1187, 5.1509,\n",
              "        5.2052, 5.2286, 5.2351, 5.2262, 5.1377, 5.1413, 5.0677, 5.0600, 5.0465,\n",
              "        5.0642, 5.0347, 4.9692, 4.9689, 4.9666, 4.9405, 6.3780, 6.3800, 6.3799,\n",
              "        6.3800, 6.3800, 6.3800, 6.3799, 6.3800, 5.2931, 5.1273, 5.0790, 5.0653,\n",
              "        5.0709, 5.1265, 5.0918, 5.0862, 4.9944, 4.9913, 5.0052, 5.0268, 4.9948,\n",
              "        4.9945, 5.0281, 5.0740, 5.0627, 5.0417, 5.0194, 4.9786, 4.9287, 4.8944,\n",
              "        4.9184, 4.9044, 4.9580, 4.9930, 4.9655, 4.9549, 4.9865, 5.0285, 5.0341,\n",
              "        5.0155, 4.9794, 4.9967, 4.9916, 4.9731, 4.9824, 4.9902, 4.9795, 4.9348,\n",
              "        4.8857, 4.9589, 4.9281, 5.3888, 6.3799, 6.3800, 6.3800, 6.3800, 6.3800,\n",
              "        6.3800, 6.3800, 6.3800, 6.3800, 6.3800, 6.3800, 6.3800, 6.3800, 6.3800,\n",
              "        6.3800, 6.3796, 5.3772, 5.0503, 5.0392, 5.0018, 5.0312, 5.0207, 5.0192,\n",
              "        5.0383, 5.1278, 5.1070, 5.1080, 5.1109, 5.0990, 5.0272, 5.0377, 5.0085,\n",
              "        5.0380, 5.0416, 5.0427, 5.0244, 5.0443, 5.0522, 5.0395, 5.0298, 5.0393,\n",
              "        5.0088, 5.0169, 5.0058, 5.0061, 5.0114, 5.0795, 5.0989, 5.1088, 5.1316,\n",
              "        5.1236, 5.1788, 5.2399, 5.2197, 5.1952, 5.1231, 5.1196, 5.1219, 5.1112,\n",
              "        5.1309, 5.1041, 5.1126, 5.1774, 5.1984, 5.2277, 5.1687, 5.1868, 5.1895,\n",
              "        5.1626, 5.2025, 5.1405, 5.0544, 5.0052, 4.9939, 6.0041, 6.3429, 6.3699,\n",
              "        6.3673, 6.2858, 5.4069, 4.8237, 4.9085, 4.9448, 4.9127, 4.8536, 4.8568,\n",
              "        4.8803, 4.8374, 4.8018, 4.7928, 4.8404, 4.8718, 4.8660, 4.8521, 4.8850,\n",
              "        4.9299, 4.9363, 4.9281, 4.9358, 4.9413, 4.9113, 4.8853, 4.8496, 4.8464,\n",
              "        4.8515, 4.9072, 4.9310, 4.9425, 4.9769, 5.0001, 4.9726, 4.9709, 4.9808,\n",
              "        4.9031, 4.8750, 4.9493, 4.9901, 5.0148, 5.0089, 4.9439, 4.9005, 4.9028,\n",
              "        4.8923, 4.8744, 4.8838, 4.9611, 5.0013, 5.0101, 5.0148, 4.9924, 4.9797,\n",
              "        5.0053, 5.0165, 4.9998, 4.9698, 4.9535, 4.9291, 4.9642, 4.9912, 5.0143,\n",
              "        4.9957, 4.9806, 4.9921, 5.0103, 4.9990, 4.9885, 5.0105, 5.0260, 5.0457,\n",
              "        5.0112, 5.0570, 5.0707, 5.1393, 5.1412, 5.0854, 5.1046, 5.0703, 5.0402,\n",
              "        4.9707, 4.9993, 6.3799, 6.3800, 6.3800, 6.3800, 6.3800, 6.3800, 6.3800,\n",
              "        6.3800, 6.3800, 6.3800, 6.3800, 6.3800, 6.3800, 6.3800, 6.3800, 6.3800,\n",
              "        6.3800, 6.3800, 6.3800, 6.3800, 6.3800, 6.3800, 6.3800, 6.3800, 6.3800,\n",
              "        6.3800, 6.3800, 6.3800, 6.3800, 6.3800, 6.3800, 6.3800, 6.3800, 6.3800,\n",
              "        6.3800, 6.3800, 6.3800, 6.3800, 6.3800, 6.3800, 6.3800, 6.3800, 6.3800,\n",
              "        6.3800, 6.3800, 6.3800, 6.3800, 6.3800, 6.3794, 6.3799, 6.3799, 6.3800,\n",
              "        6.3800, 6.3800, 6.3800, 6.3800, 6.3800, 6.3800, 6.3800, 6.3800, 6.3800,\n",
              "        6.3800, 6.3800, 6.3800, 6.3800, 6.3800, 6.3800, 6.3800, 6.3800, 6.3800,\n",
              "        6.3800, 6.3800, 6.3800, 6.3800, 6.3800, 6.3800, 6.3800, 6.3800, 6.3800,\n",
              "        6.3800, 6.3800, 6.3800, 6.3800, 6.3800, 6.3800, 6.3800, 6.3800, 6.3800,\n",
              "        6.3800, 6.3799, 6.3800, 6.3800, 6.3800, 6.3800, 6.3800, 6.3800, 6.3800,\n",
              "        6.3800, 6.3800, 6.3800, 6.3800, 6.3800, 6.3800, 6.3798, 6.0891, 5.4378,\n",
              "        5.0957, 5.1405, 5.0829, 5.0364, 4.9995, 5.0250, 4.9855, 4.9269, 4.9014,\n",
              "        4.9159, 4.9359, 4.9458, 4.9224, 4.9469, 4.9684, 4.9777, 4.9658, 4.9443,\n",
              "        4.9580, 4.9929, 5.0034, 4.9923, 4.9809, 4.9879, 4.9534, 4.9706, 4.9963,\n",
              "        5.0056, 5.0057, 5.0549, 5.4606, 6.3408, 6.3800, 6.3800, 6.3800, 6.3800,\n",
              "        6.3800, 6.3800, 6.3799, 6.2824, 5.3889, 5.1963, 5.2098, 5.2536, 5.2576,\n",
              "        5.2899, 5.2892, 5.2868, 5.2918, 5.2878, 5.2864, 5.2563, 5.1592, 5.1269,\n",
              "        5.0481, 4.9789, 4.9343, 4.9183, 4.9226, 4.9788, 6.2882, 6.3797, 6.3800,\n",
              "        6.3800, 6.3800, 6.3800, 6.3800, 6.3790, 5.3358, 5.0421, 5.0630, 5.0942,\n",
              "        5.0908, 5.1223, 5.1674, 5.1747, 5.1504, 5.2034, 5.1930, 5.1696, 5.1639,\n",
              "        5.1921, 5.1916, 5.1697, 5.1806, 5.2070, 5.2335, 5.2504, 5.2722, 5.2788,\n",
              "        5.3609, 5.3166, 5.3186, 5.3715, 5.3911, 5.2991, 5.1727, 5.2422, 6.3788,\n",
              "        6.3799, 6.3799, 6.3798, 6.3798, 6.3798, 6.3800, 6.3800, 6.3800, 6.3800,\n",
              "        6.3800, 6.3800, 6.3800, 6.3796, 5.6834, 4.9119, 4.8721, 4.8485, 4.8644,\n",
              "        4.8633, 4.8543, 4.8624, 4.9163, 5.0439, 4.9116, 4.8717, 4.9543, 4.9420,\n",
              "        4.9331, 4.9369, 4.9765, 5.1562, 5.8749, 6.3695, 6.3780, 6.3789, 6.3799,\n",
              "        6.3800, 6.3800, 6.3800, 6.3800, 6.3800, 6.3800, 6.3800, 6.3800, 6.3800,\n",
              "        6.3800, 6.3800, 6.3800, 6.3800, 6.3800, 6.3800, 6.3800, 6.3800, 6.3800,\n",
              "        6.3799, 6.3799, 6.3799, 6.3799, 6.3799, 6.3800, 6.3800, 6.3800, 6.3800,\n",
              "        6.3800, 6.3800, 6.3800, 6.3800, 6.3800, 6.3800, 6.3800, 6.3800, 6.3800,\n",
              "        6.3800, 6.3800, 6.3800, 6.3800, 6.3800, 6.3800, 6.3800, 6.3800, 6.3800,\n",
              "        6.3800, 6.3800, 6.3800, 6.3800, 6.3800, 6.3800, 6.3800, 6.3800, 6.3800,\n",
              "        6.3800, 6.3800, 6.3800, 6.3800, 6.3800, 6.3800, 6.3800, 6.3800, 6.3800,\n",
              "        6.3800, 6.3800, 6.3800, 6.3800, 6.3800, 6.3800, 6.3800, 6.3800, 6.3800,\n",
              "        6.3800, 6.3800, 6.3800, 6.3800, 6.3800, 6.3800, 6.3782, 6.3799, 6.3800,\n",
              "        6.3721, 4.8410, 4.8541, 4.8795, 4.9006, 4.9104, 4.8958, 4.8956, 4.9088,\n",
              "        4.9498, 4.9390, 4.9509, 5.0000, 5.0019, 4.9770, 4.9577, 4.9625, 4.9361,\n",
              "        4.9278, 4.9010, 4.9046, 4.9239, 4.9681, 4.9692, 4.9931, 4.9763, 4.9893,\n",
              "        4.9999, 5.0418, 5.0646, 5.0610, 4.9986, 5.0261, 5.0683, 5.1124, 5.1764,\n",
              "        5.2615, 5.4101, 5.4541, 5.5133, 5.6738, 5.7041, 5.6103, 5.3841, 5.3687,\n",
              "        5.2453, 5.0944, 5.0562, 5.0015, 4.8980, 4.7916, 4.7934, 4.8462, 4.9525,\n",
              "        5.2774, 5.0958, 4.8676, 4.8513, 4.8404, 4.8340, 4.8280, 4.8000, 4.7880,\n",
              "        4.8722, 5.1914, 6.2699, 6.3769, 6.3577, 5.8073, 4.8535, 4.8499, 4.8415,\n",
              "        4.9820, 5.0975, 5.0402, 5.0813, 5.1197, 5.0919, 5.0897, 5.1176, 5.0619,\n",
              "        5.0485, 5.0784, 5.1218, 5.0446, 5.0049, 5.0330, 5.0178, 4.9837, 4.9453,\n",
              "        4.9698, 4.9677, 4.9670, 4.9405, 4.9737, 4.9903, 4.9306, 4.8977, 4.8904,\n",
              "        4.9081, 4.9018, 4.8498, 4.8300, 4.8697, 4.8783, 4.9223, 4.9114, 4.9016,\n",
              "        4.8459, 4.8656, 4.9279, 4.9177, 4.8920, 4.9161, 5.0008, 4.9725, 4.9301,\n",
              "        4.9641])"
            ]
          },
          "metadata": {
            "tags": []
          },
          "execution_count": 65
        }
      ]
    },
    {
      "cell_type": "code",
      "metadata": {
        "id": "SRt8Snoz5e6Z",
        "colab": {
          "base_uri": "https://localhost:8080/"
        },
        "outputId": "facd9296-da1b-4a32-d8df-35913b4c219b"
      },
      "source": [
        "np.std(np.array(output_std))"
      ],
      "execution_count": null,
      "outputs": [
        {
          "output_type": "execute_result",
          "data": {
            "text/plain": [
              "0.65512604"
            ]
          },
          "metadata": {
            "tags": []
          },
          "execution_count": 66
        }
      ]
    },
    {
      "cell_type": "code",
      "metadata": {
        "id": "Rowf5H8ShMeX",
        "colab": {
          "base_uri": "https://localhost:8080/"
        },
        "outputId": "0bf7c45b-15b4-478e-cf31-5e27d9338471"
      },
      "source": [
        "np.corrcoef(output,gtf_combined[:1000])"
      ],
      "execution_count": null,
      "outputs": [
        {
          "output_type": "execute_result",
          "data": {
            "text/plain": [
              "array([[1.        , 0.98150705],\n",
              "       [0.98150705, 1.        ]])"
            ]
          },
          "metadata": {
            "tags": []
          },
          "execution_count": 70
        }
      ]
    },
    {
      "cell_type": "markdown",
      "metadata": {
        "id": "Q_UP4DlERKTS"
      },
      "source": [
        "#Train results\n",
        "corr for 1000 samples - 0.98150705\n",
        "MSE = 21.97760003155167\n"
      ]
    },
    {
      "cell_type": "code",
      "metadata": {
        "id": "-efcDMOUmFmr",
        "colab": {
          "base_uri": "https://localhost:8080/",
          "height": 162
        },
        "outputId": "afec2609-703f-4d64-ae8b-c9e36276e8ca"
      },
      "source": [
        "plt.scatter(output,gtf_combined[:1000])"
      ],
      "execution_count": null,
      "outputs": [
        {
          "output_type": "error",
          "ename": "NameError",
          "evalue": "ignored",
          "traceback": [
            "\u001b[0;31m---------------------------------------------------------------------------\u001b[0m",
            "\u001b[0;31mNameError\u001b[0m                                 Traceback (most recent call last)",
            "\u001b[0;32m<ipython-input-1-2ec5f1f276bf>\u001b[0m in \u001b[0;36m<module>\u001b[0;34m()\u001b[0m\n\u001b[0;32m----> 1\u001b[0;31m \u001b[0mplt\u001b[0m\u001b[0;34m.\u001b[0m\u001b[0mscatter\u001b[0m\u001b[0;34m(\u001b[0m\u001b[0moutput\u001b[0m\u001b[0;34m,\u001b[0m\u001b[0mgtf_combined\u001b[0m\u001b[0;34m[\u001b[0m\u001b[0;34m:\u001b[0m\u001b[0;36m1000\u001b[0m\u001b[0;34m]\u001b[0m\u001b[0;34m)\u001b[0m\u001b[0;34m\u001b[0m\u001b[0;34m\u001b[0m\u001b[0m\n\u001b[0m",
            "\u001b[0;31mNameError\u001b[0m: name 'plt' is not defined"
          ]
        }
      ]
    },
    {
      "cell_type": "code",
      "metadata": {
        "id": "4C05uhId6Il6",
        "colab": {
          "base_uri": "https://localhost:8080/",
          "height": 285
        },
        "outputId": "fa945524-3789-42f7-e539-9983e8af399d"
      },
      "source": [
        "plt.scatter(output,gtf_combined[:1000])"
      ],
      "execution_count": null,
      "outputs": [
        {
          "output_type": "execute_result",
          "data": {
            "text/plain": [
              "<matplotlib.collections.PathCollection at 0x7f51d715dd10>"
            ]
          },
          "metadata": {
            "tags": []
          },
          "execution_count": 71
        },
        {
          "output_type": "display_data",
          "data": {
            "image/png": "[encoded data removed]",
            "text/plain": [
              "<Figure size 432x288 with 1 Axes>"
            ]
          },
          "metadata": {
            "tags": []
          }
        }
      ]
    },
    {
      "cell_type": "code",
      "metadata": {
        "colab": {
          "base_uri": "https://localhost:8080/",
          "height": 285
        },
        "id": "hmfMSg36734B",
        "outputId": "69b71654-3a2d-47ad-c92c-6e6f82c2addf"
      },
      "source": [
        "plt.plot(gtf_combined[:1000])\n",
        "plt.plot(output)\n"
      ],
      "execution_count": null,
      "outputs": [
        {
          "output_type": "execute_result",
          "data": {
            "text/plain": [
              "[<matplotlib.lines.Line2D at 0x7f51d6e92f90>]"
            ]
          },
          "metadata": {
            "tags": []
          },
          "execution_count": 72
        },
        {
          "output_type": "display_data",
          "data": {
            "image/png": "[encoded data removed]",
            "text/plain": [
              "<Figure size 432x288 with 1 Axes>"
            ]
          },
          "metadata": {
            "tags": []
          }
        }
      ]
    },
    {
      "cell_type": "code",
      "metadata": {
        "id": "O114xtjTSkPu"
      },
      "source": [
        "avg_std  =np.mean((output_std).numpy())"
      ],
      "execution_count": null,
      "outputs": []
    },
    {
      "cell_type": "code",
      "metadata": {
        "colab": {
          "base_uri": "https://localhost:8080/",
          "height": 285
        },
        "id": "58XWWZ9ySYC9",
        "outputId": "2a59ea65-45e3-4ddd-f684-aba8c640579d"
      },
      "source": [
        "plt.plot(output_std-avg_std)"
      ],
      "execution_count": null,
      "outputs": [
        {
          "output_type": "execute_result",
          "data": {
            "text/plain": [
              "[<matplotlib.lines.Line2D at 0x7f51d625e710>]"
            ]
          },
          "metadata": {
            "tags": []
          },
          "execution_count": 87
        },
        {
          "output_type": "display_data",
          "data": {
            "image/png": "[encoded data removed]",
            "text/plain": [
              "<Figure size 432x288 with 1 Axes>"
            ]
          },
          "metadata": {
            "tags": []
          }
        }
      ]
    },
    {
      "cell_type": "code",
      "metadata": {
        "colab": {
          "base_uri": "https://localhost:8080/",
          "height": 288
        },
        "id": "IQ2UvLAIUvjV",
        "outputId": "03b68f7e-a8d5-4008-87f5-fc3c7bd3dd58"
      },
      "source": [
        "plt.plot(gtf_combined[:1000])\n",
        "plt.plot(output)\n",
        "plt.plot(60*(output_std))"
      ],
      "execution_count": null,
      "outputs": [
        {
          "output_type": "execute_result",
          "data": {
            "text/plain": [
              "[<matplotlib.lines.Line2D at 0x7f51d5fba1d0>]"
            ]
          },
          "metadata": {
            "tags": []
          },
          "execution_count": 92
        },
        {
          "output_type": "display_data",
          "data": {
            "image/png": "[encoded data removed]",
            "text/plain": [
              "<Figure size 432x288 with 1 Axes>"
            ]
          },
          "metadata": {
            "tags": []
          }
        }
      ]
    },
    {
      "cell_type": "code",
      "metadata": {
        "colab": {
          "base_uri": "https://localhost:8080/",
          "height": 285
        },
        "id": "onaBjqLRbRk2",
        "outputId": "da4004a6-75f3-407f-bd8d-9bf82ad56d7c"
      },
      "source": [
        "plt.plot(gtf_combined[:1000])\n",
        "plt.plot(output)\n",
        "plt.plot((100*output_std))"
      ],
      "execution_count": null,
      "outputs": [
        {
          "output_type": "execute_result",
          "data": {
            "text/plain": [
              "[<matplotlib.lines.Line2D at 0x7f51d5e8e490>]"
            ]
          },
          "metadata": {
            "tags": []
          },
          "execution_count": 96
        },
        {
          "output_type": "display_data",
          "data": {
            "image/png": "[encoded data removed]",
            "text/plain": [
              "<Figure size 432x288 with 1 Axes>"
            ]
          },
          "metadata": {
            "tags": []
          }
        }
      ]
    },
    {
      "cell_type": "code",
      "metadata": {
        "colab": {
          "base_uri": "https://localhost:8080/"
        },
        "id": "LlDHnqy5hTdB",
        "outputId": "fefc3777-e171-4076-9eb8-1199677a7bb1"
      },
      "source": [
        ""
      ],
      "execution_count": null,
      "outputs": [
        {
          "output_type": "execute_result",
          "data": {
            "text/plain": [
              "torch.Size([20905, 513])"
            ]
          },
          "metadata": {
            "tags": []
          },
          "execution_count": 95
        }
      ]
    },
    {
      "cell_type": "code",
      "metadata": {
        "colab": {
          "base_uri": "https://localhost:8080/"
        },
        "id": "iW7hb5CahgZe",
        "outputId": "d14cb801-bc89-42e7-ee5c-55c0cf29a125"
      },
      "source": [
        "np.corrcoef(output,gtf_combined_test)"
      ],
      "execution_count": null,
      "outputs": [
        {
          "output_type": "execute_result",
          "data": {
            "text/plain": [
              "array([[1.        , 0.11172415],\n",
              "       [0.11172415, 1.        ]])"
            ]
          },
          "metadata": {
            "tags": []
          },
          "execution_count": 99
        }
      ]
    },
    {
      "cell_type": "code",
      "metadata": {
        "id": "XXdV_axChkIc",
        "colab": {
          "base_uri": "https://localhost:8080/"
        },
        "outputId": "c71ab2aa-c8bf-4ef9-cde7-cbed49ada988"
      },
      "source": [
        "from sklearn.metrics import mean_squared_error\n",
        "mean_squared_error(gtf_combined[:1000],output, squared=False)"
      ],
      "execution_count": null,
      "outputs": [
        {
          "output_type": "execute_result",
          "data": {
            "text/plain": [
              "21.97760003155167"
            ]
          },
          "metadata": {
            "tags": []
          },
          "execution_count": 93
        }
      ]
    },
    {
      "cell_type": "markdown",
      "metadata": {
        "id": "XYypNJirgWnM"
      },
      "source": [
        "#Test *results*"
      ]
    },
    {
      "cell_type": "code",
      "metadata": {
        "id": "MNHBnUeEhj4d",
        "colab": {
          "base_uri": "https://localhost:8080/"
        },
        "outputId": "8be93d19-322f-4213-df37-8f20d3495f2d"
      },
      "source": [
        "xx1 = torch.tensor(D_combined_32_test[..., None]).float()\n",
        "\n",
        "xx1 = xx1.reshape(xx1.shape[0],xx1.shape[1],xx1.shape[2],xx1.shape[3])\n",
        "xx1.shape"
      ],
      "execution_count": null,
      "outputs": [
        {
          "output_type": "execute_result",
          "data": {
            "text/plain": [
              "torch.Size([20905, 3, 16, 16])"
            ]
          },
          "metadata": {
            "tags": []
          },
          "execution_count": 152
        }
      ]
    },
    {
      "cell_type": "code",
      "metadata": {
        "colab": {
          "base_uri": "https://localhost:8080/"
        },
        "id": "ca-QazL7fSZ1",
        "outputId": "f7ca2286-244e-46b6-eb47-a7b1a5ca9c54"
      },
      "source": [
        "xx1 = xx1[:1000]\n",
        "xx1.shape"
      ],
      "execution_count": null,
      "outputs": [
        {
          "output_type": "execute_result",
          "data": {
            "text/plain": [
              "torch.Size([1000, 3, 16, 16])"
            ]
          },
          "metadata": {
            "tags": []
          },
          "execution_count": 153
        }
      ]
    },
    {
      "cell_type": "code",
      "metadata": {
        "colab": {
          "base_uri": "https://localhost:8080/"
        },
        "id": "-kNWvQGNhYEf",
        "outputId": "f573176c-e000-46e2-dbd6-a86a324eda4b"
      },
      "source": [
        "model.eval()\n",
        "likelihood.eval()\n",
        "\n",
        "domain = 1\n",
        "grid = 1000\n",
        "x_lin = np.linspace(-domain, domain, grid)\n",
        "            \n",
        "with torch.no_grad(), gpytorch.settings.num_likelihood_samples(64):\n",
        "    # xx = torch.tensor(x_lin[..., None]).float()\n",
        "    # xx = torch.tensor([x_lin[..., None],x_lin[..., None]]).float()\n",
        "    # xx.reshape(100,2)\n",
        "    # xx = torch.reshape(xx, (100, 2))\n",
        "    # xx = torch.reshape(xx, (100, X_train.shape[1] )) #Prasad\n",
        "    \n",
        "    # ic(xx.shape)\n",
        "    if torch.cuda.is_available():\n",
        "        print('Cuda')\n",
        "        xx1 = xx1.cuda()\n",
        "    \n",
        "    ol1 = likelihood(model(xx1))\n",
        "    output_test = ol1.mean.cpu()\n",
        "    output_std_test = ol1.stddev.cpu()"
      ],
      "execution_count": null,
      "outputs": [
        {
          "output_type": "stream",
          "text": [
            "Cuda\n"
          ],
          "name": "stdout"
        }
      ]
    },
    {
      "cell_type": "code",
      "metadata": {
        "colab": {
          "base_uri": "https://localhost:8080/"
        },
        "id": "tRs-uS1BhaSw",
        "outputId": "ab3cbf86-b296-43a3-832f-5c8e4e36dfb6"
      },
      "source": [
        "output_test"
      ],
      "execution_count": null,
      "outputs": [
        {
          "output_type": "execute_result",
          "data": {
            "text/plain": [
              "tensor([ 11.4258,  11.4258,  11.4258,  11.4258,  11.4258,  11.4258,  11.4258,\n",
              "         11.4258,  11.4258,  11.4258,  11.4258,  11.4258,  11.4258,  11.4258,\n",
              "         11.4258,  11.5000,  11.4437,  11.5169,  11.4747,  11.5491,  11.5051,\n",
              "         11.4746,  11.4345,  11.5029,  11.4374,  11.4290,  11.4200,  11.4229,\n",
              "         11.4200,  11.4170,  11.4171,  11.4184,  11.4223,  11.4854,  32.7154,\n",
              "        107.1513, 179.6931, 218.1714, 313.2652, 343.3295, 333.7867, 276.6884,\n",
              "        104.3191,  88.1663,  45.0702,  25.9444,  64.9387, 127.1077,  95.7090,\n",
              "         90.5890, 203.8870, 251.3361, 263.2436, 226.9897, 185.7683, 227.3125,\n",
              "        111.2797,  46.6095,  94.2150,  67.8198,  35.5973, 124.9180, 266.7142,\n",
              "        278.4836, 272.6478, 263.6453, 256.5808, 263.7461, 260.2957, 252.1651,\n",
              "        233.3701, 238.6572, 253.2168, 255.2979, 262.0796, 263.6546, 266.3465,\n",
              "        266.5164, 272.3501, 286.3444, 290.1494, 292.9649, 305.8860, 318.5653,\n",
              "        330.0421, 335.8710, 357.6992, 365.2531, 368.8280, 378.2429, 383.4419,\n",
              "        378.2946, 378.2347, 383.1187, 382.8235, 377.0537, 374.2394, 365.8058,\n",
              "        371.9609, 369.4121, 269.1126,  28.0068,  22.0740,  79.4047, 112.9376,\n",
              "         21.7073,  12.8987,  11.5216,  11.4286,  11.4403,  11.4230,  11.4228,\n",
              "         11.4276,  11.4238,  11.4225,  11.4295,  12.7108,  23.5669,  12.5389,\n",
              "         12.4241,  16.1471,  32.6341,  21.9204,  22.2499,  14.0493,  38.4489,\n",
              "         84.3743, 170.7197, 226.7773, 276.2327, 235.5940, 214.8481, 125.4961,\n",
              "         43.7946,  29.5601,  79.2902,  63.3528,  34.2679,  16.4555,  15.1153,\n",
              "         16.0323,  13.3016,  13.2661,  14.0949,  13.4327,  11.5193,  12.7524,\n",
              "         20.4940,  22.1851,  11.6237,  11.5066,  11.4352,  11.4320,  11.4504,\n",
              "         11.4366,  11.4701,  11.6368,  11.4417,  11.4225,  11.4345,  12.5523,\n",
              "         27.6829, 116.3210, 293.8290, 313.1787, 320.9566, 332.0211, 336.7204,\n",
              "        336.9235, 334.4967, 338.8757, 345.8193, 343.2910, 337.7879, 334.5623,\n",
              "        327.4592, 314.3992, 304.1638, 307.9712, 309.6709, 281.0631, 237.5294,\n",
              "        100.5423,  53.6726,  55.1089,  78.6783, 174.3565,  35.5693,  12.4825,\n",
              "         12.8336,  13.3827,  24.4347,  14.0791,  12.6628,  12.4217,  13.2275,\n",
              "         11.8282,  11.7158,  11.7466,  12.1932,  12.1912,  11.8800,  11.8254,\n",
              "         13.8809,  12.0641,  11.6240,  11.4943,  11.5902,  11.6423,  11.7241,\n",
              "         11.6413,  12.2612,  11.9666,  11.8683,  11.5175,  11.5051,  11.6078,\n",
              "         11.5831,  11.5886,  11.5482,  11.6965,  12.1877,  15.5419,  14.5577,\n",
              "         25.6844,  50.4323, 159.4663, 254.5622, 313.8170, 264.0321, 268.7516,\n",
              "        273.5989, 266.0140, 248.2078, 227.9509, 196.6313, 189.0599, 186.1296,\n",
              "        169.5333, 134.1714, 120.6037, 134.4229, 169.5275, 203.8684, 211.0939,\n",
              "        217.8173, 228.5095, 225.8832, 224.1733, 227.6317, 235.1841, 231.5326,\n",
              "        212.2708, 204.2046, 198.7941, 195.2385, 197.1365, 198.1355, 200.4483,\n",
              "        198.9487, 199.5389, 194.3944, 190.5648, 182.2870, 182.4636, 180.1517,\n",
              "        180.1315, 166.1226, 178.7973, 186.9200, 191.0000, 201.2273, 213.4357,\n",
              "        166.7709,  43.3778,  16.1577,  11.5958,  11.4227,  11.4170,  11.4170,\n",
              "         11.4169,  11.4169,  11.4170,  11.4185,  11.4240,  11.4209,  11.4270,\n",
              "         11.4376,  11.4681,  11.4295,  11.4295,  11.4364,  11.4365,  11.4727,\n",
              "         11.7396,  17.4840,  13.4057,  17.4661, 256.2520, 337.4033, 340.1966,\n",
              "        331.0913, 351.9983, 352.9278, 350.5549, 343.3971, 342.0468, 347.6218,\n",
              "        348.3641, 346.6862, 349.7068, 345.9682, 344.9524, 341.0368, 332.1776,\n",
              "        324.5009, 305.0935, 266.6635, 272.9177, 227.3311,  52.8855,  12.6084,\n",
              "         13.1238,  12.3190,  12.1906,  12.7968,  12.4889,  12.3718,  12.3395,\n",
              "         26.1569, 112.5024, 316.9663, 360.5600, 366.0780, 364.5895, 363.7623,\n",
              "        351.1761, 338.7418, 307.1661, 107.9755,  64.9975,  20.0793,  15.3744,\n",
              "         11.7767,  11.4975,  11.5055,  11.6543,  11.5732,  11.5173,  11.4756,\n",
              "         11.4337,  11.4237,  11.4209,  11.4211,  11.4172,  11.4175,  11.4182,\n",
              "         11.4200,  11.4178,  11.4176,  11.4240,  11.4548,  11.6423,  11.5541,\n",
              "         12.2499,  16.2306,  47.9291, 151.3139, 317.2297, 288.3822, 236.9707,\n",
              "        255.6972, 246.0035, 161.4409, 130.5087, 184.4987, 167.1389, 128.2730,\n",
              "        146.5271, 165.0952, 164.9700, 165.9017, 162.0712, 160.5362, 150.4824,\n",
              "        112.9796, 151.1515, 166.6827, 170.4299, 130.3981,  36.3956,  12.6792,\n",
              "         12.0631,  11.5217,  11.4844,  11.4885,  11.4952,  11.8479,  24.3461,\n",
              "         84.5307, 154.1851, 130.8553, 159.2012, 148.3018, 120.3885,  76.9401,\n",
              "         23.4139,  15.0896,  15.4297,  13.5207,  12.6280,  11.5553,  11.4586,\n",
              "         11.4212,  11.4232,  11.4231,  11.4258,  11.4204,  11.8080,  63.3982,\n",
              "        150.7012, 215.0892, 227.7392, 231.9086, 229.5211, 224.3029, 219.5434,\n",
              "        223.1272, 218.3183, 208.0161, 196.4566, 202.2243, 200.3831, 193.3452,\n",
              "        188.8398, 194.3737, 199.5639, 203.3231, 172.6295,  87.3363,  96.4582,\n",
              "         81.8349,  15.9091,  11.5035,  11.4527,  12.9933, 197.5441, 221.0191,\n",
              "        216.1804, 216.3540, 220.9887, 221.8041, 212.4473, 214.2971, 219.0974,\n",
              "        219.1483, 217.2555, 214.2917, 204.3351, 177.4429, 166.0126, 174.1917,\n",
              "        139.4781,  98.2516,  94.9815, 170.3095, 234.1067, 254.1329, 247.1494,\n",
              "        239.1136, 235.8383, 238.5261, 238.1908, 236.6340, 240.6183, 244.0540,\n",
              "        244.5850, 235.3483, 230.9874, 236.1382, 235.8374, 234.0962, 227.9774,\n",
              "        224.7921, 221.9743, 219.3614, 221.7166, 225.4706, 225.3190, 222.0245,\n",
              "        224.0038, 225.4206, 226.3245, 225.8926, 222.2471, 216.6670, 216.9717,\n",
              "        225.7047, 240.1564, 250.0321, 242.7870, 257.5337, 255.3981, 241.0863,\n",
              "        231.6713, 239.4767, 230.8776, 222.2351, 184.7580, 125.8180,  74.4555,\n",
              "         44.8706,  15.5936,  13.4508,  20.9688,  24.4834,  20.3174,  13.2064,\n",
              "         15.6903,  18.5844,  15.8805,  14.4271,  13.1911,  11.9123,  11.5922,\n",
              "         11.6468,  11.7207,  11.5949,  11.5144,  11.5883,  11.7534,  11.4774,\n",
              "         11.4560,  11.4455,  11.4316,  11.4203,  11.4197,  11.4185,  11.4174,\n",
              "         11.4183,  11.4178,  11.4196,  11.4443,  11.5057,  11.5001,  11.5467,\n",
              "         11.6213,  11.8466,  12.3823,  12.9663,  17.9212, 136.7017, 200.7784,\n",
              "        211.5439, 201.4884, 199.2749, 192.6672, 200.0704, 193.9244, 182.7582,\n",
              "        146.0489, 163.2541, 134.3017,  29.4561,  20.9327,  12.7760,  12.3953,\n",
              "         11.5025,  11.6831,  11.6999,  11.7230,  11.6182,  12.0246,  12.0330,\n",
              "         11.8698,  13.8336,  27.3012,  84.6094, 180.3863, 210.6757, 213.1921,\n",
              "        205.5914, 200.9847, 196.7131, 189.6284, 187.9412, 184.0337, 180.8911,\n",
              "        177.8617, 177.5936, 176.5147, 173.4274, 165.9494, 162.0410, 144.6346,\n",
              "        126.2042, 128.0368, 130.9891, 123.5357, 125.7692,  84.3714,  52.2372,\n",
              "         24.5548,  14.5348,  14.7108,  20.4632,  31.7279,  50.2910,  59.7919,\n",
              "         73.6077,  59.3005,  42.6610,  39.6564,  28.9447,  17.8378,  38.6998,\n",
              "        135.2343, 115.2487,  33.8282,  90.0072, 132.7151,  99.8857,  27.6929,\n",
              "        166.8473, 165.2941, 151.0844,  34.1357,  34.1465,  49.1076,  39.3248,\n",
              "         21.0686,  17.4225,  23.3216,  30.0220,  25.3244,  21.9699,  44.0831,\n",
              "         70.5324, 113.6468, 155.2611, 180.1233, 189.2968, 185.0370, 175.3361,\n",
              "        171.3374, 168.1687, 115.5474,  77.3036,  48.1582,  15.3892,  12.1495,\n",
              "         12.4656,  14.4079,  13.4677,  12.8953,  17.1187,  45.2393,  46.0838,\n",
              "         46.8018,  53.2205, 109.4873,  41.1368,  14.1051,  14.0316,  16.2891,\n",
              "         25.2474,  65.8599,  63.3352,  11.7198,  11.5680,  12.1645,  15.9229,\n",
              "         12.7910,  26.8155, 201.3947, 285.7336, 267.1905, 271.3747, 261.4183,\n",
              "        257.8700, 249.4091, 238.8256, 236.1203, 229.8204, 221.3698, 215.6608,\n",
              "        203.8554, 188.7027, 175.6545, 162.5214, 166.5083, 172.5708, 168.4403,\n",
              "        166.6877, 189.2004, 208.6308, 220.7084, 223.2832, 223.6125, 231.2216,\n",
              "        231.0099, 227.9821, 222.0842, 211.8360, 206.2801, 203.4537, 196.0463,\n",
              "        194.4045, 191.6743, 191.2589, 200.7445, 202.2319, 195.7628, 198.8935,\n",
              "        201.3253, 196.5941, 192.4975, 177.2826, 177.7163, 179.6472, 188.8050,\n",
              "        171.3535, 141.0101, 117.7174, 155.6450, 144.0747, 134.2095, 140.4504,\n",
              "        197.2026, 202.3842, 212.3489, 229.2942, 223.1964, 219.0408, 205.2737,\n",
              "        214.9059, 205.0950, 216.1091, 220.0839, 221.6043, 211.2554, 216.7505,\n",
              "        232.6764, 226.7333, 205.5409, 202.6948, 227.3850, 241.3483, 219.4684,\n",
              "        210.1800, 221.1753, 227.1967, 184.1022, 205.6566, 213.6046, 218.5694,\n",
              "        210.1929, 219.8462, 207.9570, 205.7931, 210.3976, 207.9470, 204.2238,\n",
              "        200.2624, 203.3307, 198.8652, 200.4144, 207.6696, 210.0046, 206.7956,\n",
              "        204.7771, 208.9442, 211.8489, 206.6609, 202.6984, 201.5836, 195.4076,\n",
              "        192.7943, 190.4077, 187.0062, 185.7980, 184.9796, 182.7992, 178.7943,\n",
              "        176.8468, 181.1801, 168.7948, 164.5461, 148.7493, 163.0085, 168.1766,\n",
              "        177.7621, 205.2870, 220.5663, 214.2974, 197.5773, 204.2233, 217.6545,\n",
              "        204.0799, 200.6236, 199.2261, 198.3586, 222.6637, 223.9461, 220.4712,\n",
              "        237.2250, 273.0201, 265.3889, 283.4239, 293.5686, 304.0628, 296.8918,\n",
              "        307.6516, 314.9803, 295.9074, 284.4878, 277.2224, 298.1865, 282.8472,\n",
              "        259.0789, 237.7852, 228.9041, 238.2357, 247.2922, 250.6128, 245.8421,\n",
              "        239.6322, 238.5775, 260.5949, 268.6068, 245.8919, 237.3112, 250.9493,\n",
              "        249.8430, 244.4322, 238.3868, 243.5723, 234.8759, 219.1678, 218.1377,\n",
              "        230.7383, 229.8411, 226.2902, 236.4810, 236.7798, 241.4932, 240.5629,\n",
              "        230.9892, 231.1728, 234.2971, 227.1304, 218.2821, 216.2268, 222.0535,\n",
              "        217.5399, 208.0254, 203.9028, 207.4894, 206.3945, 202.5824, 193.5586,\n",
              "        198.7708, 188.4430, 177.6596, 178.6076, 193.0414, 196.8011, 207.5138,\n",
              "        207.1254, 215.3210, 226.3873, 242.3190, 237.0673, 217.1634, 240.2043,\n",
              "        268.2384, 271.0538, 259.7198, 260.7473, 266.4080, 249.3341, 230.0734,\n",
              "        243.8276, 253.6934, 245.5472, 236.9255, 243.0868, 233.3681, 229.4717,\n",
              "        214.2395, 206.1583, 199.1074, 204.1455, 212.9451, 206.2753, 198.5235,\n",
              "        203.6217, 203.1568, 192.6634, 187.6761, 190.8374, 190.8627, 189.0298,\n",
              "        188.6624, 184.1651, 181.9419, 179.4767, 182.3648, 179.4144, 157.1558,\n",
              "        144.0639,  70.5472,  31.3619,  23.3550,  18.0417,  22.3848,  27.5045,\n",
              "         21.5246,  30.2024,  27.7836,  26.5702,  18.4160,  20.0887,  16.4787,\n",
              "         17.5559,  15.3929,  18.9770,  19.1563,  28.8100,  35.0455,  57.7697,\n",
              "         69.3361,  98.5976, 161.2220, 165.7200, 143.1126,  59.6750,  19.2838,\n",
              "         12.1031,  11.5360,  11.4979,  11.4553,  11.4223,  11.4194,  11.4434,\n",
              "         11.6360,  12.6741,  14.6508,  25.4440,  28.7958,  50.5808,  82.4280,\n",
              "         35.6295,  17.9408,  19.5394,  76.2142,  76.1913,  15.2709,  11.4933,\n",
              "         11.5250,  11.4224,  11.4178,  11.4169,  11.4168,  11.4168,  11.4168,\n",
              "         11.4169,  11.4169,  11.4169,  11.4170,  11.4175,  11.4816,  17.5292,\n",
              "         94.1034, 199.1800, 210.8121, 202.2207, 115.8644,  98.8910,  73.0541,\n",
              "         63.3324, 110.5095, 153.1711, 130.4046, 165.4037, 130.0184,  88.6270,\n",
              "        153.1197, 182.2917, 202.8498, 210.1895, 199.1329, 179.7523, 159.6065,\n",
              "        147.2582, 177.6735, 186.9588, 198.4687, 210.8493, 217.4585])"
            ]
          },
          "metadata": {
            "tags": []
          },
          "execution_count": 155
        }
      ]
    },
    {
      "cell_type": "code",
      "metadata": {
        "colab": {
          "base_uri": "https://localhost:8080/"
        },
        "id": "3GLRF4kwhaPD",
        "outputId": "abd37a91-05af-491a-d2ba-189b30feb0f8"
      },
      "source": [
        "output_std_test"
      ],
      "execution_count": null,
      "outputs": [
        {
          "output_type": "execute_result",
          "data": {
            "text/plain": [
              "tensor([6.3800, 6.3800, 6.3800, 6.3800, 6.3800, 6.3800, 6.3800, 6.3800, 6.3800,\n",
              "        6.3800, 6.3800, 6.3800, 6.3800, 6.3800, 6.3800, 6.3800, 6.3800, 6.3800,\n",
              "        6.3800, 6.3800, 6.3800, 6.3800, 6.3800, 6.3800, 6.3800, 6.3800, 6.3800,\n",
              "        6.3800, 6.3800, 6.3800, 6.3800, 6.3800, 6.3800, 6.3800, 6.3462, 5.8920,\n",
              "        5.1518, 5.0073, 4.8586, 4.8551, 4.8690, 4.9250, 5.9977, 6.1404, 6.3192,\n",
              "        6.3592, 6.1856, 5.8273, 6.0477, 6.0047, 5.0937, 4.9973, 5.0142, 5.1529,\n",
              "        5.5533, 5.3571, 6.0569, 6.3105, 6.0856, 6.2210, 6.3424, 5.9332, 4.9582,\n",
              "        4.9621, 4.9496, 4.9022, 4.9354, 4.9328, 4.9609, 4.9854, 4.9822, 4.9576,\n",
              "        4.9555, 4.9586, 4.9543, 4.9307, 4.9416, 4.9355, 4.9443, 4.9581, 4.9697,\n",
              "        4.9439, 4.8972, 4.8644, 4.8499, 4.8310, 4.7771, 4.7938, 4.7692, 4.7018,\n",
              "        4.7032, 4.7197, 4.7177, 4.6974, 4.6910, 4.7000, 4.7257, 4.7406, 4.7040,\n",
              "        4.6767, 5.3216, 6.3682, 6.3734, 6.2278, 5.9982, 6.3706, 6.3797, 6.3800,\n",
              "        6.3800, 6.3800, 6.3800, 6.3800, 6.3800, 6.3800, 6.3800, 6.3800, 6.3798,\n",
              "        6.3700, 6.3798, 6.3799, 6.3780, 6.3564, 6.3725, 6.3715, 6.3793, 6.3451,\n",
              "        6.1797, 5.7397, 5.4144, 5.1044, 5.3270, 5.4186, 5.9908, 6.3253, 6.3585,\n",
              "        6.1819, 6.2612, 6.3512, 6.3780, 6.3789, 6.3786, 6.3796, 6.3796, 6.3792,\n",
              "        6.3796, 6.3800, 6.3798, 6.3736, 6.3711, 6.3800, 6.3800, 6.3800, 6.3800,\n",
              "        6.3800, 6.3800, 6.3800, 6.3800, 6.3800, 6.3800, 6.3800, 6.3799, 6.3693,\n",
              "        6.1486, 5.0330, 5.0012, 5.0022, 4.9878, 4.9735, 4.9571, 4.9798, 4.9756,\n",
              "        4.9451, 4.9359, 4.9459, 4.9651, 4.9610, 4.9471, 4.9363, 4.9532, 4.9802,\n",
              "        4.9784, 5.1521, 6.0458, 6.2707, 6.2652, 6.1689, 5.5867, 6.3393, 6.3798,\n",
              "        6.3798, 6.3796, 6.3681, 6.3792, 6.3798, 6.3799, 6.3796, 6.3800, 6.3800,\n",
              "        6.3800, 6.3799, 6.3799, 6.3799, 6.3800, 6.3790, 6.3799, 6.3800, 6.3800,\n",
              "        6.3800, 6.3800, 6.3800, 6.3800, 6.3799, 6.3799, 6.3799, 6.3800, 6.3800,\n",
              "        6.3800, 6.3800, 6.3800, 6.3800, 6.3800, 6.3799, 6.3784, 6.3791, 6.3696,\n",
              "        6.3214, 5.9113, 5.4578, 5.0754, 5.1246, 4.9796, 4.9899, 4.8844, 4.8669,\n",
              "        4.8540, 4.9529, 4.9608, 5.0815, 5.3232, 5.7003, 5.8007, 5.7084, 5.4039,\n",
              "        5.0800, 5.0001, 5.0107, 4.9981, 4.9847, 4.9723, 4.9809, 4.9837, 4.9970,\n",
              "        5.0120, 5.0167, 5.0162, 5.0260, 4.9998, 5.0226, 5.0378, 5.0256, 5.0293,\n",
              "        5.0149, 5.0129, 5.0137, 5.0052, 4.9956, 4.9894, 5.1461, 5.0438, 5.0082,\n",
              "        5.0576, 5.0847, 5.1663, 5.8490, 6.3600, 6.3795, 6.3800, 6.3800, 6.3800,\n",
              "        6.3800, 6.3800, 6.3800, 6.3800, 6.3800, 6.3800, 6.3800, 6.3800, 6.3800,\n",
              "        6.3800, 6.3800, 6.3800, 6.3800, 6.3800, 6.3800, 6.3800, 6.3772, 6.3797,\n",
              "        6.3779, 5.2431, 4.8517, 4.8637, 4.8799, 4.8357, 4.8473, 4.8701, 4.8882,\n",
              "        4.9041, 4.9346, 4.9571, 4.9532, 4.9450, 4.9518, 4.9511, 4.9380, 4.9269,\n",
              "        4.9418, 5.0142, 5.1774, 5.0097, 5.2285, 6.2815, 6.3798, 6.3796, 6.3799,\n",
              "        6.3799, 6.3797, 6.3798, 6.3799, 6.3799, 6.3680, 6.0871, 4.9678, 4.8252,\n",
              "        4.7761, 4.7696, 4.7559, 4.7877, 4.7874, 4.9986, 6.1688, 6.3028, 6.3758,\n",
              "        6.3787, 6.3800, 6.3800, 6.3800, 6.3800, 6.3800, 6.3800, 6.3800, 6.3800,\n",
              "        6.3800, 6.3800, 6.3800, 6.3800, 6.3800, 6.3800, 6.3800, 6.3800, 6.3800,\n",
              "        6.3800, 6.3800, 6.3800, 6.3800, 6.3799, 6.3780, 6.3149, 5.8118, 4.8249,\n",
              "        4.8246, 5.1718, 4.9435, 5.0306, 5.6105, 5.8108, 5.2109, 5.1997, 5.5817,\n",
              "        5.3438, 5.0091, 5.0042, 5.0622, 5.1731, 5.2336, 5.2889, 5.7142, 5.3202,\n",
              "        5.1850, 5.1117, 5.6068, 6.3231, 6.3797, 6.3799, 6.3800, 6.3800, 6.3800,\n",
              "        6.3800, 6.3800, 6.3640, 6.0847, 5.4363, 5.6853, 5.4329, 5.5004, 5.7524,\n",
              "        6.1107, 6.3651, 6.3783, 6.3780, 6.3794, 6.3798, 6.3800, 6.3800, 6.3800,\n",
              "        6.3800, 6.3800, 6.3800, 6.3800, 6.3800, 6.1956, 5.5281, 5.0170, 5.0193,\n",
              "        5.0509, 5.0552, 5.0604, 5.0673, 5.0723, 5.0792, 5.0634, 5.0635, 5.0833,\n",
              "        5.0990, 5.0598, 5.0093, 4.9724, 4.9672, 4.9328, 5.1139, 6.0220, 5.9693,\n",
              "        6.1086, 6.3776, 6.3800, 6.3800, 6.3797, 5.0490, 4.9550, 4.9594, 4.9437,\n",
              "        4.9530, 4.9866, 5.0613, 5.0219, 4.9693, 4.9242, 4.8818, 4.8687, 4.8881,\n",
              "        5.1177, 5.2637, 5.1318, 5.5493, 5.9616, 6.0286, 5.4574, 4.9637, 4.9984,\n",
              "        5.0116, 5.0083, 5.0061, 5.0054, 5.0021, 4.9860, 4.9793, 4.9805, 4.9626,\n",
              "        4.9450, 4.9408, 4.9330, 4.9127, 4.9051, 4.8800, 4.8620, 4.8496, 4.8634,\n",
              "        4.8838, 4.9473, 4.9689, 4.9587, 4.9658, 4.9769, 4.9724, 4.9357, 4.9153,\n",
              "        4.9391, 4.9289, 4.9050, 4.8903, 4.9391, 4.9560, 4.9753, 5.0223, 5.0480,\n",
              "        5.0485, 5.0515, 5.0527, 5.0936, 5.2488, 5.7472, 6.1255, 6.2865, 6.3777,\n",
              "        6.3794, 6.3693, 6.3611, 6.3710, 6.3795, 6.3774, 6.3734, 6.3773, 6.3787,\n",
              "        6.3794, 6.3799, 6.3800, 6.3800, 6.3800, 6.3800, 6.3800, 6.3800, 6.3800,\n",
              "        6.3800, 6.3800, 6.3800, 6.3800, 6.3800, 6.3800, 6.3800, 6.3800, 6.3800,\n",
              "        6.3800, 6.3800, 6.3800, 6.3800, 6.3800, 6.3800, 6.3800, 6.3800, 6.3799,\n",
              "        6.3797, 6.3768, 5.7578, 5.0858, 5.0763, 5.0537, 5.0281, 5.0079, 4.9484,\n",
              "        4.9403, 4.9962, 5.3779, 5.2402, 5.5540, 6.3493, 6.3706, 6.3797, 6.3798,\n",
              "        6.3800, 6.3800, 6.3800, 6.3800, 6.3800, 6.3799, 6.3799, 6.3799, 6.3792,\n",
              "        6.3575, 6.0625, 5.1898, 5.0111, 5.0041, 5.0405, 5.0778, 5.0400, 5.0384,\n",
              "        5.0121, 5.0212, 5.0132, 5.0240, 5.0446, 5.1039, 5.1513, 5.1732, 5.2343,\n",
              "        5.4965, 5.7003, 5.6554, 5.6018, 5.6522, 5.6421, 6.0387, 6.2568, 6.3640,\n",
              "        6.3790, 6.3789, 6.3728, 6.3422, 6.2610, 6.2094, 6.1259, 6.2175, 6.3103,\n",
              "        6.3179, 6.3516, 6.3750, 6.3153, 5.5396, 5.7941, 6.3401, 6.0496, 5.6462,\n",
              "        5.9190, 6.3536, 5.1390, 5.0828, 5.2799, 6.3320, 6.3341, 6.2758, 6.3190,\n",
              "        6.3696, 6.3753, 6.3632, 6.3436, 6.3584, 6.3669, 6.2864, 6.1278, 5.7475,\n",
              "        5.3055, 5.0502, 5.0120, 5.0397, 5.0774, 5.0968, 5.1069, 5.7160, 6.0787,\n",
              "        6.2776, 6.3783, 6.3799, 6.3798, 6.3788, 6.3793, 6.3796, 6.3760, 6.2782,\n",
              "        6.2764, 6.2718, 6.2370, 5.7880, 6.3038, 6.3790, 6.3792, 6.3775, 6.3636,\n",
              "        6.2108, 6.2514, 6.3800, 6.3800, 6.3799, 6.3782, 6.3798, 6.3661, 5.5016,\n",
              "        4.9787, 5.0077, 4.9853, 4.9580, 4.9513, 4.9765, 4.9367, 4.9877, 5.0489,\n",
              "        5.0763, 5.0700, 5.0625, 4.9726, 5.0496, 5.1847, 5.1656, 5.1810, 5.2496,\n",
              "        5.3105, 5.2315, 5.2289, 5.2830, 5.3314, 5.3385, 5.3220, 5.3317, 5.3491,\n",
              "        5.3244, 5.2443, 5.1652, 5.1375, 5.1162, 5.1174, 5.0584, 5.0344, 5.0754,\n",
              "        5.0759, 5.0591, 5.0091, 4.9826, 4.9377, 4.9060, 4.9923, 4.9594, 5.0058,\n",
              "        5.0292, 5.1495, 5.4509, 5.6878, 5.2723, 5.4652, 5.6588, 5.6747, 5.2096,\n",
              "        5.1967, 5.1987, 5.1245, 5.1199, 5.0792, 5.0947, 5.0724, 5.0424, 5.0196,\n",
              "        5.0505, 5.0543, 5.0254, 4.9914, 4.9809, 4.9615, 4.9276, 4.9147, 4.9498,\n",
              "        4.9417, 4.9214, 4.9375, 4.9479, 4.9742, 5.4584, 5.3260, 5.0823, 4.9926,\n",
              "        5.0800, 4.9653, 4.9251, 4.9484, 4.9723, 4.9743, 4.9265, 4.8975, 4.9124,\n",
              "        4.9061, 4.8990, 4.9110, 4.9280, 4.9247, 4.9241, 4.9413, 4.9363, 4.9623,\n",
              "        5.0344, 5.1028, 5.1103, 5.0956, 5.0571, 5.0603, 5.0308, 5.0560, 5.0266,\n",
              "        4.9758, 4.9746, 4.9760, 5.0835, 5.1743, 5.3781, 5.3304, 5.4711, 5.6226,\n",
              "        5.1524, 5.1470, 5.2688, 5.4628, 5.3237, 5.2464, 5.1202, 5.4300, 5.3239,\n",
              "        5.3836, 5.1967, 5.2109, 5.1479, 5.0664, 4.9969, 4.9735, 4.9381, 4.9487,\n",
              "        4.9329, 4.9461, 4.9166, 4.8785, 4.8914, 4.9031, 4.9088, 4.8870, 4.9251,\n",
              "        4.9423, 4.9509, 4.9572, 4.9674, 4.9786, 4.9655, 4.9610, 4.9417, 4.9133,\n",
              "        4.8907, 4.9093, 4.9319, 4.9277, 4.9120, 4.9205, 4.9225, 4.9427, 4.9251,\n",
              "        4.9136, 4.9081, 4.9086, 4.8853, 4.8855, 4.8849, 4.8614, 4.8440, 4.8469,\n",
              "        4.8512, 4.8847, 4.8868, 4.8879, 4.9089, 4.9234, 4.9212, 4.9319, 4.9642,\n",
              "        4.9768, 4.9530, 4.9335, 4.9160, 4.9223, 4.9609, 4.9345, 4.9752, 5.0340,\n",
              "        4.9394, 4.8257, 4.8285, 4.8593, 4.8547, 4.8556, 4.8462, 4.8452, 4.8345,\n",
              "        4.8255, 4.8747, 4.9009, 4.9138, 4.9145, 4.9963, 5.0836, 5.1561, 5.2797,\n",
              "        5.2506, 5.2406, 5.0661, 5.1573, 5.1343, 5.2655, 5.1030, 5.1537, 5.1408,\n",
              "        5.1553, 5.0092, 4.9423, 4.8946, 4.9040, 4.9498, 5.0138, 4.9406, 4.9318,\n",
              "        4.9191, 4.8976, 4.9129, 4.9449, 4.9212, 4.9261, 4.9152, 4.8989, 4.8229,\n",
              "        5.0657, 5.2550, 6.0947, 6.3369, 6.3630, 6.3742, 6.3667, 6.3541, 6.3682,\n",
              "        6.3455, 6.3549, 6.3597, 6.3756, 6.3733, 6.3773, 6.3760, 6.3783, 6.3742,\n",
              "        6.3737, 6.3513, 6.3277, 6.2132, 6.1383, 5.8720, 5.1260, 5.1016, 5.4404,\n",
              "        6.1976, 6.3723, 6.3799, 6.3800, 6.3800, 6.3800, 6.3800, 6.3800, 6.3800,\n",
              "        6.3800, 6.3797, 6.3786, 6.3601, 6.3489, 6.2679, 6.0744, 6.3338, 6.3758,\n",
              "        6.3748, 6.1806, 6.1947, 6.3787, 6.3800, 6.3800, 6.3800, 6.3800, 6.3800,\n",
              "        6.3800, 6.3800, 6.3800, 6.3800, 6.3800, 6.3800, 6.3800, 6.3800, 6.3800,\n",
              "        6.3762, 6.0123, 5.0744, 4.9247, 4.9509, 5.7821, 5.9087, 6.1117, 6.1741,\n",
              "        5.7984, 5.3958, 5.5847, 5.2049, 5.6045, 6.0353, 5.4733, 5.0594, 4.9619,\n",
              "        4.9797, 4.9671, 4.9839, 5.1582, 5.3039, 4.9303, 4.9550, 5.0162, 5.0115,\n",
              "        5.0231])"
            ]
          },
          "metadata": {
            "tags": []
          },
          "execution_count": 156
        }
      ]
    },
    {
      "cell_type": "code",
      "metadata": {
        "id": "Lj6GB7o1haMQ",
        "colab": {
          "base_uri": "https://localhost:8080/",
          "height": 288
        },
        "outputId": "ae26d3b5-5351-46ad-aa9c-839cb2c8a0f5"
      },
      "source": [
        "plt.scatter(gtf_combined_test[:1000],output_test)"
      ],
      "execution_count": null,
      "outputs": [
        {
          "output_type": "execute_result",
          "data": {
            "text/plain": [
              "<matplotlib.collections.PathCollection at 0x7f525e8d8250>"
            ]
          },
          "metadata": {
            "tags": []
          },
          "execution_count": 160
        },
        {
          "output_type": "display_data",
          "data": {
            "image/png": "[encoded data removed]",
            "text/plain": [
              "<Figure size 432x288 with 1 Axes>"
            ]
          },
          "metadata": {
            "tags": []
          }
        }
      ]
    },
    {
      "cell_type": "code",
      "metadata": {
        "id": "JQEyQoHSn2Au"
      },
      "source": [
        "# import pandas as pd\n",
        "# pd.DataFrame(output).to_excel('output1.xlsx')\n",
        "# pd.DataFrame(output_std).to_excel('output_std1.xlsx')\n",
        "# pd.DataFrame(gtf_combined).to_excel('gtf_combined1.xlsx')\n"
      ],
      "execution_count": null,
      "outputs": []
    },
    {
      "cell_type": "code",
      "metadata": {
        "colab": {
          "base_uri": "https://localhost:8080/"
        },
        "id": "WcLFE3-N7-vl",
        "outputId": "35d425f0-8ae7-4dc0-c783-03ecbad8cfdc"
      },
      "source": [
        "np.corrcoef(gtf_combined_test[:1000],output_test)"
      ],
      "execution_count": null,
      "outputs": [
        {
          "output_type": "execute_result",
          "data": {
            "text/plain": [
              "array([[1.        , 0.10781615],\n",
              "       [0.10781615, 1.        ]])"
            ]
          },
          "metadata": {
            "tags": []
          },
          "execution_count": 158
        }
      ]
    },
    {
      "cell_type": "code",
      "metadata": {
        "colab": {
          "base_uri": "https://localhost:8080/",
          "height": 287
        },
        "id": "rjcHzFtcgSma",
        "outputId": "ed27d99d-f480-4531-919f-f23a09febf41"
      },
      "source": [
        "plt.plot(gtf_combined_test[:1000])\n",
        "plt.plot(output_test)\n"
      ],
      "execution_count": null,
      "outputs": [
        {
          "output_type": "execute_result",
          "data": {
            "text/plain": [
              "[<matplotlib.lines.Line2D at 0x7f51d7079ed0>]"
            ]
          },
          "metadata": {
            "tags": []
          },
          "execution_count": 159
        },
        {
          "output_type": "display_data",
          "data": {
            "image/png": "[encoded data removed]",
            "text/plain": [
              "<Figure size 432x288 with 1 Axes>"
            ]
          },
          "metadata": {
            "tags": []
          }
        }
      ]
    },
    {
      "cell_type": "code",
      "metadata": {
        "colab": {
          "base_uri": "https://localhost:8080/"
        },
        "id": "aoGTgh2bAnvf",
        "outputId": "54c7bc00-8842-4ae3-e747-821670f9bb65"
      },
      "source": [
        "# ic(np.rmse(gtf_combined,output))\n",
        "from sklearn.metrics import mean_squared_error\n",
        "mean_squared_error(gtf_combined,output, squared=False)"
      ],
      "execution_count": null,
      "outputs": [
        {
          "output_type": "execute_result",
          "data": {
            "text/plain": [
              "28.830017326984326"
            ]
          },
          "metadata": {
            "tags": []
          },
          "execution_count": 44
        }
      ]
    },
    {
      "cell_type": "code",
      "metadata": {
        "colab": {
          "base_uri": "https://localhost:8080/"
        },
        "id": "GzeOAvJYt5Xz",
        "outputId": "3230d3d0-9dfe-4c24-fd8d-fddd4261f4a3"
      },
      "source": [
        "X = []\n",
        "y = []\n",
        "gtf_test = []\n",
        "\n",
        "Nfft = 1024\n",
        "win_size = 1024\n",
        "hop_size = 100\n",
        "\n",
        "note_res = 1\n",
        "pitch_range = np.arange(30, 98 + 1.0/note_res, 1.0/note_res)\n",
        "pitch_range = np.concatenate([np.zeros(1), pitch_range])\n",
        "print(len(pitch_range))\n",
        "onehot_pitch_range = onehotlabel(pitch_range)  #one hot encoded values of MIDI numbers from 40 to 95\n",
        "\n",
        "\n",
        "\n",
        "for i in range (1,50):\n",
        "    if i%2==1:\n",
        "      continue\n",
        "  # print(i)\n",
        "    print(i)\n",
        "    print(audio_files[i])\n",
        "    S, gtv, gtf = load_audio(audio_files[i])\n",
        "    gtf_midi = [librosa.hz_to_midi(x) if x!=float(0) else float(0) for x in gtf]\n",
        "    # X.append(S.T)\n",
        "    gtf_test = np.hstack((gtf_test,gtf))\n",
        "    y.append(getonehot(gtf_midi))\n",
        "#     print(len(X))\n",
        "# X = np.vstack(X)\n",
        "y = np.vstack(y)\n",
        "print(np.shape(X),np.shape(y))\n",
        "ic(np.shape(gtf_test))"
      ],
      "execution_count": null,
      "outputs": [
        {
          "output_type": "stream",
          "text": [
            "70\n",
            "2\n",
            "/content/gdrive/My Drive/ME/Wavfile/Ani_1_02.wav\n",
            "4\n",
            "/content/gdrive/My Drive/ME/Wavfile/Ani_2_03.wav\n",
            "6\n",
            "/content/gdrive/My Drive/ME/Wavfile/Ani_1_07.wav\n",
            "8\n",
            "/content/gdrive/My Drive/ME/Wavfile/Ani_1_06.wav\n",
            "10\n",
            "/content/gdrive/My Drive/ME/Wavfile/Ani_2_04.wav\n",
            "12\n",
            "/content/gdrive/My Drive/ME/Wavfile/Ani_2_06.wav\n",
            "14\n",
            "/content/gdrive/My Drive/ME/Wavfile/Ani_3_01.wav\n",
            "16\n",
            "/content/gdrive/My Drive/ME/Wavfile/Ani_3_05.wav\n",
            "18\n",
            "/content/gdrive/My Drive/ME/Wavfile/Ani_4_02.wav\n",
            "20\n",
            "/content/gdrive/My Drive/ME/Wavfile/Ani_4_01.wav\n",
            "22\n",
            "/content/gdrive/My Drive/ME/Wavfile/Ani_3_03.wav\n",
            "24\n",
            "/content/gdrive/My Drive/ME/Wavfile/Ani_4_08.wav\n",
            "26\n",
            "/content/gdrive/My Drive/ME/Wavfile/Ani_4_06.wav\n",
            "28\n",
            "/content/gdrive/My Drive/ME/Wavfile/Ani_4_09.wav\n",
            "30\n",
            "/content/gdrive/My Drive/ME/Wavfile/Ani_4_10.wav\n",
            "32\n",
            "/content/gdrive/My Drive/ME/Wavfile/Kenshin_1_01.wav\n",
            "34\n",
            "/content/gdrive/My Drive/ME/Wavfile/Ani_5_05.wav\n",
            "36\n",
            "/content/gdrive/My Drive/ME/Wavfile/Ani_5_08.wav\n",
            "38\n",
            "/content/gdrive/My Drive/ME/Wavfile/Ani_5_02.wav\n",
            "40\n",
            "/content/gdrive/My Drive/ME/Wavfile/Kenshin_1_02.wav\n",
            "42\n",
            "/content/gdrive/My Drive/ME/Wavfile/Kenshin_1_06.wav\n",
            "44\n",
            "/content/gdrive/My Drive/ME/Wavfile/Kenshin_2_01.wav\n",
            "46\n",
            "/content/gdrive/My Drive/ME/Wavfile/Kenshin_1_09.wav\n",
            "48\n",
            "/content/gdrive/My Drive/ME/Wavfile/Kenshin_1_08.wav\n"
          ],
          "name": "stdout"
        },
        {
          "output_type": "stream",
          "text": [
            "ic| np.shape(gtf_test): (20290,)\n"
          ],
          "name": "stderr"
        },
        {
          "output_type": "stream",
          "text": [
            "(0,) (20290, 70)\n"
          ],
          "name": "stdout"
        },
        {
          "output_type": "execute_result",
          "data": {
            "text/plain": [
              "(20290,)"
            ]
          },
          "metadata": {
            "tags": []
          },
          "execution_count": 73
        }
      ]
    },
    {
      "cell_type": "code",
      "metadata": {
        "colab": {
          "base_uri": "https://localhost:8080/"
        },
        "id": "F7LLz3ylubuS",
        "outputId": "23ac095e-4bfe-472f-f833-cbb249556a9c"
      },
      "source": [
        "p_test=[]\n",
        "# for i in range (31,50):\n",
        "# for i in range(len(audio_files)):\n",
        "for i in range (1,50):\n",
        "  if i%2==1:\n",
        "    continue\n",
        "  # print(i)\n",
        "  b,c=librosa.load(audio_files[i])\n",
        "  f=get_activation(b,c)\n",
        "  # print(f.shape)\n",
        "  p_test.append(f)\n",
        "# z=np.zeros([1,1024])\n",
        "# np.shape(z)\n",
        "# p.append(z)\n",
        "p_test=np.vstack(p_test)\n",
        "np.shape(p_test)"
      ],
      "execution_count": null,
      "outputs": [
        {
          "output_type": "execute_result",
          "data": {
            "text/plain": [
              "(20290, 1024)"
            ]
          },
          "metadata": {
            "tags": []
          },
          "execution_count": 66
        }
      ]
    },
    {
      "cell_type": "code",
      "metadata": {
        "colab": {
          "base_uri": "https://localhost:8080/"
        },
        "id": "KvEvTaCoRZNs",
        "outputId": "72222bcb-51c1-42dc-80e5-9aad5b759e48"
      },
      "source": [
        "X = []\n",
        "y = []\n",
        "gtf_test = []\n",
        "\n",
        "Nfft = 1024\n",
        "win_size = 1024\n",
        "hop_size = 100\n",
        "\n",
        "note_res = 1\n",
        "pitch_range = np.arange(30, 98 + 1.0/note_res, 1.0/note_res)\n",
        "pitch_range = np.concatenate([np.zeros(1), pitch_range])\n",
        "print(len(pitch_range))\n",
        "onehot_pitch_range = onehotlabel(pitch_range)  #one hot encoded values of MIDI numbers from 40 to 95\n",
        "\n",
        "\n",
        "\n",
        "for i in range (1,50):\n",
        "    if i%2==1:\n",
        "      continue\n",
        "  # print(i)\n",
        "    # print(i)\n",
        "    # print(audio_files[i])\n",
        "    S, gtv, gtf = load_audio(audio_files[i])\n",
        "    gtf_midi = [librosa.hz_to_midi(x) if x!=float(0) else float(0) for x in gtf]\n",
        "    # X.append(S.T)\n",
        "    gtf_test = np.hstack((gtf_test,gtf))\n",
        "    y.append(getonehot(gtf_midi))\n",
        "#     print(len(X))\n",
        "# X = np.vstack(X)\n",
        "y = np.vstack(y)\n",
        "print(np.shape(X),np.shape(y))\n",
        "ic(np.shape(gtf_test))"
      ],
      "execution_count": null,
      "outputs": [
        {
          "output_type": "stream",
          "text": [
            "70\n",
            "2\n",
            "/content/gdrive/My Drive/ME/Wavfile/Ani_1_02.wav\n",
            "4\n",
            "/content/gdrive/My Drive/ME/Wavfile/Ani_2_03.wav\n",
            "6\n",
            "/content/gdrive/My Drive/ME/Wavfile/Ani_1_07.wav\n",
            "8\n",
            "/content/gdrive/My Drive/ME/Wavfile/Ani_1_06.wav\n",
            "10\n",
            "/content/gdrive/My Drive/ME/Wavfile/Ani_2_04.wav\n",
            "12\n",
            "/content/gdrive/My Drive/ME/Wavfile/Ani_2_06.wav\n",
            "14\n",
            "/content/gdrive/My Drive/ME/Wavfile/Ani_3_01.wav\n",
            "16\n",
            "/content/gdrive/My Drive/ME/Wavfile/Ani_3_05.wav\n",
            "18\n",
            "/content/gdrive/My Drive/ME/Wavfile/Ani_4_02.wav\n",
            "20\n",
            "/content/gdrive/My Drive/ME/Wavfile/Ani_4_01.wav\n",
            "22\n",
            "/content/gdrive/My Drive/ME/Wavfile/Ani_3_03.wav\n",
            "24\n",
            "/content/gdrive/My Drive/ME/Wavfile/Ani_4_08.wav\n",
            "26\n",
            "/content/gdrive/My Drive/ME/Wavfile/Ani_4_06.wav\n",
            "28\n",
            "/content/gdrive/My Drive/ME/Wavfile/Ani_4_09.wav\n",
            "30\n",
            "/content/gdrive/My Drive/ME/Wavfile/Ani_4_10.wav\n",
            "32\n",
            "/content/gdrive/My Drive/ME/Wavfile/Kenshin_1_01.wav\n",
            "34\n",
            "/content/gdrive/My Drive/ME/Wavfile/Ani_5_05.wav\n",
            "36\n",
            "/content/gdrive/My Drive/ME/Wavfile/Ani_5_08.wav\n",
            "38\n",
            "/content/gdrive/My Drive/ME/Wavfile/Ani_5_02.wav\n",
            "40\n",
            "/content/gdrive/My Drive/ME/Wavfile/Kenshin_1_02.wav\n",
            "42\n",
            "/content/gdrive/My Drive/ME/Wavfile/Kenshin_1_06.wav\n",
            "44\n",
            "/content/gdrive/My Drive/ME/Wavfile/Kenshin_2_01.wav\n",
            "46\n",
            "/content/gdrive/My Drive/ME/Wavfile/Kenshin_1_09.wav\n",
            "48\n",
            "/content/gdrive/My Drive/ME/Wavfile/Kenshin_1_08.wav\n"
          ],
          "name": "stdout"
        },
        {
          "output_type": "stream",
          "text": [
            "ic| np.shape(gtf_test): (20290,)\n"
          ],
          "name": "stderr"
        },
        {
          "output_type": "stream",
          "text": [
            "(0,) (20290, 70)\n"
          ],
          "name": "stdout"
        },
        {
          "output_type": "execute_result",
          "data": {
            "text/plain": [
              "(20290,)"
            ]
          },
          "metadata": {
            "tags": []
          },
          "execution_count": 80
        }
      ]
    },
    {
      "cell_type": "code",
      "metadata": {
        "colab": {
          "base_uri": "https://localhost:8080/"
        },
        "id": "m4uHt5gy-sOv",
        "outputId": "aab635d0-77cd-4f66-9155-3f0463665d31"
      },
      "source": [
        "p1=[]\n",
        "# for i in range (50):\n",
        "# for i in range(len(audio_files)):\n",
        "\n",
        "# print(i)\n",
        "b,c=librosa.load(audio_files[2])\n",
        "f=get_activation(b,c)\n",
        "# print(f.shape)\n",
        "p1.append(f)\n",
        "# z=np.zeros([1,1024])\n",
        "# np.shape(z)\n",
        "# p.append(z)\n",
        "p1=np.vstack(p1)\n",
        "np.shape(p1)"
      ],
      "execution_count": null,
      "outputs": [
        {
          "output_type": "execute_result",
          "data": {
            "text/plain": [
              "(989, 1024)"
            ]
          },
          "metadata": {
            "tags": []
          },
          "execution_count": 47
        }
      ]
    },
    {
      "cell_type": "code",
      "metadata": {
        "id": "pO-5T5JxfV7m"
      },
      "source": [
        "# S, gtv, gtf1 = load_audio(audio_files[2])"
      ],
      "execution_count": null,
      "outputs": []
    },
    {
      "cell_type": "code",
      "metadata": {
        "colab": {
          "base_uri": "https://localhost:8080/",
          "height": 285
        },
        "id": "c8eBJXmPftHM",
        "outputId": "fb71b8d8-2c50-4738-a58f-9373170b3d7c"
      },
      "source": [
        "plt.plot(gtf1)"
      ],
      "execution_count": null,
      "outputs": [
        {
          "output_type": "execute_result",
          "data": {
            "text/plain": [
              "[<matplotlib.lines.Line2D at 0x7fd1380246d0>]"
            ]
          },
          "metadata": {
            "tags": []
          },
          "execution_count": 72
        },
        {
          "output_type": "display_data",
          "data": {
            "image/png": "[encoded data removed]",
            "text/plain": [
              "<Figure size 432x288 with 1 Axes>"
            ]
          },
          "metadata": {
            "tags": []
          }
        }
      ]
    },
    {
      "cell_type": "code",
      "metadata": {
        "id": "b-oQkbNeu7Uq"
      },
      "source": [
        "p1 = p_test"
      ],
      "execution_count": null,
      "outputs": []
    },
    {
      "cell_type": "code",
      "metadata": {
        "id": "xYw4jcqZf9s6"
      },
      "source": [
        "domain = 1000\n",
        "grid = 20290"
      ],
      "execution_count": null,
      "outputs": []
    },
    {
      "cell_type": "code",
      "metadata": {
        "colab": {
          "base_uri": "https://localhost:8080/"
        },
        "id": "TwUQWmTgf-1e",
        "outputId": "2c611a40-e5dc-429f-bb94-a4834ab0ae06"
      },
      "source": [
        "x_lin = np.linspace(-domain, domain, grid)\n",
        "r_a = np.repeat(x_lin, repeats=1024, axis=0)\n",
        "r_a = r_a.reshape(grid, X_train.shape[1])\n",
        "r_a.shape"
      ],
      "execution_count": null,
      "outputs": [
        {
          "output_type": "execute_result",
          "data": {
            "text/plain": [
              "(20290, 1024)"
            ]
          },
          "metadata": {
            "tags": []
          },
          "execution_count": 73
        }
      ]
    },
    {
      "cell_type": "code",
      "metadata": {
        "colab": {
          "base_uri": "https://localhost:8080/"
        },
        "id": "1tdlkw4_gAZ8",
        "outputId": "05cbde23-e814-453c-920a-2faa966e9e1c"
      },
      "source": [
        "\n",
        "# xx = torch.tensor(r_a[..., None]).float()\n",
        "xx = torch.tensor(p1[..., None]).float()\n",
        "\n",
        "xx = xx.reshape(grid,X_train.shape[1])\n",
        "xx.shape\n"
      ],
      "execution_count": null,
      "outputs": [
        {
          "output_type": "execute_result",
          "data": {
            "text/plain": [
              "torch.Size([20290, 1024])"
            ]
          },
          "metadata": {
            "tags": []
          },
          "execution_count": 74
        }
      ]
    },
    {
      "cell_type": "code",
      "metadata": {
        "colab": {
          "base_uri": "https://localhost:8080/"
        },
        "id": "xvOd5UxLgzFW",
        "outputId": "7770e651-79f9-42fb-b12e-9a0a28974ecd"
      },
      "source": [
        "p1"
      ],
      "execution_count": null,
      "outputs": [
        {
          "output_type": "execute_result",
          "data": {
            "text/plain": [
              "array([[ 0.03754214,  0.03754214,  0.03754214, ..., -1.4119569 ,\n",
              "        -1.6030318 , -1.7054296 ],\n",
              "       [ 0.04759327,  0.04759327,  0.04759327, ..., -0.25752422,\n",
              "        -0.58431756, -0.8625565 ],\n",
              "       [ 0.11338631,  0.11338631,  0.11338631, ..., -0.06011994,\n",
              "         0.19166441, -0.06682858],\n",
              "       ...,\n",
              "       [ 0.5514131 ,  0.80805206,  0.8896461 , ..., -0.01698426,\n",
              "        -0.01698426, -0.01698426],\n",
              "       [-1.6835531 , -1.5999187 , -1.4281274 , ...,  0.01184575,\n",
              "         0.01184575,  0.01184575],\n",
              "       [ 0.6773999 ,  0.58026004,  0.5133921 , ...,  0.00655166,\n",
              "         0.00655166,  0.00655166]], dtype=float32)"
            ]
          },
          "metadata": {
            "tags": []
          },
          "execution_count": 75
        }
      ]
    },
    {
      "cell_type": "code",
      "metadata": {
        "colab": {
          "base_uri": "https://localhost:8080/"
        },
        "id": "w3hNyQgWfuyk",
        "outputId": "2851cf02-53e9-4433-b5b3-cb39a5adb583"
      },
      "source": [
        "model.eval()\n",
        "likelihood.eval()\n",
        "\n",
        "domain = 1\n",
        "grid = 1000\n",
        "x_lin = np.linspace(-domain, domain, grid)\n",
        "            \n",
        "with torch.no_grad(), gpytorch.settings.num_likelihood_samples(64):\n",
        "    # xx = torch.tensor(x_lin[..., None]).float()\n",
        "    # xx = torch.tensor([x_lin[..., None],x_lin[..., None]]).float()\n",
        "    # xx.reshape(100,2)\n",
        "    # xx = torch.reshape(xx, (100, 2))\n",
        "    # xx = torch.reshape(xx, (100, X_train.shape[1] )) #Prasad\n",
        "    \n",
        "    ic(xx.shape)\n",
        "    if torch.cuda.is_available():\n",
        "        print('Cuda')\n",
        "        xx = xx.cuda()\n",
        "    \n",
        "    ol = likelihood(model(xx))\n",
        "    output_test = ol.mean.cpu()\n",
        "    output_std_test = ol.stddev.cpu()"
      ],
      "execution_count": null,
      "outputs": [
        {
          "output_type": "stream",
          "text": [
            "ic| xx.shape: torch.Size([20290, 1024])\n"
          ],
          "name": "stderr"
        }
      ]
    },
    {
      "cell_type": "code",
      "metadata": {
        "colab": {
          "base_uri": "https://localhost:8080/"
        },
        "id": "lcqBhWtsgWil",
        "outputId": "c48100c1-3294-411b-89d2-2a1e9afaf7c8"
      },
      "source": [
        "output_test"
      ],
      "execution_count": null,
      "outputs": [
        {
          "output_type": "execute_result",
          "data": {
            "text/plain": [
              "tensor([208.4778,  24.5497,  29.3786,  ..., 114.6711, 106.6138, 252.5905])"
            ]
          },
          "metadata": {
            "tags": []
          },
          "execution_count": 77
        }
      ]
    },
    {
      "cell_type": "code",
      "metadata": {
        "colab": {
          "base_uri": "https://localhost:8080/"
        },
        "id": "oC2CbuHehOTg",
        "outputId": "c6fc4fb4-aa76-4f9a-d1d7-a7d5d60aee17"
      },
      "source": [
        "output_std_test"
      ],
      "execution_count": null,
      "outputs": [
        {
          "output_type": "execute_result",
          "data": {
            "text/plain": [
              "tensor([6.1983, 6.6572, 6.6543,  ..., 6.5543, 6.5773, 6.0223])"
            ]
          },
          "metadata": {
            "tags": []
          },
          "execution_count": 78
        }
      ]
    },
    {
      "cell_type": "code",
      "metadata": {
        "colab": {
          "base_uri": "https://localhost:8080/",
          "height": 285
        },
        "id": "4CRclMbXgbUI",
        "outputId": "67157139-64a2-4c94-fbbb-1413540eb4a7"
      },
      "source": [
        "plt.plot(gtf_test)\n",
        "plt.plot(output_test)"
      ],
      "execution_count": null,
      "outputs": [
        {
          "output_type": "execute_result",
          "data": {
            "text/plain": [
              "[<matplotlib.lines.Line2D at 0x7fa19bc75990>]"
            ]
          },
          "metadata": {
            "tags": []
          },
          "execution_count": 81
        },
        {
          "output_type": "display_data",
          "data": {
            "image/png": "[encoded data removed]",
            "text/plain": [
              "<Figure size 432x288 with 1 Axes>"
            ]
          },
          "metadata": {
            "tags": []
          }
        }
      ]
    },
    {
      "cell_type": "code",
      "metadata": {
        "colab": {
          "base_uri": "https://localhost:8080/",
          "height": 285
        },
        "id": "VjLwgDjqgjef",
        "outputId": "61d50f0c-1246-4e6e-c267-4b33c38b83c1"
      },
      "source": [
        "plt.scatter(gtf_test,output_test)"
      ],
      "execution_count": null,
      "outputs": [
        {
          "output_type": "execute_result",
          "data": {
            "text/plain": [
              "<matplotlib.collections.PathCollection at 0x7fa19207c510>"
            ]
          },
          "metadata": {
            "tags": []
          },
          "execution_count": 82
        },
        {
          "output_type": "display_data",
          "data": {
            "image/png": "[encoded data removed]",
            "text/plain": [
              "<Figure size 432x288 with 1 Axes>"
            ]
          },
          "metadata": {
            "tags": []
          }
        }
      ]
    },
    {
      "cell_type": "code",
      "metadata": {
        "colab": {
          "base_uri": "https://localhost:8080/"
        },
        "id": "VGxcqrZhRkHe",
        "outputId": "742f1e15-90d0-40cc-9fa1-24dcc0294e27"
      },
      "source": [
        "np.corrcoef(gtf_test,output_test)"
      ],
      "execution_count": null,
      "outputs": [
        {
          "output_type": "execute_result",
          "data": {
            "text/plain": [
              "array([[1.        , 0.35250795],\n",
              "       [0.35250795, 1.        ]])"
            ]
          },
          "metadata": {
            "tags": []
          },
          "execution_count": 83
        }
      ]
    },
    {
      "cell_type": "code",
      "metadata": {
        "id": "fa55Vrktgpi6"
      },
      "source": [
        "import pandas as pd\n",
        "pd.DataFrame(output).to_excel('output_test1.xlsx')\n",
        "pd.DataFrame(output_std).to_excel('output_std_test1.xlsx')\n",
        "pd.DataFrame(gtf_combined).to_excel('gtf_combined_test1.xlsx')\n"
      ],
      "execution_count": null,
      "outputs": []
    },
    {
      "cell_type": "code",
      "metadata": {
        "id": "jqsfiQdPigQC"
      },
      "source": [
        ""
      ],
      "execution_count": null,
      "outputs": []
    },
    {
      "cell_type": "code",
      "metadata": {
        "id": "EqW1ddcKzA-X"
      },
      "source": [
        "#Original\n",
        "\n",
        "# Follows:\n",
        "# https://github.com/szagoruyko/wide-residual-networks/tree/master/pytorch\n",
        "\n",
        "import numpy as np\n",
        "\n",
        "import torch.nn as nn\n",
        "import torch.nn.functional as F\n",
        "\n",
        "from due.layers import spectral_norm_conv, spectral_norm_fc, SpectralBatchNorm2d\n",
        "\n",
        "\n",
        "class WideBasic(nn.Module):\n",
        "    def __init__(\n",
        "        self,\n",
        "        wrapped_conv,\n",
        "        wrapped_batchnorm,\n",
        "        input_size,\n",
        "        in_c,\n",
        "        out_c,\n",
        "        stride,\n",
        "        dropout_rate,\n",
        "    ):\n",
        "        super().__init__()\n",
        "        self.bn1 = wrapped_batchnorm(in_c)\n",
        "        self.conv1 = wrapped_conv(input_size, in_c, out_c, 3, stride)\n",
        "\n",
        "        self.bn2 = wrapped_batchnorm(out_c)\n",
        "        self.conv2 = wrapped_conv(input_size // stride, out_c, out_c, 3, 1)\n",
        "\n",
        "        self.dropout_rate = dropout_rate\n",
        "        if dropout_rate > 0:\n",
        "            self.dropout = nn.Dropout(dropout_rate)\n",
        "\n",
        "        if stride != 1 or in_c != out_c:\n",
        "            self.shortcut = wrapped_conv(input_size, in_c, out_c, 1, stride)\n",
        "        else:\n",
        "            self.shortcut = nn.Identity()\n",
        "\n",
        "    def forward(self, x):\n",
        "        out = F.relu(self.bn1(x))\n",
        "\n",
        "        out = self.conv1(out)\n",
        "\n",
        "        out = F.relu(self.bn2(out))\n",
        "\n",
        "        if self.dropout_rate > 0:\n",
        "            out = self.dropout(out)\n",
        "\n",
        "        out = self.conv2(out)\n",
        "        out += self.shortcut(x)\n",
        "\n",
        "        return out\n",
        "\n",
        "\n",
        "class WideResNet(nn.Module):\n",
        "    def __init__(\n",
        "        self,\n",
        "        spectral_normalization,\n",
        "        depth=28,\n",
        "        widen_factor=10,\n",
        "        num_classes=None,\n",
        "        dropout_rate=0.3,\n",
        "        coeff=3,\n",
        "        n_power_iterations=1,\n",
        "        batchnorm_momentum=0.1,\n",
        "    ):\n",
        "        super().__init__()\n",
        "\n",
        "        assert (depth - 4) % 6 == 0, \"Wide-resnet depth should be 6n+4\"\n",
        "\n",
        "        self.dropout_rate = dropout_rate\n",
        "\n",
        "        def wrapped_bn(num_features):\n",
        "            if spectral_normalization:\n",
        "                bn = SpectralBatchNorm2d(\n",
        "                    num_features, coeff, momentum=batchnorm_momentum\n",
        "                )\n",
        "            else:\n",
        "                bn = nn.BatchNorm2d(num_features, momentum=batchnorm_momentum)\n",
        "\n",
        "            return bn\n",
        "\n",
        "        self.wrapped_bn = wrapped_bn\n",
        "\n",
        "        def wrapped_conv(input_size, in_c, out_c, kernel_size, stride):\n",
        "            padding = 1 if kernel_size == 3 else 0\n",
        "\n",
        "            conv = nn.Conv2d(in_c, out_c, kernel_size, stride, padding, bias=False)\n",
        "\n",
        "            if not spectral_normalization:\n",
        "                return conv\n",
        "\n",
        "            if kernel_size == 1:\n",
        "                # use spectral norm fc, because bound are tight for 1x1 convolutions\n",
        "                wrapped_conv = spectral_norm_fc(conv, coeff, n_power_iterations)\n",
        "            else:\n",
        "                # Otherwise use spectral norm conv, with loose bound\n",
        "                input_dim = (in_c, input_size, input_size)\n",
        "                wrapped_conv = spectral_norm_conv(\n",
        "                    conv, coeff, input_dim, n_power_iterations\n",
        "                )\n",
        "\n",
        "            return wrapped_conv\n",
        "\n",
        "        self.wrapped_conv = wrapped_conv\n",
        "\n",
        "        n = (depth - 4) // 6\n",
        "        k = widen_factor\n",
        "\n",
        "        nStages = [16, 16 * k, 32 * k, 64 * k]\n",
        "        strides = [1, 1, 2, 2]\n",
        "        input_sizes = 32 // np.cumprod(strides)\n",
        "\n",
        "        self.conv1 = wrapped_conv(input_sizes[0], 3, nStages[0], 3, strides[0])\n",
        "        self.layer1 = self._wide_layer(nStages[0:2], n, strides[1], input_sizes[1])\n",
        "        self.layer2 = self._wide_layer(nStages[1:3], n, strides[2], input_sizes[2])\n",
        "        self.layer3 = self._wide_layer(nStages[2:4], n, strides[3], input_sizes[3])\n",
        "\n",
        "        self.bn1 = self.wrapped_bn(nStages[3])\n",
        "\n",
        "        self.num_classes = num_classes\n",
        "        if num_classes is not None:\n",
        "            self.linear = nn.Linear(nStages[3], num_classes)\n",
        "\n",
        "        for m in self.modules():\n",
        "            if isinstance(m, nn.Conv2d):\n",
        "                nn.init.kaiming_normal_(m.weight, mode=\"fan_out\", nonlinearity=\"relu\")\n",
        "            elif isinstance(m, nn.Linear):\n",
        "                nn.init.kaiming_normal_(m.weight, mode=\"fan_out\", nonlinearity=\"relu\")\n",
        "                nn.init.constant_(m.bias, 0)\n",
        "\n",
        "    def _wide_layer(self, channels, num_blocks, stride, input_size):\n",
        "        strides = [stride] + [1] * (num_blocks - 1)\n",
        "        layers = []\n",
        "\n",
        "        in_c, out_c = channels\n",
        "\n",
        "        for stride in strides:\n",
        "            layers.append(\n",
        "                WideBasic(\n",
        "                    self.wrapped_conv,\n",
        "                    self.wrapped_bn,\n",
        "                    input_size,\n",
        "                    in_c,\n",
        "                    out_c,\n",
        "                    stride,\n",
        "                    self.dropout_rate,\n",
        "                )\n",
        "            )\n",
        "            in_c = out_c\n",
        "            input_size = input_size // stride\n",
        "\n",
        "        return nn.Sequential(*layers)\n",
        "\n",
        "    def forward(self, x):\n",
        "        out = self.conv1(x)\n",
        "        out = self.layer1(out)\n",
        "        out = self.layer2(out)\n",
        "        out = self.layer3(out)\n",
        "        out = F.relu(self.bn1(out))\n",
        "        out = F.avg_pool2d(out, 8)\n",
        "        out = out.flatten(1)\n",
        "\n",
        "        if self.num_classes is not None:\n",
        "            out = self.linear(out)\n",
        "            out = F.log_softmax(out, dim=1)\n",
        "\n",
        "        return out"
      ],
      "execution_count": null,
      "outputs": []
    },
    {
      "cell_type": "code",
      "metadata": {
        "id": "PvwYzZNhzEVm"
      },
      "source": [
        "#Modified\n",
        "# Follows:\n",
        "# https://github.com/szagoruyko/wide-residual-networks/tree/master/pytorch\n",
        "\n",
        "import numpy as np\n",
        "\n",
        "import torch.nn as nn\n",
        "import torch.nn.functional as F\n",
        "\n",
        "from due.layers import spectral_norm_conv, spectral_norm_fc, SpectralBatchNorm2d\n",
        "\n",
        "\n",
        "class WideBasic(nn.Module):\n",
        "    def __init__(\n",
        "        self,\n",
        "        wrapped_conv,\n",
        "        wrapped_batchnorm,\n",
        "        input_size,\n",
        "        in_c,\n",
        "        out_c,\n",
        "        stride,\n",
        "        dropout_rate,\n",
        "    ):\n",
        "        super().__init__()\n",
        "        self.bn1 = wrapped_batchnorm(in_c)\n",
        "        self.conv1 = wrapped_conv(input_size, in_c, out_c, 3, stride)\n",
        "\n",
        "        self.bn2 = wrapped_batchnorm(out_c)\n",
        "        self.conv2 = wrapped_conv(input_size // stride, out_c, out_c, 3, 1)\n",
        "\n",
        "        self.dropout_rate = dropout_rate\n",
        "        if dropout_rate > 0:\n",
        "            self.dropout = nn.Dropout(dropout_rate)\n",
        "\n",
        "        if stride != 1 or in_c != out_c:\n",
        "            self.shortcut = wrapped_conv(input_size, in_c, out_c, 1, stride)\n",
        "        else:\n",
        "            self.shortcut = nn.Identity()\n",
        "\n",
        "    def forward(self, x):\n",
        "        out = F.relu(self.bn1(x))\n",
        "\n",
        "        out = self.conv1(out)\n",
        "\n",
        "        out = F.relu(self.bn2(out))\n",
        "\n",
        "        if self.dropout_rate > 0:\n",
        "            out = self.dropout(out)\n",
        "\n",
        "        out = self.conv2(out)\n",
        "        out += self.shortcut(x)\n",
        "\n",
        "        return out\n",
        "\n",
        "\n",
        "class WideResNet(nn.Module):\n",
        "    def __init__(\n",
        "        self,\n",
        "        spectral_normalization,\n",
        "        depth=28,\n",
        "        widen_factor=10,\n",
        "        num_classes=None,\n",
        "        dropout_rate=0.3,\n",
        "        coeff=3,\n",
        "        n_power_iterations=1,\n",
        "        batchnorm_momentum=0.1,\n",
        "    ):\n",
        "        super().__init__()\n",
        "\n",
        "        assert (depth - 4) % 6 == 0, \"Wide-resnet depth should be 6n+4\"\n",
        "\n",
        "        self.dropout_rate = dropout_rate\n",
        "\n",
        "        def wrapped_bn(num_features):\n",
        "            if spectral_normalization:\n",
        "                bn = SpectralBatchNorm2d(\n",
        "                    num_features, coeff, momentum=batchnorm_momentum\n",
        "                )\n",
        "            else:\n",
        "                bn = nn.BatchNorm2d(num_features, momentum=batchnorm_momentum)\n",
        "\n",
        "            return bn\n",
        "\n",
        "        self.wrapped_bn = wrapped_bn\n",
        "\n",
        "        def wrapped_conv(input_size, in_c, out_c, kernel_size, stride):\n",
        "            padding = 1 if kernel_size == 3 else 0\n",
        "\n",
        "            conv = nn.Conv2d(in_c, out_c, kernel_size, stride, padding, bias=False)\n",
        "\n",
        "            if not spectral_normalization:\n",
        "                return conv\n",
        "\n",
        "            if kernel_size == 1:\n",
        "                # use spectral norm fc, because bound are tight for 1x1 convolutions\n",
        "                wrapped_conv = spectral_norm_fc(conv, coeff, n_power_iterations)\n",
        "            else:\n",
        "                # Otherwise use spectral norm conv, with loose bound\n",
        "                input_dim = (in_c, input_size, input_size)\n",
        "                wrapped_conv = spectral_norm_conv(\n",
        "                    conv, coeff, input_dim, n_power_iterations\n",
        "                )\n",
        "\n",
        "            return wrapped_conv\n",
        "\n",
        "        self.wrapped_conv = wrapped_conv\n",
        "\n",
        "        n = (depth - 4) // 6\n",
        "        k = widen_factor\n",
        "\n",
        "        nStages = [16, 16 * k, 32 * k, 64 * k]\n",
        "        strides = [1, 1, 2, 2]\n",
        "        input_sizes = 32 // np.cumprod(strides)\n",
        "\n",
        "        self.conv1 = wrapped_conv(input_sizes[0], 3, nStages[0], 3, strides[0])\n",
        "        self.layer1 = self._wide_layer(nStages[0:2], n, strides[1], input_sizes[1])\n",
        "        self.layer2 = self._wide_layer(nStages[1:3], n, strides[2], input_sizes[2])\n",
        "        self.layer3 = self._wide_layer(nStages[2:4], n, strides[3], input_sizes[3])\n",
        "\n",
        "        self.bn1 = self.wrapped_bn(nStages[3])\n",
        "        self.fc = nn.Linear(nStages[3], 128)\n",
        "        self.num_classes = num_classes\n",
        "        if num_classes is not None:\n",
        "            self.linear = nn.Linear(nStages[3], num_classes)\n",
        "\n",
        "        for m in self.modules():\n",
        "            if isinstance(m, nn.Conv2d):\n",
        "                nn.init.kaiming_normal_(m.weight, mode=\"fan_out\", nonlinearity=\"relu\")\n",
        "            elif isinstance(m, nn.Linear):\n",
        "                nn.init.kaiming_normal_(m.weight, mode=\"fan_out\", nonlinearity=\"relu\")\n",
        "                nn.init.constant_(m.bias, 0)\n",
        "\n",
        "    def _wide_layer(self, channels, num_blocks, stride, input_size):\n",
        "        strides = [stride] + [1] * (num_blocks - 1)\n",
        "        layers = []\n",
        "\n",
        "        in_c, out_c = channels\n",
        "\n",
        "        for stride in strides:\n",
        "            layers.append(\n",
        "                WideBasic(\n",
        "                    self.wrapped_conv,\n",
        "                    self.wrapped_bn,\n",
        "                    input_size,\n",
        "                    in_c,\n",
        "                    out_c,\n",
        "                    stride,\n",
        "                    self.dropout_rate,\n",
        "                )\n",
        "            )\n",
        "            in_c = out_c\n",
        "            input_size = input_size // stride\n",
        "\n",
        "        return nn.Sequential(*layers)\n",
        "\n",
        "    def forward(self, x):\n",
        "        out = self.conv1(x)\n",
        "        out = self.layer1(out)\n",
        "        out = self.layer2(out)\n",
        "        out = self.layer3(out)\n",
        "        # out = self.bn1(out)\n",
        "        # out =self.fc(out)\n",
        "        # out =F.relu(out)\n",
        "        out = F.relu(self.bn1(out))\n",
        "        # out = F.avg_pool2d(out, 8)\n",
        "        out = out.flatten(1)\n",
        "\n",
        "        if self.num_classes is not None:\n",
        "            out = self.linear(out)\n",
        "            out = F.log_softmax(out, dim=1)\n",
        "\n",
        "        return out"
      ],
      "execution_count": null,
      "outputs": []
    },
    {
      "cell_type": "markdown",
      "metadata": {
        "id": "p1eGVsilQ36V"
      },
      "source": [
        "#Test"
      ]
    },
    {
      "cell_type": "code",
      "metadata": {
        "colab": {
          "base_uri": "https://localhost:8080/",
          "height": 229
        },
        "id": "hHnAUzkhzJQY",
        "outputId": "5e76a7af-8cff-4aa2-8442-5adfbb8ea682"
      },
      "source": [
        "feature_extractor = WideResNet(\n",
        "\n",
        "    spectral_normalization=spectral_normalization, \n",
        "\n",
        ")\n",
        "feature_extractor"
      ],
      "execution_count": null,
      "outputs": [
        {
          "output_type": "error",
          "ename": "NameError",
          "evalue": "ignored",
          "traceback": [
            "\u001b[0;31m---------------------------------------------------------------------------\u001b[0m",
            "\u001b[0;31mNameError\u001b[0m                                 Traceback (most recent call last)",
            "\u001b[0;32m<ipython-input-72-d1efc4179886>\u001b[0m in \u001b[0;36m<module>\u001b[0;34m()\u001b[0m\n\u001b[1;32m      1\u001b[0m feature_extractor = WideResNet(\n\u001b[1;32m      2\u001b[0m \u001b[0;34m\u001b[0m\u001b[0m\n\u001b[0;32m----> 3\u001b[0;31m     \u001b[0mspectral_normalization\u001b[0m\u001b[0;34m=\u001b[0m\u001b[0mspectral_normalization\u001b[0m\u001b[0;34m,\u001b[0m\u001b[0;34m\u001b[0m\u001b[0;34m\u001b[0m\u001b[0m\n\u001b[0m\u001b[1;32m      4\u001b[0m \u001b[0;34m\u001b[0m\u001b[0m\n\u001b[1;32m      5\u001b[0m )\n",
            "\u001b[0;31mNameError\u001b[0m: name 'spectral_normalization' is not defined"
          ]
        }
      ]
    },
    {
      "cell_type": "code",
      "metadata": {
        "colab": {
          "base_uri": "https://localhost:8080/"
        },
        "id": "gkuVKTVgzJ8D",
        "outputId": "d6263f41-5b4f-4b06-b215-7674e508c7a8"
      },
      "source": [
        "ic(D_combined.shape,gtf_combined.shape)"
      ],
      "execution_count": null,
      "outputs": [
        {
          "output_type": "stream",
          "text": [
            "ic| D_combined.shape: (20463, 513), gtf_combined.shape: (20463,)\n"
          ],
          "name": "stderr"
        },
        {
          "output_type": "execute_result",
          "data": {
            "text/plain": [
              "((20463, 513), (20463,))"
            ]
          },
          "metadata": {
            "tags": []
          },
          "execution_count": 36
        }
      ]
    },
    {
      "cell_type": "code",
      "metadata": {
        "colab": {
          "base_uri": "https://localhost:8080/"
        },
        "id": "4TynBjHPQ6Vm",
        "outputId": "064eeaa2-bfdd-4373-9385-14d78b803d0a"
      },
      "source": [
        "D = []\n",
        "n = 16\n",
        "\n",
        "D_arr = np.zeros((D_combined.shape[0],n,D_combined.shape[1]))\n",
        "# for i in range(int(np.floor(n/2)),int(len(D_combined)-np.floor(n/2))):\n",
        "for i in range(int((n-1/2)),int(len(D_combined)-(n/2))):\n",
        "\n",
        "  # print(i)\n",
        "  # if i ==10:\n",
        "  #   break\n",
        "  # for j in range(-int(np.floor(i/2)),int(np.floor(i/2))):\n",
        "  # row = D_combined[int(i-np.floor(n/2)):i+int(np.floor(n/2)),:]\n",
        "  row = D_combined[int(i-(n/2)):i+int((n/2)),:]\n",
        "  D.append(row)\n",
        "  # ic(row)\n",
        "  # ic(row.shape)\n",
        "  D_arr[i,:,:] = row\n",
        "# D_arr = np.asarray(D)\n",
        "ic(D_arr.shape)"
      ],
      "execution_count": null,
      "outputs": [
        {
          "output_type": "stream",
          "text": [
            "ic| D_arr.shape: (20463, 16, 513)\n"
          ],
          "name": "stderr"
        },
        {
          "output_type": "execute_result",
          "data": {
            "text/plain": [
              "(20463, 16, 513)"
            ]
          },
          "metadata": {
            "tags": []
          },
          "execution_count": 40
        }
      ]
    },
    {
      "cell_type": "code",
      "metadata": {
        "colab": {
          "base_uri": "https://localhost:8080/"
        },
        "id": "Ap2Hn8oJcz4b",
        "outputId": "cef1d4fa-7d6c-4cce-e5b7-a952fd3cf98d"
      },
      "source": [
        "D_combined_32 = D_arr[:,:,:16]\n",
        "ic(D_combined_32.shape)"
      ],
      "execution_count": null,
      "outputs": [
        {
          "output_type": "stream",
          "text": [
            "ic| D_combined_32.shape: (20463, 16, 16)\n"
          ],
          "name": "stderr"
        },
        {
          "output_type": "execute_result",
          "data": {
            "text/plain": [
              "(20463, 16, 16)"
            ]
          },
          "metadata": {
            "tags": []
          },
          "execution_count": 41
        }
      ]
    },
    {
      "cell_type": "code",
      "metadata": {
        "colab": {
          "base_uri": "https://localhost:8080/"
        },
        "id": "IITnVYa6huRC",
        "outputId": "14d48461-9194-40d1-eb7c-9cf353569696"
      },
      "source": [
        "bb = np.hstack((D_combined_32,D_combined_32))\n",
        "bb.shape"
      ],
      "execution_count": null,
      "outputs": [
        {
          "output_type": "execute_result",
          "data": {
            "text/plain": [
              "(20463, 32, 16)"
            ]
          },
          "metadata": {
            "tags": []
          },
          "execution_count": 42
        }
      ]
    },
    {
      "cell_type": "code",
      "metadata": {
        "id": "w_LZDrE1izWt"
      },
      "source": [
        "arrs = [D_combined_32,D_combined_32,D_combined_32]"
      ],
      "execution_count": null,
      "outputs": []
    },
    {
      "cell_type": "code",
      "metadata": {
        "colab": {
          "base_uri": "https://localhost:8080/"
        },
        "id": "m0n6GP-LixkM",
        "outputId": "63dc43b2-5eac-469b-86af-2eec065cf2c5"
      },
      "source": [
        "res = np.array(arrs)\n",
        "res.shape"
      ],
      "execution_count": null,
      "outputs": [
        {
          "output_type": "execute_result",
          "data": {
            "text/plain": [
              "(3, 20463, 16, 16)"
            ]
          },
          "metadata": {
            "tags": []
          },
          "execution_count": 44
        }
      ]
    },
    {
      "cell_type": "code",
      "metadata": {
        "colab": {
          "base_uri": "https://localhost:8080/"
        },
        "id": "1MjVjidTcmWo",
        "outputId": "8b282deb-626d-4139-ab90-f4f5a71b9e6a"
      },
      "source": [
        "\n",
        "res1 =np.swapaxes(res,0,1)\n",
        "res1.shape"
      ],
      "execution_count": null,
      "outputs": [
        {
          "output_type": "execute_result",
          "data": {
            "text/plain": [
              "(20463, 3, 16, 16)"
            ]
          },
          "metadata": {
            "tags": []
          },
          "execution_count": 45
        }
      ]
    },
    {
      "cell_type": "code",
      "metadata": {
        "id": "W8WJ7X5LjpFI"
      },
      "source": [
        "D_combined_32=res1"
      ],
      "execution_count": null,
      "outputs": []
    },
    {
      "cell_type": "code",
      "metadata": {
        "colab": {
          "base_uri": "https://localhost:8080/"
        },
        "id": "bObO53zzkFjy",
        "outputId": "98c3dd19-f07e-488b-97cc-847a895e53f3"
      },
      "source": [
        "D_combined_32.shape"
      ],
      "execution_count": null,
      "outputs": [
        {
          "output_type": "execute_result",
          "data": {
            "text/plain": [
              "(20463, 3, 16, 16)"
            ]
          },
          "metadata": {
            "tags": []
          },
          "execution_count": 47
        }
      ]
    },
    {
      "cell_type": "code",
      "metadata": {
        "colab": {
          "base_uri": "https://localhost:8080/"
        },
        "id": "nd-GXVsDc45J",
        "outputId": "96f8592f-3ab8-4f4e-d96e-6eedeb59ae32"
      },
      "source": [
        "# For test data\n",
        "# ic(np.mean(D_combined))\n",
        "\n",
        "# ic(np.mean(D_combined_test))\n",
        "D = []\n",
        "n = 16\n",
        "\n",
        "D_arr1 = np.zeros((D_combined_test.shape[0],n,D_combined_test.shape[1]))\n",
        "# for i in range(int(np.floor(n/2)),int(len(D_combined)-np.floor(n/2))):\n",
        "for i in range(int((n-1/2)),int(len(D_combined_test)-(n/2))):\n",
        "\n",
        "  # print(i)\n",
        "  # if i ==10:\n",
        "  #   break\n",
        "  # for j in range(-int(np.floor(i/2)),int(np.floor(i/2))):\n",
        "  # row = D_combined[int(i-np.floor(n/2)):i+int(np.floor(n/2)),:]\n",
        "  row1 = D_combined_test[int(i-(n/2)):i+int((n/2)),:]\n",
        "  # D1.append(row1)\n",
        "  # ic(row)\n",
        "  # ic(row.shape)\n",
        "  D_arr1[i,:,:] = row1\n",
        "# D_arr = np.asarray(D)\n",
        "ic(D_arr1.shape)\n",
        "\n",
        "D_combined_32_test = D_arr1[:,:,:16]\n",
        "ic(D_combined_32_test.shape)\n",
        "arrs1 = [D_combined_32_test,D_combined_32_test,D_combined_32_test]\n",
        "res_1 = np.array(arrs1)\n",
        "ic(res_1.shape)\n",
        "res1_1 =np.swapaxes(res_1,0,1)\n",
        "ic(res1_1.shape)\n",
        "\n"
      ],
      "execution_count": null,
      "outputs": [
        {
          "output_type": "stream",
          "text": [
            "ic| D_arr1.shape: (20905, 16, 513)\n",
            "ic| D_combined_32_test.shape: (20905, 16, 16)\n",
            "ic| res_1.shape: (3, 20905, 16, 16)\n",
            "ic| res1_1.shape: (20905, 3, 16, 16)\n"
          ],
          "name": "stderr"
        },
        {
          "output_type": "execute_result",
          "data": {
            "text/plain": [
              "(20905, 3, 16, 16)"
            ]
          },
          "metadata": {
            "tags": []
          },
          "execution_count": 150
        }
      ]
    },
    {
      "cell_type": "code",
      "metadata": {
        "colab": {
          "base_uri": "https://localhost:8080/"
        },
        "id": "vqGI_t7zd6Oy",
        "outputId": "817ddf4b-0246-48df-e059-7c4af1531b17"
      },
      "source": [
        "D_combined_32_test=res1_1\n",
        "ic(D_combined_32_test.shape)\n"
      ],
      "execution_count": null,
      "outputs": [
        {
          "output_type": "stream",
          "text": [
            "ic| D_combined_32_test.shape: (20905, 3, 16, 16)\n"
          ],
          "name": "stderr"
        },
        {
          "output_type": "execute_result",
          "data": {
            "text/plain": [
              "(20905, 3, 16, 16)"
            ]
          },
          "metadata": {
            "tags": []
          },
          "execution_count": 151
        }
      ]
    },
    {
      "cell_type": "code",
      "metadata": {
        "colab": {
          "base_uri": "https://localhost:8080/"
        },
        "id": "sNKkausbcdNB",
        "outputId": "a7bb53be-03d9-4064-8325-b4166f67ec7c"
      },
      "source": [
        "D_combined[-int(i+np.floor(n/2)):i+int(np.floor(n/2))]"
      ],
      "execution_count": null,
      "outputs": [
        {
          "output_type": "execute_result",
          "data": {
            "text/plain": [
              "array([], shape=(0, 513), dtype=float64)"
            ]
          },
          "metadata": {
            "tags": []
          },
          "execution_count": 55
        }
      ]
    },
    {
      "cell_type": "code",
      "metadata": {
        "id": "eaZwtL9BUSiR"
      },
      "source": [
        "from torch.utils import data\n",
        "from torchvision import datasets, transforms\n",
        "\n",
        "\n",
        "def get_CIFAR10(root):\n",
        "    input_size = 32\n",
        "    num_classes = 10\n",
        "\n",
        "    normalize = transforms.Normalize((0.4914, 0.4822, 0.4465), (0.2023, 0.1994, 0.2010))\n",
        "\n",
        "    # Alternative\n",
        "    # normalize = transforms.Normalize(\n",
        "    #     (0.4914, 0.4822, 0.4465), (0.2470, 0.2435, 0.2616)\n",
        "    # )\n",
        "\n",
        "    train_transform = transforms.Compose(\n",
        "        [\n",
        "            transforms.RandomCrop(32, padding=4),\n",
        "            transforms.RandomHorizontalFlip(),\n",
        "            transforms.ToTensor(),\n",
        "            normalize,\n",
        "        ]\n",
        "    )\n",
        "\n",
        "    train_dataset = datasets.CIFAR10(\n",
        "        root + \"/CIFAR10\", train=True, transform=train_transform, download=True\n",
        "    )\n",
        "\n",
        "    test_transform = transforms.Compose([transforms.ToTensor(), normalize])\n",
        "    test_dataset = datasets.CIFAR10(\n",
        "        root + \"/CIFAR10\", train=False, transform=test_transform, download=False\n",
        "    )\n",
        "\n",
        "    return input_size, num_classes, train_dataset, test_dataset\n",
        "\n"
      ],
      "execution_count": null,
      "outputs": []
    },
    {
      "cell_type": "code",
      "metadata": {
        "id": "7gc1o1lvtAaF"
      },
      "source": [
        ""
      ],
      "execution_count": null,
      "outputs": []
    }
  ]
}